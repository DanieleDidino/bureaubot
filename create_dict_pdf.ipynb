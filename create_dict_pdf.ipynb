{
 "cells": [
  {
   "cell_type": "code",
   "execution_count": 1,
   "metadata": {},
   "outputs": [],
   "source": [
    "from pdfminer.pdfparser import PDFParser\n",
    "from pdfminer.pdfdocument import PDFDocument\n",
    "import os\n",
    "from pathlib import Path\n",
    "import pickle "
   ]
  },
  {
   "cell_type": "code",
   "execution_count": 2,
   "metadata": {},
   "outputs": [],
   "source": [
    "with open(\"documents_pdf/merkblatt-fuer-arbeitslose_ba036520.pdf\", \"rb\") as pdf_file:\n",
    "    parser = PDFParser(pdf_file)\n",
    "    doc = PDFDocument(parser)\n"
   ]
  },
  {
   "cell_type": "code",
   "execution_count": 3,
   "metadata": {},
   "outputs": [
    {
     "name": "stdout",
     "output_type": "stream",
     "text": [
      "[{'Author': b'Bundesagentur f\\xfcr Arbeit', 'CreationDate': b\"D:20230224130639+01'00'\", 'Creator': b'Adobe InDesign 18.1 (Windows)', 'ModDate': b\"D:20230224131508+01'00'\", 'Producer': b'Adobe PDF Library 17.0', 'Title': b'Merkblatt f\\xfcr Arbeitslose - Merkblatt 1', 'Trapped': /'False'}]\n"
     ]
    }
   ],
   "source": [
    "print(doc.info)  # The \"Info\" metadata"
   ]
  },
  {
   "cell_type": "code",
   "execution_count": 4,
   "metadata": {},
   "outputs": [
    {
     "data": {
      "text/plain": [
       "{'Author': b'Bundesagentur f\\xfcr Arbeit',\n",
       " 'CreationDate': b\"D:20230224130639+01'00'\",\n",
       " 'Creator': b'Adobe InDesign 18.1 (Windows)',\n",
       " 'ModDate': b\"D:20230224131508+01'00'\",\n",
       " 'Producer': b'Adobe PDF Library 17.0',\n",
       " 'Title': b'Merkblatt f\\xfcr Arbeitslose - Merkblatt 1',\n",
       " 'Trapped': /'False'}"
      ]
     },
     "execution_count": 4,
     "metadata": {},
     "output_type": "execute_result"
    }
   ],
   "source": [
    "doc.info[0]"
   ]
  },
  {
   "cell_type": "code",
   "execution_count": 5,
   "metadata": {},
   "outputs": [
    {
     "data": {
      "text/plain": [
       "bytes"
      ]
     },
     "execution_count": 5,
     "metadata": {},
     "output_type": "execute_result"
    }
   ],
   "source": [
    "type(doc.info[0][\"Title\"])"
   ]
  },
  {
   "cell_type": "code",
   "execution_count": 6,
   "metadata": {},
   "outputs": [
    {
     "data": {
      "text/plain": [
       "b'Merkblatt f\\xfcr Arbeitslose - Merkblatt 1'"
      ]
     },
     "execution_count": 6,
     "metadata": {},
     "output_type": "execute_result"
    }
   ],
   "source": [
    "doc.info[0][\"Title\"]"
   ]
  },
  {
   "cell_type": "code",
   "execution_count": 7,
   "metadata": {},
   "outputs": [
    {
     "data": {
      "text/plain": [
       "'Merkblatt für Arbeitslose - Merkblatt 1'"
      ]
     },
     "execution_count": 7,
     "metadata": {},
     "output_type": "execute_result"
    }
   ],
   "source": [
    "doc.info[0][\"Title\"].decode(\"latin1\")"
   ]
  },
  {
   "cell_type": "markdown",
   "metadata": {},
   "source": [
    "# Import all pdf and find title\n",
    "\n",
    "Problems:\n",
    "\n",
    "- `kg2-merkblattkindergeld_ba015394.pdf` is encripted and the title must be added manually.\n",
    "- `merkblatt-7-auslaendischean_ba015382.pdf` has as title a url (i.e., https://www.arbeitsagentur.de/datei/merkblatt-7-auslaendischean_ba015382.pdf)"
   ]
  },
  {
   "cell_type": "code",
   "execution_count": 8,
   "metadata": {},
   "outputs": [
    {
     "data": {
      "text/plain": [
       "{'merkblatt-6-weiterbildung_ba015381.pdf': 'Förderung der beruflichen Weiterbildung für Arbeitnehmerinnen und Arbeitnehmer',\n",
       " 'merkblatt-8c-transferleistung_ba015390.pdf': 'Transferleistungen',\n",
       " 'dok_ba013155.pdf': 'Arbeitslosengeld und Auslandsbeschäftigung (Merkblatt 20)',\n",
       " 'merkblatt-3-foerderleistungen_ba147613.pdf': 'Merkblatt 3 \\x85 Förderleistungen',\n",
       " 'merkblatt-algii_ba015397.pdf': 'Merkblatt SGB 2, Bürgergeld',\n",
       " 'dok_ba015377.pdf': 'Familie und Beruf | Dienste und Leistungen der Agentur für Arbeit',\n",
       " 'merkblatt-12-teilhabe_ba015371.pdf': 'Förderung der Teilhabe am Arbeitsleben | Dienste und Leistungen der Agentur für Arbeit',\n",
       " 'merkblatt-8d-saison-kug_ba015391.pdf': 'Saison-Kurzarbeitergeld ',\n",
       " 'ba146349.pdf': 'Merkblatt Kinderzuschlag',\n",
       " 'merkblatt-8b-kurzarbeitergeld_ba015388.pdf': 'Kurzarbeitergeld ',\n",
       " 'merkblatt-nebeneinkommen_ba015792.pdf': 'Wissenswertes zum Thema Nebeneinkommen',\n",
       " 'merkblatt-fuer-arbeitslose_ba036520.pdf': 'Merkblatt für Arbeitslose - Merkblatt 1',\n",
       " 'merkblatt-10-insolvenzgeld_ba015369.pdf': 'Insolvenzgeld für Arbeitnehmerinnen und Arbeitnehmer (Merkblatt 10)',\n",
       " 'merkblatt-umzug-reisen_ba015793.pdf': 'Wissenswertes zum Thema Umzug und Reisen',\n",
       " 'merkblatt-11-berufsberatung_ba015370.pdf': 'Angebote der Berufsberatung für junge Menschen',\n",
       " 'merkblatt-17-entschaedigungen_ba015376.pdf': 'Berücksichtigung von Entlassungsentschädigungen für Arbeitnehmerinnen und Arbeitnehmer (Merkblatt 17)',\n",
       " 'merkblatt-16-auslaendischean_ba015375.pdf': 'Beschäftigung ausländischer Arbeitnehmerinnen und Arbeitnehmer im Rahmen von Werkverträgen in Deutschland',\n",
       " 'merkblatt-7-auslaendischean_ba015382.pdf': 'https://www.arbeitsagentur.de/datei/merkblatt-7-auslaendischean_ba015382.pdf'}"
      ]
     },
     "execution_count": 8,
     "metadata": {},
     "output_type": "execute_result"
    }
   ],
   "source": [
    "pdf_dict = dict()\n",
    "\n",
    "pdf_list = os.listdir(\"./documents_pdf/\")\n",
    "\n",
    "for pdf_name in pdf_list:\n",
    "    if pdf_name not in [\"kg2-merkblattkindergeld_ba015394.pdf\"]:\n",
    "        # print(pdf_name)\n",
    "        pdf_path = Path(\"./documents_pdf/\", pdf_name)\n",
    "        with open(pdf_path, \"rb\") as pdf_file:\n",
    "            parser = PDFParser(pdf_file)\n",
    "            doc = PDFDocument(parser)\n",
    "            if \"Title\" in doc.info[0]:\n",
    "                pdf_dict[pdf_name] = doc.info[0][\"Title\"].decode(\"latin1\")\n",
    "            else:\n",
    "                pdf_dict[pdf_name] = \"THERE IS NO TITLE\"\n",
    "    \n",
    "\n",
    "pdf_dict"
   ]
  },
  {
   "cell_type": "markdown",
   "metadata": {},
   "source": [
    "Correct the title for the document `merkblatt-7-auslaendischean_ba015382.pdf`"
   ]
  },
  {
   "cell_type": "code",
   "execution_count": 9,
   "metadata": {},
   "outputs": [],
   "source": [
    "pdf_dict[\"merkblatt-7-auslaendischean_ba015382.pdf\"] = \"Beschäftigung ausländischer Arbeitnehmerinnen und Arbeitnehmer in Deutschland\""
   ]
  },
  {
   "cell_type": "code",
   "execution_count": 10,
   "metadata": {},
   "outputs": [
    {
     "data": {
      "text/plain": [
       "{'merkblatt-6-weiterbildung_ba015381.pdf': 'Förderung der beruflichen Weiterbildung für Arbeitnehmerinnen und Arbeitnehmer',\n",
       " 'merkblatt-8c-transferleistung_ba015390.pdf': 'Transferleistungen',\n",
       " 'dok_ba013155.pdf': 'Arbeitslosengeld und Auslandsbeschäftigung (Merkblatt 20)',\n",
       " 'merkblatt-3-foerderleistungen_ba147613.pdf': 'Merkblatt 3 \\x85 Förderleistungen',\n",
       " 'merkblatt-algii_ba015397.pdf': 'Merkblatt SGB 2, Bürgergeld',\n",
       " 'dok_ba015377.pdf': 'Familie und Beruf | Dienste und Leistungen der Agentur für Arbeit',\n",
       " 'merkblatt-12-teilhabe_ba015371.pdf': 'Förderung der Teilhabe am Arbeitsleben | Dienste und Leistungen der Agentur für Arbeit',\n",
       " 'merkblatt-8d-saison-kug_ba015391.pdf': 'Saison-Kurzarbeitergeld ',\n",
       " 'ba146349.pdf': 'Merkblatt Kinderzuschlag',\n",
       " 'merkblatt-8b-kurzarbeitergeld_ba015388.pdf': 'Kurzarbeitergeld ',\n",
       " 'merkblatt-nebeneinkommen_ba015792.pdf': 'Wissenswertes zum Thema Nebeneinkommen',\n",
       " 'merkblatt-fuer-arbeitslose_ba036520.pdf': 'Merkblatt für Arbeitslose - Merkblatt 1',\n",
       " 'merkblatt-10-insolvenzgeld_ba015369.pdf': 'Insolvenzgeld für Arbeitnehmerinnen und Arbeitnehmer (Merkblatt 10)',\n",
       " 'merkblatt-umzug-reisen_ba015793.pdf': 'Wissenswertes zum Thema Umzug und Reisen',\n",
       " 'merkblatt-11-berufsberatung_ba015370.pdf': 'Angebote der Berufsberatung für junge Menschen',\n",
       " 'merkblatt-17-entschaedigungen_ba015376.pdf': 'Berücksichtigung von Entlassungsentschädigungen für Arbeitnehmerinnen und Arbeitnehmer (Merkblatt 17)',\n",
       " 'merkblatt-16-auslaendischean_ba015375.pdf': 'Beschäftigung ausländischer Arbeitnehmerinnen und Arbeitnehmer im Rahmen von Werkverträgen in Deutschland',\n",
       " 'merkblatt-7-auslaendischean_ba015382.pdf': 'Beschäftigung ausländischer Arbeitnehmerinnen und Arbeitnehmer in Deutschland'}"
      ]
     },
     "execution_count": 10,
     "metadata": {},
     "output_type": "execute_result"
    }
   ],
   "source": [
    "pdf_dict"
   ]
  },
  {
   "cell_type": "markdown",
   "metadata": {},
   "source": [
    "Add back the pdf `kg2-merkblattkindergeld_ba015394.pdf` and add the title"
   ]
  },
  {
   "cell_type": "code",
   "execution_count": 11,
   "metadata": {},
   "outputs": [],
   "source": [
    "pdf_dict[\"kg2-merkblattkindergeld_ba015394.pdf\"] = \"Merkblatt Kindergeld\""
   ]
  },
  {
   "cell_type": "code",
   "execution_count": 12,
   "metadata": {},
   "outputs": [
    {
     "data": {
      "text/plain": [
       "{'merkblatt-6-weiterbildung_ba015381.pdf': 'Förderung der beruflichen Weiterbildung für Arbeitnehmerinnen und Arbeitnehmer',\n",
       " 'merkblatt-8c-transferleistung_ba015390.pdf': 'Transferleistungen',\n",
       " 'dok_ba013155.pdf': 'Arbeitslosengeld und Auslandsbeschäftigung (Merkblatt 20)',\n",
       " 'merkblatt-3-foerderleistungen_ba147613.pdf': 'Merkblatt 3 \\x85 Förderleistungen',\n",
       " 'merkblatt-algii_ba015397.pdf': 'Merkblatt SGB 2, Bürgergeld',\n",
       " 'dok_ba015377.pdf': 'Familie und Beruf | Dienste und Leistungen der Agentur für Arbeit',\n",
       " 'merkblatt-12-teilhabe_ba015371.pdf': 'Förderung der Teilhabe am Arbeitsleben | Dienste und Leistungen der Agentur für Arbeit',\n",
       " 'merkblatt-8d-saison-kug_ba015391.pdf': 'Saison-Kurzarbeitergeld ',\n",
       " 'ba146349.pdf': 'Merkblatt Kinderzuschlag',\n",
       " 'merkblatt-8b-kurzarbeitergeld_ba015388.pdf': 'Kurzarbeitergeld ',\n",
       " 'merkblatt-nebeneinkommen_ba015792.pdf': 'Wissenswertes zum Thema Nebeneinkommen',\n",
       " 'merkblatt-fuer-arbeitslose_ba036520.pdf': 'Merkblatt für Arbeitslose - Merkblatt 1',\n",
       " 'merkblatt-10-insolvenzgeld_ba015369.pdf': 'Insolvenzgeld für Arbeitnehmerinnen und Arbeitnehmer (Merkblatt 10)',\n",
       " 'merkblatt-umzug-reisen_ba015793.pdf': 'Wissenswertes zum Thema Umzug und Reisen',\n",
       " 'merkblatt-11-berufsberatung_ba015370.pdf': 'Angebote der Berufsberatung für junge Menschen',\n",
       " 'merkblatt-17-entschaedigungen_ba015376.pdf': 'Berücksichtigung von Entlassungsentschädigungen für Arbeitnehmerinnen und Arbeitnehmer (Merkblatt 17)',\n",
       " 'merkblatt-16-auslaendischean_ba015375.pdf': 'Beschäftigung ausländischer Arbeitnehmerinnen und Arbeitnehmer im Rahmen von Werkverträgen in Deutschland',\n",
       " 'merkblatt-7-auslaendischean_ba015382.pdf': 'Beschäftigung ausländischer Arbeitnehmerinnen und Arbeitnehmer in Deutschland',\n",
       " 'kg2-merkblattkindergeld_ba015394.pdf': 'Merkblatt Kindergeld'}"
      ]
     },
     "execution_count": 12,
     "metadata": {},
     "output_type": "execute_result"
    }
   ],
   "source": [
    "pdf_dict"
   ]
  },
  {
   "cell_type": "code",
   "execution_count": 13,
   "metadata": {},
   "outputs": [],
   "source": [
    "with open(Path(\"pdf_titles\", \"pdf_dictionary.pkl\"), \"wb\") as f:\n",
    "    pickle.dump(pdf_dict, f)"
   ]
  },
  {
   "cell_type": "markdown",
   "metadata": {},
   "source": [
    "# Get key from value"
   ]
  },
  {
   "cell_type": "code",
   "execution_count": 18,
   "metadata": {},
   "outputs": [
    {
     "data": {
      "text/plain": [
       "['Förderung der beruflichen Weiterbildung für Arbeitnehmerinnen und Arbeitnehmer',\n",
       " 'Transferleistungen',\n",
       " 'Arbeitslosengeld und Auslandsbeschäftigung (Merkblatt 20)',\n",
       " 'Merkblatt 3 \\x85 Förderleistungen',\n",
       " 'Merkblatt SGB 2, Bürgergeld',\n",
       " 'Familie und Beruf | Dienste und Leistungen der Agentur für Arbeit',\n",
       " 'Förderung der Teilhabe am Arbeitsleben | Dienste und Leistungen der Agentur für Arbeit',\n",
       " 'Saison-Kurzarbeitergeld ',\n",
       " 'Merkblatt Kinderzuschlag',\n",
       " 'Kurzarbeitergeld ',\n",
       " 'Wissenswertes zum Thema Nebeneinkommen',\n",
       " 'Merkblatt für Arbeitslose - Merkblatt 1',\n",
       " 'Insolvenzgeld für Arbeitnehmerinnen und Arbeitnehmer (Merkblatt 10)',\n",
       " 'Wissenswertes zum Thema Umzug und Reisen',\n",
       " 'Angebote der Berufsberatung für junge Menschen',\n",
       " 'Berücksichtigung von Entlassungsentschädigungen für Arbeitnehmerinnen und Arbeitnehmer (Merkblatt 17)',\n",
       " 'Beschäftigung ausländischer Arbeitnehmerinnen und Arbeitnehmer im Rahmen von Werkverträgen in Deutschland',\n",
       " 'Beschäftigung ausländischer Arbeitnehmerinnen und Arbeitnehmer in Deutschland',\n",
       " 'Merkblatt Kindergeld']"
      ]
     },
     "execution_count": 18,
     "metadata": {},
     "output_type": "execute_result"
    }
   ],
   "source": [
    "list(pdf_dict.values())"
   ]
  },
  {
   "cell_type": "code",
   "execution_count": 22,
   "metadata": {},
   "outputs": [],
   "source": [
    "def get_filename_from_title(my_dict, title):\n",
    "    \"\"\"\n",
    "    Find a file_name (i.e., the key) in the dictionary given a title (i.e., the value).\n",
    "    The dictionary has the following structure:\n",
    "    {\n",
    "        \"file_name_1\":\"title_1\",\n",
    "        \"file_name_2\":\"title_2\",\n",
    "        ...\n",
    "    }\n",
    "\n",
    "    Args:\n",
    "        my_dict (dict): The dictionary with file names and titles.\n",
    "        title (str): The title we want to use to find the file name (i.e., the key).\n",
    "\n",
    "    Returns:\n",
    "        query_engine: a query_engine created from the index.\n",
    "    \"\"\"\n",
    "    keys_list = list(my_dict.keys())\n",
    "    values_list = list(my_dict.values())\n",
    "    return keys_list[values_list.index(title)]"
   ]
  },
  {
   "cell_type": "code",
   "execution_count": 23,
   "metadata": {},
   "outputs": [
    {
     "data": {
      "text/plain": [
       "'kg2-merkblattkindergeld_ba015394.pdf'"
      ]
     },
     "execution_count": 23,
     "metadata": {},
     "output_type": "execute_result"
    }
   ],
   "source": [
    "get_filename_from_title(pdf_dict, 'Merkblatt Kindergeld')"
   ]
  }
 ],
 "metadata": {
  "kernelspec": {
   "display_name": ".venv_chatbot",
   "language": "python",
   "name": "python3"
  },
  "language_info": {
   "codemirror_mode": {
    "name": "ipython",
    "version": 3
   },
   "file_extension": ".py",
   "mimetype": "text/x-python",
   "name": "python",
   "nbconvert_exporter": "python",
   "pygments_lexer": "ipython3",
   "version": "3.10.12"
  },
  "orig_nbformat": 4
 },
 "nbformat": 4,
 "nbformat_minor": 2
}
