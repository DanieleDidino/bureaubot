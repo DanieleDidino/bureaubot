{
 "cells": [
  {
   "cell_type": "code",
   "execution_count": 13,
   "metadata": {},
   "outputs": [
    {
     "name": "stderr",
     "output_type": "stream",
     "text": [
      "/home/daniele/Desktop/Projects/chatbot_dsr_project/.venv_chatbot/lib/python3.10/site-packages/environ/environ.py:639: UserWarning: /tmp/ipykernel_15151/.env doesn't exist - if you're not configuring your environment separately, create one.\n",
      "  warnings.warn(\n"
     ]
    }
   ],
   "source": [
    "from llama_index import SimpleDirectoryReader\n",
    "from llama_index import VectorStoreIndex\n",
    "from llama_index import LLMPredictor, ServiceContext\n",
    "from llama_index import StorageContext, load_index_from_storage\n",
    "from llama_index import PromptHelper\n",
    "from llama_index import Prompt\n",
    "from llama_index.llms import OpenAI\n",
    "# from langchain.chat_models import ChatOpenAI\n",
    "import openai\n",
    "import environ\n",
    "from IPython.display import Markdown, display\n",
    "\n",
    "env = environ.Env()\n",
    "environ.Env.read_env()\n",
    "API_KEY = env('OPENAI_API_KEY')\n",
    "openai.api_key = API_KEY"
   ]
  },
  {
   "cell_type": "code",
   "execution_count": 2,
   "metadata": {},
   "outputs": [],
   "source": [
    "doc_path = \"documents_pdf\"\n",
    "embedding_path = \"vector_db\""
   ]
  },
  {
   "cell_type": "markdown",
   "metadata": {},
   "source": [
    "# Create and save vector store"
   ]
  },
  {
   "cell_type": "code",
   "execution_count": 3,
   "metadata": {},
   "outputs": [],
   "source": [
    "# Configure prompt parameters and initialise helper\n",
    "max_input_size = 4096\n",
    "num_output = 256\n",
    "max_chunk_overlap = 0.2\n",
    "prompt_helper = PromptHelper(max_input_size, num_output, max_chunk_overlap)"
   ]
  },
  {
   "cell_type": "code",
   "execution_count": 4,
   "metadata": {},
   "outputs": [],
   "source": [
    "docs = SimpleDirectoryReader(input_dir=doc_path).load_data()\n",
    "\n",
    "# system_prompt = (\n",
    "#     \"\"\"\n",
    "#     You are an expert in the German administrative system, and your job is to answer technical questions.\n",
    "#     Assume that all questions are related to the provided context.\n",
    "#     Keep your answers based on facts, do not hallucinate information.\n",
    "#     \"\"\"\n",
    "# )\n",
    "\n",
    "# llm = LLMPredictor(llm=ChatOpenAI(temperature=0, model_name=\"gpt-3.5-turbo\"))\n",
    "# llm= LLMPredictor( llm=OpenAI(temperature=0, model_name=\"text-davinci-003\"))\n",
    "llm= LLMPredictor(llm=OpenAI(\n",
    "    temperature=0,\n",
    "    model_name=\"gpt-3.5-turbo\",\n",
    "    #system_prompt=system_prompt\n",
    "))\n",
    "\n",
    "storage_context = StorageContext.from_defaults()\n",
    "service_context = ServiceContext.from_defaults(llm_predictor=llm, prompt_helper=prompt_helper)\n",
    "index = VectorStoreIndex.from_documents(\n",
    "    docs,\n",
    "    service_context=service_context,\n",
    "    storage_context=storage_context\n",
    ")"
   ]
  },
  {
   "cell_type": "code",
   "execution_count": 5,
   "metadata": {},
   "outputs": [],
   "source": [
    "# The follwoing 2 lines should save the save the same vector store\n",
    "# storage_context.persist(persist_dir=embedding_path)\n",
    "index.storage_context.persist(persist_dir=embedding_path)"
   ]
  },
  {
   "cell_type": "markdown",
   "metadata": {},
   "source": [
    "# Load"
   ]
  },
  {
   "cell_type": "code",
   "execution_count": 6,
   "metadata": {},
   "outputs": [],
   "source": [
    "# rebuild storage context\n",
    "storage_context_from_load = StorageContext.from_defaults(persist_dir=embedding_path)\n",
    "# load index\n",
    "index_loaded = load_index_from_storage(storage_context_from_load)"
   ]
  },
  {
   "cell_type": "code",
   "execution_count": 7,
   "metadata": {},
   "outputs": [],
   "source": [
    "# Define prompt\n",
    "template = (\n",
    "    \"We have provided context information below. \\n\"\n",
    "    \"---------------------\\n\"\n",
    "    \"{context_str}\"\n",
    "    \"\\n---------------------\\n\"\n",
    "    \"Do not give me an answer if it is not mentioned in the context as a fact. \\n\"\n",
    "    \"Given this information, please provide me with an answer to the following question:\\n{query_str}\\n\"\n",
    ")\n",
    "qa_template = Prompt(template)\n",
    "\n",
    "query_engine_loaded = index_loaded.as_query_engine(text_qa_template=qa_template, similarity_top_k=3,)"
   ]
  },
  {
   "cell_type": "code",
   "execution_count": 17,
   "metadata": {},
   "outputs": [],
   "source": [
    "response = query_engine_loaded.query(\"What is the capital of Italy?\")"
   ]
  },
  {
   "cell_type": "code",
   "execution_count": 18,
   "metadata": {},
   "outputs": [
    {
     "data": {
      "text/markdown": [
       "The context information provided does not mention the capital of Italy."
      ],
      "text/plain": [
       "<IPython.core.display.Markdown object>"
      ]
     },
     "metadata": {},
     "output_type": "display_data"
    }
   ],
   "source": [
    "display(Markdown(response.response))"
   ]
  },
  {
   "cell_type": "code",
   "execution_count": 10,
   "metadata": {},
   "outputs": [],
   "source": [
    "response = query_engine_loaded.query(\"Is the unemployment benefit based on the number of childer I have?\")"
   ]
  },
  {
   "cell_type": "code",
   "execution_count": 12,
   "metadata": {},
   "outputs": [
    {
     "name": "stdout",
     "output_type": "stream",
     "text": [
      "Based on the provided context, the unemployment benefit is not directly based on the number of children an individual has. However, if an individual has at least one child, the unemployment benefit can be increased to 67% of the pauschalierten Nettoentgelt (net income) instead of the standard 60%. This increase in benefit is applicable if certain conditions are met.\n"
     ]
    }
   ],
   "source": [
    "print(response.response)"
   ]
  },
  {
   "cell_type": "code",
   "execution_count": 15,
   "metadata": {},
   "outputs": [
    {
     "data": {
      "text/markdown": [
       "Based on the provided context, the unemployment benefit is not directly based on the number of children an individual has. However, if an individual has at least one child, the unemployment benefit can be increased to 67% of the pauschalierten Nettoentgelt (net income) instead of the standard 60%. This increase in benefit is applicable if certain conditions are met."
      ],
      "text/plain": [
       "<IPython.core.display.Markdown object>"
      ]
     },
     "metadata": {},
     "output_type": "display_data"
    }
   ],
   "source": [
    "display(Markdown(response.response))"
   ]
  }
 ],
 "metadata": {
  "kernelspec": {
   "display_name": ".venv_chatbot",
   "language": "python",
   "name": "python3"
  },
  "language_info": {
   "codemirror_mode": {
    "name": "ipython",
    "version": 3
   },
   "file_extension": ".py",
   "mimetype": "text/x-python",
   "name": "python",
   "nbconvert_exporter": "python",
   "pygments_lexer": "ipython3",
   "version": "3.10.12"
  },
  "orig_nbformat": 4
 },
 "nbformat": 4,
 "nbformat_minor": 2
}
