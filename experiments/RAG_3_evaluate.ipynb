{
 "cells": [
  {
   "cell_type": "markdown",
   "id": "86fe17dc-eaca-49ae-81b8-8c372bff4fb8",
   "metadata": {},
   "source": [
    "# Custom Evaluation with LlamaIndex\n",
    "\n",
    "Reference: [Fine-Tuning Embeddings for RAG with Synthetic Data](https://medium.com/llamaindex-blog/fine-tuning-embeddings-for-rag-with-synthetic-data-e534409a3971)\n",
    "\n",
    "\n",
    "In this notebook, we evaluate 3 different embedding models: \n",
    "1. proprietary OpenAI embedding,\n",
    "2. open source `BAAI/bge-small-en`, and\n",
    "3. our finetuned embedding model.\n",
    "\n",
    "We consider 2 evaluation approaches:\n",
    "1. a simple custom **hit rate** metric\n",
    "2. using `InformationRetrievalEvaluator` from sentence_transformers\n",
    "\n",
    "Finetuning on a synthetic (LLM-generated) dataset should improve performance compared to opensource embedding models."
   ]
  },
  {
   "cell_type": "code",
   "execution_count": 12,
   "id": "3f249133-d7ca-42e8-ad41-c5ef8fe5849b",
   "metadata": {},
   "outputs": [],
   "source": [
    "import json\n",
    "# from tqdm.notebook import tqdm\n",
    "from tqdm import tqdm\n",
    "import pandas as pd\n",
    "\n",
    "from sentence_transformers.evaluation import InformationRetrievalEvaluator\n",
    "from sentence_transformers import SentenceTransformer\n",
    "\n",
    "from llama_index import ServiceContext, VectorStoreIndex\n",
    "from llama_index.schema import TextNode\n",
    "from llama_index.embeddings import OpenAIEmbedding"
   ]
  },
  {
   "cell_type": "markdown",
   "id": "355b4619-4a01-427e-97f3-ec7cac6d2bfd",
   "metadata": {},
   "source": [
    "## Load data"
   ]
  },
  {
   "cell_type": "code",
   "execution_count": 2,
   "id": "e73cb5c7-a71c-4e70-ba24-ce196e7177af",
   "metadata": {},
   "outputs": [],
   "source": [
    "TRAIN_DATASET_FPATH = 'afa_docs/train_val_data/train_dataset.json'\n",
    "VAL_DATASET_FPATH = 'afa_docs/train_val_data/val_dataset.json'"
   ]
  },
  {
   "cell_type": "code",
   "execution_count": 4,
   "id": "f5a85bae-0f40-4d24-b96f-a5f884893310",
   "metadata": {},
   "outputs": [],
   "source": [
    "with open(TRAIN_DATASET_FPATH, 'r+') as f:\n",
    "    train_dataset = json.load(f)\n",
    "\n",
    "with open(VAL_DATASET_FPATH, 'r+') as f:\n",
    "    val_dataset = json.load(f)"
   ]
  },
  {
   "cell_type": "markdown",
   "id": "8232ec0e-40bf-4910-bdad-cca9d7de0619",
   "metadata": {},
   "source": [
    "## Eval function\n",
    "\n",
    "**Option 1**: simple `hit rate` metric for evaluation.\n",
    "\n",
    "For each `(query, relevant_doc)` pair,:\n",
    "1. Retrieve top-k documents based on the query\n",
    "2. Evaluate as `hit` if the retrievedf results contain the relevant_doc"
   ]
  },
  {
   "cell_type": "code",
   "execution_count": 6,
   "id": "75e79771-fe51-44a0-807f-ee9697064ef6",
   "metadata": {},
   "outputs": [],
   "source": [
    "def evaluate(\n",
    "    dataset,\n",
    "    embed_model,\n",
    "    top_k=5,\n",
    "    verbose=False,\n",
    "):\n",
    "    corpus = dataset['corpus']\n",
    "    queries = dataset['queries']\n",
    "    relevant_docs = dataset['relevant_docs']\n",
    "\n",
    "    service_context = ServiceContext.from_defaults(embed_model=embed_model)\n",
    "    nodes = [TextNode(id_=id_, text=text) for id_, text in corpus.items()] \n",
    "    index = VectorStoreIndex(\n",
    "        nodes, \n",
    "        service_context=service_context, \n",
    "        show_progress=True\n",
    "    )\n",
    "    retriever = index.as_retriever(similarity_top_k=top_k)\n",
    "\n",
    "    eval_results = []\n",
    "    for query_id, query in tqdm(queries.items()):\n",
    "        retrieved_nodes = retriever.retrieve(query)\n",
    "        retrieved_ids = [node.node.node_id for node in retrieved_nodes]\n",
    "        expected_id = relevant_docs[query_id][0]\n",
    "        is_hit = expected_id in retrieved_ids  # assume 1 relevant doc\n",
    "        \n",
    "        eval_result = {\n",
    "            'is_hit': is_hit,\n",
    "            'retrieved': retrieved_ids,\n",
    "            'expected': expected_id,\n",
    "            'query': query_id,\n",
    "        }\n",
    "        eval_results.append(eval_result)\n",
    "    return eval_results"
   ]
  },
  {
   "cell_type": "markdown",
   "id": "b282f2b8-3486-4e11-b314-4c2c52d2ea02",
   "metadata": {},
   "source": [
    "**Option 2**: `InformationRetrievalEvaluator` from `sentence_transformers`.\n",
    "\n",
    "**InformationRetrievalEvaluator** provides a more comprehensive suite of metrics, but it can be used **ONLY** wiht the models compatible wiht `sentencetransformers` library. That is, we can run it on an open source model and our finetuned model, but **NOT** wiht the OpenAI embedding model."
   ]
  },
  {
   "cell_type": "code",
   "execution_count": 9,
   "id": "8bce34cd-d51d-44c4-900b-9bded5e1ec70",
   "metadata": {},
   "outputs": [],
   "source": [
    "def evaluate_st(dataset, model_id, name):\n",
    "    corpus = dataset['corpus']\n",
    "    queries = dataset['queries']\n",
    "    relevant_docs = dataset['relevant_docs']\n",
    "\n",
    "    evaluator = InformationRetrievalEvaluator(queries, corpus, relevant_docs, name=name)\n",
    "    model = SentenceTransformer(model_id)\n",
    "    return evaluator(model, output_path='results/')"
   ]
  },
  {
   "cell_type": "markdown",
   "id": "3c0871d4-5a1a-4e5d-97d2-3fa9ae68af54",
   "metadata": {},
   "source": [
    "## Evaluate"
   ]
  },
  {
   "cell_type": "markdown",
   "id": "c62183ec-ac63-4efc-9b9d-9a4c091bee22",
   "metadata": {},
   "source": [
    "### OpenAI\n",
    "\n",
    "Note: this might take a few minutes to run since we have to embed the corpus and queries"
   ]
  },
  {
   "cell_type": "code",
   "execution_count": 11,
   "id": "4aa63f1f-0d8d-4533-bc40-d7791c523bf7",
   "metadata": {},
   "outputs": [
    {
     "name": "stderr",
     "output_type": "stream",
     "text": [
      "Generating embeddings: 100%|██████████| 40/40 [00:05<00:00,  6.92it/s]\n",
      "100%|██████████| 22/22 [00:15<00:00,  1.46it/s]\n"
     ]
    }
   ],
   "source": [
    "ada = OpenAIEmbedding()\n",
    "ada_val_results = evaluate(val_dataset, ada)"
   ]
  },
  {
   "cell_type": "code",
   "execution_count": 17,
   "id": "3cebfdf9-4d7b-417a-95df-01fcc5ac6589",
   "metadata": {},
   "outputs": [
    {
     "data": {
      "text/plain": [
       "0.7272727272727273"
      ]
     },
     "execution_count": 17,
     "metadata": {},
     "output_type": "execute_result"
    }
   ],
   "source": [
    "df_ada = pd.DataFrame(ada_val_results)\n",
    "hit_rate_ada = df_ada['is_hit'].mean()\n",
    "hit_rate_ada"
   ]
  },
  {
   "cell_type": "markdown",
   "id": "9b63f51d-3bf9-4360-8ff8-fd2593ea7eb5",
   "metadata": {},
   "source": [
    "### BAAI/bge-small-en"
   ]
  },
  {
   "cell_type": "code",
   "execution_count": 15,
   "id": "7d33e9fe-cddf-44f2-a300-ebe5dbf1dec8",
   "metadata": {
    "scrolled": true
   },
   "outputs": [
    {
     "name": "stderr",
     "output_type": "stream",
     "text": [
      "Downloading (…)ab102/.gitattributes: 100%|██████████| 1.52k/1.52k [00:00<00:00, 5.10MB/s]\n",
      "Downloading (…)_Pooling/config.json: 100%|██████████| 190/190 [00:00<00:00, 355kB/s]\n",
      "Downloading (…)2d2d7ab102/README.md: 100%|██████████| 78.9k/78.9k [00:00<00:00, 4.41MB/s]\n",
      "Downloading (…)2d7ab102/config.json: 100%|██████████| 684/684 [00:00<00:00, 1.17MB/s]\n",
      "Downloading (…)ce_transformers.json: 100%|██████████| 124/124 [00:00<00:00, 440kB/s]\n",
      "Downloading model.safetensors: 100%|██████████| 133M/133M [00:30<00:00, 4.45MB/s] \n",
      "Downloading pytorch_model.bin: 100%|██████████| 134M/134M [00:19<00:00, 6.76MB/s] \n",
      "Downloading (…)nce_bert_config.json: 100%|██████████| 52.0/52.0 [00:00<00:00, 173kB/s]\n",
      "Downloading (…)cial_tokens_map.json: 100%|██████████| 125/125 [00:00<00:00, 612kB/s]\n",
      "Downloading (…)ab102/tokenizer.json: 100%|██████████| 711k/711k [00:00<00:00, 1.05MB/s]\n",
      "Downloading (…)okenizer_config.json: 100%|██████████| 366/366 [00:00<00:00, 1.44MB/s]\n",
      "Downloading (…)2d2d7ab102/vocab.txt: 100%|██████████| 232k/232k [00:00<00:00, 2.48MB/s]\n",
      "Downloading (…)d7ab102/modules.json: 100%|██████████| 229/229 [00:00<00:00, 795kB/s]\n",
      "Generating embeddings: 100%|██████████| 40/40 [00:03<00:00, 11.33it/s]\n",
      "100%|██████████| 22/22 [00:00<00:00, 57.76it/s]\n"
     ]
    }
   ],
   "source": [
    "bge = \"local:BAAI/bge-small-en\"\n",
    "bge_val_results = evaluate(val_dataset, bge)"
   ]
  },
  {
   "cell_type": "code",
   "execution_count": 16,
   "id": "8e633ef4-4681-45bf-9712-ef6abbc1769d",
   "metadata": {},
   "outputs": [
    {
     "data": {
      "text/plain": [
       "0.6818181818181818"
      ]
     },
     "execution_count": 16,
     "metadata": {},
     "output_type": "execute_result"
    }
   ],
   "source": [
    "df_bge = pd.DataFrame(bge_val_results)\n",
    "hit_rate_bge = df_bge['is_hit'].mean()\n",
    "hit_rate_bge"
   ]
  },
  {
   "cell_type": "code",
   "execution_count": 19,
   "id": "f18ee8ee-6437-4c69-aa00-153c81b798ab",
   "metadata": {},
   "outputs": [
    {
     "data": {
      "text/plain": [
       "0.555633463387474"
      ]
     },
     "execution_count": 19,
     "metadata": {},
     "output_type": "execute_result"
    }
   ],
   "source": [
    "evaluate_st(val_dataset, \"BAAI/bge-small-en\", name='bge')"
   ]
  },
  {
   "cell_type": "markdown",
   "id": "79c85066-27bd-4376-8f7b-b6cda3a99371",
   "metadata": {},
   "source": [
    "### Finetuned model"
   ]
  },
  {
   "cell_type": "code",
   "execution_count": 20,
   "id": "cfb73b2c-5d69-42d5-9bba-bf5920e86b14",
   "metadata": {},
   "outputs": [
    {
     "name": "stderr",
     "output_type": "stream",
     "text": [
      "Generating embeddings: 100%|██████████| 40/40 [00:03<00:00, 10.89it/s]\n",
      "100%|██████████| 22/22 [00:00<00:00, 68.34it/s]\n"
     ]
    }
   ],
   "source": [
    "finetuned = \"local:exp_finetune\"\n",
    "val_results_finetuned = evaluate(val_dataset, finetuned)"
   ]
  },
  {
   "cell_type": "code",
   "execution_count": 21,
   "id": "c5861d26-ee50-47cb-9a34-3d9295a99754",
   "metadata": {},
   "outputs": [
    {
     "data": {
      "text/plain": [
       "0.7727272727272727"
      ]
     },
     "execution_count": 21,
     "metadata": {},
     "output_type": "execute_result"
    }
   ],
   "source": [
    "df_finetuned = pd.DataFrame(val_results_finetuned)\n",
    "hit_rate_finetuned = df_finetuned['is_hit'].mean()\n",
    "hit_rate_finetuned"
   ]
  },
  {
   "cell_type": "code",
   "execution_count": 22,
   "id": "2ba92a7d-414c-4f25-9caa-f29922a25c9a",
   "metadata": {},
   "outputs": [
    {
     "data": {
      "text/plain": [
       "0.5386784511784511"
      ]
     },
     "execution_count": 22,
     "metadata": {},
     "output_type": "execute_result"
    }
   ],
   "source": [
    "evaluate_st(val_dataset, \"exp_finetune\", name='finetuned')"
   ]
  },
  {
   "cell_type": "markdown",
   "id": "2debfccd-542b-42b7-a603-4b4272435130",
   "metadata": {},
   "source": [
    "## Summary of Results"
   ]
  },
  {
   "cell_type": "markdown",
   "id": "76700270-cce3-4def-b545-bfefe94222b1",
   "metadata": {},
   "source": [
    "### Hit rate\n",
    "\n",
    "We can see that fine-tuning our small open-source embedding model drastically improve its retrieval quality (even approaching the quality of the proprietary OpenAI embedding)!"
   ]
  },
  {
   "cell_type": "code",
   "execution_count": 23,
   "id": "1c66604a-a844-4efe-9d64-9aaccad2fbbf",
   "metadata": {},
   "outputs": [
    {
     "data": {
      "text/html": [
       "<div>\n",
       "<style scoped>\n",
       "    .dataframe tbody tr th:only-of-type {\n",
       "        vertical-align: middle;\n",
       "    }\n",
       "\n",
       "    .dataframe tbody tr th {\n",
       "        vertical-align: top;\n",
       "    }\n",
       "\n",
       "    .dataframe thead th {\n",
       "        text-align: right;\n",
       "    }\n",
       "</style>\n",
       "<table border=\"1\" class=\"dataframe\">\n",
       "  <thead>\n",
       "    <tr style=\"text-align: right;\">\n",
       "      <th></th>\n",
       "      <th>is_hit</th>\n",
       "    </tr>\n",
       "    <tr>\n",
       "      <th>model</th>\n",
       "      <th></th>\n",
       "    </tr>\n",
       "  </thead>\n",
       "  <tbody>\n",
       "    <tr>\n",
       "      <th>ada</th>\n",
       "      <td>0.727273</td>\n",
       "    </tr>\n",
       "    <tr>\n",
       "      <th>bge</th>\n",
       "      <td>0.681818</td>\n",
       "    </tr>\n",
       "    <tr>\n",
       "      <th>fine_tuned</th>\n",
       "      <td>0.772727</td>\n",
       "    </tr>\n",
       "  </tbody>\n",
       "</table>\n",
       "</div>"
      ],
      "text/plain": [
       "              is_hit\n",
       "model               \n",
       "ada         0.727273\n",
       "bge         0.681818\n",
       "fine_tuned  0.772727"
      ]
     },
     "execution_count": 23,
     "metadata": {},
     "output_type": "execute_result"
    }
   ],
   "source": [
    "df_ada['model'] = 'ada'\n",
    "df_bge['model'] = 'bge'\n",
    "df_finetuned['model'] = 'fine_tuned'\n",
    "\n",
    "df_all = pd.concat([df_ada, df_bge, df_finetuned])\n",
    "df_all.groupby('model').mean('is_hit')"
   ]
  },
  {
   "cell_type": "markdown",
   "id": "95f87314-9790-40d7-9c72-ea1ccb4b789b",
   "metadata": {},
   "source": [
    "### InformationRetrievalEvaluator\n",
    "\n",
    "We can see that embedding finetuning improves metrics consistently across the suite of eval metrics "
   ]
  },
  {
   "cell_type": "code",
   "execution_count": 25,
   "id": "19a777a0-a9c1-4d5c-9da6-fde91b5bb712",
   "metadata": {},
   "outputs": [
    {
     "data": {
      "text/html": [
       "<div>\n",
       "<style scoped>\n",
       "    .dataframe tbody tr th:only-of-type {\n",
       "        vertical-align: middle;\n",
       "    }\n",
       "\n",
       "    .dataframe tbody tr th {\n",
       "        vertical-align: top;\n",
       "    }\n",
       "\n",
       "    .dataframe thead th {\n",
       "        text-align: right;\n",
       "    }\n",
       "</style>\n",
       "<table border=\"1\" class=\"dataframe\">\n",
       "  <thead>\n",
       "    <tr style=\"text-align: right;\">\n",
       "      <th></th>\n",
       "      <th>epoch</th>\n",
       "      <th>steps</th>\n",
       "      <th>cos_sim-Accuracy@1</th>\n",
       "      <th>cos_sim-Accuracy@3</th>\n",
       "      <th>cos_sim-Accuracy@5</th>\n",
       "      <th>cos_sim-Accuracy@10</th>\n",
       "      <th>cos_sim-Precision@1</th>\n",
       "      <th>cos_sim-Recall@1</th>\n",
       "      <th>cos_sim-Precision@3</th>\n",
       "      <th>cos_sim-Recall@3</th>\n",
       "      <th>...</th>\n",
       "      <th>dot_score-Recall@1</th>\n",
       "      <th>dot_score-Precision@3</th>\n",
       "      <th>dot_score-Recall@3</th>\n",
       "      <th>dot_score-Precision@5</th>\n",
       "      <th>dot_score-Recall@5</th>\n",
       "      <th>dot_score-Precision@10</th>\n",
       "      <th>dot_score-Recall@10</th>\n",
       "      <th>dot_score-MRR@10</th>\n",
       "      <th>dot_score-NDCG@10</th>\n",
       "      <th>dot_score-MAP@100</th>\n",
       "    </tr>\n",
       "    <tr>\n",
       "      <th>model</th>\n",
       "      <th></th>\n",
       "      <th></th>\n",
       "      <th></th>\n",
       "      <th></th>\n",
       "      <th></th>\n",
       "      <th></th>\n",
       "      <th></th>\n",
       "      <th></th>\n",
       "      <th></th>\n",
       "      <th></th>\n",
       "      <th></th>\n",
       "      <th></th>\n",
       "      <th></th>\n",
       "      <th></th>\n",
       "      <th></th>\n",
       "      <th></th>\n",
       "      <th></th>\n",
       "      <th></th>\n",
       "      <th></th>\n",
       "      <th></th>\n",
       "      <th></th>\n",
       "    </tr>\n",
       "  </thead>\n",
       "  <tbody>\n",
       "    <tr>\n",
       "      <th>bge</th>\n",
       "      <td>-1</td>\n",
       "      <td>-1</td>\n",
       "      <td>0.409091</td>\n",
       "      <td>0.727273</td>\n",
       "      <td>0.727273</td>\n",
       "      <td>0.772727</td>\n",
       "      <td>0.409091</td>\n",
       "      <td>0.409091</td>\n",
       "      <td>0.242424</td>\n",
       "      <td>0.727273</td>\n",
       "      <td>...</td>\n",
       "      <td>0.409091</td>\n",
       "      <td>0.227273</td>\n",
       "      <td>0.681818</td>\n",
       "      <td>0.145455</td>\n",
       "      <td>0.727273</td>\n",
       "      <td>0.072727</td>\n",
       "      <td>0.727273</td>\n",
       "      <td>0.541667</td>\n",
       "      <td>0.588836</td>\n",
       "      <td>0.555633</td>\n",
       "    </tr>\n",
       "    <tr>\n",
       "      <th>fine_tuned</th>\n",
       "      <td>-1</td>\n",
       "      <td>-1</td>\n",
       "      <td>0.409091</td>\n",
       "      <td>0.590909</td>\n",
       "      <td>0.772727</td>\n",
       "      <td>0.772727</td>\n",
       "      <td>0.409091</td>\n",
       "      <td>0.409091</td>\n",
       "      <td>0.196970</td>\n",
       "      <td>0.590909</td>\n",
       "      <td>...</td>\n",
       "      <td>0.363636</td>\n",
       "      <td>0.166667</td>\n",
       "      <td>0.500000</td>\n",
       "      <td>0.145455</td>\n",
       "      <td>0.727273</td>\n",
       "      <td>0.077273</td>\n",
       "      <td>0.772727</td>\n",
       "      <td>0.485281</td>\n",
       "      <td>0.554761</td>\n",
       "      <td>0.496781</td>\n",
       "    </tr>\n",
       "  </tbody>\n",
       "</table>\n",
       "<p>2 rows × 32 columns</p>\n",
       "</div>"
      ],
      "text/plain": [
       "            epoch  steps  cos_sim-Accuracy@1  cos_sim-Accuracy@3  \\\n",
       "model                                                              \n",
       "bge            -1     -1            0.409091            0.727273   \n",
       "fine_tuned     -1     -1            0.409091            0.590909   \n",
       "\n",
       "            cos_sim-Accuracy@5  cos_sim-Accuracy@10  cos_sim-Precision@1  \\\n",
       "model                                                                      \n",
       "bge                   0.727273             0.772727             0.409091   \n",
       "fine_tuned            0.772727             0.772727             0.409091   \n",
       "\n",
       "            cos_sim-Recall@1  cos_sim-Precision@3  cos_sim-Recall@3  ...  \\\n",
       "model                                                                ...   \n",
       "bge                 0.409091             0.242424          0.727273  ...   \n",
       "fine_tuned          0.409091             0.196970          0.590909  ...   \n",
       "\n",
       "            dot_score-Recall@1  dot_score-Precision@3  dot_score-Recall@3  \\\n",
       "model                                                                       \n",
       "bge                   0.409091               0.227273            0.681818   \n",
       "fine_tuned            0.363636               0.166667            0.500000   \n",
       "\n",
       "            dot_score-Precision@5  dot_score-Recall@5  dot_score-Precision@10  \\\n",
       "model                                                                           \n",
       "bge                      0.145455            0.727273                0.072727   \n",
       "fine_tuned               0.145455            0.727273                0.077273   \n",
       "\n",
       "            dot_score-Recall@10  dot_score-MRR@10  dot_score-NDCG@10  \\\n",
       "model                                                                  \n",
       "bge                    0.727273          0.541667           0.588836   \n",
       "fine_tuned             0.772727          0.485281           0.554761   \n",
       "\n",
       "            dot_score-MAP@100  \n",
       "model                          \n",
       "bge                  0.555633  \n",
       "fine_tuned           0.496781  \n",
       "\n",
       "[2 rows x 32 columns]"
      ]
     },
     "execution_count": 25,
     "metadata": {},
     "output_type": "execute_result"
    }
   ],
   "source": [
    "df_st_bge = pd.read_csv('results/Information-Retrieval_evaluation_bge_results.csv')\n",
    "df_st_finetuned = pd.read_csv('results/Information-Retrieval_evaluation_finetuned_results.csv')\n",
    "\n",
    "df_st_bge['model'] = 'bge'\n",
    "df_st_finetuned['model'] = 'fine_tuned'\n",
    "df_st_all = pd.concat([df_st_bge, df_st_finetuned])\n",
    "df_st_all = df_st_all.set_index('model')\n",
    "df_st_all"
   ]
  },
  {
   "cell_type": "code",
   "execution_count": 61,
   "id": "aa24b555",
   "metadata": {},
   "outputs": [
    {
     "data": {
      "text/html": [
       "<div>\n",
       "<style scoped>\n",
       "    .dataframe tbody tr th:only-of-type {\n",
       "        vertical-align: middle;\n",
       "    }\n",
       "\n",
       "    .dataframe tbody tr th {\n",
       "        vertical-align: top;\n",
       "    }\n",
       "\n",
       "    .dataframe thead th {\n",
       "        text-align: right;\n",
       "    }\n",
       "</style>\n",
       "<table border=\"1\" class=\"dataframe\">\n",
       "  <thead>\n",
       "    <tr style=\"text-align: right;\">\n",
       "      <th>model</th>\n",
       "      <th>bge</th>\n",
       "      <th>fine_tuned</th>\n",
       "    </tr>\n",
       "    <tr>\n",
       "      <th>level_1</th>\n",
       "      <th></th>\n",
       "      <th></th>\n",
       "    </tr>\n",
       "  </thead>\n",
       "  <tbody>\n",
       "    <tr>\n",
       "      <th>cos_sim-Accuracy@1</th>\n",
       "      <td>0.409091</td>\n",
       "      <td>0.409091</td>\n",
       "    </tr>\n",
       "    <tr>\n",
       "      <th>cos_sim-Accuracy@10</th>\n",
       "      <td>0.772727</td>\n",
       "      <td>0.772727</td>\n",
       "    </tr>\n",
       "    <tr>\n",
       "      <th>cos_sim-Accuracy@3</th>\n",
       "      <td>0.727273</td>\n",
       "      <td>0.590909</td>\n",
       "    </tr>\n",
       "    <tr>\n",
       "      <th>cos_sim-Accuracy@5</th>\n",
       "      <td>0.727273</td>\n",
       "      <td>0.772727</td>\n",
       "    </tr>\n",
       "    <tr>\n",
       "      <th>cos_sim-MAP@100</th>\n",
       "      <td>0.551488</td>\n",
       "      <td>0.538678</td>\n",
       "    </tr>\n",
       "    <tr>\n",
       "      <th>cos_sim-MRR@10</th>\n",
       "      <td>0.542424</td>\n",
       "      <td>0.528788</td>\n",
       "    </tr>\n",
       "    <tr>\n",
       "      <th>cos_sim-NDCG@10</th>\n",
       "      <td>0.599175</td>\n",
       "      <td>0.588191</td>\n",
       "    </tr>\n",
       "    <tr>\n",
       "      <th>cos_sim-Precision@1</th>\n",
       "      <td>0.409091</td>\n",
       "      <td>0.409091</td>\n",
       "    </tr>\n",
       "    <tr>\n",
       "      <th>cos_sim-Precision@10</th>\n",
       "      <td>0.077273</td>\n",
       "      <td>0.077273</td>\n",
       "    </tr>\n",
       "    <tr>\n",
       "      <th>cos_sim-Precision@3</th>\n",
       "      <td>0.242424</td>\n",
       "      <td>0.196970</td>\n",
       "    </tr>\n",
       "    <tr>\n",
       "      <th>cos_sim-Precision@5</th>\n",
       "      <td>0.145455</td>\n",
       "      <td>0.154545</td>\n",
       "    </tr>\n",
       "    <tr>\n",
       "      <th>cos_sim-Recall@1</th>\n",
       "      <td>0.409091</td>\n",
       "      <td>0.409091</td>\n",
       "    </tr>\n",
       "    <tr>\n",
       "      <th>cos_sim-Recall@10</th>\n",
       "      <td>0.772727</td>\n",
       "      <td>0.772727</td>\n",
       "    </tr>\n",
       "    <tr>\n",
       "      <th>cos_sim-Recall@3</th>\n",
       "      <td>0.727273</td>\n",
       "      <td>0.590909</td>\n",
       "    </tr>\n",
       "    <tr>\n",
       "      <th>cos_sim-Recall@5</th>\n",
       "      <td>0.727273</td>\n",
       "      <td>0.772727</td>\n",
       "    </tr>\n",
       "    <tr>\n",
       "      <th>dot_score-Accuracy@1</th>\n",
       "      <td>0.409091</td>\n",
       "      <td>0.363636</td>\n",
       "    </tr>\n",
       "    <tr>\n",
       "      <th>dot_score-Accuracy@10</th>\n",
       "      <td>0.727273</td>\n",
       "      <td>0.772727</td>\n",
       "    </tr>\n",
       "    <tr>\n",
       "      <th>dot_score-Accuracy@3</th>\n",
       "      <td>0.681818</td>\n",
       "      <td>0.500000</td>\n",
       "    </tr>\n",
       "    <tr>\n",
       "      <th>dot_score-Accuracy@5</th>\n",
       "      <td>0.727273</td>\n",
       "      <td>0.727273</td>\n",
       "    </tr>\n",
       "    <tr>\n",
       "      <th>dot_score-MAP@100</th>\n",
       "      <td>0.555633</td>\n",
       "      <td>0.496781</td>\n",
       "    </tr>\n",
       "    <tr>\n",
       "      <th>dot_score-MRR@10</th>\n",
       "      <td>0.541667</td>\n",
       "      <td>0.485281</td>\n",
       "    </tr>\n",
       "    <tr>\n",
       "      <th>dot_score-NDCG@10</th>\n",
       "      <td>0.588836</td>\n",
       "      <td>0.554761</td>\n",
       "    </tr>\n",
       "    <tr>\n",
       "      <th>dot_score-Precision@1</th>\n",
       "      <td>0.409091</td>\n",
       "      <td>0.363636</td>\n",
       "    </tr>\n",
       "    <tr>\n",
       "      <th>dot_score-Precision@10</th>\n",
       "      <td>0.072727</td>\n",
       "      <td>0.077273</td>\n",
       "    </tr>\n",
       "    <tr>\n",
       "      <th>dot_score-Precision@3</th>\n",
       "      <td>0.227273</td>\n",
       "      <td>0.166667</td>\n",
       "    </tr>\n",
       "    <tr>\n",
       "      <th>dot_score-Precision@5</th>\n",
       "      <td>0.145455</td>\n",
       "      <td>0.145455</td>\n",
       "    </tr>\n",
       "    <tr>\n",
       "      <th>dot_score-Recall@1</th>\n",
       "      <td>0.409091</td>\n",
       "      <td>0.363636</td>\n",
       "    </tr>\n",
       "    <tr>\n",
       "      <th>dot_score-Recall@10</th>\n",
       "      <td>0.727273</td>\n",
       "      <td>0.772727</td>\n",
       "    </tr>\n",
       "    <tr>\n",
       "      <th>dot_score-Recall@3</th>\n",
       "      <td>0.681818</td>\n",
       "      <td>0.500000</td>\n",
       "    </tr>\n",
       "    <tr>\n",
       "      <th>dot_score-Recall@5</th>\n",
       "      <td>0.727273</td>\n",
       "      <td>0.727273</td>\n",
       "    </tr>\n",
       "    <tr>\n",
       "      <th>epoch</th>\n",
       "      <td>-1.000000</td>\n",
       "      <td>-1.000000</td>\n",
       "    </tr>\n",
       "    <tr>\n",
       "      <th>steps</th>\n",
       "      <td>-1.000000</td>\n",
       "      <td>-1.000000</td>\n",
       "    </tr>\n",
       "  </tbody>\n",
       "</table>\n",
       "</div>"
      ],
      "text/plain": [
       "model                        bge  fine_tuned\n",
       "level_1                                     \n",
       "cos_sim-Accuracy@1      0.409091    0.409091\n",
       "cos_sim-Accuracy@10     0.772727    0.772727\n",
       "cos_sim-Accuracy@3      0.727273    0.590909\n",
       "cos_sim-Accuracy@5      0.727273    0.772727\n",
       "cos_sim-MAP@100         0.551488    0.538678\n",
       "cos_sim-MRR@10          0.542424    0.528788\n",
       "cos_sim-NDCG@10         0.599175    0.588191\n",
       "cos_sim-Precision@1     0.409091    0.409091\n",
       "cos_sim-Precision@10    0.077273    0.077273\n",
       "cos_sim-Precision@3     0.242424    0.196970\n",
       "cos_sim-Precision@5     0.145455    0.154545\n",
       "cos_sim-Recall@1        0.409091    0.409091\n",
       "cos_sim-Recall@10       0.772727    0.772727\n",
       "cos_sim-Recall@3        0.727273    0.590909\n",
       "cos_sim-Recall@5        0.727273    0.772727\n",
       "dot_score-Accuracy@1    0.409091    0.363636\n",
       "dot_score-Accuracy@10   0.727273    0.772727\n",
       "dot_score-Accuracy@3    0.681818    0.500000\n",
       "dot_score-Accuracy@5    0.727273    0.727273\n",
       "dot_score-MAP@100       0.555633    0.496781\n",
       "dot_score-MRR@10        0.541667    0.485281\n",
       "dot_score-NDCG@10       0.588836    0.554761\n",
       "dot_score-Precision@1   0.409091    0.363636\n",
       "dot_score-Precision@10  0.072727    0.077273\n",
       "dot_score-Precision@3   0.227273    0.166667\n",
       "dot_score-Precision@5   0.145455    0.145455\n",
       "dot_score-Recall@1      0.409091    0.363636\n",
       "dot_score-Recall@10     0.727273    0.772727\n",
       "dot_score-Recall@3      0.681818    0.500000\n",
       "dot_score-Recall@5      0.727273    0.727273\n",
       "epoch                  -1.000000   -1.000000\n",
       "steps                  -1.000000   -1.000000"
      ]
     },
     "execution_count": 61,
     "metadata": {},
     "output_type": "execute_result"
    }
   ],
   "source": [
    "df_st_all_2 = (\n",
    "    df_st_all\n",
    "    .stack()\n",
    "    .reset_index(name=\"score\")\n",
    "    .pivot(index=\"level_1\", columns=\"model\", values=\"score\")\n",
    ")\n",
    "\n",
    "df_st_all_2"
   ]
  },
  {
   "cell_type": "code",
   "execution_count": 65,
   "id": "710b9cf5",
   "metadata": {},
   "outputs": [
    {
     "data": {
      "text/html": [
       "<div>\n",
       "<style scoped>\n",
       "    .dataframe tbody tr th:only-of-type {\n",
       "        vertical-align: middle;\n",
       "    }\n",
       "\n",
       "    .dataframe tbody tr th {\n",
       "        vertical-align: top;\n",
       "    }\n",
       "\n",
       "    .dataframe thead th {\n",
       "        text-align: right;\n",
       "    }\n",
       "</style>\n",
       "<table border=\"1\" class=\"dataframe\">\n",
       "  <thead>\n",
       "    <tr style=\"text-align: right;\">\n",
       "      <th>model</th>\n",
       "      <th>bge</th>\n",
       "      <th>fine_tuned</th>\n",
       "    </tr>\n",
       "    <tr>\n",
       "      <th>level_1</th>\n",
       "      <th></th>\n",
       "      <th></th>\n",
       "    </tr>\n",
       "  </thead>\n",
       "  <tbody>\n",
       "    <tr>\n",
       "      <th>cos_sim-Accuracy@1</th>\n",
       "      <td>0.409091</td>\n",
       "      <td>0.409091</td>\n",
       "    </tr>\n",
       "    <tr>\n",
       "      <th>cos_sim-Accuracy@10</th>\n",
       "      <td>0.772727</td>\n",
       "      <td>0.772727</td>\n",
       "    </tr>\n",
       "    <tr>\n",
       "      <th>cos_sim-Accuracy@3</th>\n",
       "      <td>0.727273</td>\n",
       "      <td>0.590909</td>\n",
       "    </tr>\n",
       "    <tr>\n",
       "      <th>cos_sim-Accuracy@5</th>\n",
       "      <td>0.727273</td>\n",
       "      <td>0.772727</td>\n",
       "    </tr>\n",
       "    <tr>\n",
       "      <th>cos_sim-MAP@100</th>\n",
       "      <td>0.551488</td>\n",
       "      <td>0.538678</td>\n",
       "    </tr>\n",
       "    <tr>\n",
       "      <th>cos_sim-MRR@10</th>\n",
       "      <td>0.542424</td>\n",
       "      <td>0.528788</td>\n",
       "    </tr>\n",
       "    <tr>\n",
       "      <th>cos_sim-NDCG@10</th>\n",
       "      <td>0.599175</td>\n",
       "      <td>0.588191</td>\n",
       "    </tr>\n",
       "    <tr>\n",
       "      <th>cos_sim-Precision@1</th>\n",
       "      <td>0.409091</td>\n",
       "      <td>0.409091</td>\n",
       "    </tr>\n",
       "    <tr>\n",
       "      <th>cos_sim-Precision@10</th>\n",
       "      <td>0.077273</td>\n",
       "      <td>0.077273</td>\n",
       "    </tr>\n",
       "    <tr>\n",
       "      <th>cos_sim-Precision@3</th>\n",
       "      <td>0.242424</td>\n",
       "      <td>0.196970</td>\n",
       "    </tr>\n",
       "    <tr>\n",
       "      <th>cos_sim-Precision@5</th>\n",
       "      <td>0.145455</td>\n",
       "      <td>0.154545</td>\n",
       "    </tr>\n",
       "    <tr>\n",
       "      <th>cos_sim-Recall@1</th>\n",
       "      <td>0.409091</td>\n",
       "      <td>0.409091</td>\n",
       "    </tr>\n",
       "    <tr>\n",
       "      <th>cos_sim-Recall@10</th>\n",
       "      <td>0.772727</td>\n",
       "      <td>0.772727</td>\n",
       "    </tr>\n",
       "    <tr>\n",
       "      <th>cos_sim-Recall@3</th>\n",
       "      <td>0.727273</td>\n",
       "      <td>0.590909</td>\n",
       "    </tr>\n",
       "    <tr>\n",
       "      <th>cos_sim-Recall@5</th>\n",
       "      <td>0.727273</td>\n",
       "      <td>0.772727</td>\n",
       "    </tr>\n",
       "    <tr>\n",
       "      <th>dot_score-Accuracy@1</th>\n",
       "      <td>0.409091</td>\n",
       "      <td>0.363636</td>\n",
       "    </tr>\n",
       "    <tr>\n",
       "      <th>dot_score-Accuracy@10</th>\n",
       "      <td>0.727273</td>\n",
       "      <td>0.772727</td>\n",
       "    </tr>\n",
       "    <tr>\n",
       "      <th>dot_score-Accuracy@3</th>\n",
       "      <td>0.681818</td>\n",
       "      <td>0.500000</td>\n",
       "    </tr>\n",
       "    <tr>\n",
       "      <th>dot_score-Accuracy@5</th>\n",
       "      <td>0.727273</td>\n",
       "      <td>0.727273</td>\n",
       "    </tr>\n",
       "    <tr>\n",
       "      <th>dot_score-MAP@100</th>\n",
       "      <td>0.555633</td>\n",
       "      <td>0.496781</td>\n",
       "    </tr>\n",
       "    <tr>\n",
       "      <th>dot_score-MRR@10</th>\n",
       "      <td>0.541667</td>\n",
       "      <td>0.485281</td>\n",
       "    </tr>\n",
       "    <tr>\n",
       "      <th>dot_score-NDCG@10</th>\n",
       "      <td>0.588836</td>\n",
       "      <td>0.554761</td>\n",
       "    </tr>\n",
       "    <tr>\n",
       "      <th>dot_score-Precision@1</th>\n",
       "      <td>0.409091</td>\n",
       "      <td>0.363636</td>\n",
       "    </tr>\n",
       "    <tr>\n",
       "      <th>dot_score-Precision@10</th>\n",
       "      <td>0.072727</td>\n",
       "      <td>0.077273</td>\n",
       "    </tr>\n",
       "    <tr>\n",
       "      <th>dot_score-Precision@3</th>\n",
       "      <td>0.227273</td>\n",
       "      <td>0.166667</td>\n",
       "    </tr>\n",
       "    <tr>\n",
       "      <th>dot_score-Precision@5</th>\n",
       "      <td>0.145455</td>\n",
       "      <td>0.145455</td>\n",
       "    </tr>\n",
       "    <tr>\n",
       "      <th>dot_score-Recall@1</th>\n",
       "      <td>0.409091</td>\n",
       "      <td>0.363636</td>\n",
       "    </tr>\n",
       "    <tr>\n",
       "      <th>dot_score-Recall@10</th>\n",
       "      <td>0.727273</td>\n",
       "      <td>0.772727</td>\n",
       "    </tr>\n",
       "    <tr>\n",
       "      <th>dot_score-Recall@3</th>\n",
       "      <td>0.681818</td>\n",
       "      <td>0.500000</td>\n",
       "    </tr>\n",
       "    <tr>\n",
       "      <th>dot_score-Recall@5</th>\n",
       "      <td>0.727273</td>\n",
       "      <td>0.727273</td>\n",
       "    </tr>\n",
       "  </tbody>\n",
       "</table>\n",
       "</div>"
      ],
      "text/plain": [
       "model                        bge  fine_tuned\n",
       "level_1                                     \n",
       "cos_sim-Accuracy@1      0.409091    0.409091\n",
       "cos_sim-Accuracy@10     0.772727    0.772727\n",
       "cos_sim-Accuracy@3      0.727273    0.590909\n",
       "cos_sim-Accuracy@5      0.727273    0.772727\n",
       "cos_sim-MAP@100         0.551488    0.538678\n",
       "cos_sim-MRR@10          0.542424    0.528788\n",
       "cos_sim-NDCG@10         0.599175    0.588191\n",
       "cos_sim-Precision@1     0.409091    0.409091\n",
       "cos_sim-Precision@10    0.077273    0.077273\n",
       "cos_sim-Precision@3     0.242424    0.196970\n",
       "cos_sim-Precision@5     0.145455    0.154545\n",
       "cos_sim-Recall@1        0.409091    0.409091\n",
       "cos_sim-Recall@10       0.772727    0.772727\n",
       "cos_sim-Recall@3        0.727273    0.590909\n",
       "cos_sim-Recall@5        0.727273    0.772727\n",
       "dot_score-Accuracy@1    0.409091    0.363636\n",
       "dot_score-Accuracy@10   0.727273    0.772727\n",
       "dot_score-Accuracy@3    0.681818    0.500000\n",
       "dot_score-Accuracy@5    0.727273    0.727273\n",
       "dot_score-MAP@100       0.555633    0.496781\n",
       "dot_score-MRR@10        0.541667    0.485281\n",
       "dot_score-NDCG@10       0.588836    0.554761\n",
       "dot_score-Precision@1   0.409091    0.363636\n",
       "dot_score-Precision@10  0.072727    0.077273\n",
       "dot_score-Precision@3   0.227273    0.166667\n",
       "dot_score-Precision@5   0.145455    0.145455\n",
       "dot_score-Recall@1      0.409091    0.363636\n",
       "dot_score-Recall@10     0.727273    0.772727\n",
       "dot_score-Recall@3      0.681818    0.500000\n",
       "dot_score-Recall@5      0.727273    0.727273"
      ]
     },
     "execution_count": 65,
     "metadata": {},
     "output_type": "execute_result"
    }
   ],
   "source": [
    "df_st_all_2.iloc[:-2, :]"
   ]
  },
  {
   "cell_type": "code",
   "execution_count": 66,
   "id": "d2ccde9b",
   "metadata": {},
   "outputs": [
    {
     "data": {
      "text/plain": [
       "<Axes: xlabel='level_1'>"
      ]
     },
     "execution_count": 66,
     "metadata": {},
     "output_type": "execute_result"
    },
    {
     "data": {
      "image/png": "[encoded data removed]",
      "text/plain": [
       "<Figure size 640x480 with 1 Axes>"
      ]
     },
     "metadata": {},
     "output_type": "display_data"
    }
   ],
   "source": [
    "df_st_all_2.iloc[:-2, :].plot()"
   ]
  }
 ],
 "metadata": {
  "kernelspec": {
   "display_name": "Python 3 (ipykernel)",
   "language": "python",
   "name": "python3"
  },
  "language_info": {
   "codemirror_mode": {
    "name": "ipython",
    "version": 3
   },
   "file_extension": ".py",
   "mimetype": "text/x-python",
   "name": "python",
   "nbconvert_exporter": "python",
   "pygments_lexer": "ipython3",
   "version": "3.10.12"
  }
 },
 "nbformat": 4,
 "nbformat_minor": 5
}
