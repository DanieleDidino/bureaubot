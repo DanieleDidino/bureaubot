{
 "cells": [
  {
   "cell_type": "markdown",
   "metadata": {},
   "source": [
    "# Fine tuning\n",
    "\n",
    "Reference:\n",
    "- [Fine-tuning to Memorize Knowledge](https://gpt-index.readthedocs.io/en/stable/examples/finetuning/knowledge/finetune_knowledge.html)"
   ]
  },
  {
   "cell_type": "code",
   "execution_count": 33,
   "metadata": {},
   "outputs": [],
   "source": [
    "# import os\n",
    "# import openai\n",
    "from llama_index import ServiceContext\n",
    "from llama_index import SimpleDirectoryReader\n",
    "from llama_index import SummaryIndex\n",
    "from llama_index import PromptTemplate\n",
    "# from llama_index import VectorStoreIndex\n",
    "# from llama_index import LLMPredictor, ServiceContext\n",
    "# from llama_index import StorageContext, load_index_from_storage\n",
    "# from llama_index import PromptHelper\n",
    "# from llama_index import Prompt\n",
    "from llama_index.llms import OpenAI\n",
    "from llama_index.callbacks import CallbackManager\n",
    "from llama_index.evaluation import DatasetGenerator\n",
    "from llama_index.node_parser import SimpleNodeParser\n",
    "from llama_index.finetuning import OpenAIFinetuneEngine\n",
    "\n",
    "# from langchain.chat_models import ChatOpenAI\n",
    "import openai\n",
    "import environ\n",
    "# from IPython.display import Markdown, display\n",
    "\n",
    "\n",
    "# from llama_index.evaluation import QueryResponseEvaluator, ResponseEvaluator\n"
   ]
  },
  {
   "cell_type": "code",
   "execution_count": 2,
   "metadata": {},
   "outputs": [
    {
     "name": "stderr",
     "output_type": "stream",
     "text": [
      "/home/daniele/Desktop/Projects/bureaubot/.venv_bureaubot/lib/python3.10/site-packages/environ/environ.py:639: UserWarning: /tmp/ipykernel_25783/.env doesn't exist - if you're not configuring your environment separately, create one.\n",
      "  warnings.warn(\n"
     ]
    }
   ],
   "source": [
    "env = environ.Env()\n",
    "environ.Env.read_env()\n",
    "API_KEY = env(\"OPENAI_API_KEY\")\n",
    "openai.api_key = API_KEY"
   ]
  },
  {
   "cell_type": "code",
   "execution_count": 3,
   "metadata": {},
   "outputs": [],
   "source": [
    "callback_manager = CallbackManager([])\n",
    "\n",
    "gpt_35_context = ServiceContext.from_defaults(\n",
    "    llm=OpenAI(model=\"gpt-3.5-turbo-0613\", temperature=0.3),\n",
    "    callback_manager=callback_manager,\n",
    ")\n",
    "gpt_4_context = ServiceContext.from_defaults(\n",
    "    llm=OpenAI(model=\"gpt-4-0613\", temperature=0.3),\n",
    "    callback_manager=callback_manager\n",
    ")"
   ]
  },
  {
   "cell_type": "markdown",
   "metadata": {},
   "source": [
    "# Load Data"
   ]
  },
  {
   "cell_type": "code",
   "execution_count": 4,
   "metadata": {},
   "outputs": [],
   "source": [
    "doc_path = \"documents_pdf\"\n",
    "docs = SimpleDirectoryReader(input_dir=doc_path).load_data()"
   ]
  },
  {
   "cell_type": "markdown",
   "metadata": {},
   "source": [
    "# Generate Dataset"
   ]
  },
  {
   "cell_type": "code",
   "execution_count": 5,
   "metadata": {},
   "outputs": [],
   "source": [
    "node_parser = SimpleNodeParser.from_defaults()\n",
    "nodes = node_parser.get_nodes_from_documents(docs)"
   ]
  },
  {
   "cell_type": "code",
   "execution_count": 6,
   "metadata": {},
   "outputs": [
    {
     "data": {
      "text/plain": [
       "802"
      ]
     },
     "execution_count": 6,
     "metadata": {},
     "output_type": "execute_result"
    }
   ],
   "source": [
    "len(nodes)"
   ]
  },
  {
   "cell_type": "code",
   "execution_count": 11,
   "metadata": {},
   "outputs": [],
   "source": [
    "nodes_subset = nodes[:3]"
   ]
  },
  {
   "cell_type": "code",
   "execution_count": 12,
   "metadata": {},
   "outputs": [
    {
     "name": "stdout",
     "output_type": "stream",
     "text": [
      "140325892919360\n",
      "140325899637632\n"
     ]
    }
   ],
   "source": [
    "print(id(nodes))\n",
    "print(id(nodes_subset))"
   ]
  },
  {
   "cell_type": "code",
   "execution_count": 13,
   "metadata": {},
   "outputs": [
    {
     "data": {
      "text/plain": [
       "[TextNode(id_='2902614e-ac52-47d7-bc0a-f7be2f38bc22', embedding=None, metadata={'page_label': '1', 'file_name': 'ba146349.pdf'}, excluded_embed_metadata_keys=[], excluded_llm_metadata_keys=[], relationships={<NodeRelationship.SOURCE: '1'>: RelatedNodeInfo(node_id='da0e5988-f2f5-4597-8915-69fe3505bdd6', node_type=None, metadata={'page_label': '1', 'file_name': 'ba146349.pdf'}, hash='592bb4a567ff530dbc0607be761d79990988384fdd21bdcda882ef64fc386f94')}, hash='a7904a32b72a275d1173b76477e9771a60010bdd2e142d5925208f125944f67d', text='Familienkasse\\nWir helfen Familien.\\nMerkblatt\\nKinderzuschlag\\nDer Zuschlag zum Kindergeld für Familien  \\nmit kleinem Einkommen', start_char_idx=None, end_char_idx=None, text_template='{metadata_str}\\n\\n{content}', metadata_template='{key}: {value}', metadata_seperator='\\n'),\n",
       " TextNode(id_='d2677291-1079-4afc-b563-23f31579b1e1', embedding=None, metadata={'page_label': '2', 'file_name': 'ba146349.pdf'}, excluded_embed_metadata_keys=[], excluded_llm_metadata_keys=[], relationships={<NodeRelationship.SOURCE: '1'>: RelatedNodeInfo(node_id='2db331f4-788d-4c6e-9f56-ecea6e2785dc', node_type=None, metadata={'page_label': '2', 'file_name': 'ba146349.pdf'}, hash='a5391d9b6b68128c685a173de8d7e5231e52fcd67e4d1ca305065065f6bf2140')}, hash='a5391d9b6b68128c685a173de8d7e5231e52fcd67e4d1ca305065065f6bf2140', text='Inhaltsverzeichnis  \\n Seite \\nKiZ – der Zuschlag zum Kindergeld  3\\nZu diesem Merkblatt  4\\n1. Wer hat einen Anspruch auf Kinderzuschlag?  5\\n 1.1 Allgemeines  5\\n 1.2 Mindesteinkommensgrenze wird erreicht  6\\n 1.3  Bedarf der Familie kann mit Kinderzuschlag  \\ngedeckt werden  6\\n 1.4  Erweiterter Zugang zum Kinderzuschlag  10\\n2.  Wie wirken sich Einkommen und Vermögen auf  \\nden Kinderzuschlag aus?  11\\n 2.1 Einkommen und Vermögen des Kindes  11\\n 2.2 Einkommen und Vermögen der Eltern  13\\n3.  Was ist als Einkommen und Vermögen zu  \\nberücksichtigen?  16\\n 3.1 Einkommen  16\\n  3.1.1  Kein Einkommen  17\\n  3.1.2  Absetzbeträge  17\\n 3.2 Vermögen  18\\n  3.2.1  Kein Vermögen  18\\n  3.1.2  Freibeträge  18\\n4.  Bewilligungszeitraum und Bemessungszeitraum  19\\n5.  An wen wird der Kinderzuschlag gezahlt?  20\\n6.  Was muss man tun, um den Kinderzuschlag  \\nzu bekommen?  21\\n7.  Was müssen Sie der Familienkasse mitteilen?  22\\n8.  Kostenfreie KiTa und Bildungs- und T eilhabe-  \\nleistungen  23\\n2', start_char_idx=None, end_char_idx=None, text_template='{metadata_str}\\n\\n{content}', metadata_template='{key}: {value}', metadata_seperator='\\n'),\n",
       " TextNode(id_='bf6d53a1-d63e-41d0-abc3-1d6c91854adc', embedding=None, metadata={'page_label': '3', 'file_name': 'ba146349.pdf'}, excluded_embed_metadata_keys=[], excluded_llm_metadata_keys=[], relationships={<NodeRelationship.SOURCE: '1'>: RelatedNodeInfo(node_id='8da574e6-c0cf-4d3c-9af1-12b5f86b8e70', node_type=None, metadata={'page_label': '3', 'file_name': 'ba146349.pdf'}, hash='17df6df2b3099d78214025ae934311f86de458d7f5e4dfc32c10313c32622087')}, hash='17df6df2b3099d78214025ae934311f86de458d7f5e4dfc32c10313c32622087', text='KiZ – Der Zuschlag zum Kindergeld\\nDer Kinderzuschlag ist eine Leistung für Familien mit kleinem \\nEinkommen.\\nDen Kinderzuschlag können Eltern nur bekommen, wenn sie genug \\nfür sich selbst verdienen, aber das Einkommen nicht oder nur knapp für ihre gesamte Familie reicht. Wenn die Wohnkosten besonders hoch sind oder mehrere Kinder im Haushalt wohnen, kann auch bis in mittlere Einkommensbereiche hinein ein reduzierter Kinderzuschlag bezogen werden.\\nDer Kinderzuschlag beträgt monatlich bis zu 185  Euro je Kind. Ihr \\nEinkommen und Vermögen und das Ihres Kindes werden auf den Kinderzuschlag teilweise angerechnet und reduzieren die Höhe des Kinderzuschlags.\\nDer Kinderzuschlag wird für 6  Monate bewilligt. Ändern sich in diesen \\n6 Monaten Ihr Einkommen oder Ihre Wohnkosten, hat das keinen \\nEinfluss auf den Kinderzuschlag.\\n3Info\\nWenn Sie Kinderzuschlag bekommen, stehen Ihnen auch Bildungs- und Teilhabeleistungen - wie das kostenlose Mittagessen in KiTa und Schule oder \\ndas Schulbedarfspaket in Höhe von 150  Euro pro \\nSchuljahr - zu. Außerdem müssen Sie keine KiTa-Gebühren zahlen.', start_char_idx=None, end_char_idx=None, text_template='{metadata_str}\\n\\n{content}', metadata_template='{key}: {value}', metadata_seperator='\\n')]"
      ]
     },
     "execution_count": 13,
     "metadata": {},
     "output_type": "execute_result"
    }
   ],
   "source": [
    "nodes_subset"
   ]
  },
  {
   "cell_type": "code",
   "execution_count": 15,
   "metadata": {},
   "outputs": [
    {
     "name": "stdout",
     "output_type": "stream",
     "text": [
      "[Node 0] Generated questions:\n",
      " ['What is the purpose of the Kinderzuschlag as mentioned in the document from Familienkasse?', 'Who is the intended beneficiary of the Kinderzuschlag according to the information in the ba146349.pdf file?']\n"
     ]
    },
    {
     "data": {
      "application/vnd.jupyter.widget-view+json": {
       "model_id": "04c5f553b5fe40f780c35278dd7392b3",
       "version_major": 2,
       "version_minor": 0
      },
      "text/plain": [
       "  0%|          | 0/2 [00:00<?, ?it/s]"
      ]
     },
     "metadata": {},
     "output_type": "display_data"
    },
    {
     "name": "stdout",
     "output_type": "stream",
     "text": [
      "[Node 0] Outputs: {'query': 'What is the purpose of the Kinderzuschlag as mentioned in the document from Familienkasse?', 'response': 'The purpose of the Kinderzuschlag mentioned in the document from Familienkasse is to provide an additional financial support to families with low income, in addition to the regular child benefit.'}\n",
      "[Node 0] Outputs: {'query': 'Who is the intended beneficiary of the Kinderzuschlag according to the information in the ba146349.pdf file?', 'response': 'The intended beneficiary of the Kinderzuschlag according to the information in the ba146349.pdf file is families with low income.'}\n",
      "[Node 1] Generated questions:\n",
      " ['What are the different factors that can affect the amount of Kinderzuschlag a family can receive, according to the document?', 'What are the necessary steps one must take to receive Kinderzuschlag, as outlined in the document?']\n"
     ]
    },
    {
     "data": {
      "application/vnd.jupyter.widget-view+json": {
       "model_id": "d54a9a2ee81b4531911bad3de66c552f",
       "version_major": 2,
       "version_minor": 0
      },
      "text/plain": [
       "  0%|          | 0/2 [00:00<?, ?it/s]"
      ]
     },
     "metadata": {},
     "output_type": "display_data"
    },
    {
     "name": "stdout",
     "output_type": "stream",
     "text": [
      "[Node 1] Outputs: {'query': 'What are the different factors that can affect the amount of Kinderzuschlag a family can receive, according to the document?', 'response': 'The document mentions that the amount of Kinderzuschlag a family can receive can be affected by factors such as the income and assets of both the child and the parents.'}\n",
      "[Node 1] Outputs: {'query': 'What are the necessary steps one must take to receive Kinderzuschlag, as outlined in the document?', 'response': 'To receive Kinderzuschlag, one must take the following necessary steps as outlined in the document:\\n\\n1. Determine if you are eligible for Kinderzuschlag based on the criteria outlined in section 1.\\n2. Calculate and assess your income and assets, both for the child and the parents, as explained in section 2.\\n3. Consider what income and assets should be taken into account, as described in section 3.\\n4. Understand the duration and assessment period for receiving Kinderzuschlag, as explained in section 4.\\n5. Ensure that the Kinderzuschlag is paid to the appropriate recipient, as outlined in section 5.\\n6. Follow the necessary procedures and requirements to apply for Kinderzuschlag, as detailed in section 6.\\n7. Inform the Familienkasse (Family Benefits Office) of any relevant changes or updates, as stated in section 7.\\n8. Take advantage of additional benefits such as cost-free KiTa (childcare) and educational support, as mentioned in section 8.'}\n",
      "[Node 2] Generated questions:\n",
      " ['What are the conditions under which parents can receive the Kinderzuschlag, according to the German social security system?', 'What additional benefits are available to those who receive the Kinderzuschlag?']\n"
     ]
    },
    {
     "data": {
      "application/vnd.jupyter.widget-view+json": {
       "model_id": "bcb632c195554b5e9b734214c663f3a2",
       "version_major": 2,
       "version_minor": 0
      },
      "text/plain": [
       "  0%|          | 0/2 [00:00<?, ?it/s]"
      ]
     },
     "metadata": {},
     "output_type": "display_data"
    },
    {
     "name": "stdout",
     "output_type": "stream",
     "text": [
      "[Node 2] Outputs: {'query': 'What are the conditions under which parents can receive the Kinderzuschlag, according to the German social security system?', 'response': 'Parents can receive the Kinderzuschlag if they earn enough for themselves but their income is not sufficient for their entire family. Additionally, if the housing costs are particularly high or there are multiple children in the household, a reduced Kinderzuschlag can be received even in middle-income ranges.'}\n",
      "[Node 2] Outputs: {'query': 'What additional benefits are available to those who receive the Kinderzuschlag?', 'response': 'Those who receive the Kinderzuschlag are also eligible for additional benefits such as educational and participation benefits, including free meals in daycare and school, a school supplies package worth 150 euros per school year, and exemption from daycare fees.'}\n"
     ]
    }
   ],
   "source": [
    "from tqdm.notebook import tqdm\n",
    "import json\n",
    "\n",
    "num_questions_per_chunk = 2 # 10\n",
    "question_gen_query = (\n",
    "    \"You are a Teacher/ Professor. Your task is to setup \"\n",
    "    \"a quiz/examination. Using the provided context, \"\n",
    "    f\"formulate {num_questions_per_chunk} that captures an important fact from the \"\n",
    "    \"context. \\n\"\n",
    "    \"You MUST obey the following criteria:\\n\"\n",
    "    \"- The questions should be diverse in nature across the document.\\n\"\n",
    "    \"- Restrict the question to the context information provided.\\n\"\n",
    "    \"- Do NOT create a question that cannot be answered from the context.\\n\"\n",
    "    \"- Phrase the question so that it does NOT refer to specific context. \"\n",
    "    'For instance, do NOT put phrases like \"given provided context\" or \"in this work\" in the question, '\n",
    "    \"because if the question is asked elsewhere it wouldn't be provided specific context. Replace these terms \"\n",
    "    \"with specific details.\\n\\n\"\n",
    "    \"Generate the questions below:\\n\"\n",
    ")\n",
    "\n",
    "with open(\"data_finetuning/qa_pairs.jsonl\", \"w\") as fp:\n",
    "    for idx, node in enumerate(nodes_subset):\n",
    "        dataset_generator = DatasetGenerator(\n",
    "            [node],\n",
    "            question_gen_query=question_gen_query,\n",
    "            service_context=gpt_4_context,\n",
    "            # metadata_mode=\"all\", # TODO: this argument does NOT exist, I have to use a newer version of LlamaIndex\n",
    "        )\n",
    "        node_questions_0 = dataset_generator.generate_questions_from_nodes(num=10)\n",
    "        print(f\"[Node {idx}] Generated questions:\\n {node_questions_0}\")\n",
    "        # for each question, get a response\n",
    "        for question in tqdm(node_questions_0):\n",
    "        # for question in node_questions_0:\n",
    "            index = SummaryIndex([node], service_context=gpt_35_context)\n",
    "            query_engine = index.as_query_engine()\n",
    "            response = query_engine.query(question)\n",
    "            out_dict = {\"query\": question, \"response\": str(response)}\n",
    "            # print(f\"[Node {idx}] Outputs: {out_dict}\")\n",
    "            fp.write(json.dumps(out_dict) + \"\\n\")\n",
    "\n",
    "# fp = open(\"data_finetuning/qa_pairs.jsonl\", \"w\")\n",
    "# for idx, node in enumerate(nodes):\n",
    "#     dataset_generator = DatasetGenerator(\n",
    "#         [node],\n",
    "#         question_gen_query=question_gen_query,\n",
    "#         service_context=gpt_4_context,\n",
    "#         metadata_mode=\"all\",\n",
    "#     )\n",
    "#     node_questions_0 = dataset_generator.generate_questions_from_nodes(num=10)\n",
    "#     print(f\"[Node {idx}] Generated questions:\\n {node_questions_0}\")\n",
    "#     # for each question, get a response\n",
    "#     for question in tqdm(node_questions_0):\n",
    "#         index = SummaryIndex([node], service_context=gpt_35_context)\n",
    "#         query_engine = index.as_query_engine()\n",
    "#         response = query_engine.query(question)\n",
    "#         out_dict = {\"query\": question, \"response\": str(response)}\n",
    "#         print(f\"[Node {idx}] Outputs: {out_dict}\")\n",
    "#         fp.write(json.dumps(out_dict) + \"\\n\")\n",
    "# \n",
    "# fp.close()"
   ]
  },
  {
   "cell_type": "markdown",
   "metadata": {},
   "source": [
    "# Evaluate questions"
   ]
  },
  {
   "cell_type": "code",
   "execution_count": 18,
   "metadata": {},
   "outputs": [],
   "source": [
    "query_eval_tmpl = PromptTemplate(\n",
    "    \"Your task is to evaluate the following: If the response for the query isn't able to answer the question provided.\\n\"\n",
    "    \"If query isn't able to answer the question, answer NO.\\n\"\n",
    "    \"Otherwise answer YES.\\n\"\n",
    "    \"To elaborate, you might get an answer like the following: 'The context does not contain the answer to this question.'\"\n",
    "    \"Please return NO in that case. \"\n",
    "    \"You be given the query and response. Return YES or NO as the answer.\\n\"\n",
    "    \"Query: \\n {query_str}\\n\"\n",
    "    \"Response: \\n {response_str}\\n\"\n",
    "    \"Answer: \"\n",
    ")\n",
    "\n",
    "eval_llm = OpenAI(model=\"gpt-4-0613\")"
   ]
  },
  {
   "cell_type": "code",
   "execution_count": 19,
   "metadata": {},
   "outputs": [],
   "source": [
    "def filter_data(path: str, out_path: str):\n",
    "    fp = open(path, \"r\")\n",
    "    out_fp = open(out_path, \"w\")\n",
    "    # new_lines = []\n",
    "    for idx, line in enumerate(fp):\n",
    "        qa_pair = json.loads(line)\n",
    "        eval = eval_llm.complete(\n",
    "            query_eval_tmpl.format(\n",
    "                query_str=qa_pair[\"query\"], response_str=qa_pair[\"response\"]\n",
    "            )\n",
    "        )\n",
    "\n",
    "        # print(f\"[{idx}] QA Pair: {qa_pair} \\n Eval: {eval}\")\n",
    "        if \"NO\" in eval:\n",
    "            continue\n",
    "        else:\n",
    "            # new_lines.append(line)\n",
    "            out_fp.write(line)\n",
    "    \n",
    "    fp.close()\n",
    "    out_fp.close()"
   ]
  },
  {
   "cell_type": "code",
   "execution_count": 21,
   "metadata": {},
   "outputs": [
    {
     "name": "stdout",
     "output_type": "stream",
     "text": [
      "[0] QA Pair: {'query': 'What is the purpose of the Kinderzuschlag as mentioned in the document from Familienkasse?', 'response': 'The purpose of the Kinderzuschlag mentioned in the document from Familienkasse is to provide an additional financial support to families with low income, in addition to the regular child benefit.'} \n",
      " Eval: YES\n",
      "[1] QA Pair: {'query': 'Who is the intended beneficiary of the Kinderzuschlag according to the information in the ba146349.pdf file?', 'response': 'The intended beneficiary of the Kinderzuschlag according to the information in the ba146349.pdf file is families with low income.'} \n",
      " Eval: YES\n",
      "[2] QA Pair: {'query': 'What are the different factors that can affect the amount of Kinderzuschlag a family can receive, according to the document?', 'response': 'The document mentions that the amount of Kinderzuschlag a family can receive can be affected by factors such as the income and assets of both the child and the parents.'} \n",
      " Eval: YES\n",
      "[3] QA Pair: {'query': 'What are the necessary steps one must take to receive Kinderzuschlag, as outlined in the document?', 'response': 'To receive Kinderzuschlag, one must take the following necessary steps as outlined in the document:\\n\\n1. Determine if you are eligible for Kinderzuschlag based on the criteria outlined in section 1.\\n2. Calculate and assess your income and assets, both for the child and the parents, as explained in section 2.\\n3. Consider what income and assets should be taken into account, as described in section 3.\\n4. Understand the duration and assessment period for receiving Kinderzuschlag, as explained in section 4.\\n5. Ensure that the Kinderzuschlag is paid to the appropriate recipient, as outlined in section 5.\\n6. Follow the necessary procedures and requirements to apply for Kinderzuschlag, as detailed in section 6.\\n7. Inform the Familienkasse (Family Benefits Office) of any relevant changes or updates, as stated in section 7.\\n8. Take advantage of additional benefits such as cost-free KiTa (childcare) and educational support, as mentioned in section 8.'} \n",
      " Eval: YES\n",
      "[4] QA Pair: {'query': 'What are the conditions under which parents can receive the Kinderzuschlag, according to the German social security system?', 'response': 'Parents can receive the Kinderzuschlag if they earn enough for themselves but their income is not sufficient for their entire family. Additionally, if the housing costs are particularly high or there are multiple children in the household, a reduced Kinderzuschlag can be received even in middle-income ranges.'} \n",
      " Eval: YES\n",
      "[5] QA Pair: {'query': 'What additional benefits are available to those who receive the Kinderzuschlag?', 'response': 'Those who receive the Kinderzuschlag are also eligible for additional benefits such as educational and participation benefits, including free meals in daycare and school, a school supplies package worth 150 euros per school year, and exemption from daycare fees.'} \n",
      " Eval: YES\n"
     ]
    }
   ],
   "source": [
    "filter_data(\"data_finetuning/qa_pairs.jsonl\", \"data_finetuning/qa_pairs_filtered.jsonl\")"
   ]
  },
  {
   "cell_type": "markdown",
   "metadata": {},
   "source": [
    "# Split Train and Validation Sets"
   ]
  },
  {
   "cell_type": "code",
   "execution_count": 22,
   "metadata": {},
   "outputs": [],
   "source": [
    "from copy import deepcopy\n",
    "import random\n",
    "\n",
    "\n",
    "def split_train_val(path: str, out_train_path: str, out_val_path: str, train_split=0.7):\n",
    "    with open(path, \"r\") as fp:\n",
    "        lines = fp.readlines()\n",
    "\n",
    "        # shuffle the lines to make sure that the \"train questions\" cover most fo the context\n",
    "        shuffled_lines = deepcopy(lines)\n",
    "        random.shuffle(shuffled_lines)\n",
    "\n",
    "        split_idx = int(train_split * len(shuffled_lines))\n",
    "        train_lines = shuffled_lines[:split_idx]\n",
    "        val_lines = shuffled_lines[split_idx:]\n",
    "        with open(out_train_path, \"w\") as out_fp:\n",
    "            out_fp.write(\"\".join(train_lines))\n",
    "\n",
    "        with open(out_val_path, \"w\") as out_fp:\n",
    "            out_fp.write(\"\".join(val_lines))"
   ]
  },
  {
   "cell_type": "code",
   "execution_count": 23,
   "metadata": {},
   "outputs": [],
   "source": [
    "split_train_val(\n",
    "    path=\"data_finetuning/qa_pairs_filtered.jsonl\",\n",
    "    out_train_path=\"data_finetuning/qa_pairs_train.jsonl\",\n",
    "    out_val_path=\"data_finetuning/qa_pairs_val.jsonl\",\n",
    "    train_split=0.7\n",
    ")"
   ]
  },
  {
   "cell_type": "markdown",
   "metadata": {},
   "source": [
    "# Format into Training Data"
   ]
  },
  {
   "cell_type": "code",
   "execution_count": 31,
   "metadata": {},
   "outputs": [],
   "source": [
    "fp = open(\"data_finetuning/qa_pairs_train.jsonl\", \"r\")\n",
    "out_fp = open(\"data_finetuning/qa_pairs_openai.jsonl\", \"w\")\n",
    "\n",
    "# TODO: try with different system prompts\n",
    "system_prompt = {\n",
    "    \"role\": \"system\",\n",
    "    # \"content\": \"You are a helpful assistant helping to answer questions about the Llama 2 paper.\",\n",
    "    \"content\": (\n",
    "        \"You are an expert on the German administration system and your job is to answer technical questions. \"\n",
    "        \"Assume that all questions are related to the the provided context. \"\n",
    "        \"Keep your answers based on facts, do not hallucinate information.\"\n",
    "    )\n",
    "}\n",
    "\n",
    "for line in fp:\n",
    "    qa_pair = json.loads(line)\n",
    "    user_prompt = {\"role\": \"user\", \"content\": qa_pair[\"query\"]}\n",
    "    assistant_prompt = {\"role\": \"assistant\", \"content\": qa_pair[\"response\"]}\n",
    "    out_dict = {\n",
    "        \"messages\": [system_prompt, user_prompt, assistant_prompt],\n",
    "    }\n",
    "    out_fp.write(json.dumps(out_dict) + \"\\n\")\n",
    "\n",
    "\n",
    "fp.close()\n",
    "out_fp.close()"
   ]
  },
  {
   "cell_type": "markdown",
   "metadata": {},
   "source": [
    "# Fine-tune the Model"
   ]
  },
  {
   "cell_type": "code",
   "execution_count": 39,
   "metadata": {},
   "outputs": [],
   "source": [
    "finetune_engine = OpenAIFinetuneEngine(\n",
    "    \"gpt-3.5-turbo\",\n",
    "    \"data_finetuning/qa_pairs_openai.jsonl\",\n",
    "    # start_job_id=\"<start-job-id>\"  # if you have an existing job, can specify id here\n",
    ")"
   ]
  },
  {
   "cell_type": "code",
   "execution_count": 35,
   "metadata": {},
   "outputs": [
    {
     "name": "stdout",
     "output_type": "stream",
     "text": [
      "Num examples: 4\n",
      "First example:\n",
      "{'role': 'system', 'content': 'You are an expert on the German administration system and your job is to answer technical questions. Assume that all questions are related to the the provided context. Keep your answers based on facts, do not hallucinate information.'}\n",
      "{'role': 'user', 'content': 'What are the different factors that can affect the amount of Kinderzuschlag a family can receive, according to the document?'}\n",
      "{'role': 'assistant', 'content': 'The document mentions that the amount of Kinderzuschlag a family can receive can be affected by factors such as the income and assets of both the child and the parents.'}\n",
      "No errors found\n",
      "Num examples missing system message: 0\n",
      "Num examples missing user message: 0\n",
      "\n",
      "#### Distribution of num_messages_per_example:\n",
      "min / max: 3, 3\n",
      "mean / median: 3.0, 3.0\n",
      "p5 / p95: 3.0, 3.0\n",
      "\n",
      "#### Distribution of num_total_tokens_per_example:\n",
      "min / max: 117, 289\n",
      "mean / median: 165.5, 128.0\n",
      "p5 / p95: 117.0, 244.00000000000003\n",
      "\n",
      "#### Distribution of num_assistant_tokens_per_example:\n",
      "min / max: 34, 210\n",
      "mean / median: 85.0, 48.0\n",
      "p5 / p95: 35.2, 164.40000000000003\n",
      "\n",
      "0 examples may be over the 4096 token limit, they will be truncated during fine-tuning\n",
      "Dataset has ~662 tokens that will be charged for during training\n",
      "By default, you'll train for 25 epochs on this dataset\n",
      "By default, you'll be charged for ~16550 tokens\n",
      "As of Augest 22, 2023, fine-tuning gpt-3.5-turbo is $0.008 / 1K Tokens.\n",
      "This means your total cost for training will be $0.005296 per epoch.\n",
      "Waiting for file to be ready...\n",
      "Waiting for file to be ready...\n",
      "Waiting for file to be ready...\n",
      "Waiting for file to be ready...\n",
      "Waiting for file to be ready...\n"
     ]
    },
    {
     "ename": "KeyboardInterrupt",
     "evalue": "",
     "output_type": "error",
     "traceback": [
      "\u001b[0;31m---------------------------------------------------------------------------\u001b[0m",
      "\u001b[0;31mInvalidRequestError\u001b[0m                       Traceback (most recent call last)",
      "File \u001b[0;32m~/Desktop/Projects/bureaubot/.venv_bureaubot/lib/python3.10/site-packages/llama_index/finetuning/openai/base.py:73\u001b[0m, in \u001b[0;36mOpenAIFinetuneEngine.finetune\u001b[0;34m(self)\u001b[0m\n\u001b[1;32m     72\u001b[0m \u001b[39mtry\u001b[39;00m:\n\u001b[0;32m---> 73\u001b[0m     job_output \u001b[39m=\u001b[39m openai\u001b[39m.\u001b[39;49mFineTuningJob\u001b[39m.\u001b[39;49mcreate(\n\u001b[1;32m     74\u001b[0m         training_file\u001b[39m=\u001b[39;49moutput[\u001b[39m\"\u001b[39;49m\u001b[39mid\u001b[39;49m\u001b[39m\"\u001b[39;49m], model\u001b[39m=\u001b[39;49m\u001b[39mself\u001b[39;49m\u001b[39m.\u001b[39;49mbase_model\n\u001b[1;32m     75\u001b[0m     )\n\u001b[1;32m     76\u001b[0m     \u001b[39mself\u001b[39m\u001b[39m.\u001b[39m_start_job \u001b[39m=\u001b[39m job_output\n",
      "File \u001b[0;32m~/Desktop/Projects/bureaubot/.venv_bureaubot/lib/python3.10/site-packages/openai/api_resources/abstract/createable_api_resource.py:57\u001b[0m, in \u001b[0;36mCreateableAPIResource.create\u001b[0;34m(cls, api_key, api_base, api_type, request_id, api_version, organization, **params)\u001b[0m\n\u001b[1;32m     49\u001b[0m requestor, url \u001b[39m=\u001b[39m \u001b[39mcls\u001b[39m\u001b[39m.\u001b[39m__prepare_create_requestor(\n\u001b[1;32m     50\u001b[0m     api_key,\n\u001b[1;32m     51\u001b[0m     api_base,\n\u001b[0;32m   (...)\u001b[0m\n\u001b[1;32m     54\u001b[0m     organization,\n\u001b[1;32m     55\u001b[0m )\n\u001b[0;32m---> 57\u001b[0m response, _, api_key \u001b[39m=\u001b[39m requestor\u001b[39m.\u001b[39;49mrequest(\n\u001b[1;32m     58\u001b[0m     \u001b[39m\"\u001b[39;49m\u001b[39mpost\u001b[39;49m\u001b[39m\"\u001b[39;49m, url, params, request_id\u001b[39m=\u001b[39;49mrequest_id\n\u001b[1;32m     59\u001b[0m )\n\u001b[1;32m     61\u001b[0m \u001b[39mreturn\u001b[39;00m util\u001b[39m.\u001b[39mconvert_to_openai_object(\n\u001b[1;32m     62\u001b[0m     response,\n\u001b[1;32m     63\u001b[0m     api_key,\n\u001b[0;32m   (...)\u001b[0m\n\u001b[1;32m     66\u001b[0m     plain_old_data\u001b[39m=\u001b[39m\u001b[39mcls\u001b[39m\u001b[39m.\u001b[39mplain_old_data,\n\u001b[1;32m     67\u001b[0m )\n",
      "File \u001b[0;32m~/Desktop/Projects/bureaubot/.venv_bureaubot/lib/python3.10/site-packages/openai/api_requestor.py:298\u001b[0m, in \u001b[0;36mAPIRequestor.request\u001b[0;34m(self, method, url, params, headers, files, stream, request_id, request_timeout)\u001b[0m\n\u001b[1;32m    288\u001b[0m result \u001b[39m=\u001b[39m \u001b[39mself\u001b[39m\u001b[39m.\u001b[39mrequest_raw(\n\u001b[1;32m    289\u001b[0m     method\u001b[39m.\u001b[39mlower(),\n\u001b[1;32m    290\u001b[0m     url,\n\u001b[0;32m   (...)\u001b[0m\n\u001b[1;32m    296\u001b[0m     request_timeout\u001b[39m=\u001b[39mrequest_timeout,\n\u001b[1;32m    297\u001b[0m )\n\u001b[0;32m--> 298\u001b[0m resp, got_stream \u001b[39m=\u001b[39m \u001b[39mself\u001b[39;49m\u001b[39m.\u001b[39;49m_interpret_response(result, stream)\n\u001b[1;32m    299\u001b[0m \u001b[39mreturn\u001b[39;00m resp, got_stream, \u001b[39mself\u001b[39m\u001b[39m.\u001b[39mapi_key\n",
      "File \u001b[0;32m~/Desktop/Projects/bureaubot/.venv_bureaubot/lib/python3.10/site-packages/openai/api_requestor.py:700\u001b[0m, in \u001b[0;36mAPIRequestor._interpret_response\u001b[0;34m(self, result, stream)\u001b[0m\n\u001b[1;32m    698\u001b[0m \u001b[39melse\u001b[39;00m:\n\u001b[1;32m    699\u001b[0m     \u001b[39mreturn\u001b[39;00m (\n\u001b[0;32m--> 700\u001b[0m         \u001b[39mself\u001b[39;49m\u001b[39m.\u001b[39;49m_interpret_response_line(\n\u001b[1;32m    701\u001b[0m             result\u001b[39m.\u001b[39;49mcontent\u001b[39m.\u001b[39;49mdecode(\u001b[39m\"\u001b[39;49m\u001b[39mutf-8\u001b[39;49m\u001b[39m\"\u001b[39;49m),\n\u001b[1;32m    702\u001b[0m             result\u001b[39m.\u001b[39;49mstatus_code,\n\u001b[1;32m    703\u001b[0m             result\u001b[39m.\u001b[39;49mheaders,\n\u001b[1;32m    704\u001b[0m             stream\u001b[39m=\u001b[39;49m\u001b[39mFalse\u001b[39;49;00m,\n\u001b[1;32m    705\u001b[0m         ),\n\u001b[1;32m    706\u001b[0m         \u001b[39mFalse\u001b[39;00m,\n\u001b[1;32m    707\u001b[0m     )\n",
      "File \u001b[0;32m~/Desktop/Projects/bureaubot/.venv_bureaubot/lib/python3.10/site-packages/openai/api_requestor.py:765\u001b[0m, in \u001b[0;36mAPIRequestor._interpret_response_line\u001b[0;34m(self, rbody, rcode, rheaders, stream)\u001b[0m\n\u001b[1;32m    764\u001b[0m \u001b[39mif\u001b[39;00m stream_error \u001b[39mor\u001b[39;00m \u001b[39mnot\u001b[39;00m \u001b[39m200\u001b[39m \u001b[39m<\u001b[39m\u001b[39m=\u001b[39m rcode \u001b[39m<\u001b[39m \u001b[39m300\u001b[39m:\n\u001b[0;32m--> 765\u001b[0m     \u001b[39mraise\u001b[39;00m \u001b[39mself\u001b[39m\u001b[39m.\u001b[39mhandle_error_response(\n\u001b[1;32m    766\u001b[0m         rbody, rcode, resp\u001b[39m.\u001b[39mdata, rheaders, stream_error\u001b[39m=\u001b[39mstream_error\n\u001b[1;32m    767\u001b[0m     )\n\u001b[1;32m    768\u001b[0m \u001b[39mreturn\u001b[39;00m resp\n",
      "\u001b[0;31mInvalidRequestError\u001b[0m: file-4xW4IWTsEqlsprFk6P8ISlD9 has 4 example(s), but must have at least 10 examples",
      "\nDuring handling of the above exception, another exception occurred:\n",
      "\u001b[0;31mKeyboardInterrupt\u001b[0m                         Traceback (most recent call last)",
      "\u001b[1;32m/home/daniele/Desktop/Projects/bureaubot/finetuning.ipynb Cell 25\u001b[0m line \u001b[0;36m1\n\u001b[0;32m----> <a href='vscode-notebook-cell:/home/daniele/Desktop/Projects/bureaubot/finetuning.ipynb#X40sZmlsZQ%3D%3D?line=0'>1</a>\u001b[0m finetune_engine\u001b[39m.\u001b[39;49mfinetune()\n",
      "File \u001b[0;32m~/Desktop/Projects/bureaubot/.venv_bureaubot/lib/python3.10/site-packages/llama_index/finetuning/openai/base.py:80\u001b[0m, in \u001b[0;36mOpenAIFinetuneEngine.finetune\u001b[0;34m(self)\u001b[0m\n\u001b[1;32m     78\u001b[0m     \u001b[39mexcept\u001b[39;00m openai\u001b[39m.\u001b[39merror\u001b[39m.\u001b[39mInvalidRequestError:\n\u001b[1;32m     79\u001b[0m         \u001b[39mprint\u001b[39m(\u001b[39m\"\u001b[39m\u001b[39mWaiting for file to be ready...\u001b[39m\u001b[39m\"\u001b[39m)\n\u001b[0;32m---> 80\u001b[0m         time\u001b[39m.\u001b[39;49msleep(\u001b[39m60\u001b[39;49m)\n\u001b[1;32m     81\u001b[0m info_str \u001b[39m=\u001b[39m (\n\u001b[1;32m     82\u001b[0m     \u001b[39mf\u001b[39m\u001b[39m\"\u001b[39m\u001b[39mTraining job \u001b[39m\u001b[39m{\u001b[39;00moutput[\u001b[39m'\u001b[39m\u001b[39mid\u001b[39m\u001b[39m'\u001b[39m]\u001b[39m}\u001b[39;00m\u001b[39m launched. \u001b[39m\u001b[39m\"\u001b[39m\n\u001b[1;32m     83\u001b[0m     \u001b[39m\"\u001b[39m\u001b[39mYou will be emailed when it\u001b[39m\u001b[39m'\u001b[39m\u001b[39ms complete.\u001b[39m\u001b[39m\"\u001b[39m\n\u001b[1;32m     84\u001b[0m )\n\u001b[1;32m     85\u001b[0m logger\u001b[39m.\u001b[39minfo(info_str)\n",
      "\u001b[0;31mKeyboardInterrupt\u001b[0m: "
     ]
    }
   ],
   "source": [
    "finetune_engine.finetune()"
   ]
  },
  {
   "cell_type": "code",
   "execution_count": null,
   "metadata": {},
   "outputs": [],
   "source": [
    "finetune_engine.get_current_job()"
   ]
  }
 ],
 "metadata": {
  "kernelspec": {
   "display_name": ".venv_bureaubot",
   "language": "python",
   "name": "python3"
  },
  "language_info": {
   "codemirror_mode": {
    "name": "ipython",
    "version": 3
   },
   "file_extension": ".py",
   "mimetype": "text/x-python",
   "name": "python",
   "nbconvert_exporter": "python",
   "pygments_lexer": "ipython3",
   "version": "3.10.12"
  },
  "orig_nbformat": 4
 },
 "nbformat": 4,
 "nbformat_minor": 2
}
