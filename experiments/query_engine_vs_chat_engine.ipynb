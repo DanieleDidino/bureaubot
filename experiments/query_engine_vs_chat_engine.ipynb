{
 "cells": [
  {
   "cell_type": "code",
   "execution_count": 1,
   "metadata": {},
   "outputs": [],
   "source": [
    "from llama_index import LLMPredictor, ServiceContext\n",
    "# from llama_index import VectorStoreIndex\n",
    "# from llama_index import SimpleDirectoryReader\n",
    "from llama_index import Prompt\n",
    "from llama_index import PromptHelper\n",
    "from llama_index import StorageContext, load_index_from_storage\n",
    "from llama_index.evaluation import ResponseEvaluator\n",
    "from llama_index.llms import OpenAI\n",
    "from llama_index.indices.postprocessor import SimilarityPostprocessor\n",
    "from llama_index.indices.query.query_transform import HyDEQueryTransform\n",
    "from llama_index.query_engine.transform_query_engine import TransformQueryEngine\n",
    "from langchain.chat_models import ChatOpenAI\n",
    "from IPython.display import Markdown, display\n",
    "\n",
    "import environ\n",
    "import openai"
   ]
  },
  {
   "cell_type": "code",
   "execution_count": 2,
   "metadata": {},
   "outputs": [
    {
     "name": "stderr",
     "output_type": "stream",
     "text": [
      "/home/daniele/Desktop/Projects/bureaubot/.venv_bureaubot/lib/python3.10/site-packages/environ/environ.py:639: UserWarning: /tmp/ipykernel_20332/.env doesn't exist - if you're not configuring your environment separately, create one.\n",
      "  warnings.warn(\n"
     ]
    }
   ],
   "source": [
    "# For now I use my key\n",
    "env = environ.Env()\n",
    "environ.Env.read_env()\n",
    "API_KEY = env(\"OPENAI_API_KEY\")\n",
    "openai.api_key = API_KEY"
   ]
  },
  {
   "cell_type": "markdown",
   "metadata": {},
   "source": [
    "# LLM"
   ]
  },
  {
   "cell_type": "code",
   "execution_count": 3,
   "metadata": {},
   "outputs": [],
   "source": [
    "system_prompt = (\n",
    "    \"\"\"\n",
    "    You are an expert in the German administration system and your job is to answer technical questions.\n",
    "    Assume that all questions are related to the the provided context.\n",
    "    Keep your answers based on facts, do not hallucinate information.\n",
    "    \"\"\"\n",
    ")\n",
    "\n",
    "selected_llm = OpenAI(\n",
    "    temperature=0,\n",
    "    model_name=\"gpt-3.5-turbo\",\n",
    "    system_prompt=system_prompt\n",
    ")"
   ]
  },
  {
   "cell_type": "markdown",
   "metadata": {},
   "source": [
    "# Load vector store"
   ]
  },
  {
   "cell_type": "code",
   "execution_count": 4,
   "metadata": {},
   "outputs": [],
   "source": [
    "embedding_path = \"vector_db\"\n",
    "# rebuild storage context\n",
    "storage_context_from_load = StorageContext.from_defaults(persist_dir=embedding_path)\n",
    "# load index\n",
    "index_loaded = load_index_from_storage(storage_context_from_load)"
   ]
  },
  {
   "cell_type": "markdown",
   "metadata": {},
   "source": [
    "# Functions"
   ]
  },
  {
   "cell_type": "code",
   "execution_count": 5,
   "metadata": {},
   "outputs": [],
   "source": [
    "def print_response_info(user_query, response):\n",
    "    print(f\"Prompt:\\n{user_query}\")\n",
    "    display(Markdown(f\"Response:<br/>{response.response}\"))\n",
    "    print(f\"Sources:\")\n",
    "    for node in response.source_nodes:\n",
    "        print(f'Page: {node.node.metadata[\"page_label\"]}, Document: {node.node.metadata[\"file_name\"]}, Cosine Similarity: {node.score:.2f}')"
   ]
  },
  {
   "cell_type": "markdown",
   "metadata": {},
   "source": [
    "# Define query and prompt template, folders and top_k"
   ]
  },
  {
   "cell_type": "code",
   "execution_count": 6,
   "metadata": {},
   "outputs": [],
   "source": [
    "# user_query = \"Is the number of children taken into account to calculate the unemployment benefit?\"\n",
    "user_query = \"How can I calculate how much money I will get as unemployment benefit?\"\n",
    "# user_query = \"What do you know about the city of Berlin?\" # check for generic responses from GPT knowledge base\n",
    "# user_query = \"Wann muss ich mich melden wenn ich Arbeitslosengeld beantragen will?\"\n",
    "\n",
    "# Define prompt\n",
    "template = (\n",
    "    \"We have provided context information below. \\n\"\n",
    "    \"---------------------\\n\"\n",
    "    \"{context_str}\"\n",
    "    \"\\n---------------------\\n\"\n",
    "    \"Do not give me an answer if it is not mentioned in the context as a fact. \\n\"\n",
    "    \"Given this information, please provide me with an answer to the following question:\\n{query_str}\\n\"\n",
    ")\n",
    "qa_template = Prompt(template)\n",
    "\n",
    "folder_with_index = \"vector_db\"\n",
    "number_top_results = 5 # Number of top results to return"
   ]
  },
  {
   "cell_type": "markdown",
   "metadata": {},
   "source": [
    "# Query Engine"
   ]
  },
  {
   "cell_type": "markdown",
   "metadata": {},
   "source": [
    "## Simple query engine"
   ]
  },
  {
   "cell_type": "code",
   "execution_count": 7,
   "metadata": {},
   "outputs": [
    {
     "name": "stdout",
     "output_type": "stream",
     "text": [
      "Prompt:\n",
      "How can I calculate how much money I will get as unemployment benefit?\n"
     ]
    },
    {
     "data": {
      "text/markdown": [
       "Response:<br/>To calculate how much money you will receive as unemployment benefit, you need to consider the following factors:\n",
       "\n",
       "1. Bemessungsentgelt: The amount of unemployment benefit is based on your average income in the last year before becoming unemployed. This is known as the \"Bemessungsentgelt.\"\n",
       "\n",
       "2. Lohnsteuerklasse: Your tax class also affects the calculation of unemployment benefit. The daily benefit rate is determined based on a standardized net income, taking into account the social security lump sum (20% of the Bemessungsentgelt), solidarity surcharge, and income tax, considering the tax class.\n",
       "\n",
       "3. Number of children: If you have at least one child, the unemployment benefit amount may be increased to 67% of the standardized net income.\n",
       "\n",
       "4. Other factors: There may be additional considerations or special regulations depending on your specific circumstances, such as reduced working hours due to childcare or caring for a family member.\n",
       "\n",
       "To get an estimate of your unemployment benefit amount, you can use the self-calculation program provided by the employment agency. You can access this program on the website www.arbeitsagentur.de.\n",
       "\n",
       "It's important to note that the specific calculation and final determination of your unemployment benefit will be provided in the approval notice from your employment agency, which will include the relevant calculation details."
      ],
      "text/plain": [
       "<IPython.core.display.Markdown object>"
      ]
     },
     "metadata": {},
     "output_type": "display_data"
    },
    {
     "name": "stdout",
     "output_type": "stream",
     "text": [
      "Sources:\n",
      "Page: 9, Document: merkblatt-nebeneinkommen_ba015792.pdf, Cosine Similarity: 0.82\n",
      "Page: 37, Document: merkblatt-fuer-arbeitslose_ba036520.pdf, Cosine Similarity: 0.82\n",
      "Page: 5, Document: merkblatt-nebeneinkommen_ba015792.pdf, Cosine Similarity: 0.81\n",
      "Page: 43, Document: merkblatt-fuer-arbeitslose_ba036520.pdf, Cosine Similarity: 0.81\n",
      "Page: 23, Document: dok_ba015377.pdf, Cosine Similarity: 0.81\n"
     ]
    }
   ],
   "source": [
    "query_engine_baseline = index_loaded.as_query_engine(text_qa_template=qa_template, similarity_top_k=number_top_results)\n",
    "response_baseline = query_engine_baseline.query(user_query)\n",
    "\n",
    "print_response_info(user_query, response_baseline)"
   ]
  },
  {
   "cell_type": "code",
   "execution_count": 8,
   "metadata": {},
   "outputs": [
    {
     "name": "stdout",
     "output_type": "stream",
     "text": [
      "{'page_label': '9', 'file_name': 'merkblatt-nebeneinkommen_ba015792.pdf'}\n",
      "{'page_label': '37', 'file_name': 'merkblatt-fuer-arbeitslose_ba036520.pdf'}\n",
      "{'page_label': '5', 'file_name': 'merkblatt-nebeneinkommen_ba015792.pdf'}\n",
      "{'page_label': '43', 'file_name': 'merkblatt-fuer-arbeitslose_ba036520.pdf'}\n",
      "{'page_label': '23', 'file_name': 'dok_ba015377.pdf'}\n"
     ]
    }
   ],
   "source": [
    "for uwdfujsn in response_baseline.source_nodes:\n",
    "    print(uwdfujsn.node.metadata)"
   ]
  },
  {
   "cell_type": "code",
   "execution_count": 9,
   "metadata": {},
   "outputs": [],
   "source": [
    "response_text = response_baseline.response\n",
    "response_metadata = dict()\n",
    "response_metadata_message = f'There {len(response_baseline.metadata)} sources:'\n",
    "for i, meta_data in enumerate(response_baseline.metadata):\n",
    "    key_name = \"ref_\" + str(i)\n",
    "    response_metadata[key_name] = {\n",
    "        \"page\": response_baseline.metadata[meta_data][\"page_label\"],\n",
    "        \"document\":response_baseline.metadata[meta_data][\"file_name\"]\n",
    "    }\n",
    "    response_metadata_message += \"\\n---\" + key_name + f'Page {response_baseline.metadata[meta_data][\"page_label\"]} from file {response_baseline.metadata[meta_data][\"file_name\"]}'"
   ]
  },
  {
   "cell_type": "code",
   "execution_count": 10,
   "metadata": {},
   "outputs": [],
   "source": [
    "# response_baseline"
   ]
  },
  {
   "cell_type": "code",
   "execution_count": 11,
   "metadata": {},
   "outputs": [
    {
     "data": {
      "text/plain": [
       "{'ref_0': {'page': '9', 'document': 'merkblatt-nebeneinkommen_ba015792.pdf'},\n",
       " 'ref_1': {'page': '37',\n",
       "  'document': 'merkblatt-fuer-arbeitslose_ba036520.pdf'},\n",
       " 'ref_2': {'page': '5', 'document': 'merkblatt-nebeneinkommen_ba015792.pdf'},\n",
       " 'ref_3': {'page': '43',\n",
       "  'document': 'merkblatt-fuer-arbeitslose_ba036520.pdf'},\n",
       " 'ref_4': {'page': '23', 'document': 'dok_ba015377.pdf'}}"
      ]
     },
     "execution_count": 11,
     "metadata": {},
     "output_type": "execute_result"
    }
   ],
   "source": [
    "response_metadata"
   ]
  },
  {
   "cell_type": "code",
   "execution_count": 12,
   "metadata": {},
   "outputs": [
    {
     "name": "stdout",
     "output_type": "stream",
     "text": [
      "There 5 sources:\n",
      "---ref_0Page 9 from file merkblatt-nebeneinkommen_ba015792.pdf\n",
      "---ref_1Page 37 from file merkblatt-fuer-arbeitslose_ba036520.pdf\n",
      "---ref_2Page 5 from file merkblatt-nebeneinkommen_ba015792.pdf\n",
      "---ref_3Page 43 from file merkblatt-fuer-arbeitslose_ba036520.pdf\n",
      "---ref_4Page 23 from file dok_ba015377.pdf\n"
     ]
    }
   ],
   "source": [
    "print(response_metadata_message)"
   ]
  },
  {
   "cell_type": "code",
   "execution_count": 13,
   "metadata": {},
   "outputs": [
    {
     "name": "stdout",
     "output_type": "stream",
     "text": [
      "> Source (Doc id: 26a2e343-6e3f-4259-a610-4b7567ad302f): 9erhalten, werden mit Ihrem Nettobetrag berücksich -\n",
      "tigt und nach Abzug eines Freibetrages von 4...\n",
      "\n",
      "> Source (Doc id: e93526b3-c61a-48ee-9671-db13277ee364): 4. Die Höhe der Leistung\n",
      "384. Die Höhe der Leistung\n",
      "Für die Höhe des Arbeitslosengeldes sind von ...\n",
      "\n",
      "> Source (Doc id: 0fa8296e-e554-44ab-b518-b12e076a1aca): Wie wird Nebeneinkommen \n",
      "angerechnet?\n",
      "Wenn Sie ein monatliches Nebeneinkommen in gleich  \n",
      "bleiben...\n",
      "\n",
      "> Source (Doc id: 94e9bd6f-e3b8-4c10-869b-bc42cfb74683): 4. Die Höhe der Leistung\n",
      "44erster Tag der Arbeitslosigkeit) bereits Arbeitslosen ­\n",
      "geld bezogen, ...\n",
      "\n",
      "> Source (Doc id: d0920db7-26ff-4398-8b30-c5885c17b25a): 233 Finanzen\n",
      "3 Finanzen\n",
      "3.1 Informationen zum Arbeitslosengeld\n",
      "Wenn Sie einen beruflichen Wiedere...\n"
     ]
    }
   ],
   "source": [
    "print(response_baseline.get_formatted_sources())"
   ]
  },
  {
   "cell_type": "markdown",
   "metadata": {},
   "source": [
    "## Cosine Similarity Postprocessor"
   ]
  },
  {
   "cell_type": "code",
   "execution_count": 14,
   "metadata": {},
   "outputs": [
    {
     "name": "stdout",
     "output_type": "stream",
     "text": [
      "Cosine Similarity: 0.8201131049473437\n",
      "Cosine Similarity: 0.815204569991885\n",
      "Cosine Similarity: 0.8108160176859768\n",
      "Cosine Similarity: 0.8086722220407534\n",
      "Cosine Similarity: 0.8081491623074246\n"
     ]
    }
   ],
   "source": [
    "for node in response_baseline.source_nodes:\n",
    "    cosine_similarity = node.score\n",
    "    print(f\"Cosine Similarity: {cosine_similarity}\")"
   ]
  },
  {
   "cell_type": "code",
   "execution_count": 15,
   "metadata": {},
   "outputs": [],
   "source": [
    "postprocessor = SimilarityPostprocessor(similarity_cutoff=0.821)\n",
    "postprocessed_nodes = postprocessor.postprocess_nodes(response_baseline.source_nodes)\n",
    "\n",
    "for node in postprocessed_nodes:\n",
    "    print(f'Page: {node.node.metadata[\"page_label\"]}, Document: {node.node.metadata[\"file_name\"]}, Cosine Similarity: {node.score:.2f}')"
   ]
  },
  {
   "cell_type": "markdown",
   "metadata": {},
   "source": [
    "## SVM & linear regression & logistic regression"
   ]
  },
  {
   "cell_type": "code",
   "execution_count": 16,
   "metadata": {},
   "outputs": [
    {
     "name": "stderr",
     "output_type": "stream",
     "text": [
      "/home/daniele/Desktop/Projects/bureaubot/.venv_bureaubot/lib/python3.10/site-packages/sklearn/svm/_classes.py:32: FutureWarning: The default value of `dual` will change from `True` to `'auto'` in 1.5. Set the value of `dual` explicitly to suppress the warning.\n",
      "  warnings.warn(\n",
      "/home/daniele/Desktop/Projects/bureaubot/.venv_bureaubot/lib/python3.10/site-packages/sklearn/svm/_classes.py:32: FutureWarning: The default value of `dual` will change from `True` to `'auto'` in 1.5. Set the value of `dual` explicitly to suppress the warning.\n",
      "  warnings.warn(\n",
      "/home/daniele/Desktop/Projects/bureaubot/.venv_bureaubot/lib/python3.10/site-packages/sklearn/svm/_classes.py:32: FutureWarning: The default value of `dual` will change from `True` to `'auto'` in 1.5. Set the value of `dual` explicitly to suppress the warning.\n",
      "  warnings.warn(\n"
     ]
    }
   ],
   "source": [
    "query_modes = [\n",
    "    \"svm\",\n",
    "    \"linear_regression\",\n",
    "    \"logistic_regression\",\n",
    "]\n",
    "\n",
    "responses_modes = []\n",
    "\n",
    "for query_mode in query_modes:\n",
    "    query_engine_modes = index_loaded.as_query_engine(\n",
    "        text_qa_template=qa_template,\n",
    "        similarity_top_k=number_top_results,\n",
    "        vector_store_query_mode=query_mode)\n",
    "\n",
    "    response_modes = query_engine_modes.query(user_query)\n",
    "    responses_modes.append(response_modes)"
   ]
  },
  {
   "cell_type": "code",
   "execution_count": 17,
   "metadata": {},
   "outputs": [
    {
     "name": "stdout",
     "output_type": "stream",
     "text": [
      "Query mode: svm\n",
      "\n",
      "Prompt:\n",
      "How can I calculate how much money I will get as unemployment benefit?\n"
     ]
    },
    {
     "data": {
      "text/markdown": [
       "Response:<br/>Based on the provided context information, there are two different scenarios mentioned for calculating the amount of unemployment benefit:\n",
       "\n",
       "1. Nebeneinkommen (Side Income): If you have a monthly side income, the unemployment benefit will be reduced by the amount of the side income minus the exemption amount. The specific calculation can be found in the approval/changes notice (Bewilligungs-/Änderungsbescheid) provided by the employment agency.\n",
       "\n",
       "2. Entlassungsentschädigung (Severance Pay): If you receive severance pay, a certain percentage of the pay will be considered when calculating the suspension period (Ruhenszeitraum) for unemployment benefit. The specific calculation can be found in the table mentioned in section 4.4 of the document.\n",
       "\n",
       "It is important to note that these calculations may vary depending on individual circumstances and the specific regulations of the employment agency. It is recommended to consult with the responsible job center or employment agency for accurate information regarding the calculation of unemployment benefits in your specific situation."
      ],
      "text/plain": [
       "<IPython.core.display.Markdown object>"
      ]
     },
     "metadata": {},
     "output_type": "display_data"
    },
    {
     "name": "stdout",
     "output_type": "stream",
     "text": [
      "Sources:\n",
      "Page: 5, Document: merkblatt-nebeneinkommen_ba015792.pdf, Cosine Similarity: -0.66\n",
      "Page: 9, Document: merkblatt-nebeneinkommen_ba015792.pdf, Cosine Similarity: -0.69\n",
      "Page: 30, Document: merkblatt-17-entschaedigungen_ba015376.pdf, Cosine Similarity: -0.69\n",
      "Page: 29, Document: merkblatt-17-entschaedigungen_ba015376.pdf, Cosine Similarity: -0.70\n",
      "Page: 90, Document: merkblatt-algii_ba015397.pdf, Cosine Similarity: -0.71\n",
      "==========================================================================================\n",
      "Query mode: linear_regression\n",
      "\n",
      "Prompt:\n",
      "How can I calculate how much money I will get as unemployment benefit?\n"
     ]
    },
    {
     "data": {
      "text/markdown": [
       "Response:<br/>Based on the provided context information, there are two different scenarios mentioned for calculating the amount of unemployment benefit:\n",
       "\n",
       "1. Nebeneinkommen (Side Income): If you have a monthly side income, the unemployment benefit will be reduced by the amount of the income minus the exemption amount. The specific calculation can be found in the approval/changes notice provided by the employment agency.\n",
       "\n",
       "2. Entlassungsentschädigung (Severance Pay): If you receive severance pay, a certain percentage of the pay will be considered when calculating the suspension period for unemployment benefits. The specific calculation can be found in the table mentioned in the document.\n",
       "\n",
       "It is important to note that these calculations may vary depending on individual circumstances and the specific regulations of the employment agency. It is recommended to contact the responsible job center for accurate information regarding the calculation of unemployment benefits."
      ],
      "text/plain": [
       "<IPython.core.display.Markdown object>"
      ]
     },
     "metadata": {},
     "output_type": "display_data"
    },
    {
     "name": "stdout",
     "output_type": "stream",
     "text": [
      "Sources:\n",
      "Page: 5, Document: merkblatt-nebeneinkommen_ba015792.pdf, Cosine Similarity: -0.66\n",
      "Page: 9, Document: merkblatt-nebeneinkommen_ba015792.pdf, Cosine Similarity: -0.69\n",
      "Page: 30, Document: merkblatt-17-entschaedigungen_ba015376.pdf, Cosine Similarity: -0.69\n",
      "Page: 29, Document: merkblatt-17-entschaedigungen_ba015376.pdf, Cosine Similarity: -0.70\n",
      "Page: 90, Document: merkblatt-algii_ba015397.pdf, Cosine Similarity: -0.71\n",
      "==========================================================================================\n",
      "Query mode: logistic_regression\n",
      "\n",
      "Prompt:\n",
      "How can I calculate how much money I will get as unemployment benefit?\n"
     ]
    },
    {
     "data": {
      "text/markdown": [
       "Response:<br/>Based on the provided context information, the calculation of unemployment benefits may vary depending on the specific circumstances and regulations in your country or region. It is recommended to consult the relevant government agency or unemployment office for accurate and up-to-date information on how to calculate unemployment benefits in your specific situation. They will be able to provide you with the necessary guidelines and requirements for determining the amount of money you will receive as unemployment benefits."
      ],
      "text/plain": [
       "<IPython.core.display.Markdown object>"
      ]
     },
     "metadata": {},
     "output_type": "display_data"
    },
    {
     "name": "stdout",
     "output_type": "stream",
     "text": [
      "Sources:\n",
      "Page: 5, Document: merkblatt-nebeneinkommen_ba015792.pdf, Cosine Similarity: -0.66\n",
      "Page: 9, Document: merkblatt-nebeneinkommen_ba015792.pdf, Cosine Similarity: -0.69\n",
      "Page: 30, Document: merkblatt-17-entschaedigungen_ba015376.pdf, Cosine Similarity: -0.69\n",
      "Page: 29, Document: merkblatt-17-entschaedigungen_ba015376.pdf, Cosine Similarity: -0.70\n",
      "Page: 90, Document: merkblatt-algii_ba015397.pdf, Cosine Similarity: -0.71\n",
      "==========================================================================================\n"
     ]
    }
   ],
   "source": [
    "for query_mode, r in zip(query_modes, responses_modes):\n",
    "    print(f\"Query mode: {query_mode}\\n\")\n",
    "    print_response_info(user_query, r)\n",
    "    print(\"=\"*90)\n",
    "\n",
    "# Note that with SVM, the score is NOT cosine similarity but it's a score from the decision function from the SVM.\n",
    "# In the decision function, each element represents whether a predicted sample for x (i.e., a chunk of text in the\n",
    "# vector store) by the classifier lies to the right or left side of the Hyperplane and also how far from the Hyperplane.\n",
    "# The smaller is the score (i.e., closer to zero from the negative side because we only have a single positive example,\n",
    "# that is the query), the more similar is the x (i.e., the chunk of text) to the positive example (i.e., query)."
   ]
  },
  {
   "cell_type": "markdown",
   "metadata": {},
   "source": [
    "## Hypothetical document embeddings (HyDE)"
   ]
  },
  {
   "cell_type": "code",
   "execution_count": 18,
   "metadata": {},
   "outputs": [
    {
     "name": "stdout",
     "output_type": "stream",
     "text": [
      "Prompt:\n",
      "How can I calculate how much money I will get as unemployment benefit?\n"
     ]
    },
    {
     "data": {
      "text/markdown": [
       "Response:<br/>To calculate how much money you will receive as unemployment benefit, you need to consider the following factors:\n",
       "\n",
       "1. Bemessungsentgelt (Basis for Calculation): The amount of unemployment benefit is based on your average income during a specific period before becoming unemployed. This is known as the Bemessungsentgelt.\n",
       "\n",
       "2. Leistungssatz (Benefit Rate): The benefit rate is determined based on your personal circumstances, such as whether you have children or not. The standard benefit rate is 60% of the Bemessungsentgelt, but it can increase to 67% if you have at least one child.\n",
       "\n",
       "3. Lohnsteuerklasse (Tax Class): Your tax class also affects the calculation of unemployment benefit. The specific impact depends on the tax class you had at the beginning of the year when the entitlement to benefits arose.\n",
       "\n",
       "4. Anwartschaftszeit (Qualifying Period): To be eligible for unemployment benefit, you must have fulfilled the Anwartschaftszeit, which is the minimum period of employment required.\n",
       "\n",
       "To calculate the exact amount of unemployment benefit, you can use the self-calculation program provided by the employment agency. You can access this program on the website www.arbeitsagentur.de.\n",
       "\n",
       "Please note that the specific calculation may vary depending on your individual circumstances and the regulations of your country. It is recommended to consult with your local job center or employment agency for accurate information regarding your entitlement to unemployment benefits."
      ],
      "text/plain": [
       "<IPython.core.display.Markdown object>"
      ]
     },
     "metadata": {},
     "output_type": "display_data"
    },
    {
     "name": "stdout",
     "output_type": "stream",
     "text": [
      "Sources:\n",
      "Page: 9, Document: merkblatt-nebeneinkommen_ba015792.pdf, Cosine Similarity: 0.84\n",
      "Page: 37, Document: merkblatt-fuer-arbeitslose_ba036520.pdf, Cosine Similarity: 0.84\n",
      "Page: 23, Document: dok_ba015377.pdf, Cosine Similarity: 0.84\n",
      "Page: 43, Document: merkblatt-fuer-arbeitslose_ba036520.pdf, Cosine Similarity: 0.83\n",
      "Page: 39, Document: merkblatt-fuer-arbeitslose_ba036520.pdf, Cosine Similarity: 0.83\n"
     ]
    }
   ],
   "source": [
    "query_engine_hyde = index_loaded.as_query_engine(text_qa_template=qa_template, similarity_top_k=number_top_results)\n",
    "\n",
    "# \"HyDEQueryTransform\" generates a hypothetical document and use it for embedding lookup.\n",
    "hyde = HyDEQueryTransform(include_original=True)\n",
    "hyde_query_engine = TransformQueryEngine(query_engine_hyde, hyde)\n",
    "response_hyde = hyde_query_engine.query(user_query)\n",
    "\n",
    "print_response_info(user_query, response_hyde)"
   ]
  },
  {
   "cell_type": "code",
   "execution_count": 19,
   "metadata": {},
   "outputs": [
    {
     "data": {
      "text/plain": [
       "<llama_index.indices.query.query_transform.base.HyDEQueryTransform at 0x7fe612785f30>"
      ]
     },
     "execution_count": 19,
     "metadata": {},
     "output_type": "execute_result"
    }
   ],
   "source": [
    "hyde"
   ]
  },
  {
   "cell_type": "code",
   "execution_count": 20,
   "metadata": {},
   "outputs": [
    {
     "name": "stdout",
     "output_type": "stream",
     "text": [
      "Prompt:\n",
      "How can I calculate how much money I will get as unemployment benefit?\n",
      "\n",
      "Response:\n"
     ]
    },
    {
     "data": {
      "text/markdown": [
       "To calculate how much money you will receive as unemployment benefits, you need to consider several key factors. Firstly, you should determine your base period, which is typically the first four of the last five completed calendar quarters before you filed your claim. This period is used to calculate your earnings during that time.\n",
       "\n",
       "Next, you need to gather information about your earnings during the base period. This includes wages from all employers you worked for during that time, including part-time and temporary jobs. It's important to note that certain types of income, such as self-employment earnings or income from rental properties, may not be considered for unemployment benefits.\n",
       "\n",
       "Once you have gathered your earnings information, you can calculate your average weekly wage (AWW). To do this, add up your total earnings during the base period and divide it by the number of weeks in that period. This will give you an estimate of your AWW.\n",
       "\n",
       "After determining your AWW, you can then calculate your weekly benefit amount (WBA). This is usually a percentage of your AWW, which varies depending on the state you reside in. Each state has its own formula or table to determine the percentage, so it's important to consult your state's unemployment agency or website for the specific calculation.\n",
       "\n",
       "Additionally, there may be a maximum weekly benefit amount (MBA) set by your state. If your calculated WBA exceeds the MBA, your benefit amount will be capped at the maximum limit.\n",
       "\n",
       "It's important to note that unemployment benefits are subject to federal and state taxes. Depending on your state, taxes may be automatically deducted from your benefit payments, or you may be responsible for reporting and paying taxes on your own.\n",
       "\n",
       "Lastly, keep in mind that unemployment benefits are typically provided for a limited duration, such as 26 weeks. However, during times of economic downturn or other exceptional circumstances, extended benefits may be available.\n",
       "\n",
       "In summary, to calculate your unemployment benefits, determine your base period, gather earnings information, calculate your AWW, determine the percentage for your WBA based on your state's formula or table, consider the MBA if applicable, and be aware of tax obligations. Remember to consult your state's unemployment agency or website for specific guidelines and calculations."
      ],
      "text/plain": [
       "<IPython.core.display.Markdown object>"
      ]
     },
     "metadata": {},
     "output_type": "display_data"
    }
   ],
   "source": [
    "#In this example, HyDE improves output quality significantly, by hallucinating\n",
    "# accurately, and thus improving the embedding quality, and final output.\n",
    "query_bundle = hyde(user_query)\n",
    "hyde_doc = query_bundle.embedding_strs[0]\n",
    "\n",
    "print(f\"Prompt:\\n{user_query}\\n\\nResponse:\")\n",
    "display(Markdown(f\"{hyde_doc}\"))"
   ]
  },
  {
   "cell_type": "code",
   "execution_count": 21,
   "metadata": {},
   "outputs": [
    {
     "name": "stdout",
     "output_type": "stream",
     "text": [
      "Prompt:\n",
      "How can I calculate how much money I will get as unemployment benefit?\n",
      "\n",
      "Response:\n"
     ]
    },
    {
     "data": {
      "text/markdown": [
       "To calculate how much money you will receive as unemployment benefits, there are several key details you need to consider. Firstly, you will need to determine your base period, which is typically the first four out of the last five completed calendar quarters before you filed for unemployment. This period is used to calculate your earnings during that time.\n",
       "\n",
       "Next, you will need to gather information about your earnings during the base period. This includes wages from all employers you worked for during that time, including part-time and temporary jobs. It is important to note that certain types of income, such as self-employment earnings or income from rental properties, may not be considered for unemployment benefit calculations.\n",
       "\n",
       "Once you have gathered your earnings information, you can proceed to calculate your average weekly wage (AWW). This is done by dividing your total earnings during the base period by the number of weeks you worked. It is crucial to accurately report your earnings to ensure an accurate calculation.\n",
       "\n",
       "After determining your AWW, you can then calculate your weekly benefit amount (WBA). This is usually a percentage of your AWW, which varies depending on the state you reside in. Each state has its own formula or table to determine the percentage, so it is essential to consult your state's unemployment agency or website for specific information.\n",
       "\n",
       "Additionally, there may be a maximum weekly benefit amount (MBA) set by your state. If your calculated WBA exceeds the MBA, your benefit amount will be capped at the maximum limit. It is important to be aware of this limit to manage your expectations.\n",
       "\n",
       "Finally, it is crucial to understand that unemployment benefits are subject to federal and state taxes. Depending on your state's regulations, taxes may be automatically deducted from your benefit payments or you may be responsible for reporting and paying taxes on your own.\n",
       "\n",
       "In summary, to calculate your unemployment benefits, you need to determine your base period, gather your earnings information, calculate your average weekly wage, determine the percentage for your weekly benefit amount, consider any maximum weekly benefit amount, and be aware of tax implications. By understanding these key details and consulting your state's unemployment agency, you can accurately estimate how much money you will receive as unemployment benefits."
      ],
      "text/plain": [
       "<IPython.core.display.Markdown object>"
      ]
     },
     "metadata": {},
     "output_type": "display_data"
    }
   ],
   "source": [
    "hyde_2 = HyDEQueryTransform(include_original=True)\n",
    "query_bundle_2 = hyde_2(user_query)\n",
    "hyde_doc_2 = query_bundle_2.embedding_strs[0]\n",
    "\n",
    "print(f\"Prompt:\\n{user_query}\\n\\nResponse:\")\n",
    "display(Markdown(f\"{hyde_doc_2}\"))"
   ]
  },
  {
   "cell_type": "markdown",
   "metadata": {},
   "source": [
    "# Chat Engine"
   ]
  },
  {
   "cell_type": "code",
   "execution_count": 22,
   "metadata": {},
   "outputs": [],
   "source": [
    "# Configure prompt parameters and initialise helper\n",
    "max_input_size = 4096\n",
    "num_output = 256\n",
    "max_chunk_overlap = 0.2\n",
    "prompt_helper = PromptHelper(max_input_size, num_output, max_chunk_overlap)\n",
    "\n",
    "# system_prompt = (\n",
    "#     \"\"\"\n",
    "#     You are an expert on the German administration system and your job is to answer technical questions.\n",
    "#     Assume that all questions are related to the the provided context.\n",
    "#     Keep your answers based on facts, do not hallucinate information.\n",
    "#     \"\"\"\n",
    "# )\n",
    "# \n",
    "# llm= LLMPredictor(llm=OpenAI(\n",
    "#     temperature=0,\n",
    "#     model_name=\"gpt-3.5-turbo\",\n",
    "#     system_prompt=system_prompt\n",
    "# ))\n",
    "llm = LLMPredictor(selected_llm)\n",
    "service_context = ServiceContext.from_defaults(llm_predictor=llm, prompt_helper=prompt_helper)\n",
    "\n",
    "chat_engine = index_loaded.as_chat_engine(\n",
    "    # service_context=service_context,\n",
    "    chat_mode=\"context\",\n",
    "    # verbose=True\n",
    "    similarity_top_k=3\n",
    ")"
   ]
  },
  {
   "cell_type": "code",
   "execution_count": 23,
   "metadata": {},
   "outputs": [],
   "source": [
    "response_chat = chat_engine.chat(user_query)"
   ]
  },
  {
   "cell_type": "code",
   "execution_count": 24,
   "metadata": {},
   "outputs": [],
   "source": [
    "# response_chat"
   ]
  },
  {
   "cell_type": "code",
   "execution_count": 25,
   "metadata": {},
   "outputs": [
    {
     "name": "stdout",
     "output_type": "stream",
     "text": [
      "There 3 sources.\n",
      "Page 9 from file merkblatt-nebeneinkommen_ba015792.pdf\n",
      "Page 37 from file merkblatt-fuer-arbeitslose_ba036520.pdf\n",
      "Page 5 from file merkblatt-nebeneinkommen_ba015792.pdf\n"
     ]
    }
   ],
   "source": [
    "print(f\"There {len(response_chat.source_nodes)} sources.\")\n",
    "for source_node in response_chat.source_nodes:\n",
    "    print(f'Page {source_node.node.metadata[\"page_label\"]} from file {source_node.node.metadata[\"file_name\"]}')"
   ]
  },
  {
   "cell_type": "code",
   "execution_count": 26,
   "metadata": {},
   "outputs": [
    {
     "data": {
      "text/plain": [
       "\"To calculate how much money you will receive as unemployment benefit, you need to consider the following factors:\\n\\n1. Bemessungsentgelt (Basis for Calculation): This is the average gross income you earned in the last year before becoming unemployed. It is used to determine the amount of your benefit.\\n\\n2. Lohnsteuerklasse (Tax Class): Your tax class affects the deductions made from your benefit. Different tax classes have different deduction rates.\\n\\n3. Number of Children: If you have children, they may entitle you to an increased benefit rate.\\n\\nOnce you have these details, you can use the following steps to calculate your unemployment benefit:\\n\\n1. Determine your Bemessungsentgelt: Add up your gross income from the last year and divide it by the number of days you worked during that period.\\n\\n2. Calculate your daily benefit rate: Divide your Bemessungsentgelt by 365 (or 360 if your benefit is paid monthly) to get your daily benefit rate.\\n\\n3. Apply the tax class deduction: Multiply your daily benefit rate by the deduction rate associated with your tax class. This will give you the net daily benefit rate.\\n\\n4. Determine the number of days you will receive benefits: If you will receive benefits for a full calendar month, assume 30 days. If it is a partial month, calculate the exact number of days.\\n\\n5. Multiply the net daily benefit rate by the number of days: Multiply your net daily benefit rate by the number of days you will receive benefits to calculate the total amount you will receive.\\n\\nIt's important to note that these calculations may vary depending on the specific regulations and rules of your country or state. It is recommended to consult with your local unemployment agency or visit their website for accurate and up-to-date information on calculating unemployment benefits.\""
      ]
     },
     "execution_count": 26,
     "metadata": {},
     "output_type": "execute_result"
    }
   ],
   "source": [
    "response_chat.response"
   ]
  },
  {
   "cell_type": "code",
   "execution_count": 27,
   "metadata": {},
   "outputs": [
    {
     "data": {
      "text/plain": [
       "3"
      ]
     },
     "execution_count": 27,
     "metadata": {},
     "output_type": "execute_result"
    }
   ],
   "source": [
    "len(response_chat.source_nodes)"
   ]
  },
  {
   "cell_type": "code",
   "execution_count": 28,
   "metadata": {},
   "outputs": [
    {
     "data": {
      "text/plain": [
       "NodeWithScore(node=TextNode(id_='26a2e343-6e3f-4259-a610-4b7567ad302f', embedding=None, metadata={'page_label': '9', 'file_name': 'merkblatt-nebeneinkommen_ba015792.pdf'}, excluded_embed_metadata_keys=[], excluded_llm_metadata_keys=[], relationships={<NodeRelationship.SOURCE: '1'>: RelatedNodeInfo(node_id='e864b8b6-a752-4fe3-8bc8-9e112d83bfc7', node_type=None, metadata={'page_label': '9', 'file_name': 'merkblatt-nebeneinkommen_ba015792.pdf'}, hash='76c187b531eba95cd2f7d95a6eb6a6eff2fde5336100e8cae1869661bc1e520a')}, hash='76c187b531eba95cd2f7d95a6eb6a6eff2fde5336100e8cae1869661bc1e520a', text='9erhalten, werden mit Ihrem Nettobetrag berücksich -\\ntigt und nach Abzug eines Freibetrages von 400 Euro \\nmonatlich auf das Arbeitslosengeld angerechnet.\\nBEISPIEL 4\\nWegen der Teilnahme an einer Weiterbildung \\nerhalten Sie von Ihrem Arbeitgeber eine monat -\\nliche Vergütung von 500 Euro netto. Nach Ab -\\nzug des Freibetrages von 400 Euro monatlich \\nwerden 100 Euro monatlich auf das Arbeits-\\nlosengeld angerechnet.\\nSonstiges\\nBei Bezug von Bürgergeld nach dem Sozialgesetz -\\nbuch II gelten abweichende Bestimmungen zur An -\\nrechnung von Einkommen (siehe hierzu  auch „Merk -\\nblatt SGB II  – Grundsicherung für \\nArbeit  suchende  – Bürgergeld“).\\nBitte wenden Sie sich für Informationen an Ihr zustän -\\ndiges Jobcenter.', start_char_idx=None, end_char_idx=None, text_template='{metadata_str}\\n\\n{content}', metadata_template='{key}: {value}', metadata_seperator='\\n'), score=0.8202008598527858)"
      ]
     },
     "execution_count": 28,
     "metadata": {},
     "output_type": "execute_result"
    }
   ],
   "source": [
    "response_chat.source_nodes[0]"
   ]
  },
  {
   "cell_type": "code",
   "execution_count": 29,
   "metadata": {},
   "outputs": [
    {
     "data": {
      "text/plain": [
       "'9'"
      ]
     },
     "execution_count": 29,
     "metadata": {},
     "output_type": "execute_result"
    }
   ],
   "source": [
    "response_chat.source_nodes[0].node.metadata[\"page_label\"]"
   ]
  },
  {
   "cell_type": "markdown",
   "metadata": {},
   "source": [
    "# Compare responses"
   ]
  },
  {
   "cell_type": "code",
   "execution_count": 30,
   "metadata": {},
   "outputs": [
    {
     "data": {
      "text/markdown": [
       "Baseline:<br/>To calculate how much money you will receive as unemployment benefit, you need to consider the following factors:\n",
       "\n",
       "1. Bemessungsentgelt: The amount of unemployment benefit is based on your average income in the last year before becoming unemployed. This is known as the \"Bemessungsentgelt.\"\n",
       "\n",
       "2. Lohnsteuerklasse: Your tax class also affects the calculation of unemployment benefit. The daily benefit rate is determined based on a standardized net income, taking into account the social security lump sum (20% of the Bemessungsentgelt), solidarity surcharge, and income tax, considering the tax class.\n",
       "\n",
       "3. Number of children: If you have at least one child, the unemployment benefit amount may be increased to 67% of the standardized net income.\n",
       "\n",
       "4. Other factors: There may be additional considerations or special regulations depending on your specific circumstances, such as reduced working hours due to childcare or caring for a family member.\n",
       "\n",
       "To get an estimate of your unemployment benefit amount, you can use the self-calculation program provided by the employment agency. You can access this program on the website www.arbeitsagentur.de.\n",
       "\n",
       "It's important to note that the specific calculation and final determination of your unemployment benefit will be provided in the approval notice from your employment agency, which will include the relevant calculation details."
      ],
      "text/plain": [
       "<IPython.core.display.Markdown object>"
      ]
     },
     "metadata": {},
     "output_type": "display_data"
    },
    {
     "name": "stdout",
     "output_type": "stream",
     "text": [
      "================================================================================\n"
     ]
    },
    {
     "data": {
      "text/markdown": [
       "SVM:<br/>Based on the provided context information, there are two different scenarios mentioned for calculating the amount of unemployment benefit:\n",
       "\n",
       "1. Nebeneinkommen (Side Income): If you have a monthly side income, the unemployment benefit will be reduced by the amount of the side income minus the exemption amount. The specific calculation can be found in the approval/changes notice (Bewilligungs-/Änderungsbescheid) provided by the employment agency.\n",
       "\n",
       "2. Entlassungsentschädigung (Severance Pay): If you receive severance pay, a certain percentage of the pay will be considered when calculating the suspension period (Ruhenszeitraum) for unemployment benefit. The specific calculation can be found in the table mentioned in section 4.4 of the document.\n",
       "\n",
       "It is important to note that these calculations may vary depending on individual circumstances and the specific regulations of the employment agency. It is recommended to consult with the responsible job center or employment agency for accurate information regarding the calculation of unemployment benefits in your specific situation."
      ],
      "text/plain": [
       "<IPython.core.display.Markdown object>"
      ]
     },
     "metadata": {},
     "output_type": "display_data"
    },
    {
     "name": "stdout",
     "output_type": "stream",
     "text": [
      "================================================================================\n"
     ]
    },
    {
     "data": {
      "text/markdown": [
       "Linear regression:<br/>Based on the provided context information, there are two different scenarios mentioned for calculating the amount of unemployment benefit:\n",
       "\n",
       "1. Nebeneinkommen (Side Income): If you have a monthly side income, the unemployment benefit will be reduced by the amount of the income minus the exemption amount. The specific calculation can be found in the approval/changes notice provided by the employment agency.\n",
       "\n",
       "2. Entlassungsentschädigung (Severance Pay): If you receive severance pay, a certain percentage of the pay will be considered when calculating the suspension period for unemployment benefits. The specific calculation can be found in the table mentioned in the document.\n",
       "\n",
       "It is important to note that these calculations may vary depending on individual circumstances and the specific regulations of the employment agency. It is recommended to contact the responsible job center for accurate information regarding the calculation of unemployment benefits."
      ],
      "text/plain": [
       "<IPython.core.display.Markdown object>"
      ]
     },
     "metadata": {},
     "output_type": "display_data"
    },
    {
     "name": "stdout",
     "output_type": "stream",
     "text": [
      "================================================================================\n"
     ]
    },
    {
     "data": {
      "text/markdown": [
       "Logistic regression:<br/>Based on the provided context information, the calculation of unemployment benefits may vary depending on the specific circumstances and regulations in your country or region. It is recommended to consult the relevant government agency or unemployment office for accurate and up-to-date information on how to calculate unemployment benefits in your specific situation. They will be able to provide you with the necessary guidelines and requirements for determining the amount of money you will receive as unemployment benefits."
      ],
      "text/plain": [
       "<IPython.core.display.Markdown object>"
      ]
     },
     "metadata": {},
     "output_type": "display_data"
    },
    {
     "name": "stdout",
     "output_type": "stream",
     "text": [
      "================================================================================\n"
     ]
    },
    {
     "data": {
      "text/markdown": [
       "HyDE:<br/>To calculate how much money you will receive as unemployment benefit, you need to consider the following factors:\n",
       "\n",
       "1. Bemessungsentgelt (Basis for Calculation): The amount of unemployment benefit is based on your average income during a specific period before becoming unemployed. This is known as the Bemessungsentgelt.\n",
       "\n",
       "2. Leistungssatz (Benefit Rate): The benefit rate is determined based on your personal circumstances, such as whether you have children or not. The standard benefit rate is 60% of the Bemessungsentgelt, but it can increase to 67% if you have at least one child.\n",
       "\n",
       "3. Lohnsteuerklasse (Tax Class): Your tax class also affects the calculation of unemployment benefit. The specific impact depends on the tax class you had at the beginning of the year when the entitlement to benefits arose.\n",
       "\n",
       "4. Anwartschaftszeit (Qualifying Period): To be eligible for unemployment benefit, you must have fulfilled the Anwartschaftszeit, which is the minimum period of employment required.\n",
       "\n",
       "To calculate the exact amount of unemployment benefit, you can use the self-calculation program provided by the employment agency. You can access this program on the website www.arbeitsagentur.de.\n",
       "\n",
       "Please note that the specific calculation may vary depending on your individual circumstances and the regulations of your country. It is recommended to consult with your local job center or employment agency for accurate information regarding your entitlement to unemployment benefits."
      ],
      "text/plain": [
       "<IPython.core.display.Markdown object>"
      ]
     },
     "metadata": {},
     "output_type": "display_data"
    },
    {
     "name": "stdout",
     "output_type": "stream",
     "text": [
      "================================================================================\n"
     ]
    },
    {
     "data": {
      "text/markdown": [
       "HyDE doc:<br/>To calculate how much money you will receive as unemployment benefits, you need to consider several key factors. Firstly, you should determine your base period, which is typically the first four of the last five completed calendar quarters before you filed your claim. This period is used to calculate your earnings during that time.\n",
       "\n",
       "Next, you need to gather information about your earnings during the base period. This includes wages from all employers you worked for during that time, including part-time and temporary jobs. It's important to note that certain types of income, such as self-employment earnings or income from rental properties, may not be considered for unemployment benefits.\n",
       "\n",
       "Once you have gathered your earnings information, you can calculate your average weekly wage (AWW). To do this, add up your total earnings during the base period and divide it by the number of weeks in that period. This will give you an estimate of your AWW.\n",
       "\n",
       "After determining your AWW, you can then calculate your weekly benefit amount (WBA). This is usually a percentage of your AWW, which varies depending on the state you reside in. Each state has its own formula or table to determine the percentage, so it's important to consult your state's unemployment agency or website for the specific calculation.\n",
       "\n",
       "Additionally, there may be a maximum weekly benefit amount (MBA) set by your state. If your calculated WBA exceeds the MBA, your benefit amount will be capped at the maximum limit.\n",
       "\n",
       "It's important to note that unemployment benefits are subject to federal and state taxes. Depending on your state, taxes may be automatically deducted from your benefit payments, or you may be responsible for reporting and paying taxes on your own.\n",
       "\n",
       "Lastly, keep in mind that unemployment benefits are typically provided for a limited duration, such as 26 weeks. However, during times of economic downturn or other exceptional circumstances, extended benefits may be available.\n",
       "\n",
       "In summary, to calculate your unemployment benefits, determine your base period, gather earnings information, calculate your AWW, determine the percentage for your WBA based on your state's formula or table, consider the MBA if applicable, and be aware of tax obligations. Remember to consult your state's unemployment agency or website for specific guidelines and calculations."
      ],
      "text/plain": [
       "<IPython.core.display.Markdown object>"
      ]
     },
     "metadata": {},
     "output_type": "display_data"
    },
    {
     "name": "stdout",
     "output_type": "stream",
     "text": [
      "================================================================================\n"
     ]
    },
    {
     "data": {
      "text/markdown": [
       "Chat:<br/>To calculate how much money you will receive as unemployment benefit, you need to consider the following factors:\n",
       "\n",
       "1. Bemessungsentgelt (Basis for Calculation): This is the average gross income you earned in the last year before becoming unemployed. It is used to determine the amount of your benefit.\n",
       "\n",
       "2. Lohnsteuerklasse (Tax Class): Your tax class affects the deductions made from your benefit. Different tax classes have different deduction rates.\n",
       "\n",
       "3. Number of Children: If you have children, they may entitle you to an increased benefit rate.\n",
       "\n",
       "Once you have these details, you can use the following steps to calculate your unemployment benefit:\n",
       "\n",
       "1. Determine your Bemessungsentgelt: Add up your gross income from the last year and divide it by the number of days you worked during that period.\n",
       "\n",
       "2. Calculate your daily benefit rate: Divide your Bemessungsentgelt by 365 (or 360 if your benefit is paid monthly) to get your daily benefit rate.\n",
       "\n",
       "3. Apply the tax class deduction: Multiply your daily benefit rate by the deduction rate associated with your tax class. This will give you the net daily benefit rate.\n",
       "\n",
       "4. Determine the number of days you will receive benefits: If you will receive benefits for a full calendar month, assume 30 days. If it is a partial month, calculate the exact number of days.\n",
       "\n",
       "5. Multiply the net daily benefit rate by the number of days: Multiply your net daily benefit rate by the number of days you will receive benefits to calculate the total amount you will receive.\n",
       "\n",
       "It's important to note that these calculations may vary depending on the specific regulations and rules of your country or state. It is recommended to consult with your local unemployment agency or visit their website for accurate and up-to-date information on calculating unemployment benefits."
      ],
      "text/plain": [
       "<IPython.core.display.Markdown object>"
      ]
     },
     "metadata": {},
     "output_type": "display_data"
    },
    {
     "name": "stdout",
     "output_type": "stream",
     "text": [
      "================================================================================\n"
     ]
    }
   ],
   "source": [
    "methods_list = [\"Baseline\", \"SVM\", \"Linear regression\", \"Logistic regression\", \"HyDE\", \"HyDE doc\", \"Chat\"]\n",
    "responses_list = [\n",
    "    response_baseline.response, responses_modes[0].response, responses_modes[1].response,\n",
    "    responses_modes[2].response, response_hyde.response, hyde_doc, response_chat.response]\n",
    "\n",
    "for m, r in zip(methods_list, responses_list):\n",
    "    display(Markdown(f\"{m}:<br/>{r}\"))\n",
    "    print(\"=\"*80)\n"
   ]
  }
 ],
 "metadata": {
  "kernelspec": {
   "display_name": ".venv_chatbot",
   "language": "python",
   "name": "python3"
  },
  "language_info": {
   "codemirror_mode": {
    "name": "ipython",
    "version": 3
   },
   "file_extension": ".py",
   "mimetype": "text/x-python",
   "name": "python",
   "nbconvert_exporter": "python",
   "pygments_lexer": "ipython3",
   "version": "3.10.12"
  },
  "orig_nbformat": 4
 },
 "nbformat": 4,
 "nbformat_minor": 2
}
