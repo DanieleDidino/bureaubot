{
 "cells": [
  {
   "cell_type": "markdown",
   "metadata": {},
   "source": [
    "# Reading list:\n",
    "\n",
    "[Building custom question-answering app using LangChain and Pinecone vector database](https://medium.com/ai-science/building-custom-question-answering-app-using-langchain-and-pinecone-vector-database-35f7855a5323)"
   ]
  },
  {
   "cell_type": "code",
   "execution_count": 1,
   "metadata": {},
   "outputs": [],
   "source": [
    "# Install package:\n",
    "# pip install \"unstructured[pdf]\" #### pip install \"unstructured[all-docs]\""
   ]
  },
  {
   "cell_type": "code",
   "execution_count": 2,
   "metadata": {},
   "outputs": [
    {
     "name": "stderr",
     "output_type": "stream",
     "text": [
      "/home/daniele/Desktop/Projects/chatbot_afa/.venv_chatbot_afa/lib/python3.10/site-packages/environ/environ.py:639: UserWarning: /tmp/ipykernel_7177/.env doesn't exist - if you're not configuring your environment separately, create one.\n",
      "  warnings.warn(\n"
     ]
    }
   ],
   "source": [
    "import os\n",
    "# import openai\n",
    "from langchain.document_loaders import DirectoryLoader\n",
    "from langchain.text_splitter import RecursiveCharacterTextSplitter\n",
    "from langchain.embeddings.openai import OpenAIEmbeddings\n",
    "# from langchain.llms import OpenAI\n",
    "# from langchain.chains.question_answering import load_qa_chain\n",
    "from llama_index import SimpleDirectoryReader\n",
    "\n",
    "from IPython.display import Markdown, display\n",
    "\n",
    "import environ\n",
    "\n",
    "# Read OpenAI key\n",
    "env = environ.Env()\n",
    "environ.Env.read_env()\n",
    "API_KEY = env(\"OPENAI_API_KEY\")\n",
    "\n",
    "from utils import CHUNK_SIZE, CHUNK_OVERLAP\n",
    "\n",
    "# Set paths\n",
    "docs_path = \"documents_pdf\"\n",
    "embedding_path = \"vector_db\""
   ]
  },
  {
   "cell_type": "markdown",
   "metadata": {},
   "source": [
    "## Llama  Index"
   ]
  },
  {
   "cell_type": "code",
   "execution_count": 3,
   "metadata": {},
   "outputs": [],
   "source": [
    "docs_llama = SimpleDirectoryReader(input_dir=docs_path).load_data()"
   ]
  },
  {
   "cell_type": "code",
   "execution_count": 4,
   "metadata": {},
   "outputs": [
    {
     "data": {
      "text/plain": [
       "774"
      ]
     },
     "execution_count": 4,
     "metadata": {},
     "output_type": "execute_result"
    }
   ],
   "source": [
    "len(docs_llama)"
   ]
  },
  {
   "cell_type": "code",
   "execution_count": 5,
   "metadata": {},
   "outputs": [
    {
     "data": {
      "text/plain": [
       "Document(id_='dd87666b-c847-430e-a9b2-8b7bceefc0fd', embedding=None, metadata={'page_label': '1', 'file_name': 'ba146349.pdf'}, excluded_embed_metadata_keys=[], excluded_llm_metadata_keys=[], relationships={}, hash='592bb4a567ff530dbc0607be761d79990988384fdd21bdcda882ef64fc386f94', text=' Familienkasse\\nWir helfen Familien.\\nMerkblatt\\nKinderzuschlag\\nDer Zuschlag zum Kindergeld für Familien  \\nmit kleinem Einkommen', start_char_idx=None, end_char_idx=None, text_template='{metadata_str}\\n\\n{content}', metadata_template='{key}: {value}', metadata_seperator='\\n')"
      ]
     },
     "execution_count": 5,
     "metadata": {},
     "output_type": "execute_result"
    }
   ],
   "source": [
    "docs_llama[0]"
   ]
  },
  {
   "cell_type": "code",
   "execution_count": 6,
   "metadata": {},
   "outputs": [
    {
     "data": {
      "text/plain": [
       "{'page_label': '1', 'file_name': 'ba146349.pdf'}"
      ]
     },
     "execution_count": 6,
     "metadata": {},
     "output_type": "execute_result"
    }
   ],
   "source": [
    "docs_llama[0].metadata"
   ]
  },
  {
   "cell_type": "code",
   "execution_count": 7,
   "metadata": {},
   "outputs": [
    {
     "data": {
      "text/plain": [
       "' Familienkasse\\nWir helfen Familien.\\nMerkblatt\\nKinderzuschlag\\nDer Zuschlag zum Kindergeld für Familien  \\nmit kleinem Einkommen'"
      ]
     },
     "execution_count": 7,
     "metadata": {},
     "output_type": "execute_result"
    }
   ],
   "source": [
    "docs_llama[0].get_text()"
   ]
  },
  {
   "cell_type": "code",
   "execution_count": 8,
   "metadata": {},
   "outputs": [],
   "source": [
    "from llama_index.text_splitter import SentenceSplitter\n",
    "\n",
    "text_splitter = SentenceSplitter(\n",
    "    chunk_size=CHUNK_SIZE,\n",
    "    chunk_overlap=CHUNK_OVERLAP,\n",
    ")"
   ]
  },
  {
   "cell_type": "code",
   "execution_count": 9,
   "metadata": {},
   "outputs": [],
   "source": [
    "text_chunks = []\n",
    "text_metadata = []\n",
    "# maintain relationship with source doc index, to help inject doc metadata in (3)\n",
    "doc_idxs = []\n",
    "for doc_idx, page in enumerate(docs_llama):\n",
    "    page_text = page.get_text()\n",
    "    cur_text_chunks = text_splitter.split_text(page_text)\n",
    "    text_chunks.extend(cur_text_chunks)\n",
    "    text_metadata.append(page.metadata)\n",
    "    doc_idxs.extend([doc_idx] * len(cur_text_chunks))"
   ]
  },
  {
   "cell_type": "code",
   "execution_count": null,
   "metadata": {},
   "outputs": [],
   "source": [
    "for i in range(10, 15):\n",
    "    display(Markdown(text_chunks[i]))\n",
    "    print(f\"LEN: {len(text_chunks[20])}\")\n",
    "    print(text_metadata[i])\n",
    "    print(\"=\"*50)"
   ]
  },
  {
   "cell_type": "markdown",
   "metadata": {},
   "source": [
    "# Langchain"
   ]
  },
  {
   "cell_type": "code",
   "execution_count": 2,
   "metadata": {},
   "outputs": [
    {
     "name": "stderr",
     "output_type": "stream",
     "text": [
      "The PDF <_io.BufferedReader name='documents_pdf/ba146349.pdf'> contains a metadata field indicating that it should not allow text extraction. Ignoring this field and proceeding. Use the check_extractable if you want to raise an error in this case\n",
      "The PDF <_io.BufferedReader name='documents_pdf/kg2-merkblattkindergeld_ba015394.pdf'> contains a metadata field indicating that it should not allow text extraction. Ignoring this field and proceeding. Use the check_extractable if you want to raise an error in this case\n"
     ]
    },
    {
     "data": {
      "text/plain": [
       "19"
      ]
     },
     "execution_count": 2,
     "metadata": {},
     "output_type": "execute_result"
    }
   ],
   "source": [
    "# load_docs functions to load documents using langchain function\n",
    "def load_docs(path):\n",
    "  \"\"\"\n",
    "  \n",
    "  \"\"\"\n",
    "  loader = DirectoryLoader(path)\n",
    "  documents = loader.load()\n",
    "  return documents\n",
    "\n",
    "documents = load_docs(docs_path)\n",
    "len(documents)"
   ]
  },
  {
   "cell_type": "code",
   "execution_count": 87,
   "metadata": {},
   "outputs": [
    {
     "data": {
      "text/plain": [
       "60840"
      ]
     },
     "execution_count": 87,
     "metadata": {},
     "output_type": "execute_result"
    }
   ],
   "source": [
    "len(documents[0].page_content)"
   ]
  },
  {
   "cell_type": "code",
   "execution_count": 9,
   "metadata": {},
   "outputs": [
    {
     "data": {
      "text/plain": [
       "{'source': 'documents_pdf/merkblatt-6-weiterbildung_ba015381.pdf'}"
      ]
     },
     "execution_count": 9,
     "metadata": {},
     "output_type": "execute_result"
    }
   ],
   "source": [
    "documents[0].metadata"
   ]
  },
  {
   "cell_type": "code",
   "execution_count": 156,
   "metadata": {},
   "outputs": [
    {
     "name": "stdout",
     "output_type": "stream",
     "text": [
      "946\n"
     ]
    }
   ],
   "source": [
    "# split the docs using recursive text splitter\n",
    "def split_docs(documents, chunk_size=200, chunk_overlap=20):\n",
    "  text_splitter = RecursiveCharacterTextSplitter(chunk_size=chunk_size, chunk_overlap=chunk_overlap)\n",
    "  docs = text_splitter.split_documents(documents)\n",
    "  return docs\n",
    "\n",
    "# split the docs\n",
    "docs = split_docs(documents, chunk_size=CHUNK_SIZE, chunk_overlap=CHUNK_OVERLAP)\n",
    "print(len(docs))"
   ]
  },
  {
   "cell_type": "code",
   "execution_count": 157,
   "metadata": {},
   "outputs": [
    {
     "name": "stdout",
     "output_type": "stream",
     "text": [
      "{'source': 'documents_pdf/merkblatt-6-weiterbildung_ba015381.pdf'}\n",
      "{'source': 'documents_pdf/merkblatt-6-weiterbildung_ba015381.pdf'}\n",
      "{'source': 'documents_pdf/merkblatt-6-weiterbildung_ba015381.pdf'}\n",
      "{'source': 'documents_pdf/merkblatt-6-weiterbildung_ba015381.pdf'}\n",
      "{'source': 'documents_pdf/merkblatt-6-weiterbildung_ba015381.pdf'}\n",
      "{'source': 'documents_pdf/merkblatt-6-weiterbildung_ba015381.pdf'}\n",
      "{'source': 'documents_pdf/merkblatt-6-weiterbildung_ba015381.pdf'}\n"
     ]
    }
   ],
   "source": [
    "print(docs[0].metadata)\n",
    "print(docs[1].metadata)\n",
    "print(docs[2].metadata)\n",
    "print(docs[3].metadata)\n",
    "print(docs[4].metadata)\n",
    "print(docs[5].metadata)\n",
    "print(docs[10].metadata)"
   ]
  },
  {
   "cell_type": "code",
   "execution_count": 146,
   "metadata": {},
   "outputs": [
    {
     "data": {
      "text/plain": [
       "Document(page_content='Merkblatt\\n\\nFörderung der beruflichen Weiterbildung für Arbeitnehmerinnen und Arbeitnehmer Dienste und Leistungen der Agentur für Arbeit\\n\\n6\\n\\nMusterstadthausen\\n\\nVorwort\\n\\nVorwort\\n\\nSie interessieren sich für eine berufliche Weiterbildung. Dieses Merkblatt informiert Sie über Fragen rund um die Förderung Ihrer beruflichen Weiterbildung durch die Agenturen für Arbeit /Jobcenter. Bitte lesen Sie das Merkblatt in Ihrem eigenen Interes- se zur Vermeidung von Nachteilen sorgfältig durch. Das Merkblatt kann leider nicht auf jede Einzelheit ein- gehen. Sollten Sie daher noch Fragen haben, auf die Sie hier keine Antwort finden, oder sollten Sie weitere Informati- onen wünschen, erteilen Ihnen die Mitarbeiterinnen und Mitarbeiter der für Ihren Wohnort zuständigen Agentur für Arbeit /Jobcenter gerne nähere Auskunft.\\n\\nSelbstverständlich können Sie in Ihrer Agentur für Ar- beit / Ihrem Jobcenter auch die für die Entscheidung über Ihren Leistungsanspruch maßgebenden Vorschrif- ten einsehen.', metadata={'source': 'documents_pdf/merkblatt-6-weiterbildung_ba015381.pdf'})"
      ]
     },
     "execution_count": 146,
     "metadata": {},
     "output_type": "execute_result"
    }
   ],
   "source": [
    "docs[0]"
   ]
  },
  {
   "cell_type": "code",
   "execution_count": 177,
   "metadata": {},
   "outputs": [
    {
     "data": {
      "text/markdown": [
       "1.1 Notwendigkeit der Weiterbildung\n",
       "\n",
       "Eine berufliche Weiterbildung soll Ihre Vermittlungs- chancen deutlich verbessern. Bei der Förderung beruf- licher Weiterbildung werden Ihre Fähigkeiten, Ihr bis­ heriger beruflicher Werdegang und Vorkenntnisse und Ihre persönlichen Voraussetzungen wie Eignung und Mobilität berücksichtigt. Nach diesen Faktoren ent- scheidet die Agentur für Arbeit / das Jobcenter nach ausführlicher Be ratung, ob Sie zur beruflichen Einglie- derung eine Qualifizierung benötigen. Hierbei kommt der Aufnahmefähigkeit des Arbeitsmarktes und Ihrer Mobilitätsbereitschaft eine hohe Bedeutung zu. Die Notwendigkeit der Weiterbildung kann zur Beendigung oder Vermeidung der Arbeitslosigkeit anerkannt wer- den. Ziel ist Ihre dauerhafte Eingliederung in den ers- ten Arbeits markt. Wenn Sie nicht über einen Berufsabschluss verfügen, besteht unter bestimmten Voraussetzungen ein Rechtsanspruch auf Förderung des nachträglichen Er- werbs eines Berufsabschlusses.\n",
       "\n",
       "1.2 Beratung\n",
       "\n",
       "Zur Feststellung, ob Sie eine berufliche Weiterbildung benötigen, ist es unbedingt erforderlich, dass möglichst frühzeitig eine Beratung durch die Agentur für Arbeit / das Jobcenter erfolgt. Vereinbaren Sie dazu einen Termin mit Ihrer Agentur für Arbeit / Ihrem Jobcenter. Im Rahmen dieser Beratung werden Ihre Fragen im\n",
       "\n",
       "11\n",
       "\n",
       "1 Voraussetzungen zur Förderung\n",
       "\n",
       "Zusammenhang mit der beruflichen Weiterbildung besprochen und das Vorliegen der Voraussetzungen für eine Förderung geklärt. Eventuell kann für die Fest- stellung ihrer Eignung auch ein Termin beim Ärztlichen Dienst oder Berufspsychologischen Service der Agen- tur für Arbeit sinnvoll sein.\n",
       "\n",
       "1.3 Bildungsgutschein"
      ],
      "text/plain": [
       "<IPython.core.display.Markdown object>"
      ]
     },
     "metadata": {},
     "output_type": "display_data"
    },
    {
     "name": "stdout",
     "output_type": "stream",
     "text": [
      "Metadata: documents_pdf/merkblatt-6-weiterbildung_ba015381.pdf\n",
      "LEN: 1663\n",
      "==================================================\n"
     ]
    },
    {
     "data": {
      "text/markdown": [
       "1.2 Beratung\n",
       "\n",
       "Zur Feststellung, ob Sie eine berufliche Weiterbildung benötigen, ist es unbedingt erforderlich, dass möglichst frühzeitig eine Beratung durch die Agentur für Arbeit / das Jobcenter erfolgt. Vereinbaren Sie dazu einen Termin mit Ihrer Agentur für Arbeit / Ihrem Jobcenter. Im Rahmen dieser Beratung werden Ihre Fragen im\n",
       "\n",
       "11\n",
       "\n",
       "1 Voraussetzungen zur Förderung\n",
       "\n",
       "Zusammenhang mit der beruflichen Weiterbildung besprochen und das Vorliegen der Voraussetzungen für eine Förderung geklärt. Eventuell kann für die Fest- stellung ihrer Eignung auch ein Termin beim Ärztlichen Dienst oder Berufspsychologischen Service der Agen- tur für Arbeit sinnvoll sein.\n",
       "\n",
       "1.3 Bildungsgutschein\n",
       "\n",
       "Liegen die Voraussetzungen für eine Förderung vor, erhalten Sie einen Bildungsgutschein, mit dem Ihnen die Übernahme der Weiterbildungskosten und ggf. die Weiterzahlung des Arbeitslosengeldes zugesichert wird. Der Bildungsgutschein gilt zeitlich befristet. Er kann auf eine bestimmte Region beschränkt werden. Im Bil- dungsgutschein ist immer ein bestimmtes Bildungsziel angegeben. Während der Gültigkeitsdauer des Bildungsgutscheines können Sie eine dem Bildungsgutschein entsprechende zugelassene Maßnahme auswählen. Die Maßnahmen finden Sie auf der Seite » www.arbeitsagentur.de/ kursnet über die KURSNET Einstiegsseite. Die für den ausgewählten Träger bestimmte Ausferti- gung des Bildungsgutscheins, mit der der Träger Ihre Aufnahme in die Maßnahme bestätigt, muss innerhalb des Gültigkeitszeitraumes und vor dem Beginn Ihrer Teilnahme bei der Agentur für Arbeit / dem Jobcenter eingereicht werden.\n",
       "\n",
       "TIPP\n",
       "\n",
       "Damit Ihnen die zustehenden Leistungen zeitnah be- willigt werden können, sollten Sie die erforderlichen Unterlagen rechtzeitig vor Beginn der Teilnahme bei Ihrer Agentur für Arbeit / Ihrem Jobcenter einreichen.\n",
       "\n",
       "12\n",
       "\n",
       "1 Voraussetzungen zur Förderung\n",
       "\n",
       "1.4 Weiterbildungen im Auftrag von Agenturen\n",
       "\n",
       "für Arbeit und Jobcentern"
      ],
      "text/plain": [
       "<IPython.core.display.Markdown object>"
      ]
     },
     "metadata": {},
     "output_type": "display_data"
    },
    {
     "name": "stdout",
     "output_type": "stream",
     "text": [
      "Metadata: documents_pdf/merkblatt-6-weiterbildung_ba015381.pdf\n",
      "LEN: 1919\n",
      "==================================================\n"
     ]
    },
    {
     "data": {
      "text/markdown": [
       "TIPP\n",
       "\n",
       "Damit Ihnen die zustehenden Leistungen zeitnah be- willigt werden können, sollten Sie die erforderlichen Unterlagen rechtzeitig vor Beginn der Teilnahme bei Ihrer Agentur für Arbeit / Ihrem Jobcenter einreichen.\n",
       "\n",
       "12\n",
       "\n",
       "1 Voraussetzungen zur Förderung\n",
       "\n",
       "1.4 Weiterbildungen im Auftrag von Agenturen\n",
       "\n",
       "für Arbeit und Jobcentern\n",
       "\n",
       "Neben der Förderung über den Bildungsgutschein gibt es auch die Möglichkeit der Teilnahme an einer Auf- tragsmaßnahme. Hier führt ein Bildungsträger im Auf- trag der Agentur für Arbeit oder des Jobcenters eine Weiterbildung durch. Anstelle des Bildungsgutscheins, bei dem Sie den Bildungsträger selbst aussuchen kön- nen, erhalten Sie ein Angebot zur Teilnahme an einer konkreten Weiterbildung. Für Agenturen für Arbeit und Jobcenter gelten dabei folgende Unterschiede:\n",
       "\n",
       "Agenturen für Arbeit und Jobcenter können Träger mit der Durchführung folgender Weiterbildungen beauf­ tragen: • Maßnahmen zum Erwerb von Grundkompetenzen\n",
       "\n",
       "(siehe auch 1.7),\n",
       "\n",
       "Maßnahmen in Kombination „Erwerb von Grundkom- petenzen“ und Weiterbildungen, die zu einem Ab- schluss in einem Ausbildungsberuf (Umschulungen) führen oder\n",
       "\n",
       "Maßnahmen, die eine Weiterbildung in einem Be- trieb, die zu einem Abschluss in einem Ausbildungs- beruf führt (betriebliche Umschulung), begleiten (um- schulungsbegleitende Hilfen, siehe auch 1.8).\n",
       "\n",
       "Zusätzlich können Jobcenter auch Träger mit der Durchführung beruflicher Weiterbildungsmaßnahmen beauftragen, wenn eine dem Bildungsziel entsprechen- de Weiterbildung in Ihrer Region bislang nicht verfüg- bar ist. Dies gilt grundsätzlich für alle Arten der Weiter- bildung (z. B. Anpassungsqualifizierungen, Umschulungen).\n",
       "\n",
       "13\n",
       "\n",
       "1 Voraussetzungen zur Förderung\n",
       "\n",
       "1.5 Zulassung des Trägers und der Maßnahme\n",
       "\n",
       "Der Maßnahmeträger und die angestrebte Maßnahme müssen für die Weiterbildungsförderung von einer fachkundigen Stelle nach der Akkreditierungs- und Zu- lassungsverordnung Arbeitsförderung zugelassen sein.\n",
       "\n",
       "HINWEIS"
      ],
      "text/plain": [
       "<IPython.core.display.Markdown object>"
      ]
     },
     "metadata": {},
     "output_type": "display_data"
    },
    {
     "name": "stdout",
     "output_type": "stream",
     "text": [
      "Metadata: documents_pdf/merkblatt-6-weiterbildung_ba015381.pdf\n",
      "LEN: 1949\n",
      "==================================================\n"
     ]
    },
    {
     "data": {
      "text/markdown": [
       "(siehe auch 1.7),\n",
       "\n",
       "Maßnahmen in Kombination „Erwerb von Grundkom- petenzen“ und Weiterbildungen, die zu einem Ab- schluss in einem Ausbildungsberuf (Umschulungen) führen oder\n",
       "\n",
       "Maßnahmen, die eine Weiterbildung in einem Be- trieb, die zu einem Abschluss in einem Ausbildungs- beruf führt (betriebliche Umschulung), begleiten (um- schulungsbegleitende Hilfen, siehe auch 1.8).\n",
       "\n",
       "Zusätzlich können Jobcenter auch Träger mit der Durchführung beruflicher Weiterbildungsmaßnahmen beauftragen, wenn eine dem Bildungsziel entsprechen- de Weiterbildung in Ihrer Region bislang nicht verfüg- bar ist. Dies gilt grundsätzlich für alle Arten der Weiter- bildung (z. B. Anpassungsqualifizierungen, Umschulungen).\n",
       "\n",
       "13\n",
       "\n",
       "1 Voraussetzungen zur Förderung\n",
       "\n",
       "1.5 Zulassung des Trägers und der Maßnahme\n",
       "\n",
       "Der Maßnahmeträger und die angestrebte Maßnahme müssen für die Weiterbildungsförderung von einer fachkundigen Stelle nach der Akkreditierungs- und Zu- lassungsverordnung Arbeitsförderung zugelassen sein.\n",
       "\n",
       "HINWEIS\n",
       "\n",
       "Hierüber informiert Sie der Bildungsträger oder das je- weilige Bildungsangebot in den Portalen der Aus- und Weiterbildungssuche.\n",
       "\n",
       "1.6 Nachträglicher Erwerb des Hauptschulab-\n",
       "\n",
       "schlusses\n",
       "\n",
       "Auf den nachträglichen Erwerb eines Hauptschulab- schlusses oder eines gleichwertigen Schulabschlusses besteht unter bestimmten Voraussetzungen ein Rechtsanspruch. Die Förderung des Hauptschulab- schlusses erfolgt in der Regel in Kombination mit einer zuvor individuell festgelegten beruflichen Weiterbil- dungsmaßnahme.\n",
       "\n",
       "1.7 Erwerb von Grundkompetenzen\n",
       "\n",
       "Ab 01.07.2023 können Kunden und Kundinnen zur Vor- bereitung auf eine Weiterbildung bzw. zur Verbesse- rung der Beschäftigungsfähigkeit, Förderleistungen zum Erwerb notwendiger Grundkompetenzen in den Bereichen Lesen, Schreiben, Mathematik und Informa- tions­ und Kommunikationstechnologien erhalten.\n",
       "\n",
       "14\n",
       "\n",
       "1 Voraussetzungen zur Förderung\n",
       "\n",
       "1.8 Umschulungsbegleitende Hilfen"
      ],
      "text/plain": [
       "<IPython.core.display.Markdown object>"
      ]
     },
     "metadata": {},
     "output_type": "display_data"
    },
    {
     "name": "stdout",
     "output_type": "stream",
     "text": [
      "Metadata: documents_pdf/merkblatt-6-weiterbildung_ba015381.pdf\n",
      "LEN: 1909\n",
      "==================================================\n"
     ]
    },
    {
     "data": {
      "text/markdown": [
       "HINWEIS\n",
       "\n",
       "Hierüber informiert Sie der Bildungsträger oder das je- weilige Bildungsangebot in den Portalen der Aus- und Weiterbildungssuche.\n",
       "\n",
       "1.6 Nachträglicher Erwerb des Hauptschulab-\n",
       "\n",
       "schlusses\n",
       "\n",
       "Auf den nachträglichen Erwerb eines Hauptschulab- schlusses oder eines gleichwertigen Schulabschlusses besteht unter bestimmten Voraussetzungen ein Rechtsanspruch. Die Förderung des Hauptschulab- schlusses erfolgt in der Regel in Kombination mit einer zuvor individuell festgelegten beruflichen Weiterbil- dungsmaßnahme.\n",
       "\n",
       "1.7 Erwerb von Grundkompetenzen\n",
       "\n",
       "Ab 01.07.2023 können Kunden und Kundinnen zur Vor- bereitung auf eine Weiterbildung bzw. zur Verbesse- rung der Beschäftigungsfähigkeit, Förderleistungen zum Erwerb notwendiger Grundkompetenzen in den Bereichen Lesen, Schreiben, Mathematik und Informa- tions­ und Kommunikationstechnologien erhalten.\n",
       "\n",
       "14\n",
       "\n",
       "1 Voraussetzungen zur Förderung\n",
       "\n",
       "1.8 Umschulungsbegleitende Hilfen\n",
       "\n",
       "Umschulungsbegleitende Hilfen werden in Verbindung mit betrieblichen Einzelumschulungen gefördert. Eine betriebliche Einzelumschulung findet wie die duale Be- rufsausbildung in einem Betrieb statt. Sie ist erwachse- nengerecht um ein Drittel gegenüber einer entspre- chenden Berufsausbildung verkürzt. Umschulungsbegleitende Hilfen umfassen z. B. Nach- hilfeunterricht für Berufsschulfächer, Nachbereitung von Lernstoff.\n",
       "\n",
       "15\n",
       "\n",
       "2 Wie finden Sie den passenden Lehrgang?\n",
       "\n",
       "2 Wie finden Sie den passen-\n",
       "\n",
       "den Lehrgang?\n",
       "\n",
       "Sie haben von Ihrer Agentur für Arbeit / Ihrem Jobcenter einen Bildungsgutschein erhalten. Darin sind das Bildungs ziel und die Qualifizierungsinhalte festgelegt, die Ihre Eingliederungschancen auf dem Arbeitsmarkt entscheidend verbessern sollen. Es liegt nun an Ihnen, den für Sie passenden Lehrgang bei einem Bildungs- träger Ihrer Wahl auszuwählen. Damit Sie die richtige Auswahl treffen können, stehen Ihnen vielfältige Infor- mationsmöglichkeiten zur Verfügung: • Wenn es um Ihre berufliche Weiterentwicklung geht,"
      ],
      "text/plain": [
       "<IPython.core.display.Markdown object>"
      ]
     },
     "metadata": {},
     "output_type": "display_data"
    },
    {
     "name": "stdout",
     "output_type": "stream",
     "text": [
      "Metadata: documents_pdf/merkblatt-6-weiterbildung_ba015381.pdf\n",
      "LEN: 1957\n",
      "==================================================\n"
     ]
    }
   ],
   "source": [
    "for i in range(10, 15):\n",
    "    display(Markdown(docs[i].page_content))\n",
    "    print(f\"Metadata: {docs[i].metadata['source']}\")\n",
    "    print(f\"LEN: {len(docs[i].page_content)}\")\n",
    "\n",
    "    print(\"=\"*50)"
   ]
  },
  {
   "cell_type": "code",
   "execution_count": 92,
   "metadata": {},
   "outputs": [],
   "source": [
    "import pypdf\n",
    "\n",
    "with open(\"documents_pdf/ba146349.pdf\", \"rb\") as fp:\n",
    "    # Create a PDF object\n",
    "    pdf = pypdf.PdfReader(fp)"
   ]
  },
  {
   "cell_type": "code",
   "execution_count": 103,
   "metadata": {},
   "outputs": [],
   "source": [
    "from pypdf import PdfReader\n",
    "\n",
    "reader = PdfReader(\"documents_pdf/ba146349.pdf\")\n",
    "\n",
    "number_of_pages = len(reader.pages)\n",
    "page = reader.pages[0]\n",
    "text = page.extract_text()"
   ]
  },
  {
   "cell_type": "code",
   "execution_count": 104,
   "metadata": {},
   "outputs": [
    {
     "data": {
      "text/plain": [
       "24"
      ]
     },
     "execution_count": 104,
     "metadata": {},
     "output_type": "execute_result"
    }
   ],
   "source": [
    "number_of_pages"
   ]
  },
  {
   "cell_type": "code",
   "execution_count": 114,
   "metadata": {},
   "outputs": [
    {
     "data": {
      "text/markdown": [
       "KiZ – Der Zuschlag zum Kindergeld\n",
       "Der Kinderzuschlag ist eine Leistung für Familien mit kleinem \n",
       "Einkommen.\n",
       "Den Kinderzuschlag können Eltern nur bekommen, wenn sie genug \n",
       "für sich selbst verdienen, aber das Einkommen nicht oder nur knapp für ihre gesamte Familie reicht. Wenn die Wohnkosten besonders hoch sind oder mehrere Kinder im Haushalt wohnen, kann auch bis in mittlere Einkommensbereiche hinein ein reduzierter Kinderzuschlag bezogen werden.\n",
       "Der Kinderzuschlag beträgt monatlich bis zu 185  Euro je Kind. Ihr \n",
       "Einkommen und Vermögen und das Ihres Kindes werden auf den Kinderzuschlag teilweise angerechnet und reduzieren die Höhe des Kinderzuschlags.\n",
       "Der Kinderzuschlag wird für 6  Monate bewilligt. Ändern sich in diesen \n",
       "6 Monaten Ihr Einkommen oder Ihre Wohnkosten, hat das keinen \n",
       "Einfluss auf den Kinderzuschlag.\n",
       "3Info\n",
       "Wenn Sie Kinderzuschlag bekommen, stehen Ihnen auch Bildungs- und Teilhabeleistungen - wie das kostenlose Mittagessen in KiTa und Schule oder \n",
       "das Schulbedarfspaket in Höhe von 150  Euro pro \n",
       "Schuljahr - zu. Außerdem müssen Sie keine KiTa-Gebühren zahlen."
      ],
      "text/plain": [
       "<IPython.core.display.Markdown object>"
      ]
     },
     "metadata": {},
     "output_type": "display_data"
    }
   ],
   "source": [
    "display(Markdown(reader.pages[2].extract_text()))"
   ]
  },
  {
   "cell_type": "markdown",
   "metadata": {},
   "source": [
    "# Nodes parser"
   ]
  },
  {
   "cell_type": "code",
   "execution_count": 210,
   "metadata": {},
   "outputs": [],
   "source": [
    "text_a1 = \"\"\"\n",
    "Natural language processing is an interdisciplinary subfield of computer science and linguistics. It is primarily concerned with giving computers the ability to support and manipulate speech.\n",
    "Natural language processing is an interdisciplinary subfield of computer science and linguistics It is primarily concerned with giving computers the ability to support and manipulate speech.\n",
    "\"\"\""
   ]
  },
  {
   "cell_type": "code",
   "execution_count": 213,
   "metadata": {},
   "outputs": [
    {
     "name": "stdout",
     "output_type": "stream",
     "text": [
      "Metadata length (0) is close to chunk size (20). Resulting chunks are less than 50 tokens. Consider increasing the chunk size or decreasing the size of your metadata to avoid this.\n"
     ]
    }
   ],
   "source": [
    "from llama_index import Document\n",
    "from llama_index.node_parser import SimpleNodeParser\n",
    "\n",
    "node_parser = SimpleNodeParser.from_defaults(chunk_size=20, chunk_overlap=5)\n",
    "\n",
    "nodes = node_parser.get_nodes_from_documents([Document(text=text_a1)], show_progress=False)"
   ]
  },
  {
   "cell_type": "code",
   "execution_count": 217,
   "metadata": {},
   "outputs": [
    {
     "data": {
      "text/markdown": [
       "Natural language processing is an interdisciplinary subfield of computer science and linguistics."
      ],
      "text/plain": [
       "<IPython.core.display.Markdown object>"
      ]
     },
     "metadata": {},
     "output_type": "display_data"
    },
    {
     "name": "stdout",
     "output_type": "stream",
     "text": [
      "==================================================\n"
     ]
    },
    {
     "data": {
      "text/markdown": [
       "It is primarily concerned with giving computers the ability to support and manipulate speech.\n",
       "Natural language processing is"
      ],
      "text/plain": [
       "<IPython.core.display.Markdown object>"
      ]
     },
     "metadata": {},
     "output_type": "display_data"
    },
    {
     "name": "stdout",
     "output_type": "stream",
     "text": [
      "==================================================\n"
     ]
    },
    {
     "data": {
      "text/markdown": [
       "Natural language processing is an interdisciplinary subfield of computer science and linguistics It is primarily concerned with"
      ],
      "text/plain": [
       "<IPython.core.display.Markdown object>"
      ]
     },
     "metadata": {},
     "output_type": "display_data"
    },
    {
     "name": "stdout",
     "output_type": "stream",
     "text": [
      "==================================================\n"
     ]
    },
    {
     "data": {
      "text/markdown": [
       "It is primarily concerned with giving computers the ability to support and manipulate speech."
      ],
      "text/plain": [
       "<IPython.core.display.Markdown object>"
      ]
     },
     "metadata": {},
     "output_type": "display_data"
    },
    {
     "name": "stdout",
     "output_type": "stream",
     "text": [
      "==================================================\n"
     ]
    }
   ],
   "source": [
    "for i in range(len(nodes)):\n",
    "    display(Markdown(nodes[i].text))\n",
    "    print(\"=\"*50)"
   ]
  },
  {
   "cell_type": "markdown",
   "metadata": {},
   "source": [
    "Overlap only if there is not period \".\" in the text to overlap, otherwise it splits the sentences."
   ]
  },
  {
   "cell_type": "code",
   "execution_count": 124,
   "metadata": {},
   "outputs": [],
   "source": [
    "from llama_index import SimpleDirectoryReader, VectorStoreIndex, ServiceContext\n",
    "from llama_index.node_parser import SimpleNodeParser\n",
    "\n",
    "docs_llama = SimpleDirectoryReader(input_files=[\"documents_pdf/ba146349.pdf\"]).load_data()\n",
    "\n",
    "node_parser = SimpleNodeParser.from_defaults(chunk_size=1024, chunk_overlap=20)\n",
    "service_context = ServiceContext.from_defaults(node_parser=node_parser)\n",
    "\n",
    "index = VectorStoreIndex.from_documents(docs_llama, service_context=service_context)"
   ]
  },
  {
   "cell_type": "code",
   "execution_count": 132,
   "metadata": {},
   "outputs": [
    {
     "data": {
      "text/plain": [
       "[Document(id_='aefc9daa-e452-4b40-92a8-a5176dcc7e19', embedding=None, metadata={'page_label': '1', 'file_name': 'ba146349.pdf'}, excluded_embed_metadata_keys=[], excluded_llm_metadata_keys=[], relationships={}, hash='592bb4a567ff530dbc0607be761d79990988384fdd21bdcda882ef64fc386f94', text=' Familienkasse\\nWir helfen Familien.\\nMerkblatt\\nKinderzuschlag\\nDer Zuschlag zum Kindergeld für Familien  \\nmit kleinem Einkommen', start_char_idx=None, end_char_idx=None, text_template='{metadata_str}\\n\\n{content}', metadata_template='{key}: {value}', metadata_seperator='\\n'),\n",
       " Document(id_='602c9991-d6d6-49ec-bf7f-eab20125d6ec', embedding=None, metadata={'page_label': '2', 'file_name': 'ba146349.pdf'}, excluded_embed_metadata_keys=[], excluded_llm_metadata_keys=[], relationships={}, hash='a5391d9b6b68128c685a173de8d7e5231e52fcd67e4d1ca305065065f6bf2140', text='Inhaltsverzeichnis  \\n Seite \\nKiZ – der Zuschlag zum Kindergeld  3\\nZu diesem Merkblatt  4\\n1. Wer hat einen Anspruch auf Kinderzuschlag?  5\\n 1.1 Allgemeines  5\\n 1.2 Mindesteinkommensgrenze wird erreicht  6\\n 1.3  Bedarf der Familie kann mit Kinderzuschlag  \\ngedeckt werden  6\\n 1.4  Erweiterter Zugang zum Kinderzuschlag  10\\n2.  Wie wirken sich Einkommen und Vermögen auf  \\nden Kinderzuschlag aus?  11\\n 2.1 Einkommen und Vermögen des Kindes  11\\n 2.2 Einkommen und Vermögen der Eltern  13\\n3.  Was ist als Einkommen und Vermögen zu  \\nberücksichtigen?  16\\n 3.1 Einkommen  16\\n  3.1.1  Kein Einkommen  17\\n  3.1.2  Absetzbeträge  17\\n 3.2 Vermögen  18\\n  3.2.1  Kein Vermögen  18\\n  3.1.2  Freibeträge  18\\n4.  Bewilligungszeitraum und Bemessungszeitraum  19\\n5.  An wen wird der Kinderzuschlag gezahlt?  20\\n6.  Was muss man tun, um den Kinderzuschlag  \\nzu bekommen?  21\\n7.  Was müssen Sie der Familienkasse mitteilen?  22\\n8.  Kostenfreie KiTa und Bildungs- und T eilhabe-  \\nleistungen  23\\n2', start_char_idx=None, end_char_idx=None, text_template='{metadata_str}\\n\\n{content}', metadata_template='{key}: {value}', metadata_seperator='\\n'),\n",
       " Document(id_='f59c5f46-9e4e-4295-a96c-c2fb02bbea74', embedding=None, metadata={'page_label': '3', 'file_name': 'ba146349.pdf'}, excluded_embed_metadata_keys=[], excluded_llm_metadata_keys=[], relationships={}, hash='17df6df2b3099d78214025ae934311f86de458d7f5e4dfc32c10313c32622087', text='KiZ – Der Zuschlag zum Kindergeld\\nDer Kinderzuschlag ist eine Leistung für Familien mit kleinem \\nEinkommen.\\nDen Kinderzuschlag können Eltern nur bekommen, wenn sie genug \\nfür sich selbst verdienen, aber das Einkommen nicht oder nur knapp für ihre gesamte Familie reicht. Wenn die Wohnkosten besonders hoch sind oder mehrere Kinder im Haushalt wohnen, kann auch bis in mittlere Einkommensbereiche hinein ein reduzierter Kinderzuschlag bezogen werden.\\nDer Kinderzuschlag beträgt monatlich bis zu 185  Euro je Kind. Ihr \\nEinkommen und Vermögen und das Ihres Kindes werden auf den Kinderzuschlag teilweise angerechnet und reduzieren die Höhe des Kinderzuschlags.\\nDer Kinderzuschlag wird für 6  Monate bewilligt. Ändern sich in diesen \\n6 Monaten Ihr Einkommen oder Ihre Wohnkosten, hat das keinen \\nEinfluss auf den Kinderzuschlag.\\n3Info\\nWenn Sie Kinderzuschlag bekommen, stehen Ihnen auch Bildungs- und Teilhabeleistungen - wie das kostenlose Mittagessen in KiTa und Schule oder \\ndas Schulbedarfspaket in Höhe von 150  Euro pro \\nSchuljahr - zu. Außerdem müssen Sie keine KiTa-Gebühren zahlen.', start_char_idx=None, end_char_idx=None, text_template='{metadata_str}\\n\\n{content}', metadata_template='{key}: {value}', metadata_seperator='\\n'),\n",
       " Document(id_='11afa565-f88e-494e-9478-50ef3c1c4b66', embedding=None, metadata={'page_label': '4', 'file_name': 'ba146349.pdf'}, excluded_embed_metadata_keys=[], excluded_llm_metadata_keys=[], relationships={}, hash='a747a803bc30bb8d4f4b3e7aad67d645ff08c2267157dfe0b2e906b1b02145f0', text='4Zu diesem Merkblatt\\nDieses Merkblatt soll Ihnen einen Überblick über die gesetzlichen \\nRegelungen zu m Kinderzuschlag geben. Lesen Sie es bitte genau \\ndurch.\\nWeitere Informationen finden Sie im Internet unter:\\nwww.familienkasse.de bzw. www.kinderzuschlag.de\\nDort finden Sie auch den KiZ-Lotsen, mit dem Sie prüfen können, ob \\nSie Kinderzuschlag bekommen könnten.\\nSollten Sie noch Fragen haben, auf die Sie keine Antwort finden, gibt \\nIhnen Ihre Familienkasse gerne die gewünschte Auskunft.\\nDas Servicetelefon der Familienkasse der Bundesagentur für Arbeit \\nsteht Ihnen von Montag bis Freitag von 8:00 bis 18:00 Uhr unter folgender Rufnummer zur Verfügung:\\n0800 4 5555 30 \\n(gebührenfrei)\\nAnsagen zum Auszahlungstermin Kindergeld und Kinderzuschlag erhalten Sie rund um die Uhr unter der Rufnummer:\\n0800 4 5555 33 \\n(gebührenfrei)\\nBitte halten Sie bei telefonischen Anfragen immer Ihre Kinder-geldnummer bereit!', start_char_idx=None, end_char_idx=None, text_template='{metadata_str}\\n\\n{content}', metadata_template='{key}: {value}', metadata_seperator='\\n'),\n",
       " Document(id_='183244ff-56e9-4a32-8d6e-b08f1006ed89', embedding=None, metadata={'page_label': '5', 'file_name': 'ba146349.pdf'}, excluded_embed_metadata_keys=[], excluded_llm_metadata_keys=[], relationships={}, hash='ce4e2a8f91a7adebdfedf4603198546a4720c6d0792725f8620950afe7cd75e0', text='51.  Wer hat einen Anspruch auf  \\nKinderzuschlag?\\n1.1 Allgemeines\\nFür Ihre unter 25 Jahre alten Kinder können Sie einen Anspruch auf \\nKinderzuschlag haben, wenn\\n Îdiese Kinder in Ihrem Haushalt leben und weder verheiratet noch verpartnert sind,\\n ÎSie für diese Kinder Kindergeld oder eine vergleichbare Leistung, zum Beispiel aus dem Ausland, bekommen,\\n ÎSie als Paar mindestens ein monatliches Brutto-Einkommen von \\n900 Euro oder als alleinerziehende Person in Höhe von 600  Euro \\nhaben (Mindesteinkommensgrenze; im Einzelnen siehe 1.2 auf Seite 6),\\n ÎSie genug Einkommen für sich selbst haben und zusammen mit dem Kinderzuschlag den Bedarf Ihrer Familie decken können (im Einzelnen siehe 1.3 auf Seite 6) und\\n ÎIhr Einkommen, das auf den Kinderzuschlag angerechnet wird, nicht so hoch ist, dass sich der Kinderzuschlag auf null reduziert (zur Anrechnung von Einkommen siehe 2. ab Seite 11).\\nInfo\\nErhalten Sie Leistungen nach dem Asylbewerber-leistungsgesetz, studieren Sie oder befinden sich in einer Ausbildung, die nach dem Bundesaus-bildungsförderungsgesetz (BAföG) förderungsfähig ist, können Sie Kinderzuschlag nur unter besonderen Voraussetzungen bekommen. Dasselbe gilt für Rentnerinnen und Rentner. Weitere Auskünfte hierzu erhalten Sie von Ihrer Familienkasse.\\nAchtung\\nBekommen Sie ausschließlich Leistungen nach dem SGB II oder Sozialhilfe nach dem SGB XII und haben sonst kein Einkommen, steht Ihnen der Kinderzuschlag nicht zu.', start_char_idx=None, end_char_idx=None, text_template='{metadata_str}\\n\\n{content}', metadata_template='{key}: {value}', metadata_seperator='\\n'),\n",
       " Document(id_='b456bb61-c03f-4de3-bc95-e30c1edd8fa6', embedding=None, metadata={'page_label': '6', 'file_name': 'ba146349.pdf'}, excluded_embed_metadata_keys=[], excluded_llm_metadata_keys=[], relationships={}, hash='55a683a05404614d92f8e113fd36404be4499842f18ebd3f0e9d9060ca6719b6', text='61.2 Mindesteinkommensgrenze wird erreicht\\nDen Kinderzuschlag können Sie erhalten, wenn Ihr monatliches \\nBrutto-Einkommen (z.  B. Brutto-Einkommen aus Erwerbstätigkeit, \\nArbeitslosengeld oder Krankengeld) die Mindesteinkommensgrenze \\nerreicht. Diese beträgt für Elternpaare 900  Euro und für Allein-\\nerziehende 600  Euro. Wohngeld, Kindergeld und Kinderzuschlag \\nwerden dabei nicht berücksichtigt.\\n1.3 Bedarf der Familie kann mit Kinderzuschlag gedeckt  \\n werden\\nDen Kinderzuschlag können Sie in der Regel erhalten, wenn Sie mit \\nIhrem Einkommen, dem Kindergeld, dem eventuell zustehendem Wohngeld und dem Kinderzuschlag den Bedarf der ganzen Familie \\nim Sinne des SGB  II decken können.\\nKönnen Sie mit diesen Leistungen nicht den gesamten Bedarf Ihrer Familie decken, so können Sie in bestimmten Fällen über den erweiterten Zugang trotzdem Kinderzuschlag bekommen (im Einzelnen siehe 1.4 auf Seite 10). Ansonsten können Sie Leistungen \\nnach dem SGB  II beim Jobcenter beantragen.\\nInfo\\nAuch wenn Sie ein Einkommen haben, mit dem Sie den Bedarf Ihrer Familie bereits decken können, können Sie unter Umständen einen reduzierten Kinderzuschlag bekommen. Dann können Sie auch Bildungs- und Teilhabeleistungen erhalten und von den KiTa-Gebühren befreit werden. Weitere Auskünfte hierzu erhalten Sie von Ihrer Familienkasse.\\nDer gesamte Bedarf der Familie setzt sich zusammen aus\\n Îden Regelbedarfen von Eltern und Kindern,\\n Îihren möglichen Mehrbedarfen und\\n Îden Wohnkosten der Familie.', start_char_idx=None, end_char_idx=None, text_template='{metadata_str}\\n\\n{content}', metadata_template='{key}: {value}', metadata_seperator='\\n'),\n",
       " Document(id_='e7b9a77f-bef3-4ee1-b0c3-43d82bd54a88', embedding=None, metadata={'page_label': '7', 'file_name': 'ba146349.pdf'}, excluded_embed_metadata_keys=[], excluded_llm_metadata_keys=[], relationships={}, hash='d9db39203716936f93590bfc82a159e0ca5e56be2cfa7b7a9e24dec8082bf339', text='7Die im SGB II anerkannten Regelbedarfe betragen seit dem \\n1. Januar 2020:\\nBerechtigte Betrag\\nAlleinerziehende Elternteile 432 Euro\\nElternpaare                                                  ( 2 x 389 Euro) 778 Euro\\nKinder unter 6 Jahren 250 Euro\\nKinder zwischen 6 und unter 14 Jahren 308 Euro\\nKinder bzw. Jugendliche zwischen 14 und unter 18 Jahren 328 Euro\\nVolljährige Kinder zwischen 18 und unter 25 Jahren 345 Euro\\nMehrbedarfe werden nach dem SGB  II anerkannt wegen\\n ÎSchwangerschaft,\\n ÎAlleinerziehung,\\n ÎBehinderung (bei Vorliegen besonderer persönlicher Voraus-\\nsetzungen,\\n Îkostenaufwändiger Ernährung aus medizinischen Gründen,\\n Îdezentraler Warmwasserversorgung (z.  B. mit Durchlauferhitzer)  \\noder\\n Îunabweisbaren, laufenden besonderen Mehrbedarfen in Härte-fällen.\\nNicht berücksichtigt werden bei der Prüfung, ob der gesamte \\nBedarf der Familie gedeckt werden kann, einmalige Bedarfe, wie \\nzum Beispiel:\\n ÎErstausstattung für Wohnung,\\n ÎErstausstattung für Bekleidung,\\n ÎErstausstattung bei Schwangerschaft und Geburt oder\\n ÎAnschaffung, Miete oder Reparatur von therapeutischen Geräten sowie\\n Îeinmalige Leistungen für Unterkunft und Heizung in Höhe der Aufwendungen für die Beschaffung von Brennstoffen.\\nInfo\\nLeistungen für diese Sonderbedarfe können zusätzlich zum Kinderzuschlag und zum Wohngeld vom Jobcenter auf Antrag gewährt werden.', start_char_idx=None, end_char_idx=None, text_template='{metadata_str}\\n\\n{content}', metadata_template='{key}: {value}', metadata_seperator='\\n'),\n",
       " Document(id_='c4d12dfe-a527-4b5c-87f5-3ee97e44923c', embedding=None, metadata={'page_label': '8', 'file_name': 'ba146349.pdf'}, excluded_embed_metadata_keys=[], excluded_llm_metadata_keys=[], relationships={}, hash='e08bb459e556405ce24fc231ae54aa9112b5a8bafb732a6b102ae86f529a6942', text='8Beispiel  1: Bedarf der Familie kann mit Kinderzuschlag \\ngedeckt werden\\nEin Ehepaar mit zwei Kindern im Alter von 11 und 16 Jahren hat \\nmonatlich einen Bedarf  nach dem SGB  II von 2.314  Euro :\\nRegelbedarf der Eltern Kindergeldberechtigter 389 Euro\\nnach SGB IIEhegatte 389 Euro\\n+Regelbedarf der Kinder Kind, 16 Jahre 328 Euro\\nnach SGB IIKind, 11 Jahre 308 Euro\\n+Wohnkosten 900 Euro\\n=gesamter Bedarf 2.314 Euro\\nDie Eltern haben ein Brutto-Einkommen von 2.200  Euro monatlich. \\nDavon werden beim Kinderzuschlag insgesamt 1.407  Euro \\nmonatlich berücksichtigt, da unterschiedliche Posten (z.  B. \\nLohnsteuer, Krankenversicherungsbeiträge, Erwerbstätigenfrei-\\nbeträge) abgezogen werden (siehe 3.1.2 auf Seite  17.). Außerdem \\nerhalten sie monatlich 408  Euro Kindergeld für die beiden Kinder \\nsowie Wohngeld in Höhe von 249  Euro.\\nDie Familie hat somit monatlich 2.064  Euro zur Verfügung  \\n(1.407  Euro plus 408  Euro Kindergeld und 249  Euro Wohngeld).\\nZusammen mit einem Kinderzuschlag in Höhe von 370  Euro hat \\ndie Familie ein Gesamteinkommen von 2.434  Euro (2.064  Euro  + \\n370 Euro) und kann ihren Bedarf in Höhe von 2.314  Euro decken. \\nSie ist somit nicht auf Leistungen nach dem SGB  II angewiesen, \\ndas heißt, es besteht keine Hilfebedürftigkeit nach dem SGB  II. Die \\nFamilie kann einen Anspruch auf Kinderzuschlag geltend machen.', start_char_idx=None, end_char_idx=None, text_template='{metadata_str}\\n\\n{content}', metadata_template='{key}: {value}', metadata_seperator='\\n'),\n",
       " Document(id_='22bd328b-140e-48ee-a62a-d369bc4e1130', embedding=None, metadata={'page_label': '9', 'file_name': 'ba146349.pdf'}, excluded_embed_metadata_keys=[], excluded_llm_metadata_keys=[], relationships={}, hash='f392dd4ab8db0178cf3f692952f92e71d7580b4ef5657650b4b4fba1c4f61351', text='9Beispiel  2: Bedarf der Familie kann mit Kinderzuschlag nicht \\ngedeckt werden\\nWie Beispiel 1, jedoch haben die Eltern ein Brutto-Einkommen \\nvon 1.800  Euro. Davon werden beim Kinderzuschlag – nach \\nAbzug der Posten unter Punkt 3.1.2 auf Seite  17 – 1.1 16  Euro \\nmonatlich berücksichtigt.\\nZusammen mit dem Kindergeld (408  Euro) und dem Wohngeld \\n(256 Euro) verfügt die Familie somit lediglich über ein monatliches \\nEinkommen von 1.780  Euro.\\nSelbst bei Zahlung des Kinderzuschlags würde das \\nGesamteinkommen (1.780  Euro + 370  Euro = 2.150  Euro) nicht \\nausreichen, um den monatlichen Bedarf in Höhe von 2.314  Euro \\nzu decken. Statt Kinderzuschlag und Wohngeld kann diese Familie beim Jobcenter Leistungen nach dem SGB\\n II beantragen.', start_char_idx=None, end_char_idx=None, text_template='{metadata_str}\\n\\n{content}', metadata_template='{key}: {value}', metadata_seperator='\\n'),\n",
       " Document(id_='2adbb871-0bb5-47aa-9ae7-447d1d02f0ec', embedding=None, metadata={'page_label': '10', 'file_name': 'ba146349.pdf'}, excluded_embed_metadata_keys=[], excluded_llm_metadata_keys=[], relationships={}, hash='7de1818ceb32bbf691c72a0e4d5aada235aad4ed1c830a1124f85edf2135cc19', text='1.4 Erweiterter Zugang zum Kinderzuschlag\\nWenn Sie keine Leistungen nach dem SGB  II erhalten und auch \\naktuell nicht beantragt haben, können Sie stattdessen Kinder-\\nzuschlag bekommen. Voraussetzung für den erweiterten Zugang zum Kinderzuschlag ist, dass Ihnen mit Erwerbseinkommen, \\nKinderzuschlag und gegebenenfalls Wohngeld höchstens 100  Euro \\nfehlen, um den Bedarf der Familie zu decken.\\n10Beispiel: Erweiterter Zugang zum Kinderzuschlag\\nWie Beispiel  1 unter 1.3, jedoch haben die Eltern ein Brutto-\\nEinkommen von 1.900  Euro. Davon werden beim Kinderzuschlag \\n– nach Abzug der Posten wie unter 3.1.2 auf Seite  17 – 1.200  Euro \\nmonatlich berücksichtigt.Zusammen mit dem Kindergeld (408\\n Euro) und dem Wohngeld \\n(252 Euro) verfügt die Familie somit über ein monatliches \\nEinkommen von 1.860  Euro.\\nMit dem Kinderzuschlag würde das Gesamteinkommen \\n(1.860  Euro + 370  Euro = 2.230  Euro) knapp nicht ausreichen, \\num den monatlichen Bedarf in Höhe von 2.314  Euro zu decken. \\nDa jedoch nur 84  Euro fehlen, um den Bedarf zu decken und \\nHilfebedürftigkeit nach dem SGB  II zu vermeiden, kann die Familie \\nüber den erweiterten Zugang Kinderzuschlag beantragen.\\nAchtung\\nWenn Sie keine SGB-II-Leistungen beziehen möchten und Kinderzuschlag über den erweiterten Zugang beantragen, haben Sie keinen Anspruch mehr auf einzelne Vergünstigungen oder Freistellungen, wie z.\\n B. die Befreiung vom Rundfunkbeitrag. Ihre \\nFamilienkasse berät Sie gerne zum erweiterten Zugang.', start_char_idx=None, end_char_idx=None, text_template='{metadata_str}\\n\\n{content}', metadata_template='{key}: {value}', metadata_seperator='\\n'),\n",
       " Document(id_='cd1ed93a-b3e6-4aa6-bad2-7ffcee3ad494', embedding=None, metadata={'page_label': '11', 'file_name': 'ba146349.pdf'}, excluded_embed_metadata_keys=[], excluded_llm_metadata_keys=[], relationships={}, hash='ac74625844d624379402ef9e06a639090345b8a8c0bcf4ae933ff3389123a419', text='112.  W ie wirken sich Einkommen und Ver -\\nmögen auf den Kinderzuschlag aus?\\nIhr Einkommen und Vermögen und das Ihres Kindes werden auf \\nden Kinderzuschlag in unterschiedlichem Umfang angerechnet und reduzieren die Höhe des Kinderzuschlags.\\n2.1 Einkommen und V ermögen des Kindes\\nEigenes Einkommen Ihres Kindes, das zu berücksichtigen ist (siehe \\n3.1 auf Seite  16), reduziert den höchstmöglichen Kinderzuschlag von \\n185 Euro. Es wird nicht in vollem Umfang auf den Kinderzuschlag \\nangerechnet, sondern nur zu 45  Prozent.\\nBeispiel  1: Anrechnung von Unterhalt auf Kinderzuschlag\\nDas Kind erhält monatlich Unterhalt in Höhe von 300  Euro. Davon \\nwerden 45  Prozent, also 135  Euro, auf den Kinderzuschlag von \\n185 Euro angerechnet. Kinderzuschlag wird daher höchstens in \\nHöhe von 50  Euro gezahlt.\\nZu dem Einkommen des Kindes gehören neben Erwerbseinkommen und Unterhaltsleistungen des anderen Elternteils für dieses Kind auch Leistungen nach dem Unterhaltsvorschussgesetz. Da der Kinder-zuschlag nachrangig gegenüber anderen möglichen Einkünften des Kindes ist, besteht die Verpflichtung, sich um den Bezug der vorrangigen Leistungen Unterhalt oder Unterhaltsvorschuss zu bemühen.\\nEigenes Vermögen Ihres Kindes, soweit es zu berücksichtigen ist \\n(siehe 3.2 auf Seite\\n 18), und den Freibetrag übersteigt, wird voll auf \\nden Kinderzuschlag angerechnet.So wird beispielsweise bei einem minderjährigen Kind, das eigenes \\nVermögen von mehr als 3.850\\n Euro hat, der übersteigende Betrag \\nauf den Kinderzuschlag voll angerechnet.', start_char_idx=None, end_char_idx=None, text_template='{metadata_str}\\n\\n{content}', metadata_template='{key}: {value}', metadata_seperator='\\n'),\n",
       " Document(id_='c34c0e85-92b7-4c1a-9a9a-84c343d91b42', embedding=None, metadata={'page_label': '12', 'file_name': 'ba146349.pdf'}, excluded_embed_metadata_keys=[], excluded_llm_metadata_keys=[], relationships={}, hash='17a04cb72ed6f7b8a4c1d14fe237c34f0bed6790d7240cdfaef07eb74eabe9ea', text='Ist das den Freibetrag übersteigende Vermögen niedriger als der \\nmonatliche Anspruch auf Kinderzuschlag, wird der Kinderzuschlag \\nim ersten Monat des Bewilligungszeitraums um das entsprechende Vermögen gemindert. Ab dem Folgemonat wird das Vermögen als verbraucht behandelt, so dass Kinderzuschlag ohne Vermögensanrechnung gezahlt wird.\\nBeispiel\\n 2: Reduzierung Kinderzuschlag durch Vermögen\\nDas Vermögen des Kindes liegt 100  Euro über dem Freibetrag, \\nso dass 100  Euro auf den Kinderzuschlag anzurechnen sind. \\nEinkommen hat das Kind keines.\\nDer Kinderzuschlag von 185 Euro wird für den ersten Monat des \\nBewilligungszeitraums um 100 Euro gemindert, es werden also höchstens 85 Euro Kinderzuschlag gezahlt. Ab dem Folgemonat wird der Kinderzuschlag für die restlichen 5 Monate des Bewilligungszeitraums in Höhe von bis zu 185 Euro ausgezahlt.\\nBeispiel  3: Kein Anspruch auf Kinderzuschlag wegen Vermögens\\nDas Vermögen des Kindes liegt 500  Euro über dem Freibetrag, \\nso dass 500  Euro auf den Kinderzuschlag anzurechnen sind. \\nEinkommen hat das Kind keines.\\nDer Kinderzuschlag von 185  Euro wird durch die 500  Euro \\nVermögen vollständig gemindert, so dass kein Anspruch auf Kinderzuschlag besteht.Ist das den Freibetrag übersteigende Vermögen höher als der \\nmonatliche Anspruch auf Kinderzuschlag, entfällt der Anspruch auf Kinderzuschlag. Sobald das Vermögen verbraucht ist, kann ein erneuter Antrag auf Kinderzuschlag gestellt werden.\\nInfo\\nEinkommen und Vermögen eines Kindes mindern nur den Kinderzuschlag dieses Kindes. Sie sind bei weiteren Kindern in der Familie nicht zu berücksichtigen und nicht mit dem Einkommen oder Vermögen der Eltern zusammen zu rechnen.\\n12', start_char_idx=None, end_char_idx=None, text_template='{metadata_str}\\n\\n{content}', metadata_template='{key}: {value}', metadata_seperator='\\n'),\n",
       " Document(id_='58fa5478-f79b-48e7-9d6e-6478ebeb9ee7', embedding=None, metadata={'page_label': '13', 'file_name': 'ba146349.pdf'}, excluded_embed_metadata_keys=[], excluded_llm_metadata_keys=[], relationships={}, hash='a0f284b166231fb39734a5f7f2c215a4242199f122d01f5afcab9647d9639d23', text='2.2 Einkommen und Vermögen der Eltern\\nIst Ihr zu berücksichtigendes Einkommen oder Vermögen höher als \\nIhr eigener gesamter Bedarf (im Einzelnen siehe 1.3 auf Seite 6), mindert es den Kinderzuschlag.\\nBei Ermittlung des eigenen Bedarfs der Eltern werden folgende \\nAnteile der tatsächlichen Wohnkosten berücksichtigt:\\nAlleinerziehende Elternanteil \\nElternteile mit in %\\n1 Kind 77\\n2 Kindern 63\\n3 Kindern 53\\n4 Kindern 46\\n5 Kindern 40Elternpaare mit Elternanteil \\nin %\\n1 Kind 83\\n2 Kindern 71\\n3 Kindern 62\\n4 Kindern 55\\n5 Kindern 50\\nZu den Eltern in diesem Sinne gehören\\n ÎMütter oder Väter, die alleinerziehend sind oder zusammenleben,\\n Îihre nicht dauernd getrennt lebenden Ehegattinnen oder Ehegatten oder eingetragenen Lebenspartner(innen) sowie\\n Îdie mit ihr/ihm in einer eheähnlichen Gemeinschaft zusammen lebenden Partner(innen).\\nHandelt es sich bei dem Einkommen, das den Bedarf der Eltern übersteigt, um Einkommen aus einer Erwerbstätigkeit (auch einer \\nselbständigen Tätigkeit), wird dieses nur zu 45  Prozent auf den \\nKinderzuschlag angerechnet.\\nInfo\\nAndere Einnahmen, z.  B. Krankengeld, Arbeitslosen-\\ngeld, und auch Vermögen werden hingegen in vollem Umfang angerechnet.\\n13', start_char_idx=None, end_char_idx=None, text_template='{metadata_str}\\n\\n{content}', metadata_template='{key}: {value}', metadata_seperator='\\n'),\n",
       " Document(id_='959a0fca-ef1e-431a-8caf-ae9dc55d66ed', embedding=None, metadata={'page_label': '14', 'file_name': 'ba146349.pdf'}, excluded_embed_metadata_keys=[], excluded_llm_metadata_keys=[], relationships={}, hash='82732b28b2be7b09d63ac1ccef6f00b0e487d440eb1d0ddfe46a0d9617e5bb2a', text='14Beispiel  1: Reduzierung des Kinderzuschlags durch \\nEinkommen der Eltern\\nEin Ehepaar lebt mit drei Kindern, die acht, zehn und zwölf \\nJahre alt sind, in einem gemeinsamen Haushalt. Die monatliche \\nMiete beträgt 900  Euro. Der Vater hat ein monatliches Brutto-\\nEinkommen in Höhe von 2.000  Euro. Es ergibt sich bei ihm ein \\nzu berücksichtigendes Einkommen in Höhe von 1.227  Euro. Die \\nMutter hat ein monatliches Brutto-Einkommen von 750  Euro. Es \\nergibt sich ein zu berücksichtigendes Einkommen in Höhe von \\n309 Euro.\\nDas zu berücksichtigende Einkommen der Eltern in Höhe von \\n1.536  Euro (Vater 1.227  Euro, Mutter 309  Euro) ist höher als ihr \\neigener Bedarf in Höhe von 1.336  Euro.\\nRegelbedarf der Eltern Mutter 389 Euro\\nnach SGB IIVater 389 Euro\\n+Anteile der Wohnkostern  62 %   \\nder Eltern von 900 Euro Miete 558 Euro\\n=gesamter Bedarf der Eltern 1.336 Euro\\nDer übersteigende Betrag von 200  Euro ist daher auf den \\nKinderzuschlag für die drei Kinder anzurechnen. Die Anrechnung erfolgt jedoch nur zu 45\\n Prozent, weil das Einkommen aus \\nErwerbstätigkeit erzielt wird. Das heißt, es werden 90  Euro (45  % \\nvon 200  Euro) auf den Kinderzuschlag von 555  Euro (3 x 185  Euro) \\nangerechnet und Kinderzuschlag in Höhe von 465  Euro an die \\nFamilie gezahlt.', start_char_idx=None, end_char_idx=None, text_template='{metadata_str}\\n\\n{content}', metadata_template='{key}: {value}', metadata_seperator='\\n'),\n",
       " Document(id_='e494f718-7094-4f95-aa7e-74434155cb6e', embedding=None, metadata={'page_label': '15', 'file_name': 'ba146349.pdf'}, excluded_embed_metadata_keys=[], excluded_llm_metadata_keys=[], relationships={}, hash='db3fb11d5d4648859daa3060d331f9a4d127b9e7bce253aff81cf57ea98fa219', text='15Beispiel  2: Reduzierung des Kinderzuschlags durch \\nEinkommen der Eltern\\nEin Ehepaar lebt mit seinem achtjährigen Kind in einem \\ngemeinsamen Haushalt. Die monatliche Miete beträgt 800  Euro. \\nDer Vater hat ein monatliches Brutto-Einkommen in Höhe von \\n2.700  Euro. Es ergibt sich ein zu berücksichtigendes Einkommen \\nin Höhe von 1.702  Euro. Die Mutter hat kein eigenes Einkommen.\\nDas zu berücksichtigende Einkommen der Eltern in Höhe von \\n1.702  Euro ist höher als ihr eigener Bedarf in Höhe von 1.442  Euro.\\nRegelbedarf der Eltern Mutter 389 Euro\\nnach SGB IIVater 389 Euro\\n+Anteile der Wohnkostern  83 %   \\nder Eltern von 800 Euro Miete 664 Euro\\n=gesamter Bedarf der Eltern 1.442 Euro\\nDer übersteigende Betrag von 260  Euro ist daher auf den \\nKinderzuschlag anzurechnen. Die Anrechnung erfolgt jedoch nur \\nzu 45  Prozent, weil das Einkommen aus Erwerbstätigkeit erzielt \\nwird. Das heißt, es werden 117  Euro (45  % von 260) auf den \\nKinderzuschlag von 185  Euro angerechnet und Kinderzuschlag in \\nHöhe von 68 Euro an die Familie gezahlt.\\nZu berücksichtigendes Vermögen wird voll angerechnet.\\nIst das zu berücksichtigende Vermögen niedriger als der monatliche \\nAnspruch auf Kinderzuschlag, wird der Kinderzuschlag im ersten Monat des Bewilligungszeitraums um das entsprechende Vermögen gemindert. Ab dem Folgemonat wird das Vermögen als verbraucht behandelt, so dass Kinderzuschlag in der Höhe gezahlt wird, die sich ohne Vermögensanrechnung ergibt.\\nIst das zu berücksichtigende Vermögen höher als der monatliche \\nAnspruch auf Kinderzuschlag, entfällt der Anspruch auf Kinderzuschlag. Sobald das Vermögen verbraucht ist, kann ein erneuter Antrag auf Kinderzuschlag gestellt werden.', start_char_idx=None, end_char_idx=None, text_template='{metadata_str}\\n\\n{content}', metadata_template='{key}: {value}', metadata_seperator='\\n'),\n",
       " Document(id_='620f86b5-1e02-4282-bd82-09ba0a73f601', embedding=None, metadata={'page_label': '16', 'file_name': 'ba146349.pdf'}, excluded_embed_metadata_keys=[], excluded_llm_metadata_keys=[], relationships={}, hash='fd621c48382ad21f07f0e796d0c24e8847ca287c306eb5b599b5adfa7ffeab89', text='3.  W as ist als Einkommen und Vermögen \\nzu berücksichtigen?\\nWas als Einkommen und Vermögen bei der Berechnung des \\nKinderzuschlags zu berücksichtigen ist, bestimmt sich nach dem \\nSGB  II. Es werden bei der Ermittlung auch verschiedene Freibeträge \\nabgezogen. Mit dem bei der Berechnung des Kinderzuschlags „zu berücksichtigenden Einkommen und Vermögen“ ist immer das Einkommen und Vermögen nach Abzug sämtlicher Posten und \\nFreibeträge nach dem SGB  II gemeint. Kindergeld, Wohngeld, \\nKinderzuschlag und Leistungen nach dem SGB  II werden bei der \\nBerechnung des Kinderzuschlags nicht berücksichtigt.\\n3.1 Einkommen\\nEinkommen sind in der Regel alle Einnahmen in Geld. Es kommt nicht darauf an, welcher Art und Herkunft die Einnahmen sind, ob sie zur Deckung des Lebensunterhaltes bestimmt oder steuerpflichtig sind oder ob sie einmalig oder wiederholt anfallen.\\nZum Einkommen gehören beispielsweise\\n ÎEinnahmen aus einer nichtselbständigen oder selbständigen  \\nErwerbstätigkeit,\\n ÎUnterhaltsleistungen (Ehegattenunterhalt und Kindesunterhalt) \\noder Leistungen nach dem Unterhaltsvorschussgesetz,\\n ÎEntgeltersatzleistungen wie Arbeitslosengeld oder Krankengeld,\\n ÎElterngeld oder Landeserziehungsgeld,\\n ÎRenten aus der Sozialversicherung,\\n ÎKapital- und Zinserträge,\\n ÎEinnahmen aus Vermietung und Verpachtung.\\n16', start_char_idx=None, end_char_idx=None, text_template='{metadata_str}\\n\\n{content}', metadata_template='{key}: {value}', metadata_seperator='\\n'),\n",
       " Document(id_='acd947e5-e2f4-4dde-be3d-aa76d103c940', embedding=None, metadata={'page_label': '17', 'file_name': 'ba146349.pdf'}, excluded_embed_metadata_keys=[], excluded_llm_metadata_keys=[], relationships={}, hash='7053a40088b9e7fe4aa90c572c416b846b9e97836641b32422bf7ba9f34bf420', text='173.1.1 Kein Einkommen\\nFolgende Einnahmen sind zum Beispiel wegen ihrer besonderen \\nZweckbestimmung beim Kinderzuschlag nicht als Einkommen zu berücksichtigen:\\n ÎLeistungen der Pflegeversicherung,\\n ÎGrundrenten nach dem Bundesversorgungsgesetz oder nach vergleichbaren gesetzlichen Regelungen.\\n3.1.2 Absetzbeträge\\nVon den Brutto-Einkommen werden abgesetzt:\\n ÎLohnsteuer/Einkommensteuer, Solidaritätszuschlag, Kirchen-\\nsteuer und Kapitalertragssteuer,\\n ÎBeiträge zur gesetzlichen Kranken-, Pflege- und Renten-versicherung sowie zur Arbeitslosenversicherung,\\n ÎBeiträge zu sonstigen Versicherungen, soweit diese Beiträge \\ngesetzlich vorgeschrieben oder angemessen sind (z.  B. Beiträge \\nfür eine freiwillige oder private Kranken- und Pflegeversicherung, zur Altersvorsorge für nicht Rentenversicherungspflichtige, zu einer Kfz-Haftpflichtversicherung),\\n Înach dem Einkommensteuergesetz geförderte Altersvorsorge-beiträge (für die „Riester-Rente“),\\n ÎWerbungskosten (z.  B. Fahrtkosten zur Arbeitsstätte, Beiträge \\nzu Berufsverbänden und Gewerkschaften),\\n Îein Freibetrag für Erwerbstätige von mindestens 100  Euro und \\nmaximal 330  Euro, abhängig von der Höhe des Einkommens,\\n ÎAufwendungen zur Erfüllung gesetzlicher Unterhaltsver-pflichtungen, soweit diese tituliert oder notariell beurkundet sind,\\n Îdie Beträge vom Einkommen, die bei der Ausbildungsförderung für mindestens ein Kind berücksichtigt wurden,\\n Îein Elterngeldfreibetrag in Höhe von bis zu 300  Euro bzw . \\nbei Elterngeld Plus von 150  Euro monatlich für Elterngeld-\\nberechtigte, die vor der Geburt des Kindes erwerbstätig waren.', start_char_idx=None, end_char_idx=None, text_template='{metadata_str}\\n\\n{content}', metadata_template='{key}: {value}', metadata_seperator='\\n'),\n",
       " Document(id_='26d95da7-8c21-4ca6-bc10-c7b2f9c185fd', embedding=None, metadata={'page_label': '18', 'file_name': 'ba146349.pdf'}, excluded_embed_metadata_keys=[], excluded_llm_metadata_keys=[], relationships={}, hash='1fa3897d23a12787ae4faf57524e5b93fe21a0d3681c98acaa8ce4971087b92a', text='3.2 Vermögen\\nAls Vermögen sind in der Regel alle verwertbaren Vermögens-\\ngegenstände zu berücksichtigen. Dazu gehören insbesondere \\nBargeld, (Spar-) Guthaben wie z.  B. Wertpapiere, Bausparguthaben \\nsowie Haus- und Grundeigentum. Das Vermögen ist verwertbar, \\nwenn es für den Lebensunterhalt verwendet oder sein Geldwert z.  B. \\ndurch Verkauf oder Vermietung bzw. Verpachtung nutzbar gemacht werden kann.\\n3.2.1 Kein Vermögen\\nBeim Kinderzuschlag nicht als Vermögen zu berücksichtigen sind \\nbeispielsweise\\n Îangemessener Hausrat (alle Gegenstände, die zur Haushalts -\\nführung notwendig oder üblich sind),\\n Îzur Altersvorsorge bestimmtes Vermögen von nicht Rentenver-\\nsicherungspflichtigen in angemessener Höhe,\\n Îeine selbst bewohnte Immobilie von angemessener Größe.\\n3.2.2 Freibeträge\\nVon dem ermittelten Vermögen werden verschiedene Freibeträge \\nabgezogen; nur das darüber hinaus gehende Vermögen wird auf den \\nKinderzuschlag angerechnet.\\n18Info\\nAngaben zum Vermögen müssen Sie nur machen, wenn das Vermögen mindestens einer Person im \\nHaushalt mehr als 3.850  Euro (bei Paaren gemeinsam \\nmehr als 7.700 Euro)  beträgt.', start_char_idx=None, end_char_idx=None, text_template='{metadata_str}\\n\\n{content}', metadata_template='{key}: {value}', metadata_seperator='\\n'),\n",
       " Document(id_='688f0919-831a-4071-b052-cd48a38346d0', embedding=None, metadata={'page_label': '19', 'file_name': 'ba146349.pdf'}, excluded_embed_metadata_keys=[], excluded_llm_metadata_keys=[], relationships={}, hash='384e323aef5d88c7a8c1c2b2f9c74198f384139fff24e3383c4636c20f3886ca', text='194.  Bewilligungszeitraum und  \\nBemessungszeitraum\\nBewilligungszeitraum\\nDer Kinderzuschlag wird für 6 Monate bewilligt (Bewilligungszeitraum). Der Bewilligungszeitraum beginnt mit dem Monat, in dem Sie den Antrag auf Kinderzuschlag stellen.\\nBeispiel: Bewilligungszeitraum\\nDer Antrag auf Kinderzuschlag wird am 15.  Januar  2020 gestellt. \\nBewilligt wird der Kinderzuschlag für den Zeitraum Januar  2020 \\nbis Juni  2020.\\nBemessungszeitraum\\nFür die Entscheidung, ob Kinderzuschlag gezahlt wird, kommt es auf \\ndie Einkommensverhältnisse der letzten 6 Monate vor Antragstellung an.\\nFür die Ermittlung der Wohnkosten sind die Verhältnisse im \\nAntragsmonat maßgeblich, wenn Sie die Wohnung gemietet haben.\\nBei Wohneigentum wird aus den monatlichen Kosten im Kalenderjahr \\nvor der Bewilligung ein Durchschnittswert gebildet. Liegen nicht für alle Monate entsprechende Werte vor, weil das Wohneigentum erst im Laufe des Kalenderjahres bezogen wurde, wird ein Durchschnitt aus den letzten vorliegenden Monaten (maximal 12) gebildet.', start_char_idx=None, end_char_idx=None, text_template='{metadata_str}\\n\\n{content}', metadata_template='{key}: {value}', metadata_seperator='\\n'),\n",
       " Document(id_='797871c7-05a2-402e-ad10-b2a093084b33', embedding=None, metadata={'page_label': '20', 'file_name': 'ba146349.pdf'}, excluded_embed_metadata_keys=[], excluded_llm_metadata_keys=[], relationships={}, hash='0802a17c2ddad74f1b15bfdaafbbbb8c0e88fa0f15cc0fc756c27ec5ac195954', text='20Mitteilung von Änderungen im Bewilligungszeitraum\\nÄndert sich während des Bewilligungszeitraums etwas an Ihrem \\nEinkommen oder Ihren Wohnkosten, müssen Sie dies der Familienkasse nicht mitteilen, da dies Ihren Kinderzuschlag nicht verändert.\\nNur wenn jemand in Ihren Haushalt einzieht oder aus Ihrem \\nHaushalt auszieht oder ein Kind in die Familie geboren wird, hat dies Auswirkungen auf Ihre Bewilligung. Änderungen dieser Art sind der Familienkasse daher unverzüglich mitzuteilen (siehe auch 7. auf \\nSeite  22).\\nTipp\\nSollten sich die finanziellen Verhältnisse derart verschlechtern, dass der Kinderzuschlag nicht mehr ausreicht, um den gesamten Bedarf der Familie zu decken, besteht die Möglichkeit, ergänzende Leistungen nach dem SGB II zu beantragen.\\n5.  An wen wird der Kinderzuschlag  \\ngezahlt?\\nFür ein und dasselbe Kind kann immer nur eine Person den Kinder-\\nzuschlag erhalten. In aller Regel wird der Kinderzuschlag an den-jenigen Elternteil gezahlt, der auch das Kindergeld bezieht. Der Kinderzuschlag wird zusammen mit dem Kindergeld ausgezahlt.', start_char_idx=None, end_char_idx=None, text_template='{metadata_str}\\n\\n{content}', metadata_template='{key}: {value}', metadata_seperator='\\n'),\n",
       " Document(id_='a47674d9-645c-4afe-b3b3-da8b9bb59837', embedding=None, metadata={'page_label': '21', 'file_name': 'ba146349.pdf'}, excluded_embed_metadata_keys=[], excluded_llm_metadata_keys=[], relationships={}, hash='626375386e0e9f41ee84d769ad8d2741eb879e314311529b7e1753738b0f8ea5', text='216.  Was muss man tun, um den Kinder-\\nzuschlag zu bekommen?\\nDer Kinderzuschlag muss schriftlich beantragt werden; Antrags-\\nformulare gibt es bei jeder Familienkasse der Bundesagentur für Arbeit oder zum Herunterladen im Internet unter:\\nwww.familienkasse.de bzw. www.kinderzuschlag.de\\nAb Anfang 2020 kann der Kinderzuschlag auch online beantragt werden. Die Antragstellung wird dadurch komfortabler und erleichtert.\\nDer Antrag ist bei der  zuständigen Familienkasse der Bundesagentur \\nfür Arbeit abzugeben oder dorthin zu übersenden. Die Familienkasse der Bundesagentur für Arbeit ist auch zuständig, wenn ein Elternteil im öffentlichen Dienst beschäftigt ist.\\nIhre zuständige Familienkasse finden Sie auf den vorgenannten \\nInternetseiten >> ganz unten rechts „Dienststelle finden\".\\nAchtung\\nStellen Sie den Antrag so schnell wie möglich, denn für Monate vor der Antragstellung können Sie in der Regel keinen Kinderzuschlag erhalten.\\nFür jeden neuen Bewilligungszeitraum ist stets ein neuer Antrag zu \\nstellen.\\nAlle Angaben sind in der Regel durch entsprechende Nachweise zu \\nbelegen. Welche Nachweise im Einzelnen erforderlich sind, ergibt sich aus dem Antrag auf Kinderzuschlag.\\nInfo\\nDie Familienkassen der Bundesagentur für Arbeit führen Ihre Akte in elektronischer Form. Bitte beachten Sie, dass von Ihnen eingereichte Papierunterlagen nach Überführung in die elektronische Form nach kurzer Zeit vernichtet werden. Übermitteln Sie daher nach Möglichkeit keine Originale, sondern Kopien \\nvon den erforderlichen Nachweisen.', start_char_idx=None, end_char_idx=None, text_template='{metadata_str}\\n\\n{content}', metadata_template='{key}: {value}', metadata_seperator='\\n'),\n",
       " Document(id_='cf65ffe7-8c5d-4588-bd58-1d6446204738', embedding=None, metadata={'page_label': '22', 'file_name': 'ba146349.pdf'}, excluded_embed_metadata_keys=[], excluded_llm_metadata_keys=[], relationships={}, hash='b9a3ea116b76a44846039352c1ce5cffa55798297b1646a52b5d2faacbe3c5e4', text='227.  W as müssen Sie der Familienkasse \\nmitteilen?\\nWenn Sie Kinderzuschlag beantragt haben oder bekommen, müssen \\nSie der Familienkasse der Bundesagentur für Arbeit unverzüglich alle Änderungen mitteilen, die sich auf die Leistung auswirken können. Es genügt nicht, wenn Sie die Änderungen einer anderen Behörde oder sonstigen Stelle mitteilen.\\nIhrer Familienkasse müssen Sie insbesondere mitteilen, wenn\\n Îein weiteres Kind in die Familie geboren wird,\\n Îein weiteres Kind unter 25 Jahren in den Haushalt einzieht,\\n Îein Kind, für das Sie Kinderzuschlag bekommen, aus Ihrem \\nHaushalt auszieht,\\n ÎSie aus dem gemeinsamen Haushalt ausziehen,\\n Îder andere Elternteil bzw. Ihr(e) Partner(in) aus dem gemeinsamen Haushalt auszieht oder eine neue Partnerin bzw. ein neuer Partner bei Ihnen einzieht.\\nBitte teilen Sie Ihrer Familienkasse auch mit, wenn sich etwas in Ihren persönlichen Verhältnissen (Anschrift, Bankverbindung) geändert hat.\\nAchtung\\nWenn Sie Veränderungen verspätet oder gar nicht mitteilen, müssen Sie nicht nur vielleicht den zu Unrecht gezahlten Kinderzuschlag zurückzahlen. Sie müssen außerdem mit einer Geldbuße oder strafrechtlichen Verfolgung rechnen. Falls Sie nicht genau wissen, ob sich eine Veränderung auf den Kinderzuschlag auswirkt, fragen Sie bitte bei Ihrer Familienkasse nach.', start_char_idx=None, end_char_idx=None, text_template='{metadata_str}\\n\\n{content}', metadata_template='{key}: {value}', metadata_seperator='\\n'),\n",
       " Document(id_='7b1a4120-202e-4735-bbc8-fe39de93fed4', embedding=None, metadata={'page_label': '23', 'file_name': 'ba146349.pdf'}, excluded_embed_metadata_keys=[], excluded_llm_metadata_keys=[], relationships={}, hash='0998a58cfe640089dd8381c9e6ab158ac1dadcc2f2f760044a8fbb876cf3fe4b', text='238.  Kostenfreie KiT a und Bildungs- und \\nTeilhabeleistungen\\nWenn Sie Kinderzuschlag bekommen, müssen Sie keine KiTa-\\nGebühren zahlen.\\nAußerdem können sie Leistungen zur Bildung und Teilhabe für ihre \\nKinder erhalten. Im Einzelnen kommen hierbei folgende Leistungen in Betracht:\\n Îeintägige Ausflüge von Schule, Kindertagesstätte oder Tages-pflege (gesamte Kosten),\\n Îmehrtägige Klassenfahrten sowie mehrtägige Ausflüge der Kindertagesstätte oder Tagespflege (gesamte Kosten),\\n ÎGeldleistung für die Ausstattung mit persönlichem Schulbedarf in Höhe von 150\\n Euro pro Schuljahr,\\n ÎKosten für Schülerbeförderung ( gesamte Kosten) ,\\n Îangemessene Lernförderung bei nicht ausreichenden Leistungen in der Schule, unabhängig von einer unmittelbaren Versetzungsgefährdung,\\n Îgemeinschaftliche Mittagsverpflegung in der Schule (auch in Kooperation mit dem Hort), Kindertagesstätte oder in der Tagespflege (gesamte Kosten) sowie\\n ÎLeistungen für die Teilnahme am sozialen und kulturellen Leben in der Gemeinschaft (monatlich pauschal\\n 15 Euro) .\\nDiese Leistungen sind bei der zuständigen kommunalen Stelle zu beantragen. Welche Stelle für Sie zur Beantragung der Leistungen zuständig ist, erfahren Sie auf der Internetseite des Bundesministeriums für Arbeit und Soziales (Folgen Sie folgendem Pfad: www.bmas.de >> Themen Arbeitsmarkt >> Grundsicherung >> \\nDas Bildungspaket >> Anlaufstellen - Hier gibt\\'s das Bildungspaket). Bei den zuständigen Stellen erhalten Sie auch weitere Auskünfte zu den Bildungs- und Teilhabeleistungen.\\nUnter der Telefonnummer 030 221 911 009 ist das Bürgertelefon \\nzum Thema „Bildungspaket\" montags bis donnerstags zwischen \\n8:00 und 20:00 Uhr erreichbar.', start_char_idx=None, end_char_idx=None, text_template='{metadata_str}\\n\\n{content}', metadata_template='{key}: {value}', metadata_seperator='\\n'),\n",
       " Document(id_='851c9771-3160-42ef-8377-4e217af1d617', embedding=None, metadata={'page_label': '24', 'file_name': 'ba146349.pdf'}, excluded_embed_metadata_keys=[], excluded_llm_metadata_keys=[], relationships={}, hash='ec74da5aa63c6b6f354396d77961a0c08cf60b4f42c56a4c9483d3bd5d49c264', text='Aktuelle Informationen über die Dienste und Leistungen  \\nder Familienkasse finden Sie auch im Internet unter:\\nwww.familienkasse.de bzw.\\nwww.kinderzuschlag.de\\nStand: Januar 2020  \\n \\nFK KiZ 2 – 01.20', start_char_idx=None, end_char_idx=None, text_template='{metadata_str}\\n\\n{content}', metadata_template='{key}: {value}', metadata_seperator='\\n')]"
      ]
     },
     "execution_count": 132,
     "metadata": {},
     "output_type": "execute_result"
    }
   ],
   "source": [
    "docs_llama"
   ]
  },
  {
   "cell_type": "code",
   "execution_count": 133,
   "metadata": {},
   "outputs": [],
   "source": [
    "from llama_index.node_parser import SimpleNodeParser\n",
    "\n",
    "\n",
    "# parse nodes\n",
    "parser = SimpleNodeParser.from_defaults()\n",
    "nodes = parser.get_nodes_from_documents(docs_llama)"
   ]
  },
  {
   "cell_type": "code",
   "execution_count": 139,
   "metadata": {},
   "outputs": [
    {
     "data": {
      "text/plain": [
       "' Familienkasse\\nWir helfen Familien.\\nMerkblatt\\nKinderzuschlag\\nDer Zuschlag zum Kindergeld für Familien  \\nmit kleinem Einkommen'"
      ]
     },
     "execution_count": 139,
     "metadata": {},
     "output_type": "execute_result"
    }
   ],
   "source": [
    "docs_llama[0].get_text()"
   ]
  },
  {
   "cell_type": "code",
   "execution_count": 140,
   "metadata": {},
   "outputs": [
    {
     "data": {
      "text/plain": [
       "'Familienkasse\\nWir helfen Familien.\\nMerkblatt\\nKinderzuschlag\\nDer Zuschlag zum Kindergeld für Familien  \\nmit kleinem Einkommen'"
      ]
     },
     "execution_count": 140,
     "metadata": {},
     "output_type": "execute_result"
    }
   ],
   "source": [
    "nodes[0].get_content()"
   ]
  }
 ],
 "metadata": {
  "kernelspec": {
   "display_name": ".venv_chatbot_afa",
   "language": "python",
   "name": "python3"
  },
  "language_info": {
   "codemirror_mode": {
    "name": "ipython",
    "version": 3
   },
   "file_extension": ".py",
   "mimetype": "text/x-python",
   "name": "python",
   "nbconvert_exporter": "python",
   "pygments_lexer": "ipython3",
   "version": "3.10.12"
  }
 },
 "nbformat": 4,
 "nbformat_minor": 2
}
