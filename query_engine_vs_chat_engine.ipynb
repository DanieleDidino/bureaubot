{
 "cells": [
  {
   "cell_type": "code",
   "execution_count": 21,
   "metadata": {},
   "outputs": [],
   "source": [
    "from llama_index import LLMPredictor, ServiceContext\n",
    "# from llama_index import VectorStoreIndex\n",
    "# from llama_index import SimpleDirectoryReader\n",
    "from llama_index import Prompt\n",
    "from llama_index import PromptHelper\n",
    "from llama_index import StorageContext, load_index_from_storage\n",
    "from llama_index.evaluation import ResponseEvaluator\n",
    "from llama_index.llms import OpenAI\n",
    "# from langchain.chat_models import ChatOpenAI\n",
    "from IPython.display import Markdown, display\n",
    "\n",
    "import environ\n",
    "import openai"
   ]
  },
  {
   "cell_type": "code",
   "execution_count": 2,
   "metadata": {},
   "outputs": [
    {
     "name": "stderr",
     "output_type": "stream",
     "text": [
      "/home/daniele/Desktop/Projects/chatbot_dsr_project/.venv_chatbot/lib/python3.10/site-packages/environ/environ.py:639: UserWarning: /tmp/ipykernel_16239/.env doesn't exist - if you're not configuring your environment separately, create one.\n",
      "  warnings.warn(\n"
     ]
    }
   ],
   "source": [
    "# For now I use my key\n",
    "env = environ.Env()\n",
    "environ.Env.read_env()\n",
    "API_KEY = env(\"OPENAI_API_KEY\")\n",
    "openai.api_key = API_KEY"
   ]
  },
  {
   "cell_type": "markdown",
   "metadata": {},
   "source": [
    "# Load vector store"
   ]
  },
  {
   "cell_type": "code",
   "execution_count": 3,
   "metadata": {},
   "outputs": [],
   "source": [
    "embedding_path = \"vector_db\"\n",
    "# rebuild storage context\n",
    "storage_context_from_load = StorageContext.from_defaults(persist_dir=embedding_path)\n",
    "# load index\n",
    "index_loaded = load_index_from_storage(storage_context_from_load)"
   ]
  },
  {
   "cell_type": "markdown",
   "metadata": {},
   "source": [
    "# Evaluator"
   ]
  },
  {
   "cell_type": "code",
   "execution_count": null,
   "metadata": {},
   "outputs": [],
   "source": [
    "def eval_response(response):\n",
    "    service_context_eval = ServiceContext.from_defaults(llm_predictor=llm)\n",
    "    evaluator = ResponseEvaluator(service_context=service_context_eval)\n",
    "    eval_result = evaluator.evaluate(response)\n",
    "    if eval_result == \"NO\":\n",
    "        print(str(eval_result))\n",
    "        print(\"info not available\")\n",
    "        return None\n",
    "    elif eval_result == \"YES\":\n",
    "        display(Markdown(response.response))\n",
    "        response_metadata_chat = dict()\n",
    "        for i, source_node in enumerate(response.source_nodes):\n",
    "            key_name = \"ref_\" + str(i)\n",
    "            response_metadata_chat[key_name] = {\n",
    "                \"page\": source_node.node.metadata[\"page_label\"],\n",
    "                \"document\":source_node.node.metadata[\"file_name\"]\n",
    "            }\n",
    "        return response_metadata_chat\n",
    "    else:\n",
    "        print(\"something went wrong, try again!\")\n",
    "        return None"
   ]
  },
  {
   "cell_type": "markdown",
   "metadata": {},
   "source": [
    "# as_query_engine"
   ]
  },
  {
   "cell_type": "code",
   "execution_count": 17,
   "metadata": {},
   "outputs": [],
   "source": [
    "# Define prompt\n",
    "template = (\n",
    "    \"We have provided context information below. \\n\"\n",
    "    \"---------------------\\n\"\n",
    "    \"{context_str}\"\n",
    "    \"\\n---------------------\\n\"\n",
    "    \"Do not give me an answer if it is not mentioned in the context as a fact. \\n\"\n",
    "    \"Given this information, please provide me with an answer to the following question:\\n{query_str}\\n\"\n",
    ")\n",
    "qa_template = Prompt(template)\n",
    "\n",
    "query_engine_1 = index_loaded.as_query_engine(text_qa_template=qa_template, similarity_top_k=3)"
   ]
  },
  {
   "cell_type": "code",
   "execution_count": 18,
   "metadata": {},
   "outputs": [],
   "source": [
    "response_1 = query_engine_1.query(\"What do you know about the city of Berlin?\")"
   ]
  },
  {
   "cell_type": "code",
   "execution_count": 19,
   "metadata": {},
   "outputs": [
    {
     "data": {
      "text/markdown": [
       "Based on the provided context information, there is no specific information about the city of Berlin."
      ],
      "text/plain": [
       "<IPython.core.display.Markdown object>"
      ]
     },
     "metadata": {},
     "output_type": "display_data"
    }
   ],
   "source": [
    "display(Markdown(response_1.response))"
   ]
  },
  {
   "cell_type": "code",
   "execution_count": 8,
   "metadata": {},
   "outputs": [
    {
     "data": {
      "text/plain": [
       "{'101c5b70-98d4-432f-bfd5-80811b2128f7': {'page_label': '31',\n",
       "  'file_name': 'dok_ba013155.pdf'},\n",
       " '9db2aa01-0b59-481e-84bc-9cde6f424936': {'page_label': '10',\n",
       "  'file_name': 'merkblatt-11-berufsberatung_ba015370.pdf'},\n",
       " 'bc2e065b-9c57-4449-8dea-e5ce8abce924': {'page_label': '16',\n",
       "  'file_name': 'merkblatt-algii_ba015397.pdf'}}"
      ]
     },
     "execution_count": 8,
     "metadata": {},
     "output_type": "execute_result"
    }
   ],
   "source": [
    "response_1.metadata"
   ]
  },
  {
   "cell_type": "code",
   "execution_count": 9,
   "metadata": {},
   "outputs": [
    {
     "data": {
      "text/plain": [
       "{'ref_0': {'page': '31', 'document': 'dok_ba013155.pdf'},\n",
       " 'ref_1': {'page': '10',\n",
       "  'document': 'merkblatt-11-berufsberatung_ba015370.pdf'},\n",
       " 'ref_2': {'page': '16', 'document': 'merkblatt-algii_ba015397.pdf'}}"
      ]
     },
     "execution_count": 9,
     "metadata": {},
     "output_type": "execute_result"
    }
   ],
   "source": [
    "response_text = response_1.response\n",
    "response_metadata = dict()\n",
    "response_metadata_message = f'There {len(response_1.metadata)} sources:'\n",
    "for i, meta_data in enumerate(response_1.metadata):\n",
    "    key_name = \"ref_\" + str(i)\n",
    "    response_metadata[key_name] = {\n",
    "        \"page\": response_1.metadata[meta_data][\"page_label\"],\n",
    "        \"document\":response_1.metadata[meta_data][\"file_name\"]\n",
    "    }\n",
    "    response_metadata_message += \"\\n -\" + key_name + f'Page {response_1.metadata[meta_data][\"page_label\"]} from file {response_1.metadata[meta_data][\"file_name\"]}'\n",
    "\n",
    "response_metadata"
   ]
  },
  {
   "cell_type": "code",
   "execution_count": 99,
   "metadata": {},
   "outputs": [
    {
     "name": "stdout",
     "output_type": "stream",
     "text": [
      "NO\n",
      "info not available\n"
     ]
    }
   ],
   "source": [
    "eval_response(response_1)"
   ]
  },
  {
   "cell_type": "markdown",
   "metadata": {},
   "source": [
    "# as_chat_engine"
   ]
  },
  {
   "cell_type": "code",
   "execution_count": 85,
   "metadata": {},
   "outputs": [],
   "source": [
    "# Configure prompt parameters and initialise helper\n",
    "max_input_size = 4096\n",
    "num_output = 256\n",
    "max_chunk_overlap = 0.2\n",
    "prompt_helper = PromptHelper(max_input_size, num_output, max_chunk_overlap)\n",
    "\n",
    "system_prompt = (\n",
    "    \"\"\"\n",
    "    You are an expert on the German administration system and your job is to answer technical questions.\n",
    "    Assume that all questions are related to the the provided context.\n",
    "    Keep your answers based on facts, do not hallucinate information.\n",
    "    \"\"\"\n",
    ")\n",
    "\n",
    "llm= LLMPredictor(llm=OpenAI(\n",
    "    temperature=0,\n",
    "    model_name=\"gpt-3.5-turbo\",\n",
    "    system_prompt=system_prompt\n",
    "))\n",
    "\n",
    "service_context = ServiceContext.from_defaults(llm_predictor=llm, prompt_helper=prompt_helper)\n",
    "\n",
    "chat_engine = index_loaded.as_chat_engine(\n",
    "    #service_context=service_context,\n",
    "    chat_mode=\"context\",\n",
    "    # verbose=True\n",
    "    similarity_top_k=3\n",
    ")"
   ]
  },
  {
   "cell_type": "code",
   "execution_count": 101,
   "metadata": {},
   "outputs": [],
   "source": [
    "response_chat_test = chat_engine.chat(\"What do you know about the city of Berlin?\")\n",
    "# response_chat_test = chat_engine.chat(\"Is the unemployment benefit based on the number of children I have?\")"
   ]
  },
  {
   "cell_type": "code",
   "execution_count": 102,
   "metadata": {},
   "outputs": [
    {
     "data": {
      "text/plain": [
       "AgentChatResponse(response=\"Berlin is the capital and largest city of Germany. It is located in the northeastern part of the country and is known for its rich history, vibrant culture, and diverse population. Here are some key points about Berlin:\\n\\n1. History: Berlin has a significant historical background, including its division during the Cold War when it was split into East Berlin (under Soviet control) and West Berlin (controlled by the Allies). The Berlin Wall, which separated the two parts, became a symbol of the Cold War. The city was reunified in 1990 after the fall of the wall.\\n\\n2. Landmarks: Berlin is home to several iconic landmarks, such as the Brandenburg Gate, a symbol of German unity, and the Reichstag building, which houses the German parliament. Other notable sites include the Berlin Wall Memorial, Checkpoint Charlie, and the Holocaust Memorial.\\n\\n3. Cultural Hub: Berlin is renowned for its thriving arts and cultural scene. It has numerous museums, galleries, theaters, and music venues. The city hosts various international film festivals, including the Berlin International Film Festival (Berlinale). Berlin is also known for its street art and alternative subcultures.\\n\\n4. Green Spaces: Despite being a bustling metropolis, Berlin offers plenty of green spaces. The Tiergarten, a large urban park in the city center, is a popular spot for recreation and relaxation. Additionally, Berlin has many lakes and canals, providing opportunities for water activities.\\n\\n5. Nightlife: Berlin has a vibrant nightlife scene, with numerous clubs, bars, and music venues. The city is famous for its electronic music and techno clubs, attracting party-goers from around the world.\\n\\n6. Start-up Hub: Berlin has emerged as a major hub for start-ups and innovation. The city's entrepreneurial spirit and supportive ecosystem have attracted many tech companies and entrepreneurs.\\n\\n7. International Cuisine: Berlin is known for its diverse culinary scene, offering a wide range of international cuisines. The city has a thriving street food culture and is particularly famous for its currywurst and döner kebabs.\\n\\n8. Transportation: Berlin has an extensive public transportation system, including buses, trams, and an efficient subway network (U-Bahn). Bicycling is also popular, with many dedicated bike lanes throughout the city.\\n\\nOverall, Berlin is a dynamic and cosmopolitan city that combines a rich history with a modern and progressive atmosphere.\", sources=[ToolOutput(content='system: Context information is below.\\n--------------------\\npage_label: 31\\nfile_name: dok_ba013155.pdf\\n\\n315 In Deutschland  gearbeitet und im Ausland gewohnt\\n5  Sie haben in Deutschland \\n gearbeitet und haben als \\nGrenzgängerin bzw. Grenz -\\ngänger im (benach  barten) \\nAusland gewohnt?\\n5.1  Zusätzliche Arbeitsuchendmeldung von \\nGrenzgängerinnen bzw. Grenzgängern im \\nbisherigen Beschäftigungsstaat\\nWenn Sie in einem anderen Mitgliedstaat wohnen und \\neine Beschäftigung von dort aus als Grenzgängerin \\nbzw. Grenzgänger in Deutschland ausüben, erhalten \\nSie bei Arbeitslosigkeit grundsätzlich  Leistungen von \\ndem Staat, in dem Sie wohnen (Wohnstaat). Sie kön \\xad\\nnen Ihr Vermittlungsgesuch aber auch in Deutschland \\nmitführen lassen.\\n BITTE BEACHTEN SIE\\nWenn Sie sich zusätzlich arbeitsuchend \\n melden möchten, müssen Sie aktiv bei der \\nArbeitsuche mitwirken.\\n BEISPIEL\\nSie wohnten während Ihrer Beschäftigung in Deutsch \\xad\\nland im benachbarten Ausland. Ihr Arbeitslosengeld \\nwird im Wohnstaat gezahlt. Sie wollen aber auch wie \\xad\\nder eine Beschäftigung in Deutschland finden. Sie kön \\xad\\nnen Ihr Vermittlungsgesuch zusätzlich in Deutschland \\nmitführen lassen und sich arbeitsuchend melden.\\n\\npage_label: 10\\nfile_name: merkblatt-11-berufsberatung_ba015370.pdf\\n\\n2 Informationen zu Ausbildung, Studium und Beruf\\n10onsanliegen sind Ihnen die BiZ-Mitarbeiterinnen und \\nMitarbeiter auch gerne persönlich behilflich. \\n HINWEIS\\nAktuelle Veranstaltungen im BiZ, z. B. Vorträge oder \\nWorkshops zum Thema Bewerbung oder  Berufe finden \\nSie in der zentralen Datenbank für Ver anstaltungen  \\nim Internet unter »  www.arbeitsagentur.de  > Weitere \\nInternetauftritte > Veranstaltungsdatenbank.\\nSelbstverständlich erhalten Sie Informationen über \\n Berufe, Ausbildung, Bewerbung, Schule und Studium \\nund alternative Wege auch in der Einzelberatung . Die \\nBerufsberaterin oder der Berufsberater hilft Ihnen da -\\nbei, die für Sie wichtigen Informationen zu finden und \\nzu bewerten. Vereinbaren Sie einen Gesprächstermin  – \\ntelefonisch, online, persönlich (siehe S. 6).\\nUm sich auf das Beratungsgespräch vorzubereiten, \\nkönnen Sie die Internetportale » www.planet-beruf.de  \\n(bei Schulabschluss im Bereich der Sekundarstufe I) \\nund » www.abi.de  (für die Sekundarstufe II) nutzen.\\nWenn Sie an einer Ausbildung , einem Studium  oder \\nan einer Tätigkeit im Ausland  interessiert sind, stehen \\nIhnen die Informations- und Beratungsangebote der \\nZentralen Auslands- und Fachvermittlung (ZAV)  zur \\nVerfügung.\\n LINK\\nAktuelle Informationen finden Sie auf der Internetseite \\n»www.zav.de . Zudem können Sie sich telefonisch an\\neine Mitarbeiterin oder einen Mitarbeiter des Infocen -\\nters „Virtuelles Welcome Center “ wenden – die Ruf-\\n\\npage_label: 16\\nfile_name: merkblatt-algii_ba015397.pdf\\n\\n2 Das Jobcenter\\n16Haben wir Ihr Interesse geweckt? Dann nutzen Sie Ihr \\nBenutzerkonto unter » www.jobcenter.digital  für die \\nsichere Kommunikation mit Ihrem Jobcenter. \\nBei allen Fragen zur Anmeldung steht Ihnen die  \\nService-Hotline unter der Rufnummer 0800 - 4555501  \\ntelefonisch zur Verfügung.\\nZum Aufruf der Startseite » www.jobcenter.digital   \\nkönnen Sie auch folgenden QR-Code nutzen.\\n--------------------\\n', tool_name='retriever', raw_input={'message': 'What do you know about the city of Berlin?'}, raw_output=ChatMessage(role=<MessageRole.SYSTEM: 'system'>, content='Context information is below.\\n--------------------\\npage_label: 31\\nfile_name: dok_ba013155.pdf\\n\\n315 In Deutschland  gearbeitet und im Ausland gewohnt\\n5  Sie haben in Deutschland \\n gearbeitet und haben als \\nGrenzgängerin bzw. Grenz -\\ngänger im (benach  barten) \\nAusland gewohnt?\\n5.1  Zusätzliche Arbeitsuchendmeldung von \\nGrenzgängerinnen bzw. Grenzgängern im \\nbisherigen Beschäftigungsstaat\\nWenn Sie in einem anderen Mitgliedstaat wohnen und \\neine Beschäftigung von dort aus als Grenzgängerin \\nbzw. Grenzgänger in Deutschland ausüben, erhalten \\nSie bei Arbeitslosigkeit grundsätzlich  Leistungen von \\ndem Staat, in dem Sie wohnen (Wohnstaat). Sie kön \\xad\\nnen Ihr Vermittlungsgesuch aber auch in Deutschland \\nmitführen lassen.\\n BITTE BEACHTEN SIE\\nWenn Sie sich zusätzlich arbeitsuchend \\n melden möchten, müssen Sie aktiv bei der \\nArbeitsuche mitwirken.\\n BEISPIEL\\nSie wohnten während Ihrer Beschäftigung in Deutsch \\xad\\nland im benachbarten Ausland. Ihr Arbeitslosengeld \\nwird im Wohnstaat gezahlt. Sie wollen aber auch wie \\xad\\nder eine Beschäftigung in Deutschland finden. Sie kön \\xad\\nnen Ihr Vermittlungsgesuch zusätzlich in Deutschland \\nmitführen lassen und sich arbeitsuchend melden.\\n\\npage_label: 10\\nfile_name: merkblatt-11-berufsberatung_ba015370.pdf\\n\\n2 Informationen zu Ausbildung, Studium und Beruf\\n10onsanliegen sind Ihnen die BiZ-Mitarbeiterinnen und \\nMitarbeiter auch gerne persönlich behilflich. \\n HINWEIS\\nAktuelle Veranstaltungen im BiZ, z. B. Vorträge oder \\nWorkshops zum Thema Bewerbung oder  Berufe finden \\nSie in der zentralen Datenbank für Ver anstaltungen  \\nim Internet unter »  www.arbeitsagentur.de  > Weitere \\nInternetauftritte > Veranstaltungsdatenbank.\\nSelbstverständlich erhalten Sie Informationen über \\n Berufe, Ausbildung, Bewerbung, Schule und Studium \\nund alternative Wege auch in der Einzelberatung . Die \\nBerufsberaterin oder der Berufsberater hilft Ihnen da -\\nbei, die für Sie wichtigen Informationen zu finden und \\nzu bewerten. Vereinbaren Sie einen Gesprächstermin  – \\ntelefonisch, online, persönlich (siehe S. 6).\\nUm sich auf das Beratungsgespräch vorzubereiten, \\nkönnen Sie die Internetportale » www.planet-beruf.de  \\n(bei Schulabschluss im Bereich der Sekundarstufe I) \\nund » www.abi.de  (für die Sekundarstufe II) nutzen.\\nWenn Sie an einer Ausbildung , einem Studium  oder \\nan einer Tätigkeit im Ausland  interessiert sind, stehen \\nIhnen die Informations- und Beratungsangebote der \\nZentralen Auslands- und Fachvermittlung (ZAV)  zur \\nVerfügung.\\n LINK\\nAktuelle Informationen finden Sie auf der Internetseite \\n»www.zav.de . Zudem können Sie sich telefonisch an\\neine Mitarbeiterin oder einen Mitarbeiter des Infocen -\\nters „Virtuelles Welcome Center “ wenden – die Ruf-\\n\\npage_label: 16\\nfile_name: merkblatt-algii_ba015397.pdf\\n\\n2 Das Jobcenter\\n16Haben wir Ihr Interesse geweckt? Dann nutzen Sie Ihr \\nBenutzerkonto unter » www.jobcenter.digital  für die \\nsichere Kommunikation mit Ihrem Jobcenter. \\nBei allen Fragen zur Anmeldung steht Ihnen die  \\nService-Hotline unter der Rufnummer 0800 - 4555501  \\ntelefonisch zur Verfügung.\\nZum Aufruf der Startseite » www.jobcenter.digital   \\nkönnen Sie auch folgenden QR-Code nutzen.\\n--------------------\\n', additional_kwargs={}))], source_nodes=[NodeWithScore(node=TextNode(id_='101c5b70-98d4-432f-bfd5-80811b2128f7', embedding=None, metadata={'page_label': '31', 'file_name': 'dok_ba013155.pdf'}, excluded_embed_metadata_keys=[], excluded_llm_metadata_keys=[], relationships={<NodeRelationship.SOURCE: '1'>: RelatedNodeInfo(node_id='360b1b3b-dfeb-455b-8a57-9e29ae2036f5', node_type=None, metadata={'page_label': '31', 'file_name': 'dok_ba013155.pdf'}, hash='e480367de126c1d8d7861417949102d1ec5d2e2d2f802eec483440253fd1a247')}, hash='e480367de126c1d8d7861417949102d1ec5d2e2d2f802eec483440253fd1a247', text='315 In Deutschland  gearbeitet und im Ausland gewohnt\\n5  Sie haben in Deutschland \\n gearbeitet und haben als \\nGrenzgängerin bzw. Grenz -\\ngänger im (benach  barten) \\nAusland gewohnt?\\n5.1  Zusätzliche Arbeitsuchendmeldung von \\nGrenzgängerinnen bzw. Grenzgängern im \\nbisherigen Beschäftigungsstaat\\nWenn Sie in einem anderen Mitgliedstaat wohnen und \\neine Beschäftigung von dort aus als Grenzgängerin \\nbzw. Grenzgänger in Deutschland ausüben, erhalten \\nSie bei Arbeitslosigkeit grundsätzlich  Leistungen von \\ndem Staat, in dem Sie wohnen (Wohnstaat). Sie kön \\xad\\nnen Ihr Vermittlungsgesuch aber auch in Deutschland \\nmitführen lassen.\\n BITTE BEACHTEN SIE\\nWenn Sie sich zusätzlich arbeitsuchend \\n melden möchten, müssen Sie aktiv bei der \\nArbeitsuche mitwirken.\\n BEISPIEL\\nSie wohnten während Ihrer Beschäftigung in Deutsch \\xad\\nland im benachbarten Ausland. Ihr Arbeitslosengeld \\nwird im Wohnstaat gezahlt. Sie wollen aber auch wie \\xad\\nder eine Beschäftigung in Deutschland finden. Sie kön \\xad\\nnen Ihr Vermittlungsgesuch zusätzlich in Deutschland \\nmitführen lassen und sich arbeitsuchend melden.', start_char_idx=None, end_char_idx=None, text_template='{metadata_str}\\n\\n{content}', metadata_template='{key}: {value}', metadata_seperator='\\n'), score=0.7668542079632813), NodeWithScore(node=TextNode(id_='9db2aa01-0b59-481e-84bc-9cde6f424936', embedding=None, metadata={'page_label': '10', 'file_name': 'merkblatt-11-berufsberatung_ba015370.pdf'}, excluded_embed_metadata_keys=[], excluded_llm_metadata_keys=[], relationships={<NodeRelationship.SOURCE: '1'>: RelatedNodeInfo(node_id='ca9c5bc8-656b-4ba6-9442-07a6709739c5', node_type=None, metadata={'page_label': '10', 'file_name': 'merkblatt-11-berufsberatung_ba015370.pdf'}, hash='e02c0b54a5346bc9b67eeaee8c7602966473c11cdd222d8db740e1f5b5b7e0f1')}, hash='e02c0b54a5346bc9b67eeaee8c7602966473c11cdd222d8db740e1f5b5b7e0f1', text='2 Informationen zu Ausbildung, Studium und Beruf\\n10onsanliegen sind Ihnen die BiZ-Mitarbeiterinnen und \\nMitarbeiter auch gerne persönlich behilflich. \\n HINWEIS\\nAktuelle Veranstaltungen im BiZ, z. B. Vorträge oder \\nWorkshops zum Thema Bewerbung oder  Berufe finden \\nSie in der zentralen Datenbank für Ver anstaltungen  \\nim Internet unter »  www.arbeitsagentur.de  > Weitere \\nInternetauftritte > Veranstaltungsdatenbank.\\nSelbstverständlich erhalten Sie Informationen über \\n Berufe, Ausbildung, Bewerbung, Schule und Studium \\nund alternative Wege auch in der Einzelberatung . Die \\nBerufsberaterin oder der Berufsberater hilft Ihnen da -\\nbei, die für Sie wichtigen Informationen zu finden und \\nzu bewerten. Vereinbaren Sie einen Gesprächstermin  – \\ntelefonisch, online, persönlich (siehe S. 6).\\nUm sich auf das Beratungsgespräch vorzubereiten, \\nkönnen Sie die Internetportale » www.planet-beruf.de  \\n(bei Schulabschluss im Bereich der Sekundarstufe I) \\nund » www.abi.de  (für die Sekundarstufe II) nutzen.\\nWenn Sie an einer Ausbildung , einem Studium  oder \\nan einer Tätigkeit im Ausland  interessiert sind, stehen \\nIhnen die Informations- und Beratungsangebote der \\nZentralen Auslands- und Fachvermittlung (ZAV)  zur \\nVerfügung.\\n LINK\\nAktuelle Informationen finden Sie auf der Internetseite \\n»www.zav.de . Zudem können Sie sich telefonisch an\\neine Mitarbeiterin oder einen Mitarbeiter des Infocen -\\nters „Virtuelles Welcome Center “ wenden – die Ruf-', start_char_idx=None, end_char_idx=None, text_template='{metadata_str}\\n\\n{content}', metadata_template='{key}: {value}', metadata_seperator='\\n'), score=0.7667724832253245), NodeWithScore(node=TextNode(id_='bc2e065b-9c57-4449-8dea-e5ce8abce924', embedding=None, metadata={'page_label': '16', 'file_name': 'merkblatt-algii_ba015397.pdf'}, excluded_embed_metadata_keys=[], excluded_llm_metadata_keys=[], relationships={<NodeRelationship.SOURCE: '1'>: RelatedNodeInfo(node_id='95a76f41-c414-4def-99d2-80b1b4052057', node_type=None, metadata={'page_label': '16', 'file_name': 'merkblatt-algii_ba015397.pdf'}, hash='bfa5c6a3e9f08f9e61f820e6b3c90c585237fac167ce0fb69bb5b1e1f57c4c51')}, hash='a9dba539245c9a906e15e323efbeb261b32f7963aed39e4541536372c827648e', text='2 Das Jobcenter\\n16Haben wir Ihr Interesse geweckt? Dann nutzen Sie Ihr \\nBenutzerkonto unter » www.jobcenter.digital  für die \\nsichere Kommunikation mit Ihrem Jobcenter. \\nBei allen Fragen zur Anmeldung steht Ihnen die  \\nService-Hotline unter der Rufnummer 0800 - 4555501  \\ntelefonisch zur Verfügung.\\nZum Aufruf der Startseite » www.jobcenter.digital   \\nkönnen Sie auch folgenden QR-Code nutzen.', start_char_idx=None, end_char_idx=None, text_template='{metadata_str}\\n\\n{content}', metadata_template='{key}: {value}', metadata_seperator='\\n'), score=0.7667604939180915)])"
      ]
     },
     "execution_count": 102,
     "metadata": {},
     "output_type": "execute_result"
    }
   ],
   "source": [
    "response_chat_test"
   ]
  },
  {
   "cell_type": "code",
   "execution_count": 103,
   "metadata": {},
   "outputs": [
    {
     "name": "stdout",
     "output_type": "stream",
     "text": [
      "NO\n",
      "info not available\n"
     ]
    }
   ],
   "source": [
    "metadata_chat = eval_response(response_chat_test)\n",
    "\n",
    "metadata_chat"
   ]
  },
  {
   "cell_type": "code",
   "execution_count": 88,
   "metadata": {},
   "outputs": [
    {
     "name": "stdout",
     "output_type": "stream",
     "text": [
      "There 3 sources.\n",
      "Page 31 from file dok_ba013155.pdf\n",
      "Page 10 from file merkblatt-11-berufsberatung_ba015370.pdf\n",
      "Page 16 from file merkblatt-algii_ba015397.pdf\n"
     ]
    }
   ],
   "source": [
    "print(f\"There {len(response_chat_test.source_nodes)} sources.\")\n",
    "for source_node in response_chat_test.source_nodes:\n",
    "    print(f'Page {source_node.node.metadata[\"page_label\"]} from file {source_node.node.metadata[\"file_name\"]}')"
   ]
  },
  {
   "cell_type": "code",
   "execution_count": 94,
   "metadata": {},
   "outputs": [
    {
     "data": {
      "text/plain": [
       "\"Berlin is the capital and largest city of Germany. It is located in the northeastern part of the country and is known for its rich history, vibrant culture, and diverse population. Here are some key points about Berlin:\\n\\n1. History: Berlin has a significant historical background, including its division during the Cold War when it was split into East Berlin (under Soviet control) and West Berlin (controlled by the Allies). The Berlin Wall, which separated the two parts, became a symbol of the Cold War. The city was reunified in 1990 after the fall of the wall.\\n\\n2. Landmarks: Berlin is home to several iconic landmarks, such as the Brandenburg Gate, a symbol of German unity, and the Reichstag building, which houses the German parliament. Other notable sites include the Berlin Wall Memorial, Checkpoint Charlie, and the Holocaust Memorial.\\n\\n3. Cultural Hub: Berlin is renowned for its thriving arts and cultural scene. It has numerous museums, galleries, theaters, and music venues. The city hosts various international film festivals, including the Berlin International Film Festival (Berlinale). Berlin is also known for its street art and alternative subcultures.\\n\\n4. Green Spaces: Despite being a bustling metropolis, Berlin offers plenty of green spaces. The Tiergarten, a large urban park in the city center, is a popular spot for recreation and relaxation. Additionally, Berlin has many lakes and canals, providing opportunities for water activities.\\n\\n5. Nightlife: Berlin has a vibrant nightlife scene, with numerous clubs, bars, and music venues. The city is famous for its electronic music and techno clubs, attracting party-goers from around the world.\\n\\n6. Start-up Hub: Berlin has emerged as a major hub for start-ups and innovation. The city's entrepreneurial spirit and supportive ecosystem have attracted many tech companies and entrepreneurs.\\n\\n7. International Cuisine: Berlin is known for its diverse culinary scene, offering a wide range of international cuisines. The city has a thriving street food culture and is particularly famous for its currywurst and döner kebabs.\\n\\n8. Transportation: Berlin has an extensive public transportation system, including buses, trams, and an efficient subway network (U-Bahn). Bicycling is also popular, with many dedicated bike lanes throughout the city.\\n\\nOverall, Berlin is a dynamic and cosmopolitan city that combines a rich history with a modern and progressive atmosphere.\""
      ]
     },
     "execution_count": 94,
     "metadata": {},
     "output_type": "execute_result"
    }
   ],
   "source": [
    "response_chat_test.response"
   ]
  },
  {
   "cell_type": "code",
   "execution_count": 100,
   "metadata": {},
   "outputs": [
    {
     "data": {
      "text/plain": [
       "3"
      ]
     },
     "execution_count": 100,
     "metadata": {},
     "output_type": "execute_result"
    }
   ],
   "source": [
    "len(response_chat_test.source_nodes)"
   ]
  },
  {
   "cell_type": "code",
   "execution_count": 91,
   "metadata": {},
   "outputs": [
    {
     "data": {
      "text/plain": [
       "NodeWithScore(node=TextNode(id_='101c5b70-98d4-432f-bfd5-80811b2128f7', embedding=None, metadata={'page_label': '31', 'file_name': 'dok_ba013155.pdf'}, excluded_embed_metadata_keys=[], excluded_llm_metadata_keys=[], relationships={<NodeRelationship.SOURCE: '1'>: RelatedNodeInfo(node_id='360b1b3b-dfeb-455b-8a57-9e29ae2036f5', node_type=None, metadata={'page_label': '31', 'file_name': 'dok_ba013155.pdf'}, hash='e480367de126c1d8d7861417949102d1ec5d2e2d2f802eec483440253fd1a247')}, hash='e480367de126c1d8d7861417949102d1ec5d2e2d2f802eec483440253fd1a247', text='315 In Deutschland  gearbeitet und im Ausland gewohnt\\n5  Sie haben in Deutschland \\n gearbeitet und haben als \\nGrenzgängerin bzw. Grenz -\\ngänger im (benach  barten) \\nAusland gewohnt?\\n5.1  Zusätzliche Arbeitsuchendmeldung von \\nGrenzgängerinnen bzw. Grenzgängern im \\nbisherigen Beschäftigungsstaat\\nWenn Sie in einem anderen Mitgliedstaat wohnen und \\neine Beschäftigung von dort aus als Grenzgängerin \\nbzw. Grenzgänger in Deutschland ausüben, erhalten \\nSie bei Arbeitslosigkeit grundsätzlich  Leistungen von \\ndem Staat, in dem Sie wohnen (Wohnstaat). Sie kön \\xad\\nnen Ihr Vermittlungsgesuch aber auch in Deutschland \\nmitführen lassen.\\n BITTE BEACHTEN SIE\\nWenn Sie sich zusätzlich arbeitsuchend \\n melden möchten, müssen Sie aktiv bei der \\nArbeitsuche mitwirken.\\n BEISPIEL\\nSie wohnten während Ihrer Beschäftigung in Deutsch \\xad\\nland im benachbarten Ausland. Ihr Arbeitslosengeld \\nwird im Wohnstaat gezahlt. Sie wollen aber auch wie \\xad\\nder eine Beschäftigung in Deutschland finden. Sie kön \\xad\\nnen Ihr Vermittlungsgesuch zusätzlich in Deutschland \\nmitführen lassen und sich arbeitsuchend melden.', start_char_idx=None, end_char_idx=None, text_template='{metadata_str}\\n\\n{content}', metadata_template='{key}: {value}', metadata_seperator='\\n'), score=0.7668542079632813)"
      ]
     },
     "execution_count": 91,
     "metadata": {},
     "output_type": "execute_result"
    }
   ],
   "source": [
    "response_chat_test.source_nodes[0]"
   ]
  },
  {
   "cell_type": "code",
   "execution_count": 93,
   "metadata": {},
   "outputs": [
    {
     "data": {
      "text/plain": [
       "'31'"
      ]
     },
     "execution_count": 93,
     "metadata": {},
     "output_type": "execute_result"
    }
   ],
   "source": [
    "response_chat_test.source_nodes[0].node.metadata[\"page_label\"]"
   ]
  }
 ],
 "metadata": {
  "kernelspec": {
   "display_name": ".venv_chatbot",
   "language": "python",
   "name": "python3"
  },
  "language_info": {
   "codemirror_mode": {
    "name": "ipython",
    "version": 3
   },
   "file_extension": ".py",
   "mimetype": "text/x-python",
   "name": "python",
   "nbconvert_exporter": "python",
   "pygments_lexer": "ipython3",
   "version": "3.10.12"
  },
  "orig_nbformat": 4
 },
 "nbformat": 4,
 "nbformat_minor": 2
}
