{
 "cells": [
  {
   "cell_type": "code",
   "execution_count": 197,
   "metadata": {},
   "outputs": [],
   "source": [
    "from llama_index import LLMPredictor, ServiceContext\n",
    "# from llama_index import VectorStoreIndex\n",
    "# from llama_index import SimpleDirectoryReader\n",
    "from llama_index import Prompt\n",
    "from llama_index import PromptHelper\n",
    "from llama_index import StorageContext, load_index_from_storage\n",
    "from llama_index.evaluation import ResponseEvaluator\n",
    "from llama_index.llms import OpenAI\n",
    "from llama_index.indices.postprocessor import SimilarityPostprocessor\n",
    "from llama_index.indices.query.query_transform import HyDEQueryTransform\n",
    "from llama_index.query_engine.transform_query_engine import TransformQueryEngine\n",
    "from langchain.chat_models import ChatOpenAI\n",
    "from IPython.display import Markdown, display\n",
    "\n",
    "import environ\n",
    "import openai"
   ]
  },
  {
   "cell_type": "code",
   "execution_count": 198,
   "metadata": {},
   "outputs": [],
   "source": [
    "selected_llm=ChatOpenAI(temperature=0, model_name=\"gpt-3.5-turbo\")"
   ]
  },
  {
   "cell_type": "code",
   "execution_count": 199,
   "metadata": {},
   "outputs": [
    {
     "name": "stderr",
     "output_type": "stream",
     "text": [
      "/home/daniele/Desktop/Projects/bureaubot/.venv_bureaubot/lib/python3.10/site-packages/environ/environ.py:639: UserWarning: /tmp/ipykernel_9482/.env doesn't exist - if you're not configuring your environment separately, create one.\n",
      "  warnings.warn(\n"
     ]
    }
   ],
   "source": [
    "# For now I use my key\n",
    "env = environ.Env()\n",
    "environ.Env.read_env()\n",
    "API_KEY = env(\"OPENAI_API_KEY\")\n",
    "openai.api_key = API_KEY"
   ]
  },
  {
   "cell_type": "markdown",
   "metadata": {},
   "source": [
    "# Load vector store"
   ]
  },
  {
   "cell_type": "code",
   "execution_count": 200,
   "metadata": {},
   "outputs": [],
   "source": [
    "embedding_path = \"vector_db\"\n",
    "# rebuild storage context\n",
    "storage_context_from_load = StorageContext.from_defaults(persist_dir=embedding_path)\n",
    "# load index\n",
    "index_loaded = load_index_from_storage(storage_context_from_load)"
   ]
  },
  {
   "cell_type": "markdown",
   "metadata": {},
   "source": [
    "# Functions"
   ]
  },
  {
   "cell_type": "code",
   "execution_count": 201,
   "metadata": {},
   "outputs": [],
   "source": [
    "# Evaluator\n",
    "def eval_response(response):\n",
    "    llm= LLMPredictor(llm=selected_llm)\n",
    "    service_context_eval = ServiceContext.from_defaults(llm_predictor=llm)\n",
    "    evaluator = ResponseEvaluator(service_context=service_context_eval)\n",
    "    eval_result = evaluator.evaluate(response)\n",
    "    if eval_result == \"NO\":\n",
    "        print(str(eval_result))\n",
    "        print(\"info not available\")\n",
    "        return None\n",
    "    elif eval_result == \"YES\":\n",
    "        display(Markdown(response.response))\n",
    "        response_metadata_chat = dict()\n",
    "        for i, source_node in enumerate(response.source_nodes):\n",
    "            key_name = \"ref_\" + str(i)\n",
    "            response_metadata_chat[key_name] = {\n",
    "                \"page\": source_node.node.metadata[\"page_label\"],\n",
    "                \"document\":source_node.node.metadata[\"file_name\"]\n",
    "            }\n",
    "        return response_metadata_chat\n",
    "    else:\n",
    "        print(\"something went wrong, try again!\")\n",
    "        return None"
   ]
  },
  {
   "cell_type": "code",
   "execution_count": 202,
   "metadata": {},
   "outputs": [],
   "source": [
    "def print_response_info(user_query, response):\n",
    "    print(f\"Prompt:\\n{user_query}\")\n",
    "    display(Markdown(f\"Response:<br/>{response.response}\"))\n",
    "    print(f\"Sources:\")\n",
    "    for node in response.source_nodes:\n",
    "        print(f'Page: {node.node.metadata[\"page_label\"]}, Document: {node.node.metadata[\"file_name\"]}, Cosine Similarity: {node.score:.2f}')"
   ]
  },
  {
   "cell_type": "markdown",
   "metadata": {},
   "source": [
    "# Define query and prompt template, folders and top_k"
   ]
  },
  {
   "cell_type": "code",
   "execution_count": 203,
   "metadata": {},
   "outputs": [],
   "source": [
    "# user_query = \"Is the number of children taken into account to calculate the unemployment benefit?\"\n",
    "# user_query = \"What do you know about the city of Berlin?\" # check for generic responses from GPT knowledge base\n",
    "user_query = \"Wann muss ich mich melden wenn ich Arbeitslosengeld beantragen will?\"\n",
    "\n",
    "# Define prompt\n",
    "template = (\n",
    "    \"We have provided context information below. \\n\"\n",
    "    \"---------------------\\n\"\n",
    "    \"{context_str}\"\n",
    "    \"\\n---------------------\\n\"\n",
    "    \"Do not give me an answer if it is not mentioned in the context as a fact. \\n\"\n",
    "    \"Given this information, please provide me with an answer to the following question:\\n{query_str}\\n\"\n",
    ")\n",
    "qa_template = Prompt(template)\n",
    "\n",
    "\n",
    "folder_with_index = \"vector_db\"\n",
    "number_top_results = 5 # Number of top results to return"
   ]
  },
  {
   "cell_type": "markdown",
   "metadata": {},
   "source": [
    "# Query Engine"
   ]
  },
  {
   "cell_type": "markdown",
   "metadata": {},
   "source": [
    "## Simple query engine"
   ]
  },
  {
   "cell_type": "code",
   "execution_count": 204,
   "metadata": {},
   "outputs": [
    {
     "name": "stdout",
     "output_type": "stream",
     "text": [
      "Prompt:\n",
      "Wann muss ich mich melden wenn ich Arbeitslosengeld beantragen will?\n"
     ]
    },
    {
     "data": {
      "text/markdown": [
       "Response:<br/>Sie müssen sich spätestens am ersten Tag Ihrer Arbeitslosigkeit arbeitslos melden, um Arbeitslosengeld zu beantragen."
      ],
      "text/plain": [
       "<IPython.core.display.Markdown object>"
      ]
     },
     "metadata": {},
     "output_type": "display_data"
    },
    {
     "name": "stdout",
     "output_type": "stream",
     "text": [
      "Sources:\n",
      "Page: 15, Document: merkblatt-fuer-arbeitslose_ba036520.pdf, Cosine Similarity: 0.89\n",
      "Page: 6, Document: merkblatt-fuer-arbeitslose_ba036520.pdf, Cosine Similarity: 0.89\n",
      "Page: 13, Document: merkblatt-fuer-arbeitslose_ba036520.pdf, Cosine Similarity: 0.89\n",
      "Page: 14, Document: merkblatt-fuer-arbeitslose_ba036520.pdf, Cosine Similarity: 0.88\n",
      "Page: 18, Document: merkblatt-fuer-arbeitslose_ba036520.pdf, Cosine Similarity: 0.88\n"
     ]
    }
   ],
   "source": [
    "query_engine_baseline = index_loaded.as_query_engine(text_qa_template=qa_template, similarity_top_k=number_top_results)\n",
    "response_baseline = query_engine_baseline.query(user_query)\n",
    "\n",
    "print_response_info(user_query, response_baseline)"
   ]
  },
  {
   "cell_type": "code",
   "execution_count": 205,
   "metadata": {},
   "outputs": [
    {
     "name": "stdout",
     "output_type": "stream",
     "text": [
      "{'page_label': '15', 'file_name': 'merkblatt-fuer-arbeitslose_ba036520.pdf'}\n",
      "{'page_label': '6', 'file_name': 'merkblatt-fuer-arbeitslose_ba036520.pdf'}\n",
      "{'page_label': '13', 'file_name': 'merkblatt-fuer-arbeitslose_ba036520.pdf'}\n",
      "{'page_label': '14', 'file_name': 'merkblatt-fuer-arbeitslose_ba036520.pdf'}\n",
      "{'page_label': '18', 'file_name': 'merkblatt-fuer-arbeitslose_ba036520.pdf'}\n"
     ]
    }
   ],
   "source": [
    "for uwdfujsn in response_baseline.source_nodes:\n",
    "    print(uwdfujsn.node.metadata)"
   ]
  },
  {
   "cell_type": "code",
   "execution_count": 206,
   "metadata": {},
   "outputs": [],
   "source": [
    "response_text = response_baseline.response\n",
    "response_metadata = dict()\n",
    "response_metadata_message = f'There {len(response_baseline.metadata)} sources:'\n",
    "for i, meta_data in enumerate(response_baseline.metadata):\n",
    "    key_name = \"ref_\" + str(i)\n",
    "    response_metadata[key_name] = {\n",
    "        \"page\": response_baseline.metadata[meta_data][\"page_label\"],\n",
    "        \"document\":response_baseline.metadata[meta_data][\"file_name\"]\n",
    "    }\n",
    "    response_metadata_message += \"\\n---\" + key_name + f'Page {response_baseline.metadata[meta_data][\"page_label\"]} from file {response_baseline.metadata[meta_data][\"file_name\"]}'"
   ]
  },
  {
   "cell_type": "code",
   "execution_count": 207,
   "metadata": {},
   "outputs": [
    {
     "data": {
      "text/plain": [
       "Response(response='Sie müssen sich spätestens am ersten Tag Ihrer Arbeitslosigkeit arbeitslos melden, um Arbeitslosengeld zu beantragen.', source_nodes=[NodeWithScore(node=TextNode(id_='c0ed0f94-d086-406a-b19d-0a69f1370419', embedding=None, metadata={'page_label': '15', 'file_name': 'merkblatt-fuer-arbeitslose_ba036520.pdf'}, excluded_embed_metadata_keys=[], excluded_llm_metadata_keys=[], relationships={<NodeRelationship.SOURCE: '1'>: RelatedNodeInfo(node_id='7e18153e-10e3-42bf-8a3a-6463eaa5602a', node_type=None, metadata={'page_label': '15', 'file_name': 'merkblatt-fuer-arbeitslose_ba036520.pdf'}, hash='a828cbb7c8c6afd100be42c39f363a3e2414e8b9b716def616214a4002610a8f')}, hash='e7e24f5977eb93ef3fbb97e9e27da653863f028f8007306d8747d5702d5a9280', text='2. Was müssen Sie tun, wenn Arbeitslosigkeit eintritt?\\n16Wenn Sie sich nicht am ersten Tag nach dem Ende \\n Ihrer Beschäftigung online oder persönlich  arbeitslos \\nmelden  können, weil Ihre Agentur für Arbeit nicht \\ndienstbereit ist (z.  B. an Samstagen, Sonntagen oder \\nFeiertagen),  entstehen Ihnen keine Nachteile. Sie \\n müssen dann die Meldung am nächsten Tag nach  holen,  \\nan dem Ihre Agentur für Arbeit wieder geöffnet ist. Im \\nKrankheitsfall empfehlen wir Ihnen eine elektronische \\nMeldung oder Vorsprache spätestens am  letzten Tag \\nder Arbeitsunfähigkeit, wenn die Agentur für Arbeit am \\n1. Tag der Genesung nicht dienstbereit ist. Anderenfalls \\ngilt die Arbeitslosmeldung erst ab dem Tag der tatsäch \\xad\\nlichen Meldung.\\n BEISPIEL\\nDas Beschäftigungsverhältnis endet am 30. April. Ers \\xad\\nter Tag der Arbeitslosigkeit ist der 1. Mai. Die Agentur \\nfür Arbeit ist an diesem Feiertag geschlossen. Bei \\n Vorliegen der sonstigen Voraussetzungen wird das \\n Arbeitslosengeld dennoch ab 1. Mai gezahlt, wenn die \\nelektronische oder persönliche Arbeitslosmeldung am \\n2. Mai nachgeholt wird.\\nWenn Sie in einem Nachbarstaat zu Deutschland \\n wohnen und von dort aus eine Beschäftigung als \\nGrenzgänger in Deutschland ausüben, erhalten Sie bei \\nArbeits  losigkeit grundsätzlich Leistungen von Ihrem \\nWohnortstaat. Zur Sicherung möglicher Ansprüche \\nmelden Sie sich bitte zeitnah beim Träger der Arbeits -\\nlosenversicherung in Ihrem Wohnortstaat.\\n2.2 Antrag stellen \\nSie können den Antrag online unter  \\n» www.arbeitsagentur.de »  Menü »  eServices  \\n» „ Arbeitslosengeld beantragen“  stellen. Es reicht', start_char_idx=None, end_char_idx=None, text_template='{metadata_str}\\n\\n{content}', metadata_template='{key}: {value}', metadata_seperator='\\n'), score=0.888295093393664), NodeWithScore(node=TextNode(id_='23502c18-d318-4850-af14-8a565b21148d', embedding=None, metadata={'page_label': '6', 'file_name': 'merkblatt-fuer-arbeitslose_ba036520.pdf'}, excluded_embed_metadata_keys=[], excluded_llm_metadata_keys=[], relationships={<NodeRelationship.SOURCE: '1'>: RelatedNodeInfo(node_id='806a8c0e-bf1a-4c0c-a864-c8f3e92499c7', node_type=None, metadata={'page_label': '6', 'file_name': 'merkblatt-fuer-arbeitslose_ba036520.pdf'}, hash='4e70cb5479475d7b7ff20f10203e08f4d62675807424c0b677800225e90ac7cc')}, hash='4e70cb5479475d7b7ff20f10203e08f4d62675807424c0b677800225e90ac7cc', text='7Das Wichtigste vorweg:\\n12 Punkte, die Sie sich merken sollten!\\n• Bei Beendigung eines Arbeits- oder Ausbildungsver \\xad\\nhältnisses sind Sie verpflichtet, sich spätestens drei \\nMonate vorher arbeitsuchend zu melden. Erfahren \\nSie von der Beendigung weniger als drei Monate vor \\xad\\nher, müssen Sie sich innerhalb von drei Tagen mel \\xad\\nden. Sie können sich online, persönlich, telefonisch \\noder schriftlich arbeitsuchend melden. Melden Sie \\nsich nicht rechtzeitig, droht eine Sperrzeit. Bei einem \\nbetrieb  lichen oder schulischen Ausbildungsverhältnis \\ngilt die Pflicht zur Meldung nicht.\\nWeitere Hinweise dazu finden Sie in » Abschnitt 1 .\\n• Arbeitslosengeld wird frühestens von dem Tag an \\n gezahlt, an dem Sie sich online im Fachportal der \\nBundesagentur für Arbeit (auf » arbeitsagentur.de \\n» Menü » Alle eServices anzeigen » Arbeitslos \\nmelden ) oder persönlich bei Ihrer Agentur für Arbeit \\narbeitslos melden.\\n• Um Beschäftigungslosigkeit nicht eintreten zu lassen \\noder zu beenden, sind Sie verpflichtet, eigenverant \\xad\\nwortlich nach einer Beschäftigung zu suchen, eine \\nzumutbare Beschäftigung aufzunehmen oder an \\n einer beruflichen Eingliederungsmaßnahme teilzu \\xad\\nnehmen.\\nAuf Verlangen der Agentur für Arbeit müssen Sie Ihre \\nEigenbemühungen nachweisen. Weitere Hinweise \\ndazu finden Sie in » Abschnitt 2.4 .Das Wichtigste vorweg', start_char_idx=None, end_char_idx=None, text_template='{metadata_str}\\n\\n{content}', metadata_template='{key}: {value}', metadata_seperator='\\n'), score=0.8882828878764354), NodeWithScore(node=TextNode(id_='4c51626a-31b9-4195-ad9b-a915390333c9', embedding=None, metadata={'page_label': '13', 'file_name': 'merkblatt-fuer-arbeitslose_ba036520.pdf'}, excluded_embed_metadata_keys=[], excluded_llm_metadata_keys=[], relationships={<NodeRelationship.SOURCE: '1'>: RelatedNodeInfo(node_id='5e19dc5e-13b2-40f3-a30a-fb9a68a077c4', node_type=None, metadata={'page_label': '13', 'file_name': 'merkblatt-fuer-arbeitslose_ba036520.pdf'}, hash='a8530b289d7cdf2833acee86e22331ca15c119a730d3b1593dd53f80ea81cef3')}, hash='a8530b289d7cdf2833acee86e22331ca15c119a730d3b1593dd53f80ea81cef3', text='1. Was müssen Sie tun, wenn Arbeitslosigkeit droht?\\n14Frühzeitige Arbeitsuchendmeldung\\nSie sind verpflichtet, sich spätestens drei Monate vor \\nder Beendigung Ihres Arbeits- oder Ausbildungsver \\xad\\nhältnisses bei der Agentur für Arbeit arbeitsuchend zu \\nmelden. Liegen zwischen der Kenntnis des Beendi \\xad\\ngungszeitpunktes und der Beendigung des Arbeits- \\nund Ausbildungsverhältnisses weniger als drei Mona \\xad\\nte, müssen Sie sich innerhalb von drei Tagen nach \\nKenntnis des Beendigungszeitpunktes melden.\\nSie können sich online, persönlich, telefonisch oder \\nschriftlich arbeitsuchend melden. \\nAuch wenn der Arbeitgeber eine Weiterbeschäftigung \\nin Aussicht stellt oder der Fortbestand des Arbeits- \\noder Ausbildungsverhältnisses gerichtlich geltend \\n gemacht wird, besteht die Pflicht zur Meldung. \\nDie Pflicht zur Meldung besteht bei betrieblichen oder \\nschulischen Ausbildungsverhältnissen nicht.\\n BITTE BEACHTEN SIE\\nEine Sperrzeit von einer Woche kann \\n eintreten, wenn Sie sich nicht – wie \\nbeschrie  ben – bei einer Agentur für  Arbeit \\narbeitsuchend melden.  Nähere \\n Informationen zur Pflicht zur frühzeitigen \\n Arbeitsuche finden Sie im Internet unter   \\n» www.arbeitsagentur.de .', start_char_idx=None, end_char_idx=None, text_template='{metadata_str}\\n\\n{content}', metadata_template='{key}: {value}', metadata_seperator='\\n'), score=0.8874749686893485), NodeWithScore(node=TextNode(id_='0bb5fffb-306d-4a56-9278-e4d1f86eedcd', embedding=None, metadata={'page_label': '14', 'file_name': 'merkblatt-fuer-arbeitslose_ba036520.pdf'}, excluded_embed_metadata_keys=[], excluded_llm_metadata_keys=[], relationships={<NodeRelationship.SOURCE: '1'>: RelatedNodeInfo(node_id='f4ba3bdd-2917-49db-83a9-aab58b82b503', node_type=None, metadata={'page_label': '14', 'file_name': 'merkblatt-fuer-arbeitslose_ba036520.pdf'}, hash='d994f52cf96c202b238856eab75913c940d1697b245fc7e02d247f772ba32895')}, hash='d994f52cf96c202b238856eab75913c940d1697b245fc7e02d247f772ba32895', text='152. Was müssen Sie tun, wenn Arbeitslosigkeit eintritt?\\n2.  Was müssen Sie tun, wenn \\nArbeitslosigkeit eintritt?\\n2.1 Arbeitslos melden\\nLeistungen können Sie nur erhalten, wenn Sie der \\n zuständigen Agentur für Arbeit Ihre Arbeitslosigkeit \\n gemeldet haben; damit gilt gleichzeitig das Arbeits -\\nlosengeld als beantragt. Sie können sich hierzu online \\n arbeitslos melden. Sie benötigen dafür nur ein Aus \\xad\\nweisdokument mit Online-Ausweisfunktion, die kosten \\xad\\nlose AusweisApp2 sowie ein Smartphone oder ein \\nKarten  lesegerät. Starten Sie die Online Arbeitslos -\\nmeldung auf » www.arbeitsagentur.de »  Menü \\n» Alle  eServices anzeigen »  Arbeitslos melden . \\nOder Sie  suchen Ihre Agentur für Arbeit auf, um sich \\npersönlich arbeitslos zu melden.\\nEs ist wichtig, dass Sie sich spätestens am 1. Tag der \\nArbeitslosigkeit arbeitslos melden; dies kann auch \\ninner  halb von 3   Monaten vor dem  Beginn der \\n Arbeitslosigkeit  geschehen. Beachten Sie jedoch bitte \\nunbedingt die  Hinweise zur gesonderten Arbeit -\\nsuchendmeldung in  »  Abschnitt  1.\\n HINWEIS\\nIhre elektronische oder persönliche Arbeitslosmeldung \\nist eine unverzichtbare Anspruchsvoraussetzung zum \\nBezug von Arbeitslosengeld! Wenn Sie sich nicht \\n arbeitslos gemeldet haben und arbeitsunfähig \\n erkranken, kann dies dazu führen, dass Sie keinen \\n Anspruch auf Arbeitslosengeld oder Krankengeld \\n haben.', start_char_idx=None, end_char_idx=None, text_template='{metadata_str}\\n\\n{content}', metadata_template='{key}: {value}', metadata_seperator='\\n'), score=0.8834858040005298), NodeWithScore(node=TextNode(id_='bd7023b6-cb35-4206-9755-b55b88585719', embedding=None, metadata={'page_label': '18', 'file_name': 'merkblatt-fuer-arbeitslose_ba036520.pdf'}, excluded_embed_metadata_keys=[], excluded_llm_metadata_keys=[], relationships={<NodeRelationship.SOURCE: '1'>: RelatedNodeInfo(node_id='2f869af7-4e96-4d76-8f90-30e2fd5175dd', node_type=None, metadata={'page_label': '18', 'file_name': 'merkblatt-fuer-arbeitslose_ba036520.pdf'}, hash='e1c65761f189954106edec54858f2fe7a21a9be2307dab64a6d6bc20a39e73b8')}, hash='d42d52399cecfae4a17bdb4400b286cbbff3b2d5f8ffcc2c3b548f58d349027d', text='192. Was müssen Sie tun, wenn Arbeitslosigkeit eintritt?\\nlässt, nicht oder verspätet angezeigt, können Sie die \\nLeistung erst wieder nach erneuter Arbeitslosmeldung \\nbeziehen. Dies gilt auch, wenn Sie ein versicherungs \\xad\\npflichtiges Wertguthaben entnehmen.\\nDie Anzeige bei einem Jobcenter reicht nicht aus. Bei \\nnicht rechtzeitiger Anzeige können Ihnen erhebliche \\n finanzielle Nachteile entstehen (siehe auch  \\n» Abschnitt 8.2 ).\\nSollte nach Aufnahme einer neuen Beschäftigung er \\xad\\nneut Arbeitslosigkeit drohen, sind Sie verpflichtet, sich \\nwieder arbeitsuchend zu melden (vgl. » Abschnitt 1 ). \\nÜber Fristen und das Verfahren für die Arbeitsuchend \\xad\\nmeldung informieren Sie sich bitte bei Ihrer Agentur für \\nArbeit. Um Nachteile zu vermeiden, müssen Sie sich \\nauch erneut – spätestens am ersten Tag der Arbeits -\\nlosigkeit – online im Fachportal der Bundesagentur für \\nArbeit oder persönlich bei Ihrer Agentur für Arbeit \\narbeits  los melden (vgl. » Abschnitt 2.1 ).\\nÜben Sie unentgeltlich eine ehrenamtliche Tätigkeit \\naus, steht diese der Arbeitslosigkeit nicht entgegen, \\nwenn sie die berufliche Eingliederung nicht behindert. \\nErkundigen Sie sich hierzu bei Ihrer Agentur für Arbeit. \\nDie ehrenamtliche Tätigkeit steht der Arbeitslosigkeit \\ngrundsätzlich auch dann nicht entgegen, wenn sie \\n15 Stunden oder mehr wöchentlich umfasst und der \\npauschalierte Auslagenersatz den Betrag von 250  Euro \\nmonatlich nicht überschreitet.\\nSie sind verpflichtet, jede mindestens 15-stündige \\nwöchent  liche ehrenamtliche Tätigkeit vor deren Beginn \\nder Agentur für Arbeit anzuzeigen.', start_char_idx=None, end_char_idx=None, text_template='{metadata_str}\\n\\n{content}', metadata_template='{key}: {value}', metadata_seperator='\\n'), score=0.8807909649499002)], metadata={'c0ed0f94-d086-406a-b19d-0a69f1370419': {'page_label': '15', 'file_name': 'merkblatt-fuer-arbeitslose_ba036520.pdf'}, '23502c18-d318-4850-af14-8a565b21148d': {'page_label': '6', 'file_name': 'merkblatt-fuer-arbeitslose_ba036520.pdf'}, '4c51626a-31b9-4195-ad9b-a915390333c9': {'page_label': '13', 'file_name': 'merkblatt-fuer-arbeitslose_ba036520.pdf'}, '0bb5fffb-306d-4a56-9278-e4d1f86eedcd': {'page_label': '14', 'file_name': 'merkblatt-fuer-arbeitslose_ba036520.pdf'}, 'bd7023b6-cb35-4206-9755-b55b88585719': {'page_label': '18', 'file_name': 'merkblatt-fuer-arbeitslose_ba036520.pdf'}})"
      ]
     },
     "execution_count": 207,
     "metadata": {},
     "output_type": "execute_result"
    }
   ],
   "source": [
    "response_baseline"
   ]
  },
  {
   "cell_type": "code",
   "execution_count": 208,
   "metadata": {},
   "outputs": [
    {
     "data": {
      "text/plain": [
       "{'ref_0': {'page': '15',\n",
       "  'document': 'merkblatt-fuer-arbeitslose_ba036520.pdf'},\n",
       " 'ref_1': {'page': '6', 'document': 'merkblatt-fuer-arbeitslose_ba036520.pdf'},\n",
       " 'ref_2': {'page': '13',\n",
       "  'document': 'merkblatt-fuer-arbeitslose_ba036520.pdf'},\n",
       " 'ref_3': {'page': '14',\n",
       "  'document': 'merkblatt-fuer-arbeitslose_ba036520.pdf'},\n",
       " 'ref_4': {'page': '18',\n",
       "  'document': 'merkblatt-fuer-arbeitslose_ba036520.pdf'}}"
      ]
     },
     "execution_count": 208,
     "metadata": {},
     "output_type": "execute_result"
    }
   ],
   "source": [
    "response_metadata"
   ]
  },
  {
   "cell_type": "code",
   "execution_count": 209,
   "metadata": {},
   "outputs": [
    {
     "name": "stdout",
     "output_type": "stream",
     "text": [
      "There 5 sources:\n",
      "---ref_0Page 15 from file merkblatt-fuer-arbeitslose_ba036520.pdf\n",
      "---ref_1Page 6 from file merkblatt-fuer-arbeitslose_ba036520.pdf\n",
      "---ref_2Page 13 from file merkblatt-fuer-arbeitslose_ba036520.pdf\n",
      "---ref_3Page 14 from file merkblatt-fuer-arbeitslose_ba036520.pdf\n",
      "---ref_4Page 18 from file merkblatt-fuer-arbeitslose_ba036520.pdf\n"
     ]
    }
   ],
   "source": [
    "print(response_metadata_message)"
   ]
  },
  {
   "cell_type": "code",
   "execution_count": 210,
   "metadata": {},
   "outputs": [
    {
     "data": {
      "text/markdown": [
       "Sie müssen sich spätestens am ersten Tag Ihrer Arbeitslosigkeit arbeitslos melden, um Arbeitslosengeld zu beantragen."
      ],
      "text/plain": [
       "<IPython.core.display.Markdown object>"
      ]
     },
     "metadata": {},
     "output_type": "display_data"
    },
    {
     "data": {
      "text/plain": [
       "{'ref_0': {'page': '15',\n",
       "  'document': 'merkblatt-fuer-arbeitslose_ba036520.pdf'},\n",
       " 'ref_1': {'page': '6', 'document': 'merkblatt-fuer-arbeitslose_ba036520.pdf'},\n",
       " 'ref_2': {'page': '13',\n",
       "  'document': 'merkblatt-fuer-arbeitslose_ba036520.pdf'},\n",
       " 'ref_3': {'page': '14',\n",
       "  'document': 'merkblatt-fuer-arbeitslose_ba036520.pdf'},\n",
       " 'ref_4': {'page': '18',\n",
       "  'document': 'merkblatt-fuer-arbeitslose_ba036520.pdf'}}"
      ]
     },
     "execution_count": 210,
     "metadata": {},
     "output_type": "execute_result"
    }
   ],
   "source": [
    "eval_response(response_baseline)"
   ]
  },
  {
   "cell_type": "markdown",
   "metadata": {},
   "source": [
    "## Cosine Similarity Postprocessor"
   ]
  },
  {
   "cell_type": "code",
   "execution_count": 211,
   "metadata": {},
   "outputs": [
    {
     "name": "stdout",
     "output_type": "stream",
     "text": [
      "Cosine Similarity: 0.888295093393664\n",
      "Cosine Similarity: 0.8882828878764354\n",
      "Cosine Similarity: 0.8874749686893485\n",
      "Cosine Similarity: 0.8834858040005298\n",
      "Cosine Similarity: 0.8807909649499002\n"
     ]
    }
   ],
   "source": [
    "for node in response_baseline.source_nodes:\n",
    "    cosine_similarity = node.score\n",
    "    print(f\"Cosine Similarity: {cosine_similarity}\")"
   ]
  },
  {
   "cell_type": "code",
   "execution_count": 212,
   "metadata": {},
   "outputs": [
    {
     "name": "stdout",
     "output_type": "stream",
     "text": [
      "Page: 15, Document: merkblatt-fuer-arbeitslose_ba036520.pdf, Cosine Similarity: 0.89\n",
      "Page: 6, Document: merkblatt-fuer-arbeitslose_ba036520.pdf, Cosine Similarity: 0.89\n",
      "Page: 13, Document: merkblatt-fuer-arbeitslose_ba036520.pdf, Cosine Similarity: 0.89\n",
      "Page: 14, Document: merkblatt-fuer-arbeitslose_ba036520.pdf, Cosine Similarity: 0.88\n",
      "Page: 18, Document: merkblatt-fuer-arbeitslose_ba036520.pdf, Cosine Similarity: 0.88\n"
     ]
    }
   ],
   "source": [
    "postprocessor = SimilarityPostprocessor(similarity_cutoff=0.821)\n",
    "postprocessed_nodes = postprocessor.postprocess_nodes(response_baseline.source_nodes)\n",
    "\n",
    "for node in postprocessed_nodes:\n",
    "    print(f'Page: {node.node.metadata[\"page_label\"]}, Document: {node.node.metadata[\"file_name\"]}, Cosine Similarity: {node.score:.2f}')"
   ]
  },
  {
   "cell_type": "markdown",
   "metadata": {},
   "source": [
    "## SVM"
   ]
  },
  {
   "cell_type": "code",
   "execution_count": 213,
   "metadata": {},
   "outputs": [
    {
     "name": "stderr",
     "output_type": "stream",
     "text": [
      "/home/daniele/Desktop/Projects/bureaubot/.venv_bureaubot/lib/python3.10/site-packages/sklearn/svm/_classes.py:32: FutureWarning: The default value of `dual` will change from `True` to `'auto'` in 1.5. Set the value of `dual` explicitly to suppress the warning.\n",
      "  warnings.warn(\n",
      "/home/daniele/Desktop/Projects/bureaubot/.venv_bureaubot/lib/python3.10/site-packages/sklearn/svm/_classes.py:32: FutureWarning: The default value of `dual` will change from `True` to `'auto'` in 1.5. Set the value of `dual` explicitly to suppress the warning.\n",
      "  warnings.warn(\n",
      "/home/daniele/Desktop/Projects/bureaubot/.venv_bureaubot/lib/python3.10/site-packages/sklearn/svm/_classes.py:32: FutureWarning: The default value of `dual` will change from `True` to `'auto'` in 1.5. Set the value of `dual` explicitly to suppress the warning.\n",
      "  warnings.warn(\n"
     ]
    }
   ],
   "source": [
    "query_modes = [\n",
    "    \"svm\",\n",
    "    \"linear_regression\",\n",
    "    \"logistic_regression\",\n",
    "]\n",
    "\n",
    "responses_modes = []\n",
    "\n",
    "for query_mode in query_modes:\n",
    "    query_engine_modes = index_loaded.as_query_engine(\n",
    "        text_qa_template=qa_template,\n",
    "        similarity_top_k=number_top_results,\n",
    "        vector_store_query_mode=query_mode)\n",
    "\n",
    "    response_modes = query_engine_modes.query(user_query)\n",
    "    responses_modes.append(response_modes)"
   ]
  },
  {
   "cell_type": "code",
   "execution_count": 214,
   "metadata": {},
   "outputs": [
    {
     "name": "stdout",
     "output_type": "stream",
     "text": [
      "Query mode: svm\n",
      "\n",
      "Prompt:\n",
      "Wann muss ich mich melden wenn ich Arbeitslosengeld beantragen will?\n"
     ]
    },
    {
     "data": {
      "text/markdown": [
       "Response:<br/>Sie müssen sich spätestens am ersten Tag Ihrer Arbeitslosigkeit arbeitslos melden, um Arbeitslosengeld zu beantragen."
      ],
      "text/plain": [
       "<IPython.core.display.Markdown object>"
      ]
     },
     "metadata": {},
     "output_type": "display_data"
    },
    {
     "name": "stdout",
     "output_type": "stream",
     "text": [
      "Sources:\n",
      "Page: 13, Document: merkblatt-fuer-arbeitslose_ba036520.pdf, Cosine Similarity: -0.40\n",
      "Page: 6, Document: merkblatt-fuer-arbeitslose_ba036520.pdf, Cosine Similarity: -0.46\n",
      "Page: 14, Document: merkblatt-fuer-arbeitslose_ba036520.pdf, Cosine Similarity: -0.48\n",
      "Page: 24, Document: merkblatt-fuer-arbeitslose_ba036520.pdf, Cosine Similarity: -0.49\n",
      "Page: 15, Document: merkblatt-fuer-arbeitslose_ba036520.pdf, Cosine Similarity: -0.49\n",
      "==========================================================================================\n",
      "Query mode: linear_regression\n",
      "\n",
      "Prompt:\n",
      "Wann muss ich mich melden wenn ich Arbeitslosengeld beantragen will?\n"
     ]
    },
    {
     "data": {
      "text/markdown": [
       "Response:<br/>Sie müssen sich spätestens am ersten Tag Ihrer Arbeitslosigkeit arbeitslos melden, um Arbeitslosengeld zu beantragen."
      ],
      "text/plain": [
       "<IPython.core.display.Markdown object>"
      ]
     },
     "metadata": {},
     "output_type": "display_data"
    },
    {
     "name": "stdout",
     "output_type": "stream",
     "text": [
      "Sources:\n",
      "Page: 13, Document: merkblatt-fuer-arbeitslose_ba036520.pdf, Cosine Similarity: -0.40\n",
      "Page: 6, Document: merkblatt-fuer-arbeitslose_ba036520.pdf, Cosine Similarity: -0.46\n",
      "Page: 14, Document: merkblatt-fuer-arbeitslose_ba036520.pdf, Cosine Similarity: -0.48\n",
      "Page: 24, Document: merkblatt-fuer-arbeitslose_ba036520.pdf, Cosine Similarity: -0.49\n",
      "Page: 15, Document: merkblatt-fuer-arbeitslose_ba036520.pdf, Cosine Similarity: -0.49\n",
      "==========================================================================================\n",
      "Query mode: logistic_regression\n",
      "\n",
      "Prompt:\n",
      "Wann muss ich mich melden wenn ich Arbeitslosengeld beantragen will?\n"
     ]
    },
    {
     "data": {
      "text/markdown": [
       "Response:<br/>Sie müssen sich spätestens am ersten Tag Ihrer Arbeitslosigkeit arbeitslos melden, um Arbeitslosengeld zu beantragen."
      ],
      "text/plain": [
       "<IPython.core.display.Markdown object>"
      ]
     },
     "metadata": {},
     "output_type": "display_data"
    },
    {
     "name": "stdout",
     "output_type": "stream",
     "text": [
      "Sources:\n",
      "Page: 13, Document: merkblatt-fuer-arbeitslose_ba036520.pdf, Cosine Similarity: -0.40\n",
      "Page: 6, Document: merkblatt-fuer-arbeitslose_ba036520.pdf, Cosine Similarity: -0.46\n",
      "Page: 14, Document: merkblatt-fuer-arbeitslose_ba036520.pdf, Cosine Similarity: -0.48\n",
      "Page: 24, Document: merkblatt-fuer-arbeitslose_ba036520.pdf, Cosine Similarity: -0.49\n",
      "Page: 15, Document: merkblatt-fuer-arbeitslose_ba036520.pdf, Cosine Similarity: -0.49\n",
      "==========================================================================================\n"
     ]
    }
   ],
   "source": [
    "for query_mode, r in zip(query_modes, responses_modes):\n",
    "    print(f\"Query mode: {query_mode}\\n\")\n",
    "    print_response_info(user_query, r)\n",
    "    print(\"=\"*90)"
   ]
  },
  {
   "cell_type": "markdown",
   "metadata": {},
   "source": [
    "## Hypothetical document embeddings (HyDE)"
   ]
  },
  {
   "cell_type": "code",
   "execution_count": 215,
   "metadata": {},
   "outputs": [
    {
     "name": "stdout",
     "output_type": "stream",
     "text": [
      "Prompt:\n",
      "Wann muss ich mich melden wenn ich Arbeitslosengeld beantragen will?\n"
     ]
    },
    {
     "data": {
      "text/markdown": [
       "Response:<br/>Sie müssen sich spätestens am 1. Tag der Arbeitslosigkeit arbeitslos melden, um Arbeitslosengeld beantragen zu können."
      ],
      "text/plain": [
       "<IPython.core.display.Markdown object>"
      ]
     },
     "metadata": {},
     "output_type": "display_data"
    },
    {
     "name": "stdout",
     "output_type": "stream",
     "text": [
      "Sources:\n",
      "Page: 14, Document: merkblatt-fuer-arbeitslose_ba036520.pdf, Cosine Similarity: 0.93\n",
      "Page: 15, Document: merkblatt-fuer-arbeitslose_ba036520.pdf, Cosine Similarity: 0.93\n",
      "Page: 6, Document: merkblatt-fuer-arbeitslose_ba036520.pdf, Cosine Similarity: 0.93\n",
      "Page: 13, Document: merkblatt-fuer-arbeitslose_ba036520.pdf, Cosine Similarity: 0.93\n",
      "Page: 18, Document: merkblatt-fuer-arbeitslose_ba036520.pdf, Cosine Similarity: 0.92\n"
     ]
    }
   ],
   "source": [
    "query_engine_hyde = index_loaded.as_query_engine(text_qa_template=qa_template, similarity_top_k=number_top_results)\n",
    "\n",
    "# \"HyDEQueryTransform\" generates a hypothetical document and use it for embedding lookup.\n",
    "hyde = HyDEQueryTransform(include_original=True)\n",
    "hyde_query_engine = TransformQueryEngine(query_engine_hyde, hyde)\n",
    "response_hyde = hyde_query_engine.query(user_query)\n",
    "\n",
    "print_response_info(user_query, response_hyde)"
   ]
  },
  {
   "cell_type": "code",
   "execution_count": 216,
   "metadata": {},
   "outputs": [
    {
     "data": {
      "text/plain": [
       "<llama_index.indices.query.query_transform.base.HyDEQueryTransform at 0x7f468b54fe50>"
      ]
     },
     "execution_count": 216,
     "metadata": {},
     "output_type": "execute_result"
    }
   ],
   "source": [
    "hyde"
   ]
  },
  {
   "cell_type": "code",
   "execution_count": 217,
   "metadata": {},
   "outputs": [
    {
     "name": "stdout",
     "output_type": "stream",
     "text": [
      "Prompt:\n",
      "Wann muss ich mich melden wenn ich Arbeitslosengeld beantragen will?\n",
      "\n",
      "Response:\n"
     ]
    },
    {
     "data": {
      "text/markdown": [
       "Um Arbeitslosengeld zu beantragen, müssen Sie sich so früh wie möglich bei der Agentur für Arbeit melden. Es wird empfohlen, dies spätestens drei Monate vor dem geplanten Beginn der Arbeitslosigkeit zu tun. Sie können sich persönlich bei der örtlichen Agentur für Arbeit anmelden oder dies online über die Website der Agentur tun. Bei der Anmeldung müssen Sie verschiedene Unterlagen vorlegen, wie zum Beispiel Ihren Personalausweis, Ihre Sozialversicherungsnummer, Ihren Lebenslauf, Ihre Arbeitsverträge der letzten zwei Jahre, Ihre Kündigungsschreiben und Ihre Bankverbindung. Es ist wichtig, dass Sie alle erforderlichen Dokumente vollständig und korrekt vorlegen, um Verzögerungen bei der Bearbeitung Ihres Antrags zu vermeiden. Sobald Sie sich angemeldet haben, wird die Agentur für Arbeit Ihren Anspruch auf Arbeitslosengeld prüfen und Ihnen gegebenenfalls weitere Informationen und Anweisungen geben. Es ist wichtig, dass Sie während des gesamten Prozesses eng mit der Agentur für Arbeit zusammenarbeiten und alle erforderlichen Informationen bereitstellen, um sicherzustellen, dass Ihr Antrag reibungslos bearbeitet wird."
      ],
      "text/plain": [
       "<IPython.core.display.Markdown object>"
      ]
     },
     "metadata": {},
     "output_type": "display_data"
    }
   ],
   "source": [
    "#In this example, HyDE improves output quality significantly, by hallucinating\n",
    "# accurately, and thus improving the embedding quality, and final output.\n",
    "query_bundle = hyde(user_query)\n",
    "hyde_doc = query_bundle.embedding_strs[0]\n",
    "\n",
    "print(f\"Prompt:\\n{user_query}\\n\\nResponse:\")\n",
    "display(Markdown(f\"{hyde_doc}\"))"
   ]
  },
  {
   "cell_type": "code",
   "execution_count": 218,
   "metadata": {},
   "outputs": [
    {
     "name": "stdout",
     "output_type": "stream",
     "text": [
      "Prompt:\n",
      "Wann muss ich mich melden wenn ich Arbeitslosengeld beantragen will?\n",
      "\n",
      "Response:\n"
     ]
    },
    {
     "data": {
      "text/markdown": [
       "Um Arbeitslosengeld zu beantragen, müssen Sie sich so früh wie möglich bei der Agentur für Arbeit melden. Es wird empfohlen, dies spätestens drei Monate vor dem geplanten Beginn der Arbeitslosigkeit zu tun. Sie können sich persönlich bei der örtlichen Agentur für Arbeit anmelden oder dies online über die Website der Agentur tun. Bei der Anmeldung müssen Sie verschiedene Unterlagen vorlegen, wie zum Beispiel Ihren Personalausweis, Ihre Sozialversicherungsnummer, Ihren Lebenslauf, Ihre Arbeitsverträge der letzten zwei Jahre und Ihre Kündigungserklärung. Es ist wichtig, dass Sie alle erforderlichen Unterlagen vollständig und korrekt vorlegen, um Verzögerungen bei der Bearbeitung Ihres Antrags zu vermeiden. Sobald Sie sich angemeldet haben, wird die Agentur für Arbeit Ihren Anspruch auf Arbeitslosengeld prüfen und Ihnen gegebenenfalls weitere Informationen und Anweisungen geben. Es ist wichtig, dass Sie während des gesamten Antragsprozesses erreichbar sind und auf Anfragen der Agentur für Arbeit reagieren, um sicherzustellen, dass Ihr Antrag reibungslos bearbeitet werden kann."
      ],
      "text/plain": [
       "<IPython.core.display.Markdown object>"
      ]
     },
     "metadata": {},
     "output_type": "display_data"
    }
   ],
   "source": [
    "hyde_2 = HyDEQueryTransform(include_original=True)\n",
    "query_bundle_2 = hyde_2(user_query)\n",
    "hyde_doc_2 = query_bundle_2.embedding_strs[0]\n",
    "\n",
    "print(f\"Prompt:\\n{user_query}\\n\\nResponse:\")\n",
    "display(Markdown(f\"{hyde_doc_2}\"))"
   ]
  },
  {
   "cell_type": "markdown",
   "metadata": {},
   "source": [
    "# Chat Engine"
   ]
  },
  {
   "cell_type": "code",
   "execution_count": 219,
   "metadata": {},
   "outputs": [],
   "source": [
    "# Configure prompt parameters and initialise helper\n",
    "max_input_size = 4096\n",
    "num_output = 256\n",
    "max_chunk_overlap = 0.2\n",
    "prompt_helper = PromptHelper(max_input_size, num_output, max_chunk_overlap)\n",
    "\n",
    "system_prompt = (\n",
    "    \"\"\"\n",
    "    You are an expert on the German administration system and your job is to answer technical questions.\n",
    "    Assume that all questions are related to the the provided context.\n",
    "    Keep your answers based on facts, do not hallucinate information.\n",
    "    \"\"\"\n",
    ")\n",
    "\n",
    "llm= LLMPredictor(llm=OpenAI(\n",
    "    temperature=0,\n",
    "    model_name=\"gpt-3.5-turbo\",\n",
    "    system_prompt=system_prompt\n",
    "))\n",
    "\n",
    "service_context = ServiceContext.from_defaults(llm_predictor=llm, prompt_helper=prompt_helper)\n",
    "\n",
    "chat_engine = index_loaded.as_chat_engine(\n",
    "    #service_context=service_context,\n",
    "    chat_mode=\"context\",\n",
    "    # verbose=True\n",
    "    similarity_top_k=3\n",
    ")"
   ]
  },
  {
   "cell_type": "code",
   "execution_count": 220,
   "metadata": {},
   "outputs": [],
   "source": [
    "response_chat_test = chat_engine.chat(\"What do you know about the city of Berlin?\")\n",
    "# response_chat_test = chat_engine.chat(\"Is the unemployment benefit based on the number of children I have?\")"
   ]
  },
  {
   "cell_type": "code",
   "execution_count": 221,
   "metadata": {},
   "outputs": [
    {
     "data": {
      "text/plain": [
       "AgentChatResponse(response=\"Berlin is the capital and largest city of Germany. It is located in the northeastern part of the country and is known for its rich history, vibrant culture, and diverse population. Here are some key points about Berlin:\\n\\n1. History: Berlin has a significant historical background, including its division during the Cold War when it was split into East Berlin (under Soviet control) and West Berlin (controlled by the Allies). The Berlin Wall, which separated the two parts, became a symbol of the Cold War. The city was reunified in 1990 after the fall of the wall.\\n\\n2. Landmarks: Berlin is home to numerous iconic landmarks, such as the Brandenburg Gate, a symbol of German unity; the Reichstag building, which houses the German parliament; the Berlin Wall Memorial; Checkpoint Charlie, a former border crossing point; and the Berlin TV Tower, offering panoramic views of the city.\\n\\n3. Cultural Hub: Berlin is renowned for its thriving arts and cultural scene. It has over 180 museums, including the famous Museum Island, which is a UNESCO World Heritage site. The city also hosts numerous art galleries, theaters, music venues, and festivals, making it a hub for artists and creatives.\\n\\n4. Nightlife: Berlin is known for its vibrant nightlife, with a wide range of bars, clubs, and music venues catering to various tastes. The city has a reputation for its techno and electronic music scene, attracting party-goers from around the world.\\n\\n5. Green Spaces: Despite being a bustling metropolis, Berlin offers plenty of green spaces and parks. The Tiergarten, a large urban park in the city center, is a popular spot for relaxation and recreation. Additionally, Berlin has many lakes and canals, providing opportunities for water activities.\\n\\n6. Start-Up Scene: Berlin has emerged as a major hub for start-ups and innovation in recent years. The city's entrepreneurial spirit, affordable living costs, and supportive infrastructure have attracted many tech companies and entrepreneurs.\\n\\n7. Diversity: Berlin is known for its multiculturalism and diversity. People from various backgrounds and nationalities call the city home, contributing to its cosmopolitan atmosphere and offering a wide range of cuisines, languages, and cultural experiences.\\n\\n8. Transportation: Berlin has an extensive public transportation system, including buses, trams, trains, and an efficient subway system (U-Bahn and S-Bahn). The city is also known for its bike-friendly infrastructure, making cycling a popular mode of transportation.\\n\\nOverall, Berlin is a dynamic city that combines a rich history with a modern and progressive outlook. It offers a unique blend of culture, art, nightlife, and innovation, making it a popular destination for tourists and a vibrant place to live.\", sources=[ToolOutput(content='system: Context information is below.\\n--------------------\\npage_label: 31\\nfile_name: dok_ba013155.pdf\\n\\n315 In Deutschland  gearbeitet und im Ausland gewohnt\\n5  Sie haben in Deutschland \\n gearbeitet und haben als \\nGrenzgängerin bzw. Grenz -\\ngänger im (benach  barten) \\nAusland gewohnt?\\n5.1  Zusätzliche Arbeitsuchendmeldung von \\nGrenzgängerinnen bzw. Grenzgängern im \\nbisherigen Beschäftigungsstaat\\nWenn Sie in einem anderen Mitgliedstaat wohnen und \\neine Beschäftigung von dort aus als Grenzgängerin \\nbzw. Grenzgänger in Deutschland ausüben, erhalten \\nSie bei Arbeitslosigkeit grundsätzlich  Leistungen von \\ndem Staat, in dem Sie wohnen (Wohnstaat). Sie kön \\xad\\nnen Ihr Vermittlungsgesuch aber auch in Deutschland \\nmitführen lassen.\\n BITTE BEACHTEN SIE\\nWenn Sie sich zusätzlich arbeitsuchend \\n melden möchten, müssen Sie aktiv bei der \\nArbeitsuche mitwirken.\\n BEISPIEL\\nSie wohnten während Ihrer Beschäftigung in Deutsch \\xad\\nland im benachbarten Ausland. Ihr Arbeitslosengeld \\nwird im Wohnstaat gezahlt. Sie wollen aber auch wie \\xad\\nder eine Beschäftigung in Deutschland finden. Sie kön \\xad\\nnen Ihr Vermittlungsgesuch zusätzlich in Deutschland \\nmitführen lassen und sich arbeitsuchend melden.\\n\\npage_label: 10\\nfile_name: merkblatt-11-berufsberatung_ba015370.pdf\\n\\n2 Informationen zu Ausbildung, Studium und Beruf\\n10onsanliegen sind Ihnen die BiZ-Mitarbeiterinnen und \\nMitarbeiter auch gerne persönlich behilflich. \\n HINWEIS\\nAktuelle Veranstaltungen im BiZ, z. B. Vorträge oder \\nWorkshops zum Thema Bewerbung oder  Berufe finden \\nSie in der zentralen Datenbank für Ver anstaltungen  \\nim Internet unter »  www.arbeitsagentur.de  > Weitere \\nInternetauftritte > Veranstaltungsdatenbank.\\nSelbstverständlich erhalten Sie Informationen über \\n Berufe, Ausbildung, Bewerbung, Schule und Studium \\nund alternative Wege auch in der Einzelberatung . Die \\nBerufsberaterin oder der Berufsberater hilft Ihnen da -\\nbei, die für Sie wichtigen Informationen zu finden und \\nzu bewerten. Vereinbaren Sie einen Gesprächstermin  – \\ntelefonisch, online, persönlich (siehe S. 6).\\nUm sich auf das Beratungsgespräch vorzubereiten, \\nkönnen Sie die Internetportale » www.planet-beruf.de  \\n(bei Schulabschluss im Bereich der Sekundarstufe I) \\nund » www.abi.de  (für die Sekundarstufe II) nutzen.\\nWenn Sie an einer Ausbildung , einem Studium  oder \\nan einer Tätigkeit im Ausland  interessiert sind, stehen \\nIhnen die Informations- und Beratungsangebote der \\nZentralen Auslands- und Fachvermittlung (ZAV)  zur \\nVerfügung.\\n LINK\\nAktuelle Informationen finden Sie auf der Internetseite \\n»www.zav.de . Zudem können Sie sich telefonisch an\\neine Mitarbeiterin oder einen Mitarbeiter des Infocen -\\nters „Virtuelles Welcome Center “ wenden – die Ruf-\\n\\npage_label: 16\\nfile_name: merkblatt-algii_ba015397.pdf\\n\\n2 Das Jobcenter\\n16Haben wir Ihr Interesse geweckt? Dann nutzen Sie Ihr \\nBenutzerkonto unter » www.jobcenter.digital  für die \\nsichere Kommunikation mit Ihrem Jobcenter. \\nBei allen Fragen zur Anmeldung steht Ihnen die  \\nService-Hotline unter der Rufnummer 0800 - 4555501  \\ntelefonisch zur Verfügung.\\nZum Aufruf der Startseite » www.jobcenter.digital   \\nkönnen Sie auch folgenden QR-Code nutzen.\\n--------------------\\n', tool_name='retriever', raw_input={'message': 'What do you know about the city of Berlin?'}, raw_output=ChatMessage(role=<MessageRole.SYSTEM: 'system'>, content='Context information is below.\\n--------------------\\npage_label: 31\\nfile_name: dok_ba013155.pdf\\n\\n315 In Deutschland  gearbeitet und im Ausland gewohnt\\n5  Sie haben in Deutschland \\n gearbeitet und haben als \\nGrenzgängerin bzw. Grenz -\\ngänger im (benach  barten) \\nAusland gewohnt?\\n5.1  Zusätzliche Arbeitsuchendmeldung von \\nGrenzgängerinnen bzw. Grenzgängern im \\nbisherigen Beschäftigungsstaat\\nWenn Sie in einem anderen Mitgliedstaat wohnen und \\neine Beschäftigung von dort aus als Grenzgängerin \\nbzw. Grenzgänger in Deutschland ausüben, erhalten \\nSie bei Arbeitslosigkeit grundsätzlich  Leistungen von \\ndem Staat, in dem Sie wohnen (Wohnstaat). Sie kön \\xad\\nnen Ihr Vermittlungsgesuch aber auch in Deutschland \\nmitführen lassen.\\n BITTE BEACHTEN SIE\\nWenn Sie sich zusätzlich arbeitsuchend \\n melden möchten, müssen Sie aktiv bei der \\nArbeitsuche mitwirken.\\n BEISPIEL\\nSie wohnten während Ihrer Beschäftigung in Deutsch \\xad\\nland im benachbarten Ausland. Ihr Arbeitslosengeld \\nwird im Wohnstaat gezahlt. Sie wollen aber auch wie \\xad\\nder eine Beschäftigung in Deutschland finden. Sie kön \\xad\\nnen Ihr Vermittlungsgesuch zusätzlich in Deutschland \\nmitführen lassen und sich arbeitsuchend melden.\\n\\npage_label: 10\\nfile_name: merkblatt-11-berufsberatung_ba015370.pdf\\n\\n2 Informationen zu Ausbildung, Studium und Beruf\\n10onsanliegen sind Ihnen die BiZ-Mitarbeiterinnen und \\nMitarbeiter auch gerne persönlich behilflich. \\n HINWEIS\\nAktuelle Veranstaltungen im BiZ, z. B. Vorträge oder \\nWorkshops zum Thema Bewerbung oder  Berufe finden \\nSie in der zentralen Datenbank für Ver anstaltungen  \\nim Internet unter »  www.arbeitsagentur.de  > Weitere \\nInternetauftritte > Veranstaltungsdatenbank.\\nSelbstverständlich erhalten Sie Informationen über \\n Berufe, Ausbildung, Bewerbung, Schule und Studium \\nund alternative Wege auch in der Einzelberatung . Die \\nBerufsberaterin oder der Berufsberater hilft Ihnen da -\\nbei, die für Sie wichtigen Informationen zu finden und \\nzu bewerten. Vereinbaren Sie einen Gesprächstermin  – \\ntelefonisch, online, persönlich (siehe S. 6).\\nUm sich auf das Beratungsgespräch vorzubereiten, \\nkönnen Sie die Internetportale » www.planet-beruf.de  \\n(bei Schulabschluss im Bereich der Sekundarstufe I) \\nund » www.abi.de  (für die Sekundarstufe II) nutzen.\\nWenn Sie an einer Ausbildung , einem Studium  oder \\nan einer Tätigkeit im Ausland  interessiert sind, stehen \\nIhnen die Informations- und Beratungsangebote der \\nZentralen Auslands- und Fachvermittlung (ZAV)  zur \\nVerfügung.\\n LINK\\nAktuelle Informationen finden Sie auf der Internetseite \\n»www.zav.de . Zudem können Sie sich telefonisch an\\neine Mitarbeiterin oder einen Mitarbeiter des Infocen -\\nters „Virtuelles Welcome Center “ wenden – die Ruf-\\n\\npage_label: 16\\nfile_name: merkblatt-algii_ba015397.pdf\\n\\n2 Das Jobcenter\\n16Haben wir Ihr Interesse geweckt? Dann nutzen Sie Ihr \\nBenutzerkonto unter » www.jobcenter.digital  für die \\nsichere Kommunikation mit Ihrem Jobcenter. \\nBei allen Fragen zur Anmeldung steht Ihnen die  \\nService-Hotline unter der Rufnummer 0800 - 4555501  \\ntelefonisch zur Verfügung.\\nZum Aufruf der Startseite » www.jobcenter.digital   \\nkönnen Sie auch folgenden QR-Code nutzen.\\n--------------------\\n', additional_kwargs={}))], source_nodes=[NodeWithScore(node=TextNode(id_='101c5b70-98d4-432f-bfd5-80811b2128f7', embedding=None, metadata={'page_label': '31', 'file_name': 'dok_ba013155.pdf'}, excluded_embed_metadata_keys=[], excluded_llm_metadata_keys=[], relationships={<NodeRelationship.SOURCE: '1'>: RelatedNodeInfo(node_id='360b1b3b-dfeb-455b-8a57-9e29ae2036f5', node_type=None, metadata={'page_label': '31', 'file_name': 'dok_ba013155.pdf'}, hash='e480367de126c1d8d7861417949102d1ec5d2e2d2f802eec483440253fd1a247')}, hash='e480367de126c1d8d7861417949102d1ec5d2e2d2f802eec483440253fd1a247', text='315 In Deutschland  gearbeitet und im Ausland gewohnt\\n5  Sie haben in Deutschland \\n gearbeitet und haben als \\nGrenzgängerin bzw. Grenz -\\ngänger im (benach  barten) \\nAusland gewohnt?\\n5.1  Zusätzliche Arbeitsuchendmeldung von \\nGrenzgängerinnen bzw. Grenzgängern im \\nbisherigen Beschäftigungsstaat\\nWenn Sie in einem anderen Mitgliedstaat wohnen und \\neine Beschäftigung von dort aus als Grenzgängerin \\nbzw. Grenzgänger in Deutschland ausüben, erhalten \\nSie bei Arbeitslosigkeit grundsätzlich  Leistungen von \\ndem Staat, in dem Sie wohnen (Wohnstaat). Sie kön \\xad\\nnen Ihr Vermittlungsgesuch aber auch in Deutschland \\nmitführen lassen.\\n BITTE BEACHTEN SIE\\nWenn Sie sich zusätzlich arbeitsuchend \\n melden möchten, müssen Sie aktiv bei der \\nArbeitsuche mitwirken.\\n BEISPIEL\\nSie wohnten während Ihrer Beschäftigung in Deutsch \\xad\\nland im benachbarten Ausland. Ihr Arbeitslosengeld \\nwird im Wohnstaat gezahlt. Sie wollen aber auch wie \\xad\\nder eine Beschäftigung in Deutschland finden. Sie kön \\xad\\nnen Ihr Vermittlungsgesuch zusätzlich in Deutschland \\nmitführen lassen und sich arbeitsuchend melden.', start_char_idx=None, end_char_idx=None, text_template='{metadata_str}\\n\\n{content}', metadata_template='{key}: {value}', metadata_seperator='\\n'), score=0.7668280739352309), NodeWithScore(node=TextNode(id_='9db2aa01-0b59-481e-84bc-9cde6f424936', embedding=None, metadata={'page_label': '10', 'file_name': 'merkblatt-11-berufsberatung_ba015370.pdf'}, excluded_embed_metadata_keys=[], excluded_llm_metadata_keys=[], relationships={<NodeRelationship.SOURCE: '1'>: RelatedNodeInfo(node_id='ca9c5bc8-656b-4ba6-9442-07a6709739c5', node_type=None, metadata={'page_label': '10', 'file_name': 'merkblatt-11-berufsberatung_ba015370.pdf'}, hash='e02c0b54a5346bc9b67eeaee8c7602966473c11cdd222d8db740e1f5b5b7e0f1')}, hash='e02c0b54a5346bc9b67eeaee8c7602966473c11cdd222d8db740e1f5b5b7e0f1', text='2 Informationen zu Ausbildung, Studium und Beruf\\n10onsanliegen sind Ihnen die BiZ-Mitarbeiterinnen und \\nMitarbeiter auch gerne persönlich behilflich. \\n HINWEIS\\nAktuelle Veranstaltungen im BiZ, z. B. Vorträge oder \\nWorkshops zum Thema Bewerbung oder  Berufe finden \\nSie in der zentralen Datenbank für Ver anstaltungen  \\nim Internet unter »  www.arbeitsagentur.de  > Weitere \\nInternetauftritte > Veranstaltungsdatenbank.\\nSelbstverständlich erhalten Sie Informationen über \\n Berufe, Ausbildung, Bewerbung, Schule und Studium \\nund alternative Wege auch in der Einzelberatung . Die \\nBerufsberaterin oder der Berufsberater hilft Ihnen da -\\nbei, die für Sie wichtigen Informationen zu finden und \\nzu bewerten. Vereinbaren Sie einen Gesprächstermin  – \\ntelefonisch, online, persönlich (siehe S. 6).\\nUm sich auf das Beratungsgespräch vorzubereiten, \\nkönnen Sie die Internetportale » www.planet-beruf.de  \\n(bei Schulabschluss im Bereich der Sekundarstufe I) \\nund » www.abi.de  (für die Sekundarstufe II) nutzen.\\nWenn Sie an einer Ausbildung , einem Studium  oder \\nan einer Tätigkeit im Ausland  interessiert sind, stehen \\nIhnen die Informations- und Beratungsangebote der \\nZentralen Auslands- und Fachvermittlung (ZAV)  zur \\nVerfügung.\\n LINK\\nAktuelle Informationen finden Sie auf der Internetseite \\n»www.zav.de . Zudem können Sie sich telefonisch an\\neine Mitarbeiterin oder einen Mitarbeiter des Infocen -\\nters „Virtuelles Welcome Center “ wenden – die Ruf-', start_char_idx=None, end_char_idx=None, text_template='{metadata_str}\\n\\n{content}', metadata_template='{key}: {value}', metadata_seperator='\\n'), score=0.7667375444127464), NodeWithScore(node=TextNode(id_='bc2e065b-9c57-4449-8dea-e5ce8abce924', embedding=None, metadata={'page_label': '16', 'file_name': 'merkblatt-algii_ba015397.pdf'}, excluded_embed_metadata_keys=[], excluded_llm_metadata_keys=[], relationships={<NodeRelationship.SOURCE: '1'>: RelatedNodeInfo(node_id='95a76f41-c414-4def-99d2-80b1b4052057', node_type=None, metadata={'page_label': '16', 'file_name': 'merkblatt-algii_ba015397.pdf'}, hash='bfa5c6a3e9f08f9e61f820e6b3c90c585237fac167ce0fb69bb5b1e1f57c4c51')}, hash='a9dba539245c9a906e15e323efbeb261b32f7963aed39e4541536372c827648e', text='2 Das Jobcenter\\n16Haben wir Ihr Interesse geweckt? Dann nutzen Sie Ihr \\nBenutzerkonto unter » www.jobcenter.digital  für die \\nsichere Kommunikation mit Ihrem Jobcenter. \\nBei allen Fragen zur Anmeldung steht Ihnen die  \\nService-Hotline unter der Rufnummer 0800 - 4555501  \\ntelefonisch zur Verfügung.\\nZum Aufruf der Startseite » www.jobcenter.digital   \\nkönnen Sie auch folgenden QR-Code nutzen.', start_char_idx=None, end_char_idx=None, text_template='{metadata_str}\\n\\n{content}', metadata_template='{key}: {value}', metadata_seperator='\\n'), score=0.7667017360843524)])"
      ]
     },
     "execution_count": 221,
     "metadata": {},
     "output_type": "execute_result"
    }
   ],
   "source": [
    "response_chat_test"
   ]
  },
  {
   "cell_type": "code",
   "execution_count": 222,
   "metadata": {},
   "outputs": [
    {
     "name": "stdout",
     "output_type": "stream",
     "text": [
      "NO\n",
      "info not available\n"
     ]
    }
   ],
   "source": [
    "metadata_chat = eval_response(response_chat_test)\n",
    "\n",
    "metadata_chat"
   ]
  },
  {
   "cell_type": "code",
   "execution_count": 223,
   "metadata": {},
   "outputs": [
    {
     "name": "stdout",
     "output_type": "stream",
     "text": [
      "There 3 sources.\n",
      "Page 31 from file dok_ba013155.pdf\n",
      "Page 10 from file merkblatt-11-berufsberatung_ba015370.pdf\n",
      "Page 16 from file merkblatt-algii_ba015397.pdf\n"
     ]
    }
   ],
   "source": [
    "print(f\"There {len(response_chat_test.source_nodes)} sources.\")\n",
    "for source_node in response_chat_test.source_nodes:\n",
    "    print(f'Page {source_node.node.metadata[\"page_label\"]} from file {source_node.node.metadata[\"file_name\"]}')"
   ]
  },
  {
   "cell_type": "code",
   "execution_count": 224,
   "metadata": {},
   "outputs": [
    {
     "data": {
      "text/plain": [
       "\"Berlin is the capital and largest city of Germany. It is located in the northeastern part of the country and is known for its rich history, vibrant culture, and diverse population. Here are some key points about Berlin:\\n\\n1. History: Berlin has a significant historical background, including its division during the Cold War when it was split into East Berlin (under Soviet control) and West Berlin (controlled by the Allies). The Berlin Wall, which separated the two parts, became a symbol of the Cold War. The city was reunified in 1990 after the fall of the wall.\\n\\n2. Landmarks: Berlin is home to numerous iconic landmarks, such as the Brandenburg Gate, a symbol of German unity; the Reichstag building, which houses the German parliament; the Berlin Wall Memorial; Checkpoint Charlie, a former border crossing point; and the Berlin TV Tower, offering panoramic views of the city.\\n\\n3. Cultural Hub: Berlin is renowned for its thriving arts and cultural scene. It has over 180 museums, including the famous Museum Island, which is a UNESCO World Heritage site. The city also hosts numerous art galleries, theaters, music venues, and festivals, making it a hub for artists and creatives.\\n\\n4. Nightlife: Berlin is known for its vibrant nightlife, with a wide range of bars, clubs, and music venues catering to various tastes. The city has a reputation for its techno and electronic music scene, attracting party-goers from around the world.\\n\\n5. Green Spaces: Despite being a bustling metropolis, Berlin offers plenty of green spaces and parks. The Tiergarten, a large urban park in the city center, is a popular spot for relaxation and recreation. Additionally, Berlin has many lakes and canals, providing opportunities for water activities.\\n\\n6. Start-Up Scene: Berlin has emerged as a major hub for start-ups and innovation in recent years. The city's entrepreneurial spirit, affordable living costs, and supportive infrastructure have attracted many tech companies and entrepreneurs.\\n\\n7. Diversity: Berlin is known for its multiculturalism and diversity. People from various backgrounds and nationalities call the city home, contributing to its cosmopolitan atmosphere and offering a wide range of cuisines, languages, and cultural experiences.\\n\\n8. Transportation: Berlin has an extensive public transportation system, including buses, trams, trains, and an efficient subway system (U-Bahn and S-Bahn). The city is also known for its bike-friendly infrastructure, making cycling a popular mode of transportation.\\n\\nOverall, Berlin is a dynamic city that combines a rich history with a modern and progressive outlook. It offers a unique blend of culture, art, nightlife, and innovation, making it a popular destination for tourists and a vibrant place to live.\""
      ]
     },
     "execution_count": 224,
     "metadata": {},
     "output_type": "execute_result"
    }
   ],
   "source": [
    "response_chat_test.response"
   ]
  },
  {
   "cell_type": "code",
   "execution_count": 225,
   "metadata": {},
   "outputs": [
    {
     "data": {
      "text/plain": [
       "3"
      ]
     },
     "execution_count": 225,
     "metadata": {},
     "output_type": "execute_result"
    }
   ],
   "source": [
    "len(response_chat_test.source_nodes)"
   ]
  },
  {
   "cell_type": "code",
   "execution_count": 226,
   "metadata": {},
   "outputs": [
    {
     "data": {
      "text/plain": [
       "NodeWithScore(node=TextNode(id_='101c5b70-98d4-432f-bfd5-80811b2128f7', embedding=None, metadata={'page_label': '31', 'file_name': 'dok_ba013155.pdf'}, excluded_embed_metadata_keys=[], excluded_llm_metadata_keys=[], relationships={<NodeRelationship.SOURCE: '1'>: RelatedNodeInfo(node_id='360b1b3b-dfeb-455b-8a57-9e29ae2036f5', node_type=None, metadata={'page_label': '31', 'file_name': 'dok_ba013155.pdf'}, hash='e480367de126c1d8d7861417949102d1ec5d2e2d2f802eec483440253fd1a247')}, hash='e480367de126c1d8d7861417949102d1ec5d2e2d2f802eec483440253fd1a247', text='315 In Deutschland  gearbeitet und im Ausland gewohnt\\n5  Sie haben in Deutschland \\n gearbeitet und haben als \\nGrenzgängerin bzw. Grenz -\\ngänger im (benach  barten) \\nAusland gewohnt?\\n5.1  Zusätzliche Arbeitsuchendmeldung von \\nGrenzgängerinnen bzw. Grenzgängern im \\nbisherigen Beschäftigungsstaat\\nWenn Sie in einem anderen Mitgliedstaat wohnen und \\neine Beschäftigung von dort aus als Grenzgängerin \\nbzw. Grenzgänger in Deutschland ausüben, erhalten \\nSie bei Arbeitslosigkeit grundsätzlich  Leistungen von \\ndem Staat, in dem Sie wohnen (Wohnstaat). Sie kön \\xad\\nnen Ihr Vermittlungsgesuch aber auch in Deutschland \\nmitführen lassen.\\n BITTE BEACHTEN SIE\\nWenn Sie sich zusätzlich arbeitsuchend \\n melden möchten, müssen Sie aktiv bei der \\nArbeitsuche mitwirken.\\n BEISPIEL\\nSie wohnten während Ihrer Beschäftigung in Deutsch \\xad\\nland im benachbarten Ausland. Ihr Arbeitslosengeld \\nwird im Wohnstaat gezahlt. Sie wollen aber auch wie \\xad\\nder eine Beschäftigung in Deutschland finden. Sie kön \\xad\\nnen Ihr Vermittlungsgesuch zusätzlich in Deutschland \\nmitführen lassen und sich arbeitsuchend melden.', start_char_idx=None, end_char_idx=None, text_template='{metadata_str}\\n\\n{content}', metadata_template='{key}: {value}', metadata_seperator='\\n'), score=0.7668280739352309)"
      ]
     },
     "execution_count": 226,
     "metadata": {},
     "output_type": "execute_result"
    }
   ],
   "source": [
    "response_chat_test.source_nodes[0]"
   ]
  },
  {
   "cell_type": "code",
   "execution_count": 227,
   "metadata": {},
   "outputs": [
    {
     "data": {
      "text/plain": [
       "'31'"
      ]
     },
     "execution_count": 227,
     "metadata": {},
     "output_type": "execute_result"
    }
   ],
   "source": [
    "response_chat_test.source_nodes[0].node.metadata[\"page_label\"]"
   ]
  }
 ],
 "metadata": {
  "kernelspec": {
   "display_name": ".venv_chatbot",
   "language": "python",
   "name": "python3"
  },
  "language_info": {
   "codemirror_mode": {
    "name": "ipython",
    "version": 3
   },
   "file_extension": ".py",
   "mimetype": "text/x-python",
   "name": "python",
   "nbconvert_exporter": "python",
   "pygments_lexer": "ipython3",
   "version": "3.10.12"
  },
  "orig_nbformat": 4
 },
 "nbformat": 4,
 "nbformat_minor": 2
}
