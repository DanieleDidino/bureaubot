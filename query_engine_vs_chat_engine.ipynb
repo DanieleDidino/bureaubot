{
 "cells": [
  {
   "cell_type": "code",
   "execution_count": 99,
   "metadata": {},
   "outputs": [],
   "source": [
    "from llama_index import LLMPredictor, ServiceContext\n",
    "# from llama_index import VectorStoreIndex\n",
    "# from llama_index import SimpleDirectoryReader\n",
    "from llama_index import Prompt\n",
    "from llama_index import PromptHelper\n",
    "from llama_index import StorageContext, load_index_from_storage\n",
    "from llama_index.evaluation import ResponseEvaluator\n",
    "from llama_index.llms import OpenAI\n",
    "from llama_index.indices.postprocessor import SimilarityPostprocessor\n",
    "from llama_index.indices.query.query_transform import HyDEQueryTransform\n",
    "from llama_index.query_engine.transform_query_engine import TransformQueryEngine\n",
    "from langchain.chat_models import ChatOpenAI\n",
    "from IPython.display import Markdown, display\n",
    "\n",
    "import environ\n",
    "import openai"
   ]
  },
  {
   "cell_type": "code",
   "execution_count": 100,
   "metadata": {},
   "outputs": [],
   "source": [
    "# For now I use my key\n",
    "env = environ.Env()\n",
    "environ.Env.read_env()\n",
    "API_KEY = env(\"OPENAI_API_KEY\")\n",
    "openai.api_key = API_KEY"
   ]
  },
  {
   "cell_type": "markdown",
   "metadata": {},
   "source": [
    "# LLM"
   ]
  },
  {
   "cell_type": "code",
   "execution_count": 101,
   "metadata": {},
   "outputs": [],
   "source": [
    "# LangChain\n",
    "# selected_llm = ChatOpenAI(temperature=0, model_name=\"gpt-3.5-turbo\")"
   ]
  },
  {
   "cell_type": "code",
   "execution_count": 102,
   "metadata": {},
   "outputs": [],
   "source": [
    "system_prompt = (\n",
    "    \"\"\"\n",
    "    You are an expert on the German administration system and your job is to answer technical questions.\n",
    "    Assume that all questions are related to the the provided context.\n",
    "    Keep your answers based on facts, do not hallucinate information.\n",
    "    \"\"\"\n",
    ")\n",
    "\n",
    "selected_llm = OpenAI(\n",
    "    temperature=0,\n",
    "    model_name=\"gpt-3.5-turbo\",\n",
    "    system_prompt=system_prompt\n",
    ")"
   ]
  },
  {
   "cell_type": "markdown",
   "metadata": {},
   "source": [
    "# Load vector store"
   ]
  },
  {
   "cell_type": "code",
   "execution_count": 103,
   "metadata": {},
   "outputs": [],
   "source": [
    "embedding_path = \"vector_db\"\n",
    "# rebuild storage context\n",
    "storage_context_from_load = StorageContext.from_defaults(persist_dir=embedding_path)\n",
    "# load index\n",
    "index_loaded = load_index_from_storage(storage_context_from_load)"
   ]
  },
  {
   "cell_type": "markdown",
   "metadata": {},
   "source": [
    "# Functions"
   ]
  },
  {
   "cell_type": "code",
   "execution_count": 104,
   "metadata": {},
   "outputs": [],
   "source": [
    "# Evaluator\n",
    "def eval_response(response):\n",
    "    llm= LLMPredictor(llm=selected_llm)\n",
    "    service_context_eval = ServiceContext.from_defaults(llm_predictor=llm)\n",
    "    evaluator = ResponseEvaluator(service_context=service_context_eval)\n",
    "    eval_result = evaluator.evaluate(response)\n",
    "    if eval_result == \"NO\":\n",
    "        print(str(eval_result))\n",
    "        print(\"info not available\")\n",
    "        return None\n",
    "    elif eval_result == \"YES\":\n",
    "        display(Markdown(response.response))\n",
    "        response_metadata_chat = dict()\n",
    "        for i, source_node in enumerate(response.source_nodes):\n",
    "            key_name = \"ref_\" + str(i)\n",
    "            response_metadata_chat[key_name] = {\n",
    "                \"page\": source_node.node.metadata[\"page_label\"],\n",
    "                \"document\":source_node.node.metadata[\"file_name\"]\n",
    "            }\n",
    "        return response_metadata_chat\n",
    "    else:\n",
    "        print(\"something went wrong, try again!\")\n",
    "        return None"
   ]
  },
  {
   "cell_type": "code",
   "execution_count": 105,
   "metadata": {},
   "outputs": [],
   "source": [
    "def print_response_info(user_query, response):\n",
    "    print(f\"Prompt:\\n{user_query}\")\n",
    "    display(Markdown(f\"Response:<br/>{response.response}\"))\n",
    "    print(f\"Sources:\")\n",
    "    for node in response.source_nodes:\n",
    "        print(f'Page: {node.node.metadata[\"page_label\"]}, Document: {node.node.metadata[\"file_name\"]}, Cosine Similarity: {node.score:.2f}')"
   ]
  },
  {
   "cell_type": "markdown",
   "metadata": {},
   "source": [
    "# Define query and prompt template, folders and top_k"
   ]
  },
  {
   "cell_type": "code",
   "execution_count": 106,
   "metadata": {},
   "outputs": [],
   "source": [
    "# user_query = \"Is the number of children taken into account to calculate the unemployment benefit?\"\n",
    "user_query = \"How can I calculate how much money I will get as unemployment benefit?\"\n",
    "# user_query = \"What do you know about the city of Berlin?\" # check for generic responses from GPT knowledge base\n",
    "# user_query = \"Wann muss ich mich melden wenn ich Arbeitslosengeld beantragen will?\"\n",
    "\n",
    "# Define prompt\n",
    "template = (\n",
    "    \"We have provided context information below. \\n\"\n",
    "    \"---------------------\\n\"\n",
    "    \"{context_str}\"\n",
    "    \"\\n---------------------\\n\"\n",
    "    \"Do not give me an answer if it is not mentioned in the context as a fact. \\n\"\n",
    "    \"Given this information, please provide me with an answer to the following question:\\n{query_str}\\n\"\n",
    ")\n",
    "qa_template = Prompt(template)\n",
    "\n",
    "folder_with_index = \"vector_db\"\n",
    "number_top_results = 5 # Number of top results to return"
   ]
  },
  {
   "cell_type": "markdown",
   "metadata": {},
   "source": [
    "# Query Engine"
   ]
  },
  {
   "cell_type": "markdown",
   "metadata": {},
   "source": [
    "## Simple query engine"
   ]
  },
  {
   "cell_type": "code",
   "execution_count": 107,
   "metadata": {},
   "outputs": [
    {
     "name": "stdout",
     "output_type": "stream",
     "text": [
      "Prompt:\n",
      "How can I calculate how much money I will get as unemployment benefit?\n"
     ]
    },
    {
     "data": {
      "text/markdown": [
       "Response:<br/>To calculate how much money you will receive as unemployment benefit, you need to consider the following factors:\n",
       "\n",
       "1. Bemessungsentgelt: The amount of unemployment benefit is based on your average income in the last year before becoming unemployed. This is known as the Bemessungsentgelt.\n",
       "\n",
       "2. Lohnsteuerklasse: Your tax class also affects the calculation of unemployment benefit. The daily benefit rate is determined based on a standardized net income, which is reduced by social security contributions, solidarity surcharge, and income tax based on your tax class.\n",
       "\n",
       "3. Number of children: If you have at least one child, the unemployment benefit rate may be increased to 67% of the standardized net income.\n",
       "\n",
       "4. Additional income: If you have any additional income from part-time work or other sources, it will be taken into account and deducted from your unemployment benefit. There is a monthly exemption amount of 400 euros, and any income above this amount will be partially deducted from your benefit.\n",
       "\n",
       "To get an accurate calculation of your unemployment benefit, you can use the self-calculation program provided by the employment agency. You can access this program on the website www.arbeitsagentur.de."
      ],
      "text/plain": [
       "<IPython.core.display.Markdown object>"
      ]
     },
     "metadata": {},
     "output_type": "display_data"
    },
    {
     "name": "stdout",
     "output_type": "stream",
     "text": [
      "Sources:\n",
      "Page: 9, Document: merkblatt-nebeneinkommen_ba015792.pdf, Cosine Similarity: 0.82\n",
      "Page: 37, Document: merkblatt-fuer-arbeitslose_ba036520.pdf, Cosine Similarity: 0.82\n",
      "Page: 5, Document: merkblatt-nebeneinkommen_ba015792.pdf, Cosine Similarity: 0.81\n",
      "Page: 43, Document: merkblatt-fuer-arbeitslose_ba036520.pdf, Cosine Similarity: 0.81\n",
      "Page: 23, Document: dok_ba015377.pdf, Cosine Similarity: 0.81\n"
     ]
    }
   ],
   "source": [
    "query_engine_baseline = index_loaded.as_query_engine(text_qa_template=qa_template, similarity_top_k=number_top_results)\n",
    "response_baseline = query_engine_baseline.query(user_query)\n",
    "\n",
    "print_response_info(user_query, response_baseline)"
   ]
  },
  {
   "cell_type": "code",
   "execution_count": 108,
   "metadata": {},
   "outputs": [
    {
     "name": "stdout",
     "output_type": "stream",
     "text": [
      "{'page_label': '9', 'file_name': 'merkblatt-nebeneinkommen_ba015792.pdf'}\n",
      "{'page_label': '37', 'file_name': 'merkblatt-fuer-arbeitslose_ba036520.pdf'}\n",
      "{'page_label': '5', 'file_name': 'merkblatt-nebeneinkommen_ba015792.pdf'}\n",
      "{'page_label': '43', 'file_name': 'merkblatt-fuer-arbeitslose_ba036520.pdf'}\n",
      "{'page_label': '23', 'file_name': 'dok_ba015377.pdf'}\n"
     ]
    }
   ],
   "source": [
    "for uwdfujsn in response_baseline.source_nodes:\n",
    "    print(uwdfujsn.node.metadata)"
   ]
  },
  {
   "cell_type": "code",
   "execution_count": 109,
   "metadata": {},
   "outputs": [],
   "source": [
    "response_text = response_baseline.response\n",
    "response_metadata = dict()\n",
    "response_metadata_message = f'There {len(response_baseline.metadata)} sources:'\n",
    "for i, meta_data in enumerate(response_baseline.metadata):\n",
    "    key_name = \"ref_\" + str(i)\n",
    "    response_metadata[key_name] = {\n",
    "        \"page\": response_baseline.metadata[meta_data][\"page_label\"],\n",
    "        \"document\":response_baseline.metadata[meta_data][\"file_name\"]\n",
    "    }\n",
    "    response_metadata_message += \"\\n---\" + key_name + f'Page {response_baseline.metadata[meta_data][\"page_label\"]} from file {response_baseline.metadata[meta_data][\"file_name\"]}'"
   ]
  },
  {
   "cell_type": "code",
   "execution_count": 110,
   "metadata": {},
   "outputs": [
    {
     "data": {
      "text/plain": [
       "Response(response='To calculate how much money you will receive as unemployment benefit, you need to consider the following factors:\\n\\n1. Bemessungsentgelt: The amount of unemployment benefit is based on your average income in the last year before becoming unemployed. This is known as the Bemessungsentgelt.\\n\\n2. Lohnsteuerklasse: Your tax class also affects the calculation of unemployment benefit. The daily benefit rate is determined based on a standardized net income, which is reduced by social security contributions, solidarity surcharge, and income tax based on your tax class.\\n\\n3. Number of children: If you have at least one child, the unemployment benefit rate may be increased to 67% of the standardized net income.\\n\\n4. Additional income: If you have any additional income from part-time work or other sources, it will be taken into account and deducted from your unemployment benefit. There is a monthly exemption amount of 400 euros, and any income above this amount will be partially deducted from your benefit.\\n\\nTo get an accurate calculation of your unemployment benefit, you can use the self-calculation program provided by the employment agency. You can access this program on the website www.arbeitsagentur.de.', source_nodes=[NodeWithScore(node=TextNode(id_='26a2e343-6e3f-4259-a610-4b7567ad302f', embedding=None, metadata={'page_label': '9', 'file_name': 'merkblatt-nebeneinkommen_ba015792.pdf'}, excluded_embed_metadata_keys=[], excluded_llm_metadata_keys=[], relationships={<NodeRelationship.SOURCE: '1'>: RelatedNodeInfo(node_id='e864b8b6-a752-4fe3-8bc8-9e112d83bfc7', node_type=None, metadata={'page_label': '9', 'file_name': 'merkblatt-nebeneinkommen_ba015792.pdf'}, hash='76c187b531eba95cd2f7d95a6eb6a6eff2fde5336100e8cae1869661bc1e520a')}, hash='76c187b531eba95cd2f7d95a6eb6a6eff2fde5336100e8cae1869661bc1e520a', text='9erhalten, werden mit Ihrem Nettobetrag berücksich -\\ntigt und nach Abzug eines Freibetrages von 400 Euro \\nmonatlich auf das Arbeitslosengeld angerechnet.\\nBEISPIEL 4\\nWegen der Teilnahme an einer Weiterbildung \\nerhalten Sie von Ihrem Arbeitgeber eine monat -\\nliche Vergütung von 500 Euro netto. Nach Ab -\\nzug des Freibetrages von 400 Euro monatlich \\nwerden 100 Euro monatlich auf das Arbeits-\\nlosengeld angerechnet.\\nSonstiges\\nBei Bezug von Bürgergeld nach dem Sozialgesetz -\\nbuch II gelten abweichende Bestimmungen zur An -\\nrechnung von Einkommen (siehe hierzu  auch „Merk -\\nblatt SGB II  – Grundsicherung für \\nArbeit  suchende  – Bürgergeld“).\\nBitte wenden Sie sich für Informationen an Ihr zustän -\\ndiges Jobcenter.', start_char_idx=None, end_char_idx=None, text_template='{metadata_str}\\n\\n{content}', metadata_template='{key}: {value}', metadata_seperator='\\n'), score=0.8201771222137203), NodeWithScore(node=TextNode(id_='e93526b3-c61a-48ee-9671-db13277ee364', embedding=None, metadata={'page_label': '37', 'file_name': 'merkblatt-fuer-arbeitslose_ba036520.pdf'}, excluded_embed_metadata_keys=[], excluded_llm_metadata_keys=[], relationships={<NodeRelationship.SOURCE: '1'>: RelatedNodeInfo(node_id='02e14d75-11d0-4a69-b2de-feba3321ce84', node_type=None, metadata={'page_label': '37', 'file_name': 'merkblatt-fuer-arbeitslose_ba036520.pdf'}, hash='f75b05e67630f4a6e16a0c36c40259ee2b7112e62e7559076f31e9f313cc957b')}, hash='f75b05e67630f4a6e16a0c36c40259ee2b7112e62e7559076f31e9f313cc957b', text='4. Die Höhe der Leistung\\n384. Die Höhe der Leistung\\nFür die Höhe des Arbeitslosengeldes sind von Bedeu \\xad\\ntung:\\n• das beitragspflichtige Arbeitsentgelt, das Sie im letz \\xad\\nten Jahr vor der Entstehung Ihres Leistungsan -\\nspruches zuletzt erzielt haben (zur Ermittlung des \\nBemessungsentgelts, siehe » Abschnitt 4.1 ),\\n• die zu berücksichtigende Lohnsteuerklasse (zur \\n Ermittlung der Abzüge, siehe » Abschnitt 4.2 ),\\n• die Frage, ob ein Kind im Sinne des § 32 Abs. 1,  \\n3 bis 5 Einkommensteuergesetz zu berücksichtigen \\nist (zur Entscheidung, ob Ihnen der allgemeine  \\noder erhöhte Leistungssatz zusteht,  \\nsiehe » Abschnitt 4.3 ).\\nIhre Agentur für Arbeit errechnet aufgrund dieser \\nGrundlagen ein tägliches Arbeitslosengeld. \\nArbeitslosengeld wird für jeden Kalendertag geleistet. \\nIst es für einen vollen Kalendermonat zu zahlen, ist \\n dieser mit 30 Tagen anzusetzen.\\nDer Bewilligungsbescheid enthält die Berechnungs \\xad\\ngrundlagen für Ihre Leistung. In dem Datenfeld \\n„ Berechnungsgrundlagen“ können Sie die wichtigen \\nAusgangsdaten für Ihren Bewilligungsbescheid nach \\xad\\nvollziehen.\\nSie können unter » www.arbeitsagentur.de  mit dem \\nSelbstberechnungsprogramm für Arbeitslosengeld die \\nHöhe Ihres Arbeitslosengeldes berechnen:  \\nhttps://www.pub.arbeitsagentur.de/start.html .', start_char_idx=None, end_char_idx=None, text_template='{metadata_str}\\n\\n{content}', metadata_template='{key}: {value}', metadata_seperator='\\n'), score=0.8152714678838423), NodeWithScore(node=TextNode(id_='0fa8296e-e554-44ab-b518-b12e076a1aca', embedding=None, metadata={'page_label': '5', 'file_name': 'merkblatt-nebeneinkommen_ba015792.pdf'}, excluded_embed_metadata_keys=[], excluded_llm_metadata_keys=[], relationships={<NodeRelationship.SOURCE: '1'>: RelatedNodeInfo(node_id='ba0dee11-2b02-4be3-b270-12ca735cf52a', node_type=None, metadata={'page_label': '5', 'file_name': 'merkblatt-nebeneinkommen_ba015792.pdf'}, hash='3810ec712d52a1f50d67bd6818f7c6d7f75445b8e61955edf91ffefdee4adc21')}, hash='3810ec712d52a1f50d67bd6818f7c6d7f75445b8e61955edf91ffefdee4adc21', text='Wie wird Nebeneinkommen \\nangerechnet?\\nWenn Sie ein monatliches Nebeneinkommen in gleich  \\nbleibender Höhe haben, so zieht die Agentur für Arbeit \\nden Anrechnungsbetrag (= Nebeneinkommen minus \\nFreibetrag) von Ihrem Arbeitslosengeld auch monat -\\nlich ab. Den Anrechnungsbetrag können Sie dem \\nBewilligungs- /Änderungsbescheid entnehmen. Nicht BEISPIEL 3\\nAb Beginn des Arbeitslosengeldes \\ndurchschnittlich erzieltes Neben -\\neinkommen (Nettoeinkommen) aus \\nArbeitnehmertätigkeit500 €\\nVor Beginn des Arbeitslosengeldes \\ndurchschnittlich erzieltes Neben -\\neinkommen (Nettoeinkommen) \\naus Beschäftigung235 €\\nFreibeträge  \\na) Freibetrag i.H.v. 165 Euro  \\nb)  zusätzlicher Freibetrag  \\n(= Einkommen) aus Beschäfti -\\ngung vor Beginn des Arbeitslo -\\nsengeldes–165 €\\n–235 €\\nAuf das Arbeitslosengeld anzu -\\nrechnendes Nebeneinkommen100 €\\n5', start_char_idx=None, end_char_idx=None, text_template='{metadata_str}\\n\\n{content}', metadata_template='{key}: {value}', metadata_seperator='\\n'), score=0.8108540073724564), NodeWithScore(node=TextNode(id_='94e9bd6f-e3b8-4c10-869b-bc42cfb74683', embedding=None, metadata={'page_label': '43', 'file_name': 'merkblatt-fuer-arbeitslose_ba036520.pdf'}, excluded_embed_metadata_keys=[], excluded_llm_metadata_keys=[], relationships={<NodeRelationship.SOURCE: '1'>: RelatedNodeInfo(node_id='86d89ec9-f5a6-4969-b13f-bf426dbfbbfd', node_type=None, metadata={'page_label': '43', 'file_name': 'merkblatt-fuer-arbeitslose_ba036520.pdf'}, hash='894f7bd088f8d71e21e01390b630613a214854bbc745587fe0e32fd3c437e382')}, hash='894f7bd088f8d71e21e01390b630613a214854bbc745587fe0e32fd3c437e382', text='4. Die Höhe der Leistung\\n44erster Tag der Arbeitslosigkeit) bereits Arbeitslosen \\xad\\ngeld bezogen, ist Ihr damaliges Bemessungsentgelt \\nbestandsgeschützt.\\n BEISPIEL\\nA hat bis vor 18 Monaten Arbeitslosengeld bezogen. Das Be \\xad\\nmessungsentgelt betrug 100 EUR täglich. Sie/Er hat eine gerin \\xad\\nger bezahlte Beschäftigung aufgenommen (90 EUR täglich). \\nBei der Bemessung des Arbeitslosengeldes wird von 100 EUR \\nausgegangen.\\n4.2 Die Bedeutung der Lohnsteuerklasse\\nDer tägliche Leistungssatz wird aus einem pauschalier \\xad\\nten Nettoarbeitsentgelt ( Leistungsentgelt) errechnet. \\nDabei wird das tägliche Bemessungsentgelt vermindert \\num die Sozialversicherungspauschale (20  %* des Be \\xad\\nmessungsentgelts), ggf. den Solidaritätszuschlag und \\ndie Lohnsteuer unter Berücksichtigung der als Lohn \\xad\\nsteuerabzugsmerkmal gebildeten Lohnsteuerklasse \\n(bei Lohnsteuerklasse IV ggf. mit Faktor).\\nMaßgebend ist die Lohnsteuerklasse, die zu Beginn \\ndes Jahres, in dem der Anspruch entstanden ist, als \\nLohnsteuerabzugsmerkmal gebildet war, also im Lohn \\xad\\nsteuerabzugsverfahren durch den Arbeitgeber maßge \\xad\\nbend war oder gewesen wäre. Haben Sie mit Ihrer \\nEhegattin/Ihrem Ehegatten oder in einer eingetrage \\xad\\nnen Lebenspartnerschaft das Faktorverfahren gewählt, \\nwird dieser Faktor bei der Ermittlung des Lohnsteuer \\xad\\nabzugs berücksichtigt. Die Wirksamkeit ist längstens \\nauf zwei Kalenderjahre begrenzt. Soll ein Faktor dar -\\nüber hinaus gelten, weisen Sie diesen bitte mit  einer \\nBescheinigung Ihres Finanz  amtes nach.\\nDas pauschalierte Nettoentgelt weicht in  der  Regel von \\nIhrem letzten tatsächlichen Nettoentgelt ab.', start_char_idx=None, end_char_idx=None, text_template='{metadata_str}\\n\\n{content}', metadata_template='{key}: {value}', metadata_seperator='\\n'), score=0.8087323633109779), NodeWithScore(node=TextNode(id_='d0920db7-26ff-4398-8b30-c5885c17b25a', embedding=None, metadata={'page_label': '23', 'file_name': 'dok_ba015377.pdf'}, excluded_embed_metadata_keys=[], excluded_llm_metadata_keys=[], relationships={<NodeRelationship.SOURCE: '1'>: RelatedNodeInfo(node_id='857fa549-caf8-41c8-a089-04422b76448a', node_type=None, metadata={'page_label': '23', 'file_name': 'dok_ba015377.pdf'}, hash='0dc26ee1f6e7b81428b16ddab30461c9bb8113cbd98a7f56f476962811df5e39')}, hash='0dc26ee1f6e7b81428b16ddab30461c9bb8113cbd98a7f56f476962811df5e39', text='233 Finanzen\\n3 Finanzen\\n3.1 Informationen zum Arbeitslosengeld\\nWenn Sie einen beruflichen Wiedereinstieg planen \\nund einen Arbeitsplatz mit einem zeitlichen Umfang von \\nmindestens 15 Stunden wöchentlich suchen, kann \\nauch nach einer Erziehungs- oder Pflegezeit ein \\n Anspruch auf Arbeitslosengeld bestehen.\\nArbeitslosengeld können Sie nur erhalten, wenn Sie\\n• sich bei Ihrer Agentur für Arbeit persönlich oder  \\nonline arbeitslos gemeldet haben, \\n• während der Arbeitsuche alle Möglichkeiten zur be -\\nruflichen Eingliederung nutzen, \\n• den Vermittlungsbemühungen der Agentur für Arbeit \\nzur Verfügung stehen und \\n• die Anwartschaftszeit erfüllt haben. \\nDas Arbeitslosengeld beträgt 60 Prozent des pauscha -\\nlierten Nettoentgelts. Ist mindestens ein Kind zu be -\\nrücksichtigen, erhöht sich das Arbeitslosengeld auf \\n67 Prozent. Ihre Steuerklasse wirkt sich ebenfalls auf \\ndie Höhe des Arbeitslosengeldes aus.\\nWenn Sie kein Arbeitsentgelt bezogen haben oder Ihr \\nArbeitsentgelt bzw . Ihre durchschnittliche wöchentliche \\nArbeitszeit wegen der Erziehung Ihres Kindes oder der \\nPflege eines Angehörigen gemindert war, bestehen un -\\nter bestimmten Voraussetzungen Sonder  regelungen \\nzur Berechnung des Arbeitslosengeldes.\\nBitte bedenken Sie, dass sich Ihr aus dem letzten pau -\\nschalierten Nettoentgelt errechnetes Arbeitslosengeld \\nunter bestimmten Voraussetzungen verringert, wenn \\nSie weniger Arbeitsstunden als bisher leisten wollen \\noder können.', start_char_idx=None, end_char_idx=None, text_template='{metadata_str}\\n\\n{content}', metadata_template='{key}: {value}', metadata_seperator='\\n'), score=0.8082457646710791)], metadata={'26a2e343-6e3f-4259-a610-4b7567ad302f': {'page_label': '9', 'file_name': 'merkblatt-nebeneinkommen_ba015792.pdf'}, 'e93526b3-c61a-48ee-9671-db13277ee364': {'page_label': '37', 'file_name': 'merkblatt-fuer-arbeitslose_ba036520.pdf'}, '0fa8296e-e554-44ab-b518-b12e076a1aca': {'page_label': '5', 'file_name': 'merkblatt-nebeneinkommen_ba015792.pdf'}, '94e9bd6f-e3b8-4c10-869b-bc42cfb74683': {'page_label': '43', 'file_name': 'merkblatt-fuer-arbeitslose_ba036520.pdf'}, 'd0920db7-26ff-4398-8b30-c5885c17b25a': {'page_label': '23', 'file_name': 'dok_ba015377.pdf'}})"
      ]
     },
     "execution_count": 110,
     "metadata": {},
     "output_type": "execute_result"
    }
   ],
   "source": [
    "response_baseline"
   ]
  },
  {
   "cell_type": "code",
   "execution_count": 111,
   "metadata": {},
   "outputs": [
    {
     "data": {
      "text/plain": [
       "{'ref_0': {'page': '9', 'document': 'merkblatt-nebeneinkommen_ba015792.pdf'},\n",
       " 'ref_1': {'page': '37',\n",
       "  'document': 'merkblatt-fuer-arbeitslose_ba036520.pdf'},\n",
       " 'ref_2': {'page': '5', 'document': 'merkblatt-nebeneinkommen_ba015792.pdf'},\n",
       " 'ref_3': {'page': '43',\n",
       "  'document': 'merkblatt-fuer-arbeitslose_ba036520.pdf'},\n",
       " 'ref_4': {'page': '23', 'document': 'dok_ba015377.pdf'}}"
      ]
     },
     "execution_count": 111,
     "metadata": {},
     "output_type": "execute_result"
    }
   ],
   "source": [
    "response_metadata"
   ]
  },
  {
   "cell_type": "code",
   "execution_count": 112,
   "metadata": {},
   "outputs": [
    {
     "name": "stdout",
     "output_type": "stream",
     "text": [
      "There 5 sources:\n",
      "---ref_0Page 9 from file merkblatt-nebeneinkommen_ba015792.pdf\n",
      "---ref_1Page 37 from file merkblatt-fuer-arbeitslose_ba036520.pdf\n",
      "---ref_2Page 5 from file merkblatt-nebeneinkommen_ba015792.pdf\n",
      "---ref_3Page 43 from file merkblatt-fuer-arbeitslose_ba036520.pdf\n",
      "---ref_4Page 23 from file dok_ba015377.pdf\n"
     ]
    }
   ],
   "source": [
    "print(response_metadata_message)"
   ]
  },
  {
   "cell_type": "code",
   "execution_count": 113,
   "metadata": {},
   "outputs": [
    {
     "data": {
      "text/markdown": [
       "To calculate how much money you will receive as unemployment benefit, you need to consider the following factors:\n",
       "\n",
       "1. Bemessungsentgelt: The amount of unemployment benefit is based on your average income in the last year before becoming unemployed. This is known as the Bemessungsentgelt.\n",
       "\n",
       "2. Lohnsteuerklasse: Your tax class also affects the calculation of unemployment benefit. The daily benefit rate is determined based on a standardized net income, which is reduced by social security contributions, solidarity surcharge, and income tax based on your tax class.\n",
       "\n",
       "3. Number of children: If you have at least one child, the unemployment benefit rate may be increased to 67% of the standardized net income.\n",
       "\n",
       "4. Additional income: If you have any additional income from part-time work or other sources, it will be taken into account and deducted from your unemployment benefit. There is a monthly exemption amount of 400 euros, and any income above this amount will be partially deducted from your benefit.\n",
       "\n",
       "To get an accurate calculation of your unemployment benefit, you can use the self-calculation program provided by the employment agency. You can access this program on the website www.arbeitsagentur.de."
      ],
      "text/plain": [
       "<IPython.core.display.Markdown object>"
      ]
     },
     "metadata": {},
     "output_type": "display_data"
    },
    {
     "data": {
      "text/plain": [
       "{'ref_0': {'page': '9', 'document': 'merkblatt-nebeneinkommen_ba015792.pdf'},\n",
       " 'ref_1': {'page': '37',\n",
       "  'document': 'merkblatt-fuer-arbeitslose_ba036520.pdf'},\n",
       " 'ref_2': {'page': '5', 'document': 'merkblatt-nebeneinkommen_ba015792.pdf'},\n",
       " 'ref_3': {'page': '43',\n",
       "  'document': 'merkblatt-fuer-arbeitslose_ba036520.pdf'},\n",
       " 'ref_4': {'page': '23', 'document': 'dok_ba015377.pdf'}}"
      ]
     },
     "execution_count": 113,
     "metadata": {},
     "output_type": "execute_result"
    }
   ],
   "source": [
    "eval_response(response_baseline)"
   ]
  },
  {
   "cell_type": "code",
   "execution_count": 114,
   "metadata": {},
   "outputs": [
    {
     "name": "stdout",
     "output_type": "stream",
     "text": [
      "> Source (Doc id: 26a2e343-6e3f-4259-a610-4b7567ad302f): 9erhalten, werden mit Ihrem Nettobetrag berücksich -\n",
      "tigt und nach Abzug eines Freibetrages von 4...\n",
      "\n",
      "> Source (Doc id: e93526b3-c61a-48ee-9671-db13277ee364): 4. Die Höhe der Leistung\n",
      "384. Die Höhe der Leistung\n",
      "Für die Höhe des Arbeitslosengeldes sind von ...\n",
      "\n",
      "> Source (Doc id: 0fa8296e-e554-44ab-b518-b12e076a1aca): Wie wird Nebeneinkommen \n",
      "angerechnet?\n",
      "Wenn Sie ein monatliches Nebeneinkommen in gleich  \n",
      "bleiben...\n",
      "\n",
      "> Source (Doc id: 94e9bd6f-e3b8-4c10-869b-bc42cfb74683): 4. Die Höhe der Leistung\n",
      "44erster Tag der Arbeitslosigkeit) bereits Arbeitslosen ­\n",
      "geld bezogen, ...\n",
      "\n",
      "> Source (Doc id: d0920db7-26ff-4398-8b30-c5885c17b25a): 233 Finanzen\n",
      "3 Finanzen\n",
      "3.1 Informationen zum Arbeitslosengeld\n",
      "Wenn Sie einen beruflichen Wiedere...\n"
     ]
    }
   ],
   "source": [
    "print(response_baseline.get_formatted_sources())"
   ]
  },
  {
   "cell_type": "markdown",
   "metadata": {},
   "source": [
    "## Cosine Similarity Postprocessor"
   ]
  },
  {
   "cell_type": "code",
   "execution_count": 115,
   "metadata": {},
   "outputs": [
    {
     "name": "stdout",
     "output_type": "stream",
     "text": [
      "Cosine Similarity: 0.8201771222137203\n",
      "Cosine Similarity: 0.8152714678838423\n",
      "Cosine Similarity: 0.8108540073724564\n",
      "Cosine Similarity: 0.8087323633109779\n",
      "Cosine Similarity: 0.8082457646710791\n"
     ]
    }
   ],
   "source": [
    "for node in response_baseline.source_nodes:\n",
    "    cosine_similarity = node.score\n",
    "    print(f\"Cosine Similarity: {cosine_similarity}\")"
   ]
  },
  {
   "cell_type": "code",
   "execution_count": 116,
   "metadata": {},
   "outputs": [],
   "source": [
    "postprocessor = SimilarityPostprocessor(similarity_cutoff=0.821)\n",
    "postprocessed_nodes = postprocessor.postprocess_nodes(response_baseline.source_nodes)\n",
    "\n",
    "for node in postprocessed_nodes:\n",
    "    print(f'Page: {node.node.metadata[\"page_label\"]}, Document: {node.node.metadata[\"file_name\"]}, Cosine Similarity: {node.score:.2f}')"
   ]
  },
  {
   "cell_type": "markdown",
   "metadata": {},
   "source": [
    "## SVM"
   ]
  },
  {
   "cell_type": "code",
   "execution_count": 117,
   "metadata": {},
   "outputs": [
    {
     "name": "stderr",
     "output_type": "stream",
     "text": [
      "/home/daniele/Desktop/Projects/bureaubot/.venv_bureaubot/lib/python3.10/site-packages/sklearn/svm/_classes.py:32: FutureWarning: The default value of `dual` will change from `True` to `'auto'` in 1.5. Set the value of `dual` explicitly to suppress the warning.\n",
      "  warnings.warn(\n",
      "/home/daniele/Desktop/Projects/bureaubot/.venv_bureaubot/lib/python3.10/site-packages/sklearn/svm/_classes.py:32: FutureWarning: The default value of `dual` will change from `True` to `'auto'` in 1.5. Set the value of `dual` explicitly to suppress the warning.\n",
      "  warnings.warn(\n",
      "/home/daniele/Desktop/Projects/bureaubot/.venv_bureaubot/lib/python3.10/site-packages/sklearn/svm/_classes.py:32: FutureWarning: The default value of `dual` will change from `True` to `'auto'` in 1.5. Set the value of `dual` explicitly to suppress the warning.\n",
      "  warnings.warn(\n"
     ]
    }
   ],
   "source": [
    "query_modes = [\n",
    "    \"svm\",\n",
    "    \"linear_regression\",\n",
    "    \"logistic_regression\",\n",
    "]\n",
    "\n",
    "responses_modes = []\n",
    "\n",
    "for query_mode in query_modes:\n",
    "    query_engine_modes = index_loaded.as_query_engine(\n",
    "        text_qa_template=qa_template,\n",
    "        similarity_top_k=number_top_results,\n",
    "        vector_store_query_mode=query_mode)\n",
    "\n",
    "    response_modes = query_engine_modes.query(user_query)\n",
    "    responses_modes.append(response_modes)"
   ]
  },
  {
   "cell_type": "code",
   "execution_count": 118,
   "metadata": {},
   "outputs": [
    {
     "name": "stdout",
     "output_type": "stream",
     "text": [
      "Query mode: svm\n",
      "\n",
      "Prompt:\n",
      "How can I calculate how much money I will get as unemployment benefit?\n"
     ]
    },
    {
     "data": {
      "text/markdown": [
       "Response:<br/>Based on the provided context information, there are two different scenarios mentioned for calculating the amount of unemployment benefit:\n",
       "\n",
       "1. Nebeneinkommen (Side Income): If you have a monthly side income, the unemployment benefit will be reduced by the amount of the side income minus the exemption amount. The specific calculation can be found in the approval/changes notice (Bewilligungs-/Änderungsbescheid) provided by the employment agency.\n",
       "\n",
       "2. Entlassungsentschädigung (Severance Pay): If you receive severance pay, a certain percentage of the total amount will be considered when calculating the suspension period (Ruhenszeitraum) for unemployment benefits. The specific calculation can be found in the table mentioned in section 4.4 of the document.\n",
       "\n",
       "It is important to note that these calculations may vary depending on individual circumstances and the specific regulations of the employment agency. It is recommended to contact your local job center or employment agency for accurate and personalized information regarding the calculation of unemployment benefits."
      ],
      "text/plain": [
       "<IPython.core.display.Markdown object>"
      ]
     },
     "metadata": {},
     "output_type": "display_data"
    },
    {
     "name": "stdout",
     "output_type": "stream",
     "text": [
      "Sources:\n",
      "Page: 5, Document: merkblatt-nebeneinkommen_ba015792.pdf, Cosine Similarity: -0.66\n",
      "Page: 9, Document: merkblatt-nebeneinkommen_ba015792.pdf, Cosine Similarity: -0.69\n",
      "Page: 30, Document: merkblatt-17-entschaedigungen_ba015376.pdf, Cosine Similarity: -0.69\n",
      "Page: 29, Document: merkblatt-17-entschaedigungen_ba015376.pdf, Cosine Similarity: -0.70\n",
      "Page: 90, Document: merkblatt-algii_ba015397.pdf, Cosine Similarity: -0.71\n",
      "==========================================================================================\n",
      "Query mode: linear_regression\n",
      "\n",
      "Prompt:\n",
      "How can I calculate how much money I will get as unemployment benefit?\n"
     ]
    },
    {
     "data": {
      "text/markdown": [
       "Response:<br/>Based on the provided context information, there are two different scenarios mentioned for calculating the amount of unemployment benefit:\n",
       "\n",
       "1. Nebeneinkommen (Side Income): If you have a monthly side income, the unemployment benefit will be reduced by the amount of the side income minus the allowance. The specific calculation can be found in the approval/changes notice.\n",
       "\n",
       "2. Entlassungsentschädigung (Severance Pay): If you receive severance pay, a certain percentage of the pay will be considered for the calculation of the unemployment benefit. The specific percentage and calculation can be found in the table mentioned in the document.\n",
       "\n",
       "It is important to note that these calculations may vary depending on the specific regulations and guidelines of the relevant employment agency or job center. It is recommended to contact your local job center or employment agency for accurate and up-to-date information on how to calculate your unemployment benefit."
      ],
      "text/plain": [
       "<IPython.core.display.Markdown object>"
      ]
     },
     "metadata": {},
     "output_type": "display_data"
    },
    {
     "name": "stdout",
     "output_type": "stream",
     "text": [
      "Sources:\n",
      "Page: 5, Document: merkblatt-nebeneinkommen_ba015792.pdf, Cosine Similarity: -0.66\n",
      "Page: 9, Document: merkblatt-nebeneinkommen_ba015792.pdf, Cosine Similarity: -0.69\n",
      "Page: 30, Document: merkblatt-17-entschaedigungen_ba015376.pdf, Cosine Similarity: -0.69\n",
      "Page: 29, Document: merkblatt-17-entschaedigungen_ba015376.pdf, Cosine Similarity: -0.70\n",
      "Page: 90, Document: merkblatt-algii_ba015397.pdf, Cosine Similarity: -0.71\n",
      "==========================================================================================\n",
      "Query mode: logistic_regression\n",
      "\n",
      "Prompt:\n",
      "How can I calculate how much money I will get as unemployment benefit?\n"
     ]
    },
    {
     "data": {
      "text/markdown": [
       "Response:<br/>Based on the provided context information, there are two different scenarios mentioned for calculating the amount of unemployment benefit:\n",
       "\n",
       "1. Nebeneinkommen (Side Income): If you have a monthly side income, the unemployment benefit will be reduced by the amount of the income minus the allowance. The specific calculation can be found in the approval/changes notice.\n",
       "\n",
       "2. Entlassungsentschädigung (Severance Pay): If you receive severance pay, a certain percentage of the pay will be considered for the calculation. The specific percentage and calculation can be found in the table mentioned in the document.\n",
       "\n",
       "To calculate the exact amount of unemployment benefit, you would need to refer to the specific regulations and guidelines provided by the relevant authorities, such as the Agentur für Arbeit or Jobcenter. It is recommended to contact your local job center or employment agency for accurate information and assistance in calculating your specific unemployment benefit amount."
      ],
      "text/plain": [
       "<IPython.core.display.Markdown object>"
      ]
     },
     "metadata": {},
     "output_type": "display_data"
    },
    {
     "name": "stdout",
     "output_type": "stream",
     "text": [
      "Sources:\n",
      "Page: 5, Document: merkblatt-nebeneinkommen_ba015792.pdf, Cosine Similarity: -0.66\n",
      "Page: 9, Document: merkblatt-nebeneinkommen_ba015792.pdf, Cosine Similarity: -0.69\n",
      "Page: 30, Document: merkblatt-17-entschaedigungen_ba015376.pdf, Cosine Similarity: -0.69\n",
      "Page: 29, Document: merkblatt-17-entschaedigungen_ba015376.pdf, Cosine Similarity: -0.70\n",
      "Page: 90, Document: merkblatt-algii_ba015397.pdf, Cosine Similarity: -0.71\n",
      "==========================================================================================\n"
     ]
    }
   ],
   "source": [
    "for query_mode, r in zip(query_modes, responses_modes):\n",
    "    print(f\"Query mode: {query_mode}\\n\")\n",
    "    print_response_info(user_query, r)\n",
    "    print(\"=\"*90)"
   ]
  },
  {
   "cell_type": "markdown",
   "metadata": {},
   "source": [
    "## Hypothetical document embeddings (HyDE)"
   ]
  },
  {
   "cell_type": "code",
   "execution_count": 119,
   "metadata": {},
   "outputs": [
    {
     "name": "stdout",
     "output_type": "stream",
     "text": [
      "Prompt:\n",
      "How can I calculate how much money I will get as unemployment benefit?\n"
     ]
    },
    {
     "data": {
      "text/markdown": [
       "Response:<br/>To calculate how much money you will receive as unemployment benefit, you need to consider the following factors mentioned in the provided context:\n",
       "\n",
       "1. Bemessungsentgelt (Basis for Calculation): The amount of unemployment benefit is based on your average net income in the last year before becoming unemployed.\n",
       "\n",
       "2. Freibetrag (Allowance): A monthly allowance of 400 euros is deducted from your net income before it is considered for the calculation of unemployment benefit.\n",
       "\n",
       "3. Anrechnungsbetrag (Amount to be credited): After deducting the allowance, any remaining net income is credited towards your unemployment benefit. For example, if your net income is 500 euros and the allowance is 400 euros, 100 euros will be credited towards your unemployment benefit.\n",
       "\n",
       "It's important to note that the specific calculation may vary depending on individual circumstances and additional factors. It is recommended to consult your local job center or employment agency for accurate information and assistance in calculating your unemployment benefit."
      ],
      "text/plain": [
       "<IPython.core.display.Markdown object>"
      ]
     },
     "metadata": {},
     "output_type": "display_data"
    },
    {
     "name": "stdout",
     "output_type": "stream",
     "text": [
      "Sources:\n",
      "Page: 9, Document: merkblatt-nebeneinkommen_ba015792.pdf, Cosine Similarity: 0.84\n",
      "Page: 37, Document: merkblatt-fuer-arbeitslose_ba036520.pdf, Cosine Similarity: 0.84\n",
      "Page: 23, Document: dok_ba015377.pdf, Cosine Similarity: 0.84\n",
      "Page: 39, Document: merkblatt-fuer-arbeitslose_ba036520.pdf, Cosine Similarity: 0.84\n",
      "Page: 4, Document: merkblatt-nebeneinkommen_ba015792.pdf, Cosine Similarity: 0.84\n"
     ]
    }
   ],
   "source": [
    "query_engine_hyde = index_loaded.as_query_engine(text_qa_template=qa_template, similarity_top_k=number_top_results)\n",
    "\n",
    "# \"HyDEQueryTransform\" generates a hypothetical document and use it for embedding lookup.\n",
    "hyde = HyDEQueryTransform(include_original=True)\n",
    "hyde_query_engine = TransformQueryEngine(query_engine_hyde, hyde)\n",
    "response_hyde = hyde_query_engine.query(user_query)\n",
    "\n",
    "print_response_info(user_query, response_hyde)"
   ]
  },
  {
   "cell_type": "code",
   "execution_count": 120,
   "metadata": {},
   "outputs": [
    {
     "data": {
      "text/plain": [
       "<llama_index.indices.query.query_transform.base.HyDEQueryTransform at 0x7f0ea6e47010>"
      ]
     },
     "execution_count": 120,
     "metadata": {},
     "output_type": "execute_result"
    }
   ],
   "source": [
    "hyde"
   ]
  },
  {
   "cell_type": "code",
   "execution_count": 121,
   "metadata": {},
   "outputs": [
    {
     "name": "stdout",
     "output_type": "stream",
     "text": [
      "Prompt:\n",
      "How can I calculate how much money I will get as unemployment benefit?\n",
      "\n",
      "Response:\n"
     ]
    },
    {
     "data": {
      "text/markdown": [
       "To calculate how much money you will receive as unemployment benefits, there are several key details you need to consider. Firstly, you will need to determine your base period, which is typically the first four of the last five completed calendar quarters before you filed your claim. This period is used to calculate your earnings during that time.\n",
       "\n",
       "Next, you will need to gather information on your total wages earned during the base period. This includes wages from all employers you worked for during that time, including part-time and temporary jobs. It is important to note that certain types of income, such as self-employment earnings or income from rental properties, may not be considered for unemployment benefit calculations.\n",
       "\n",
       "Once you have your total wages, you will need to determine your average weekly wage (AWW). This is calculated by dividing your total wages earned during the base period by the number of weeks in that period. It is important to note that some states may have a maximum limit on the AWW, which can affect the final benefit amount.\n",
       "\n",
       "After calculating your AWW, you will need to determine your weekly benefit amount (WBA). This is typically a percentage of your AWW, which varies by state. The percentage can range from around 40% to 60% of your AWW, with some states having a fixed maximum limit.\n",
       "\n",
       "Additionally, some states may have a minimum and maximum weekly benefit amount, which can further impact the final calculation. It is important to check your state's specific guidelines to understand the exact percentage and limits that apply.\n",
       "\n",
       "Finally, you will need to consider any additional factors that may affect your benefit amount. For example, if you have dependents, some states may provide an additional allowance for each dependent. Additionally, if you have any other sources of income while receiving unemployment benefits, such as part-time work, it may impact the amount you receive.\n",
       "\n",
       "In summary, to calculate your unemployment benefit amount, you will need to determine your base period, calculate your average weekly wage, and apply the appropriate percentage to determine your weekly benefit amount. It is crucial to review your state's specific guidelines and consider any additional factors that may affect your benefit amount."
      ],
      "text/plain": [
       "<IPython.core.display.Markdown object>"
      ]
     },
     "metadata": {},
     "output_type": "display_data"
    }
   ],
   "source": [
    "#In this example, HyDE improves output quality significantly, by hallucinating\n",
    "# accurately, and thus improving the embedding quality, and final output.\n",
    "query_bundle = hyde(user_query)\n",
    "hyde_doc = query_bundle.embedding_strs[0]\n",
    "\n",
    "print(f\"Prompt:\\n{user_query}\\n\\nResponse:\")\n",
    "display(Markdown(f\"{hyde_doc}\"))"
   ]
  },
  {
   "cell_type": "code",
   "execution_count": 122,
   "metadata": {},
   "outputs": [
    {
     "name": "stdout",
     "output_type": "stream",
     "text": [
      "Prompt:\n",
      "How can I calculate how much money I will get as unemployment benefit?\n",
      "\n",
      "Response:\n"
     ]
    },
    {
     "data": {
      "text/markdown": [
       "To calculate how much money you will receive as unemployment benefits, there are several key details you need to consider. Firstly, you will need to determine your base period, which is typically the first four of the last five completed calendar quarters before you filed your claim. This period is used to calculate your earnings during that time.\n",
       "\n",
       "Next, you will need to gather information on your total wages earned during the base period. This includes wages from all employers you worked for during that time, including full-time, part-time, and self-employment income. It is important to note that certain types of income, such as tips or commissions, may need to be reported separately.\n",
       "\n",
       "Once you have your total wages, you will need to determine your average weekly wage (AWW). This is calculated by dividing your total wages earned during the base period by the number of weeks in that period. For example, if your base period is 52 weeks, you would divide your total wages by 52 to get your AWW.\n",
       "\n",
       "After calculating your AWW, you will need to check your state's unemployment benefits program to determine the percentage of your AWW that will be provided as benefits. Each state has its own formula for calculating benefits, but it is typically a percentage of your AWW. For instance, if your state provides 50% of your AWW as benefits, you would multiply your AWW by 0.5 to determine your weekly benefit amount.\n",
       "\n",
       "It is important to note that there are usually minimum and maximum benefit amounts set by each state. If your calculated benefit amount falls below the minimum, you will receive the minimum amount. Conversely, if your calculated benefit amount exceeds the maximum, you will receive the maximum amount.\n",
       "\n",
       "Additionally, some states may have additional factors that can affect your benefit amount, such as dependents or additional income sources. It is crucial to review your state's specific guidelines to ensure you accurately calculate your unemployment benefits.\n",
       "\n",
       "In summary, to calculate how much money you will receive as unemployment benefits, you need to determine your base period, calculate your total wages earned during that period, determine your average weekly wage, and then apply your state's formula to determine your weekly benefit amount. Remember to consider any additional factors or limitations set by your state's unemployment benefits program."
      ],
      "text/plain": [
       "<IPython.core.display.Markdown object>"
      ]
     },
     "metadata": {},
     "output_type": "display_data"
    }
   ],
   "source": [
    "hyde_2 = HyDEQueryTransform(include_original=True)\n",
    "query_bundle_2 = hyde_2(user_query)\n",
    "hyde_doc_2 = query_bundle_2.embedding_strs[0]\n",
    "\n",
    "print(f\"Prompt:\\n{user_query}\\n\\nResponse:\")\n",
    "display(Markdown(f\"{hyde_doc_2}\"))"
   ]
  },
  {
   "cell_type": "markdown",
   "metadata": {},
   "source": [
    "# Chat Engine"
   ]
  },
  {
   "cell_type": "code",
   "execution_count": 123,
   "metadata": {},
   "outputs": [],
   "source": [
    "# Configure prompt parameters and initialise helper\n",
    "max_input_size = 4096\n",
    "num_output = 256\n",
    "max_chunk_overlap = 0.2\n",
    "prompt_helper = PromptHelper(max_input_size, num_output, max_chunk_overlap)\n",
    "\n",
    "# system_prompt = (\n",
    "#     \"\"\"\n",
    "#     You are an expert on the German administration system and your job is to answer technical questions.\n",
    "#     Assume that all questions are related to the the provided context.\n",
    "#     Keep your answers based on facts, do not hallucinate information.\n",
    "#     \"\"\"\n",
    "# )\n",
    "# \n",
    "# llm= LLMPredictor(llm=OpenAI(\n",
    "#     temperature=0,\n",
    "#     model_name=\"gpt-3.5-turbo\",\n",
    "#     system_prompt=system_prompt\n",
    "# ))\n",
    "llm = LLMPredictor(selected_llm)\n",
    "service_context = ServiceContext.from_defaults(llm_predictor=llm, prompt_helper=prompt_helper)\n",
    "\n",
    "chat_engine = index_loaded.as_chat_engine(\n",
    "    # service_context=service_context,\n",
    "    chat_mode=\"context\",\n",
    "    # verbose=True\n",
    "    similarity_top_k=3\n",
    ")"
   ]
  },
  {
   "cell_type": "code",
   "execution_count": 124,
   "metadata": {},
   "outputs": [],
   "source": [
    "response_chat = chat_engine.chat(user_query)"
   ]
  },
  {
   "cell_type": "code",
   "execution_count": 125,
   "metadata": {},
   "outputs": [
    {
     "data": {
      "text/plain": [
       "AgentChatResponse(response=\"To calculate how much money you will receive as unemployment benefit, you need to consider the following factors:\\n\\n1. Bemessungsentgelt (Basis for Calculation): The amount of your unemployment benefit is based on your average taxable income in the last year before becoming unemployed. This is known as the Bemessungsentgelt.\\n\\n2. Lohnsteuerklasse (Tax Class): Your tax class is used to determine the deductions from your unemployment benefit. Different tax classes have different deduction rates.\\n\\n3. Kinderfreibetrag (Child Allowance): If you have children, you may be eligible for an increased rate of unemployment benefit. The child allowance is considered in the calculation.\\n\\nOnce you have these three pieces of information, you can use the following steps to calculate your unemployment benefit:\\n\\n1. Determine your Bemessungsentgelt: This is the average taxable income you earned in the last year before becoming unemployed.\\n\\n2. Determine your deductions: Based on your tax class, calculate the deductions from your Bemessungsentgelt.\\n\\n3. Determine your Kinderfreibetrag: If you have children, calculate the additional amount you are eligible for based on the child allowance.\\n\\n4. Calculate your daily unemployment benefit: Divide your Bemessungsentgelt (after deductions and Kinderfreibetrag) by 30 to get your daily unemployment benefit.\\n\\n5. Calculate your monthly unemployment benefit: Multiply your daily unemployment benefit by the number of days in the month to get your monthly unemployment benefit.\\n\\nIt's important to note that these calculations may vary depending on the specific regulations and guidelines of your country or region. It is recommended to consult with your local employment agency or relevant authorities for accurate and up-to-date information on calculating unemployment benefits.\", sources=[ToolOutput(content='system: Context information is below.\\n--------------------\\npage_label: 9\\nfile_name: merkblatt-nebeneinkommen_ba015792.pdf\\n\\n9erhalten, werden mit Ihrem Nettobetrag berücksich -\\ntigt und nach Abzug eines Freibetrages von 400 Euro \\nmonatlich auf das Arbeitslosengeld angerechnet.\\nBEISPIEL 4\\nWegen der Teilnahme an einer Weiterbildung \\nerhalten Sie von Ihrem Arbeitgeber eine monat -\\nliche Vergütung von 500 Euro netto. Nach Ab -\\nzug des Freibetrages von 400 Euro monatlich \\nwerden 100 Euro monatlich auf das Arbeits-\\nlosengeld angerechnet.\\nSonstiges\\nBei Bezug von Bürgergeld nach dem Sozialgesetz -\\nbuch II gelten abweichende Bestimmungen zur An -\\nrechnung von Einkommen (siehe hierzu  auch „Merk -\\nblatt SGB II  – Grundsicherung für \\nArbeit  suchende  – Bürgergeld“).\\nBitte wenden Sie sich für Informationen an Ihr zustän -\\ndiges Jobcenter.\\n\\npage_label: 37\\nfile_name: merkblatt-fuer-arbeitslose_ba036520.pdf\\n\\n4. Die Höhe der Leistung\\n384. Die Höhe der Leistung\\nFür die Höhe des Arbeitslosengeldes sind von Bedeu \\xad\\ntung:\\n• das beitragspflichtige Arbeitsentgelt, das Sie im letz \\xad\\nten Jahr vor der Entstehung Ihres Leistungsan -\\nspruches zuletzt erzielt haben (zur Ermittlung des \\nBemessungsentgelts, siehe » Abschnitt 4.1 ),\\n• die zu berücksichtigende Lohnsteuerklasse (zur \\n Ermittlung der Abzüge, siehe » Abschnitt 4.2 ),\\n• die Frage, ob ein Kind im Sinne des § 32 Abs. 1,  \\n3 bis 5 Einkommensteuergesetz zu berücksichtigen \\nist (zur Entscheidung, ob Ihnen der allgemeine  \\noder erhöhte Leistungssatz zusteht,  \\nsiehe » Abschnitt 4.3 ).\\nIhre Agentur für Arbeit errechnet aufgrund dieser \\nGrundlagen ein tägliches Arbeitslosengeld. \\nArbeitslosengeld wird für jeden Kalendertag geleistet. \\nIst es für einen vollen Kalendermonat zu zahlen, ist \\n dieser mit 30 Tagen anzusetzen.\\nDer Bewilligungsbescheid enthält die Berechnungs \\xad\\ngrundlagen für Ihre Leistung. In dem Datenfeld \\n„ Berechnungsgrundlagen“ können Sie die wichtigen \\nAusgangsdaten für Ihren Bewilligungsbescheid nach \\xad\\nvollziehen.\\nSie können unter » www.arbeitsagentur.de  mit dem \\nSelbstberechnungsprogramm für Arbeitslosengeld die \\nHöhe Ihres Arbeitslosengeldes berechnen:  \\nhttps://www.pub.arbeitsagentur.de/start.html .\\n\\npage_label: 5\\nfile_name: merkblatt-nebeneinkommen_ba015792.pdf\\n\\nWie wird Nebeneinkommen \\nangerechnet?\\nWenn Sie ein monatliches Nebeneinkommen in gleich  \\nbleibender Höhe haben, so zieht die Agentur für Arbeit \\nden Anrechnungsbetrag (= Nebeneinkommen minus \\nFreibetrag) von Ihrem Arbeitslosengeld auch monat -\\nlich ab. Den Anrechnungsbetrag können Sie dem \\nBewilligungs- /Änderungsbescheid entnehmen. Nicht BEISPIEL 3\\nAb Beginn des Arbeitslosengeldes \\ndurchschnittlich erzieltes Neben -\\neinkommen (Nettoeinkommen) aus \\nArbeitnehmertätigkeit500 €\\nVor Beginn des Arbeitslosengeldes \\ndurchschnittlich erzieltes Neben -\\neinkommen (Nettoeinkommen) \\naus Beschäftigung235 €\\nFreibeträge  \\na) Freibetrag i.H.v. 165 Euro  \\nb)  zusätzlicher Freibetrag  \\n(= Einkommen) aus Beschäfti -\\ngung vor Beginn des Arbeitslo -\\nsengeldes–165 €\\n–235 €\\nAuf das Arbeitslosengeld anzu -\\nrechnendes Nebeneinkommen100 €\\n5\\n--------------------\\n', tool_name='retriever', raw_input={'message': 'How can I calculate how much money I will get as unemployment benefit?'}, raw_output=ChatMessage(role=<MessageRole.SYSTEM: 'system'>, content='Context information is below.\\n--------------------\\npage_label: 9\\nfile_name: merkblatt-nebeneinkommen_ba015792.pdf\\n\\n9erhalten, werden mit Ihrem Nettobetrag berücksich -\\ntigt und nach Abzug eines Freibetrages von 400 Euro \\nmonatlich auf das Arbeitslosengeld angerechnet.\\nBEISPIEL 4\\nWegen der Teilnahme an einer Weiterbildung \\nerhalten Sie von Ihrem Arbeitgeber eine monat -\\nliche Vergütung von 500 Euro netto. Nach Ab -\\nzug des Freibetrages von 400 Euro monatlich \\nwerden 100 Euro monatlich auf das Arbeits-\\nlosengeld angerechnet.\\nSonstiges\\nBei Bezug von Bürgergeld nach dem Sozialgesetz -\\nbuch II gelten abweichende Bestimmungen zur An -\\nrechnung von Einkommen (siehe hierzu  auch „Merk -\\nblatt SGB II  – Grundsicherung für \\nArbeit  suchende  – Bürgergeld“).\\nBitte wenden Sie sich für Informationen an Ihr zustän -\\ndiges Jobcenter.\\n\\npage_label: 37\\nfile_name: merkblatt-fuer-arbeitslose_ba036520.pdf\\n\\n4. Die Höhe der Leistung\\n384. Die Höhe der Leistung\\nFür die Höhe des Arbeitslosengeldes sind von Bedeu \\xad\\ntung:\\n• das beitragspflichtige Arbeitsentgelt, das Sie im letz \\xad\\nten Jahr vor der Entstehung Ihres Leistungsan -\\nspruches zuletzt erzielt haben (zur Ermittlung des \\nBemessungsentgelts, siehe » Abschnitt 4.1 ),\\n• die zu berücksichtigende Lohnsteuerklasse (zur \\n Ermittlung der Abzüge, siehe » Abschnitt 4.2 ),\\n• die Frage, ob ein Kind im Sinne des § 32 Abs. 1,  \\n3 bis 5 Einkommensteuergesetz zu berücksichtigen \\nist (zur Entscheidung, ob Ihnen der allgemeine  \\noder erhöhte Leistungssatz zusteht,  \\nsiehe » Abschnitt 4.3 ).\\nIhre Agentur für Arbeit errechnet aufgrund dieser \\nGrundlagen ein tägliches Arbeitslosengeld. \\nArbeitslosengeld wird für jeden Kalendertag geleistet. \\nIst es für einen vollen Kalendermonat zu zahlen, ist \\n dieser mit 30 Tagen anzusetzen.\\nDer Bewilligungsbescheid enthält die Berechnungs \\xad\\ngrundlagen für Ihre Leistung. In dem Datenfeld \\n„ Berechnungsgrundlagen“ können Sie die wichtigen \\nAusgangsdaten für Ihren Bewilligungsbescheid nach \\xad\\nvollziehen.\\nSie können unter » www.arbeitsagentur.de  mit dem \\nSelbstberechnungsprogramm für Arbeitslosengeld die \\nHöhe Ihres Arbeitslosengeldes berechnen:  \\nhttps://www.pub.arbeitsagentur.de/start.html .\\n\\npage_label: 5\\nfile_name: merkblatt-nebeneinkommen_ba015792.pdf\\n\\nWie wird Nebeneinkommen \\nangerechnet?\\nWenn Sie ein monatliches Nebeneinkommen in gleich  \\nbleibender Höhe haben, so zieht die Agentur für Arbeit \\nden Anrechnungsbetrag (= Nebeneinkommen minus \\nFreibetrag) von Ihrem Arbeitslosengeld auch monat -\\nlich ab. Den Anrechnungsbetrag können Sie dem \\nBewilligungs- /Änderungsbescheid entnehmen. Nicht BEISPIEL 3\\nAb Beginn des Arbeitslosengeldes \\ndurchschnittlich erzieltes Neben -\\neinkommen (Nettoeinkommen) aus \\nArbeitnehmertätigkeit500 €\\nVor Beginn des Arbeitslosengeldes \\ndurchschnittlich erzieltes Neben -\\neinkommen (Nettoeinkommen) \\naus Beschäftigung235 €\\nFreibeträge  \\na) Freibetrag i.H.v. 165 Euro  \\nb)  zusätzlicher Freibetrag  \\n(= Einkommen) aus Beschäfti -\\ngung vor Beginn des Arbeitslo -\\nsengeldes–165 €\\n–235 €\\nAuf das Arbeitslosengeld anzu -\\nrechnendes Nebeneinkommen100 €\\n5\\n--------------------\\n', additional_kwargs={}))], source_nodes=[NodeWithScore(node=TextNode(id_='26a2e343-6e3f-4259-a610-4b7567ad302f', embedding=None, metadata={'page_label': '9', 'file_name': 'merkblatt-nebeneinkommen_ba015792.pdf'}, excluded_embed_metadata_keys=[], excluded_llm_metadata_keys=[], relationships={<NodeRelationship.SOURCE: '1'>: RelatedNodeInfo(node_id='e864b8b6-a752-4fe3-8bc8-9e112d83bfc7', node_type=None, metadata={'page_label': '9', 'file_name': 'merkblatt-nebeneinkommen_ba015792.pdf'}, hash='76c187b531eba95cd2f7d95a6eb6a6eff2fde5336100e8cae1869661bc1e520a')}, hash='76c187b531eba95cd2f7d95a6eb6a6eff2fde5336100e8cae1869661bc1e520a', text='9erhalten, werden mit Ihrem Nettobetrag berücksich -\\ntigt und nach Abzug eines Freibetrages von 400 Euro \\nmonatlich auf das Arbeitslosengeld angerechnet.\\nBEISPIEL 4\\nWegen der Teilnahme an einer Weiterbildung \\nerhalten Sie von Ihrem Arbeitgeber eine monat -\\nliche Vergütung von 500 Euro netto. Nach Ab -\\nzug des Freibetrages von 400 Euro monatlich \\nwerden 100 Euro monatlich auf das Arbeits-\\nlosengeld angerechnet.\\nSonstiges\\nBei Bezug von Bürgergeld nach dem Sozialgesetz -\\nbuch II gelten abweichende Bestimmungen zur An -\\nrechnung von Einkommen (siehe hierzu  auch „Merk -\\nblatt SGB II  – Grundsicherung für \\nArbeit  suchende  – Bürgergeld“).\\nBitte wenden Sie sich für Informationen an Ihr zustän -\\ndiges Jobcenter.', start_char_idx=None, end_char_idx=None, text_template='{metadata_str}\\n\\n{content}', metadata_template='{key}: {value}', metadata_seperator='\\n'), score=0.8201771222137203), NodeWithScore(node=TextNode(id_='e93526b3-c61a-48ee-9671-db13277ee364', embedding=None, metadata={'page_label': '37', 'file_name': 'merkblatt-fuer-arbeitslose_ba036520.pdf'}, excluded_embed_metadata_keys=[], excluded_llm_metadata_keys=[], relationships={<NodeRelationship.SOURCE: '1'>: RelatedNodeInfo(node_id='02e14d75-11d0-4a69-b2de-feba3321ce84', node_type=None, metadata={'page_label': '37', 'file_name': 'merkblatt-fuer-arbeitslose_ba036520.pdf'}, hash='f75b05e67630f4a6e16a0c36c40259ee2b7112e62e7559076f31e9f313cc957b')}, hash='f75b05e67630f4a6e16a0c36c40259ee2b7112e62e7559076f31e9f313cc957b', text='4. Die Höhe der Leistung\\n384. Die Höhe der Leistung\\nFür die Höhe des Arbeitslosengeldes sind von Bedeu \\xad\\ntung:\\n• das beitragspflichtige Arbeitsentgelt, das Sie im letz \\xad\\nten Jahr vor der Entstehung Ihres Leistungsan -\\nspruches zuletzt erzielt haben (zur Ermittlung des \\nBemessungsentgelts, siehe » Abschnitt 4.1 ),\\n• die zu berücksichtigende Lohnsteuerklasse (zur \\n Ermittlung der Abzüge, siehe » Abschnitt 4.2 ),\\n• die Frage, ob ein Kind im Sinne des § 32 Abs. 1,  \\n3 bis 5 Einkommensteuergesetz zu berücksichtigen \\nist (zur Entscheidung, ob Ihnen der allgemeine  \\noder erhöhte Leistungssatz zusteht,  \\nsiehe » Abschnitt 4.3 ).\\nIhre Agentur für Arbeit errechnet aufgrund dieser \\nGrundlagen ein tägliches Arbeitslosengeld. \\nArbeitslosengeld wird für jeden Kalendertag geleistet. \\nIst es für einen vollen Kalendermonat zu zahlen, ist \\n dieser mit 30 Tagen anzusetzen.\\nDer Bewilligungsbescheid enthält die Berechnungs \\xad\\ngrundlagen für Ihre Leistung. In dem Datenfeld \\n„ Berechnungsgrundlagen“ können Sie die wichtigen \\nAusgangsdaten für Ihren Bewilligungsbescheid nach \\xad\\nvollziehen.\\nSie können unter » www.arbeitsagentur.de  mit dem \\nSelbstberechnungsprogramm für Arbeitslosengeld die \\nHöhe Ihres Arbeitslosengeldes berechnen:  \\nhttps://www.pub.arbeitsagentur.de/start.html .', start_char_idx=None, end_char_idx=None, text_template='{metadata_str}\\n\\n{content}', metadata_template='{key}: {value}', metadata_seperator='\\n'), score=0.8152714678838423), NodeWithScore(node=TextNode(id_='0fa8296e-e554-44ab-b518-b12e076a1aca', embedding=None, metadata={'page_label': '5', 'file_name': 'merkblatt-nebeneinkommen_ba015792.pdf'}, excluded_embed_metadata_keys=[], excluded_llm_metadata_keys=[], relationships={<NodeRelationship.SOURCE: '1'>: RelatedNodeInfo(node_id='ba0dee11-2b02-4be3-b270-12ca735cf52a', node_type=None, metadata={'page_label': '5', 'file_name': 'merkblatt-nebeneinkommen_ba015792.pdf'}, hash='3810ec712d52a1f50d67bd6818f7c6d7f75445b8e61955edf91ffefdee4adc21')}, hash='3810ec712d52a1f50d67bd6818f7c6d7f75445b8e61955edf91ffefdee4adc21', text='Wie wird Nebeneinkommen \\nangerechnet?\\nWenn Sie ein monatliches Nebeneinkommen in gleich  \\nbleibender Höhe haben, so zieht die Agentur für Arbeit \\nden Anrechnungsbetrag (= Nebeneinkommen minus \\nFreibetrag) von Ihrem Arbeitslosengeld auch monat -\\nlich ab. Den Anrechnungsbetrag können Sie dem \\nBewilligungs- /Änderungsbescheid entnehmen. Nicht BEISPIEL 3\\nAb Beginn des Arbeitslosengeldes \\ndurchschnittlich erzieltes Neben -\\neinkommen (Nettoeinkommen) aus \\nArbeitnehmertätigkeit500 €\\nVor Beginn des Arbeitslosengeldes \\ndurchschnittlich erzieltes Neben -\\neinkommen (Nettoeinkommen) \\naus Beschäftigung235 €\\nFreibeträge  \\na) Freibetrag i.H.v. 165 Euro  \\nb)  zusätzlicher Freibetrag  \\n(= Einkommen) aus Beschäfti -\\ngung vor Beginn des Arbeitslo -\\nsengeldes–165 €\\n–235 €\\nAuf das Arbeitslosengeld anzu -\\nrechnendes Nebeneinkommen100 €\\n5', start_char_idx=None, end_char_idx=None, text_template='{metadata_str}\\n\\n{content}', metadata_template='{key}: {value}', metadata_seperator='\\n'), score=0.8108540073724564)])"
      ]
     },
     "execution_count": 125,
     "metadata": {},
     "output_type": "execute_result"
    }
   ],
   "source": [
    "response_chat"
   ]
  },
  {
   "cell_type": "code",
   "execution_count": 126,
   "metadata": {},
   "outputs": [
    {
     "data": {
      "text/markdown": [
       "To calculate how much money you will receive as unemployment benefit, you need to consider the following factors:\n",
       "\n",
       "1. Bemessungsentgelt (Basis for Calculation): The amount of your unemployment benefit is based on your average taxable income in the last year before becoming unemployed. This is known as the Bemessungsentgelt.\n",
       "\n",
       "2. Lohnsteuerklasse (Tax Class): Your tax class is used to determine the deductions from your unemployment benefit. Different tax classes have different deduction rates.\n",
       "\n",
       "3. Kinderfreibetrag (Child Allowance): If you have children, you may be eligible for an increased rate of unemployment benefit. The child allowance is considered in the calculation.\n",
       "\n",
       "Once you have these three pieces of information, you can use the following steps to calculate your unemployment benefit:\n",
       "\n",
       "1. Determine your Bemessungsentgelt: This is the average taxable income you earned in the last year before becoming unemployed.\n",
       "\n",
       "2. Determine your deductions: Based on your tax class, calculate the deductions from your Bemessungsentgelt.\n",
       "\n",
       "3. Determine your Kinderfreibetrag: If you have children, calculate the additional amount you are eligible for based on the child allowance.\n",
       "\n",
       "4. Calculate your daily unemployment benefit: Divide your Bemessungsentgelt (after deductions and Kinderfreibetrag) by 30 to get your daily unemployment benefit.\n",
       "\n",
       "5. Calculate your monthly unemployment benefit: Multiply your daily unemployment benefit by the number of days in the month to get your monthly unemployment benefit.\n",
       "\n",
       "It's important to note that these calculations may vary depending on the specific regulations and guidelines of your country or region. It is recommended to consult with your local employment agency or relevant authorities for accurate and up-to-date information on calculating unemployment benefits."
      ],
      "text/plain": [
       "<IPython.core.display.Markdown object>"
      ]
     },
     "metadata": {},
     "output_type": "display_data"
    },
    {
     "data": {
      "text/plain": [
       "{'ref_0': {'page': '9', 'document': 'merkblatt-nebeneinkommen_ba015792.pdf'},\n",
       " 'ref_1': {'page': '37',\n",
       "  'document': 'merkblatt-fuer-arbeitslose_ba036520.pdf'},\n",
       " 'ref_2': {'page': '5', 'document': 'merkblatt-nebeneinkommen_ba015792.pdf'}}"
      ]
     },
     "execution_count": 126,
     "metadata": {},
     "output_type": "execute_result"
    }
   ],
   "source": [
    "metadata_chat = eval_response(response_chat)\n",
    "\n",
    "metadata_chat"
   ]
  },
  {
   "cell_type": "code",
   "execution_count": 127,
   "metadata": {},
   "outputs": [
    {
     "name": "stdout",
     "output_type": "stream",
     "text": [
      "There 3 sources.\n",
      "Page 9 from file merkblatt-nebeneinkommen_ba015792.pdf\n",
      "Page 37 from file merkblatt-fuer-arbeitslose_ba036520.pdf\n",
      "Page 5 from file merkblatt-nebeneinkommen_ba015792.pdf\n"
     ]
    }
   ],
   "source": [
    "print(f\"There {len(response_chat.source_nodes)} sources.\")\n",
    "for source_node in response_chat.source_nodes:\n",
    "    print(f'Page {source_node.node.metadata[\"page_label\"]} from file {source_node.node.metadata[\"file_name\"]}')"
   ]
  },
  {
   "cell_type": "code",
   "execution_count": 128,
   "metadata": {},
   "outputs": [
    {
     "data": {
      "text/plain": [
       "\"To calculate how much money you will receive as unemployment benefit, you need to consider the following factors:\\n\\n1. Bemessungsentgelt (Basis for Calculation): The amount of your unemployment benefit is based on your average taxable income in the last year before becoming unemployed. This is known as the Bemessungsentgelt.\\n\\n2. Lohnsteuerklasse (Tax Class): Your tax class is used to determine the deductions from your unemployment benefit. Different tax classes have different deduction rates.\\n\\n3. Kinderfreibetrag (Child Allowance): If you have children, you may be eligible for an increased rate of unemployment benefit. The child allowance is considered in the calculation.\\n\\nOnce you have these three pieces of information, you can use the following steps to calculate your unemployment benefit:\\n\\n1. Determine your Bemessungsentgelt: This is the average taxable income you earned in the last year before becoming unemployed.\\n\\n2. Determine your deductions: Based on your tax class, calculate the deductions from your Bemessungsentgelt.\\n\\n3. Determine your Kinderfreibetrag: If you have children, calculate the additional amount you are eligible for based on the child allowance.\\n\\n4. Calculate your daily unemployment benefit: Divide your Bemessungsentgelt (after deductions and Kinderfreibetrag) by 30 to get your daily unemployment benefit.\\n\\n5. Calculate your monthly unemployment benefit: Multiply your daily unemployment benefit by the number of days in the month to get your monthly unemployment benefit.\\n\\nIt's important to note that these calculations may vary depending on the specific regulations and guidelines of your country or region. It is recommended to consult with your local employment agency or relevant authorities for accurate and up-to-date information on calculating unemployment benefits.\""
      ]
     },
     "execution_count": 128,
     "metadata": {},
     "output_type": "execute_result"
    }
   ],
   "source": [
    "response_chat.response"
   ]
  },
  {
   "cell_type": "code",
   "execution_count": 129,
   "metadata": {},
   "outputs": [
    {
     "data": {
      "text/plain": [
       "3"
      ]
     },
     "execution_count": 129,
     "metadata": {},
     "output_type": "execute_result"
    }
   ],
   "source": [
    "len(response_chat.source_nodes)"
   ]
  },
  {
   "cell_type": "code",
   "execution_count": 130,
   "metadata": {},
   "outputs": [
    {
     "data": {
      "text/plain": [
       "NodeWithScore(node=TextNode(id_='26a2e343-6e3f-4259-a610-4b7567ad302f', embedding=None, metadata={'page_label': '9', 'file_name': 'merkblatt-nebeneinkommen_ba015792.pdf'}, excluded_embed_metadata_keys=[], excluded_llm_metadata_keys=[], relationships={<NodeRelationship.SOURCE: '1'>: RelatedNodeInfo(node_id='e864b8b6-a752-4fe3-8bc8-9e112d83bfc7', node_type=None, metadata={'page_label': '9', 'file_name': 'merkblatt-nebeneinkommen_ba015792.pdf'}, hash='76c187b531eba95cd2f7d95a6eb6a6eff2fde5336100e8cae1869661bc1e520a')}, hash='76c187b531eba95cd2f7d95a6eb6a6eff2fde5336100e8cae1869661bc1e520a', text='9erhalten, werden mit Ihrem Nettobetrag berücksich -\\ntigt und nach Abzug eines Freibetrages von 400 Euro \\nmonatlich auf das Arbeitslosengeld angerechnet.\\nBEISPIEL 4\\nWegen der Teilnahme an einer Weiterbildung \\nerhalten Sie von Ihrem Arbeitgeber eine monat -\\nliche Vergütung von 500 Euro netto. Nach Ab -\\nzug des Freibetrages von 400 Euro monatlich \\nwerden 100 Euro monatlich auf das Arbeits-\\nlosengeld angerechnet.\\nSonstiges\\nBei Bezug von Bürgergeld nach dem Sozialgesetz -\\nbuch II gelten abweichende Bestimmungen zur An -\\nrechnung von Einkommen (siehe hierzu  auch „Merk -\\nblatt SGB II  – Grundsicherung für \\nArbeit  suchende  – Bürgergeld“).\\nBitte wenden Sie sich für Informationen an Ihr zustän -\\ndiges Jobcenter.', start_char_idx=None, end_char_idx=None, text_template='{metadata_str}\\n\\n{content}', metadata_template='{key}: {value}', metadata_seperator='\\n'), score=0.8201771222137203)"
      ]
     },
     "execution_count": 130,
     "metadata": {},
     "output_type": "execute_result"
    }
   ],
   "source": [
    "response_chat.source_nodes[0]"
   ]
  },
  {
   "cell_type": "code",
   "execution_count": 131,
   "metadata": {},
   "outputs": [
    {
     "data": {
      "text/plain": [
       "'9'"
      ]
     },
     "execution_count": 131,
     "metadata": {},
     "output_type": "execute_result"
    }
   ],
   "source": [
    "response_chat.source_nodes[0].node.metadata[\"page_label\"]"
   ]
  },
  {
   "cell_type": "markdown",
   "metadata": {},
   "source": [
    "# Compare responses"
   ]
  },
  {
   "cell_type": "code",
   "execution_count": 136,
   "metadata": {},
   "outputs": [
    {
     "data": {
      "text/markdown": [
       "Baseline:<br/>To calculate how much money you will receive as unemployment benefit, you need to consider the following factors:\n",
       "\n",
       "1. Bemessungsentgelt: The amount of unemployment benefit is based on your average income in the last year before becoming unemployed. This is known as the Bemessungsentgelt.\n",
       "\n",
       "2. Lohnsteuerklasse: Your tax class also affects the calculation of unemployment benefit. The daily benefit rate is determined based on a standardized net income, which is reduced by social security contributions, solidarity surcharge, and income tax based on your tax class.\n",
       "\n",
       "3. Number of children: If you have at least one child, the unemployment benefit rate may be increased to 67% of the standardized net income.\n",
       "\n",
       "4. Additional income: If you have any additional income from part-time work or other sources, it will be taken into account and deducted from your unemployment benefit. There is a monthly exemption amount of 400 euros, and any income above this amount will be partially deducted from your benefit.\n",
       "\n",
       "To get an accurate calculation of your unemployment benefit, you can use the self-calculation program provided by the employment agency. You can access this program on the website www.arbeitsagentur.de."
      ],
      "text/plain": [
       "<IPython.core.display.Markdown object>"
      ]
     },
     "metadata": {},
     "output_type": "display_data"
    },
    {
     "name": "stdout",
     "output_type": "stream",
     "text": [
      "================================================================================\n"
     ]
    },
    {
     "data": {
      "text/markdown": [
       "SVM:<br/>Based on the provided context information, there are two different scenarios mentioned for calculating the amount of unemployment benefit:\n",
       "\n",
       "1. Nebeneinkommen (Side Income): If you have a monthly side income, the unemployment benefit will be reduced by the amount of the side income minus the exemption amount. The specific calculation can be found in the approval/changes notice (Bewilligungs-/Änderungsbescheid) provided by the employment agency.\n",
       "\n",
       "2. Entlassungsentschädigung (Severance Pay): If you receive severance pay, a certain percentage of the total amount will be considered when calculating the suspension period (Ruhenszeitraum) for unemployment benefits. The specific calculation can be found in the table mentioned in section 4.4 of the document.\n",
       "\n",
       "It is important to note that these calculations may vary depending on individual circumstances and the specific regulations of the employment agency. It is recommended to contact your local job center or employment agency for accurate and personalized information regarding the calculation of unemployment benefits."
      ],
      "text/plain": [
       "<IPython.core.display.Markdown object>"
      ]
     },
     "metadata": {},
     "output_type": "display_data"
    },
    {
     "name": "stdout",
     "output_type": "stream",
     "text": [
      "================================================================================\n"
     ]
    },
    {
     "data": {
      "text/markdown": [
       "Linear regression:<br/>Based on the provided context information, there are two different scenarios mentioned for calculating the amount of unemployment benefit:\n",
       "\n",
       "1. Nebeneinkommen (Side Income): If you have a monthly side income, the unemployment benefit will be reduced by the amount of the side income minus the allowance. The specific calculation can be found in the approval/changes notice.\n",
       "\n",
       "2. Entlassungsentschädigung (Severance Pay): If you receive severance pay, a certain percentage of the pay will be considered for the calculation of the unemployment benefit. The specific percentage and calculation can be found in the table mentioned in the document.\n",
       "\n",
       "It is important to note that these calculations may vary depending on the specific regulations and guidelines of the relevant employment agency or job center. It is recommended to contact your local job center or employment agency for accurate and up-to-date information on how to calculate your unemployment benefit."
      ],
      "text/plain": [
       "<IPython.core.display.Markdown object>"
      ]
     },
     "metadata": {},
     "output_type": "display_data"
    },
    {
     "name": "stdout",
     "output_type": "stream",
     "text": [
      "================================================================================\n"
     ]
    },
    {
     "data": {
      "text/markdown": [
       "Logistic regression:<br/>Based on the provided context information, there are two different scenarios mentioned for calculating the amount of unemployment benefit:\n",
       "\n",
       "1. Nebeneinkommen (Side Income): If you have a monthly side income, the unemployment benefit will be reduced by the amount of the income minus the allowance. The specific calculation can be found in the approval/changes notice.\n",
       "\n",
       "2. Entlassungsentschädigung (Severance Pay): If you receive severance pay, a certain percentage of the pay will be considered for the calculation. The specific percentage and calculation can be found in the table mentioned in the document.\n",
       "\n",
       "To calculate the exact amount of unemployment benefit, you would need to refer to the specific regulations and guidelines provided by the relevant authorities, such as the Agentur für Arbeit or Jobcenter. It is recommended to contact your local job center or employment agency for accurate information and assistance in calculating your specific unemployment benefit amount."
      ],
      "text/plain": [
       "<IPython.core.display.Markdown object>"
      ]
     },
     "metadata": {},
     "output_type": "display_data"
    },
    {
     "name": "stdout",
     "output_type": "stream",
     "text": [
      "================================================================================\n"
     ]
    },
    {
     "data": {
      "text/markdown": [
       "HyDE:<br/>To calculate how much money you will receive as unemployment benefit, you need to consider the following factors mentioned in the provided context:\n",
       "\n",
       "1. Bemessungsentgelt (Basis for Calculation): The amount of unemployment benefit is based on your average net income in the last year before becoming unemployed.\n",
       "\n",
       "2. Freibetrag (Allowance): A monthly allowance of 400 euros is deducted from your net income before it is considered for the calculation of unemployment benefit.\n",
       "\n",
       "3. Anrechnungsbetrag (Amount to be credited): After deducting the allowance, any remaining net income is credited towards your unemployment benefit. For example, if your net income is 500 euros and the allowance is 400 euros, 100 euros will be credited towards your unemployment benefit.\n",
       "\n",
       "It's important to note that the specific calculation may vary depending on individual circumstances and additional factors. It is recommended to consult your local job center or employment agency for accurate information and assistance in calculating your unemployment benefit."
      ],
      "text/plain": [
       "<IPython.core.display.Markdown object>"
      ]
     },
     "metadata": {},
     "output_type": "display_data"
    },
    {
     "name": "stdout",
     "output_type": "stream",
     "text": [
      "================================================================================\n"
     ]
    },
    {
     "data": {
      "text/markdown": [
       "HyDE doc:<br/>To calculate how much money you will receive as unemployment benefits, there are several key details you need to consider. Firstly, you will need to determine your base period, which is typically the first four of the last five completed calendar quarters before you filed your claim. This period is used to calculate your earnings during that time.\n",
       "\n",
       "Next, you will need to gather information on your total wages earned during the base period. This includes wages from all employers you worked for during that time, including part-time and temporary jobs. It is important to note that certain types of income, such as self-employment earnings or income from rental properties, may not be considered for unemployment benefit calculations.\n",
       "\n",
       "Once you have your total wages, you will need to determine your average weekly wage (AWW). This is calculated by dividing your total wages earned during the base period by the number of weeks in that period. It is important to note that some states may have a maximum limit on the AWW, which can affect the final benefit amount.\n",
       "\n",
       "After calculating your AWW, you will need to determine your weekly benefit amount (WBA). This is typically a percentage of your AWW, which varies by state. The percentage can range from around 40% to 60% of your AWW, with some states having a fixed maximum limit.\n",
       "\n",
       "Additionally, some states may have a minimum and maximum weekly benefit amount, which can further impact the final calculation. It is important to check your state's specific guidelines to understand the exact percentage and limits that apply.\n",
       "\n",
       "Finally, you will need to consider any additional factors that may affect your benefit amount. For example, if you have dependents, some states may provide an additional allowance for each dependent. Additionally, if you have any other sources of income while receiving unemployment benefits, such as part-time work, it may impact the amount you receive.\n",
       "\n",
       "In summary, to calculate your unemployment benefit amount, you will need to determine your base period, calculate your average weekly wage, and apply the appropriate percentage to determine your weekly benefit amount. It is crucial to review your state's specific guidelines and consider any additional factors that may affect your benefit amount."
      ],
      "text/plain": [
       "<IPython.core.display.Markdown object>"
      ]
     },
     "metadata": {},
     "output_type": "display_data"
    },
    {
     "name": "stdout",
     "output_type": "stream",
     "text": [
      "================================================================================\n"
     ]
    },
    {
     "data": {
      "text/markdown": [
       "Chat:<br/>To calculate how much money you will receive as unemployment benefit, you need to consider the following factors:\n",
       "\n",
       "1. Bemessungsentgelt (Basis for Calculation): The amount of your unemployment benefit is based on your average taxable income in the last year before becoming unemployed. This is known as the Bemessungsentgelt.\n",
       "\n",
       "2. Lohnsteuerklasse (Tax Class): Your tax class is used to determine the deductions from your unemployment benefit. Different tax classes have different deduction rates.\n",
       "\n",
       "3. Kinderfreibetrag (Child Allowance): If you have children, you may be eligible for an increased rate of unemployment benefit. The child allowance is considered in the calculation.\n",
       "\n",
       "Once you have these three pieces of information, you can use the following steps to calculate your unemployment benefit:\n",
       "\n",
       "1. Determine your Bemessungsentgelt: This is the average taxable income you earned in the last year before becoming unemployed.\n",
       "\n",
       "2. Determine your deductions: Based on your tax class, calculate the deductions from your Bemessungsentgelt.\n",
       "\n",
       "3. Determine your Kinderfreibetrag: If you have children, calculate the additional amount you are eligible for based on the child allowance.\n",
       "\n",
       "4. Calculate your daily unemployment benefit: Divide your Bemessungsentgelt (after deductions and Kinderfreibetrag) by 30 to get your daily unemployment benefit.\n",
       "\n",
       "5. Calculate your monthly unemployment benefit: Multiply your daily unemployment benefit by the number of days in the month to get your monthly unemployment benefit.\n",
       "\n",
       "It's important to note that these calculations may vary depending on the specific regulations and guidelines of your country or region. It is recommended to consult with your local employment agency or relevant authorities for accurate and up-to-date information on calculating unemployment benefits."
      ],
      "text/plain": [
       "<IPython.core.display.Markdown object>"
      ]
     },
     "metadata": {},
     "output_type": "display_data"
    },
    {
     "name": "stdout",
     "output_type": "stream",
     "text": [
      "================================================================================\n"
     ]
    }
   ],
   "source": [
    "methods_list = [\"Baseline\", \"SVM\", \"Linear regression\", \"Logistic regression\", \"HyDE\", \"HyDE doc\", \"Chat\"]\n",
    "responses_list = [\n",
    "    response_baseline.response, responses_modes[0].response, responses_modes[1].response,\n",
    "    responses_modes[2].response, response_hyde.response, hyde_doc, response_chat.response]\n",
    "\n",
    "for m, r in zip(methods_list, responses_list):\n",
    "    display(Markdown(f\"{m}:<br/>{r}\"))\n",
    "    print(\"=\"*80)\n"
   ]
  }
 ],
 "metadata": {
  "kernelspec": {
   "display_name": ".venv_chatbot",
   "language": "python",
   "name": "python3"
  },
  "language_info": {
   "codemirror_mode": {
    "name": "ipython",
    "version": 3
   },
   "file_extension": ".py",
   "mimetype": "text/x-python",
   "name": "python",
   "nbconvert_exporter": "python",
   "pygments_lexer": "ipython3",
   "version": "3.10.12"
  },
  "orig_nbformat": 4
 },
 "nbformat": 4,
 "nbformat_minor": 2
}
